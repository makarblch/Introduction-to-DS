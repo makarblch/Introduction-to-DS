{
  "cells": [
    {
      "cell_type": "markdown",
      "metadata": {
        "id": "Ffq6A2-ifzAA"
      },
      "source": [
        "# Макар Кулишенко\n",
        "# Домашнее задание 6: классификация текстов"
      ]
    },
    {
      "cell_type": "markdown",
      "source": [
        "Правила:\n",
        "\n",
        "\n",
        "\n",
        "*   Домашнее задание оценивается в 10 баллов.\n",
        "*   Можно использовать без доказательства любые результаты, встречавшиеся на лекциях или семинарах по курсу, если получение этих результатов не является вопросом задания.\n",
        "*  Можно использовать любые свободные источники с *обязательным* указанием ссылки на них.\n",
        "*  Плагиат не допускается. При обнаружении случаев списывания, 0 за работу выставляется всем участникам нарушения, даже если можно установить, кто у кого списал.\n",
        "*  Старайтесь сделать код как можно более оптимальным. В частности, будет штрафоваться использование циклов в тех случаях, когда операцию можно совершить при помощи инструментов библиотек, о которых рассказывалось в курсе."
      ],
      "metadata": {
        "id": "EPcxtekTA1Sm"
      }
    },
    {
      "cell_type": "markdown",
      "metadata": {
        "id": "itRtFtrOf0_b"
      },
      "source": [
        "В этом домашнем задании вам предстоит построить классификатор текстов.\n",
        "\n",
        "Будем предсказывать эмоциональную окраску твиттов о коронавирусе.\n",
        "\n"
      ]
    },
    {
      "cell_type": "code",
      "execution_count": 1,
      "metadata": {
        "id": "tNGRVO7_g9mz"
      },
      "outputs": [],
      "source": [
        "import numpy as np\n",
        "import pandas as pd\n",
        "from typing import  List\n",
        "import matplotlib.pyplot as plt\n",
        "import seaborn as sns\n",
        "from string import punctuation"
      ]
    },
    {
      "cell_type": "code",
      "execution_count": 2,
      "metadata": {
        "id": "zOy8iHJQg_Ss",
        "colab": {
          "base_uri": "https://localhost:8080/",
          "height": 175
        },
        "outputId": "c022d1a9-c685-45ec-c6b1-c358385f7a77"
      },
      "outputs": [
        {
          "output_type": "execute_result",
          "data": {
            "text/plain": [
              "       UserName  ScreenName                       Location     TweetAt  \\\n",
              "14709     21682       66634                            NaN  23-03-2020   \n",
              "9344      15145       60097                  Illinois, USA  20-03-2020   \n",
              "9004      14732       59684       Dundee, Fife & elsewhere  20-03-2020   \n",
              "20686     29036       73988  Los Angeles, CA / Atlanta. GA  31-03-2020   \n",
              "\n",
              "                                           OriginalTweet           Sentiment  \n",
              "14709  Still zero delivery slots or ÃÂclick &amp; c...  Extremely Negative  \n",
              "9344   #Banks Pressure #HealthCare Firms to Raise Pri...            Negative  \n",
              "9004   Someone telling me a story earlier about a hom...  Extremely Negative  \n",
              "20686  NO #covid_19 HERE. Just taking this time to de...  Extremely Negative  "
            ],
            "text/html": [
              "\n",
              "  <div id=\"df-53adae88-60bd-4a4e-bf0c-bc497e9b28df\" class=\"colab-df-container\">\n",
              "    <div>\n",
              "<style scoped>\n",
              "    .dataframe tbody tr th:only-of-type {\n",
              "        vertical-align: middle;\n",
              "    }\n",
              "\n",
              "    .dataframe tbody tr th {\n",
              "        vertical-align: top;\n",
              "    }\n",
              "\n",
              "    .dataframe thead th {\n",
              "        text-align: right;\n",
              "    }\n",
              "</style>\n",
              "<table border=\"1\" class=\"dataframe\">\n",
              "  <thead>\n",
              "    <tr style=\"text-align: right;\">\n",
              "      <th></th>\n",
              "      <th>UserName</th>\n",
              "      <th>ScreenName</th>\n",
              "      <th>Location</th>\n",
              "      <th>TweetAt</th>\n",
              "      <th>OriginalTweet</th>\n",
              "      <th>Sentiment</th>\n",
              "    </tr>\n",
              "  </thead>\n",
              "  <tbody>\n",
              "    <tr>\n",
              "      <th>14709</th>\n",
              "      <td>21682</td>\n",
              "      <td>66634</td>\n",
              "      <td>NaN</td>\n",
              "      <td>23-03-2020</td>\n",
              "      <td>Still zero delivery slots or ÃÂclick &amp;amp; c...</td>\n",
              "      <td>Extremely Negative</td>\n",
              "    </tr>\n",
              "    <tr>\n",
              "      <th>9344</th>\n",
              "      <td>15145</td>\n",
              "      <td>60097</td>\n",
              "      <td>Illinois, USA</td>\n",
              "      <td>20-03-2020</td>\n",
              "      <td>#Banks Pressure #HealthCare Firms to Raise Pri...</td>\n",
              "      <td>Negative</td>\n",
              "    </tr>\n",
              "    <tr>\n",
              "      <th>9004</th>\n",
              "      <td>14732</td>\n",
              "      <td>59684</td>\n",
              "      <td>Dundee, Fife &amp; elsewhere</td>\n",
              "      <td>20-03-2020</td>\n",
              "      <td>Someone telling me a story earlier about a hom...</td>\n",
              "      <td>Extremely Negative</td>\n",
              "    </tr>\n",
              "    <tr>\n",
              "      <th>20686</th>\n",
              "      <td>29036</td>\n",
              "      <td>73988</td>\n",
              "      <td>Los Angeles, CA / Atlanta. GA</td>\n",
              "      <td>31-03-2020</td>\n",
              "      <td>NO #covid_19 HERE. Just taking this time to de...</td>\n",
              "      <td>Extremely Negative</td>\n",
              "    </tr>\n",
              "  </tbody>\n",
              "</table>\n",
              "</div>\n",
              "    <div class=\"colab-df-buttons\">\n",
              "\n",
              "  <div class=\"colab-df-container\">\n",
              "    <button class=\"colab-df-convert\" onclick=\"convertToInteractive('df-53adae88-60bd-4a4e-bf0c-bc497e9b28df')\"\n",
              "            title=\"Convert this dataframe to an interactive table.\"\n",
              "            style=\"display:none;\">\n",
              "\n",
              "  <svg xmlns=\"http://www.w3.org/2000/svg\" height=\"24px\" viewBox=\"0 -960 960 960\">\n",
              "    <path d=\"M120-120v-720h720v720H120Zm60-500h600v-160H180v160Zm220 220h160v-160H400v160Zm0 220h160v-160H400v160ZM180-400h160v-160H180v160Zm440 0h160v-160H620v160ZM180-180h160v-160H180v160Zm440 0h160v-160H620v160Z\"/>\n",
              "  </svg>\n",
              "    </button>\n",
              "\n",
              "  <style>\n",
              "    .colab-df-container {\n",
              "      display:flex;\n",
              "      gap: 12px;\n",
              "    }\n",
              "\n",
              "    .colab-df-convert {\n",
              "      background-color: #E8F0FE;\n",
              "      border: none;\n",
              "      border-radius: 50%;\n",
              "      cursor: pointer;\n",
              "      display: none;\n",
              "      fill: #1967D2;\n",
              "      height: 32px;\n",
              "      padding: 0 0 0 0;\n",
              "      width: 32px;\n",
              "    }\n",
              "\n",
              "    .colab-df-convert:hover {\n",
              "      background-color: #E2EBFA;\n",
              "      box-shadow: 0px 1px 2px rgba(60, 64, 67, 0.3), 0px 1px 3px 1px rgba(60, 64, 67, 0.15);\n",
              "      fill: #174EA6;\n",
              "    }\n",
              "\n",
              "    .colab-df-buttons div {\n",
              "      margin-bottom: 4px;\n",
              "    }\n",
              "\n",
              "    [theme=dark] .colab-df-convert {\n",
              "      background-color: #3B4455;\n",
              "      fill: #D2E3FC;\n",
              "    }\n",
              "\n",
              "    [theme=dark] .colab-df-convert:hover {\n",
              "      background-color: #434B5C;\n",
              "      box-shadow: 0px 1px 3px 1px rgba(0, 0, 0, 0.15);\n",
              "      filter: drop-shadow(0px 1px 2px rgba(0, 0, 0, 0.3));\n",
              "      fill: #FFFFFF;\n",
              "    }\n",
              "  </style>\n",
              "\n",
              "    <script>\n",
              "      const buttonEl =\n",
              "        document.querySelector('#df-53adae88-60bd-4a4e-bf0c-bc497e9b28df button.colab-df-convert');\n",
              "      buttonEl.style.display =\n",
              "        google.colab.kernel.accessAllowed ? 'block' : 'none';\n",
              "\n",
              "      async function convertToInteractive(key) {\n",
              "        const element = document.querySelector('#df-53adae88-60bd-4a4e-bf0c-bc497e9b28df');\n",
              "        const dataTable =\n",
              "          await google.colab.kernel.invokeFunction('convertToInteractive',\n",
              "                                                    [key], {});\n",
              "        if (!dataTable) return;\n",
              "\n",
              "        const docLinkHtml = 'Like what you see? Visit the ' +\n",
              "          '<a target=\"_blank\" href=https://colab.research.google.com/notebooks/data_table.ipynb>data table notebook</a>'\n",
              "          + ' to learn more about interactive tables.';\n",
              "        element.innerHTML = '';\n",
              "        dataTable['output_type'] = 'display_data';\n",
              "        await google.colab.output.renderOutput(dataTable, element);\n",
              "        const docLink = document.createElement('div');\n",
              "        docLink.innerHTML = docLinkHtml;\n",
              "        element.appendChild(docLink);\n",
              "      }\n",
              "    </script>\n",
              "  </div>\n",
              "\n",
              "\n",
              "<div id=\"df-f383eb85-9759-4654-a22e-88d30543afff\">\n",
              "  <button class=\"colab-df-quickchart\" onclick=\"quickchart('df-f383eb85-9759-4654-a22e-88d30543afff')\"\n",
              "            title=\"Suggest charts\"\n",
              "            style=\"display:none;\">\n",
              "\n",
              "<svg xmlns=\"http://www.w3.org/2000/svg\" height=\"24px\"viewBox=\"0 0 24 24\"\n",
              "     width=\"24px\">\n",
              "    <g>\n",
              "        <path d=\"M19 3H5c-1.1 0-2 .9-2 2v14c0 1.1.9 2 2 2h14c1.1 0 2-.9 2-2V5c0-1.1-.9-2-2-2zM9 17H7v-7h2v7zm4 0h-2V7h2v10zm4 0h-2v-4h2v4z\"/>\n",
              "    </g>\n",
              "</svg>\n",
              "  </button>\n",
              "\n",
              "<style>\n",
              "  .colab-df-quickchart {\n",
              "      --bg-color: #E8F0FE;\n",
              "      --fill-color: #1967D2;\n",
              "      --hover-bg-color: #E2EBFA;\n",
              "      --hover-fill-color: #174EA6;\n",
              "      --disabled-fill-color: #AAA;\n",
              "      --disabled-bg-color: #DDD;\n",
              "  }\n",
              "\n",
              "  [theme=dark] .colab-df-quickchart {\n",
              "      --bg-color: #3B4455;\n",
              "      --fill-color: #D2E3FC;\n",
              "      --hover-bg-color: #434B5C;\n",
              "      --hover-fill-color: #FFFFFF;\n",
              "      --disabled-bg-color: #3B4455;\n",
              "      --disabled-fill-color: #666;\n",
              "  }\n",
              "\n",
              "  .colab-df-quickchart {\n",
              "    background-color: var(--bg-color);\n",
              "    border: none;\n",
              "    border-radius: 50%;\n",
              "    cursor: pointer;\n",
              "    display: none;\n",
              "    fill: var(--fill-color);\n",
              "    height: 32px;\n",
              "    padding: 0;\n",
              "    width: 32px;\n",
              "  }\n",
              "\n",
              "  .colab-df-quickchart:hover {\n",
              "    background-color: var(--hover-bg-color);\n",
              "    box-shadow: 0 1px 2px rgba(60, 64, 67, 0.3), 0 1px 3px 1px rgba(60, 64, 67, 0.15);\n",
              "    fill: var(--button-hover-fill-color);\n",
              "  }\n",
              "\n",
              "  .colab-df-quickchart-complete:disabled,\n",
              "  .colab-df-quickchart-complete:disabled:hover {\n",
              "    background-color: var(--disabled-bg-color);\n",
              "    fill: var(--disabled-fill-color);\n",
              "    box-shadow: none;\n",
              "  }\n",
              "\n",
              "  .colab-df-spinner {\n",
              "    border: 2px solid var(--fill-color);\n",
              "    border-color: transparent;\n",
              "    border-bottom-color: var(--fill-color);\n",
              "    animation:\n",
              "      spin 1s steps(1) infinite;\n",
              "  }\n",
              "\n",
              "  @keyframes spin {\n",
              "    0% {\n",
              "      border-color: transparent;\n",
              "      border-bottom-color: var(--fill-color);\n",
              "      border-left-color: var(--fill-color);\n",
              "    }\n",
              "    20% {\n",
              "      border-color: transparent;\n",
              "      border-left-color: var(--fill-color);\n",
              "      border-top-color: var(--fill-color);\n",
              "    }\n",
              "    30% {\n",
              "      border-color: transparent;\n",
              "      border-left-color: var(--fill-color);\n",
              "      border-top-color: var(--fill-color);\n",
              "      border-right-color: var(--fill-color);\n",
              "    }\n",
              "    40% {\n",
              "      border-color: transparent;\n",
              "      border-right-color: var(--fill-color);\n",
              "      border-top-color: var(--fill-color);\n",
              "    }\n",
              "    60% {\n",
              "      border-color: transparent;\n",
              "      border-right-color: var(--fill-color);\n",
              "    }\n",
              "    80% {\n",
              "      border-color: transparent;\n",
              "      border-right-color: var(--fill-color);\n",
              "      border-bottom-color: var(--fill-color);\n",
              "    }\n",
              "    90% {\n",
              "      border-color: transparent;\n",
              "      border-bottom-color: var(--fill-color);\n",
              "    }\n",
              "  }\n",
              "</style>\n",
              "\n",
              "  <script>\n",
              "    async function quickchart(key) {\n",
              "      const quickchartButtonEl =\n",
              "        document.querySelector('#' + key + ' button');\n",
              "      quickchartButtonEl.disabled = true;  // To prevent multiple clicks.\n",
              "      quickchartButtonEl.classList.add('colab-df-spinner');\n",
              "      try {\n",
              "        const charts = await google.colab.kernel.invokeFunction(\n",
              "            'suggestCharts', [key], {});\n",
              "      } catch (error) {\n",
              "        console.error('Error during call to suggestCharts:', error);\n",
              "      }\n",
              "      quickchartButtonEl.classList.remove('colab-df-spinner');\n",
              "      quickchartButtonEl.classList.add('colab-df-quickchart-complete');\n",
              "    }\n",
              "    (() => {\n",
              "      let quickchartButtonEl =\n",
              "        document.querySelector('#df-f383eb85-9759-4654-a22e-88d30543afff button');\n",
              "      quickchartButtonEl.style.display =\n",
              "        google.colab.kernel.accessAllowed ? 'block' : 'none';\n",
              "    })();\n",
              "  </script>\n",
              "</div>\n",
              "    </div>\n",
              "  </div>\n"
            ],
            "application/vnd.google.colaboratory.intrinsic+json": {
              "type": "dataframe",
              "repr_error": "0"
            }
          },
          "metadata": {},
          "execution_count": 2
        }
      ],
      "source": [
        "df = pd.read_csv('tweets_coronavirus.csv', encoding='latin-1')\n",
        "df.sample(4)"
      ]
    },
    {
      "cell_type": "markdown",
      "metadata": {
        "id": "m2OiDog9ZBlS"
      },
      "source": [
        "Для каждого твитта указано:\n",
        "\n",
        "\n",
        "*   UserName - имя пользователя, заменено на целое число для анонимности\n",
        "*   ScreenName - отображающееся имя пользователя, заменено на целое число для анонимности\n",
        "*   Location - местоположение\n",
        "*   TweetAt - дата создания твитта\n",
        "*   OriginalTweet - текст твитта\n",
        "*   Sentiment - эмоциональная окраска твитта (целевая переменная)\n",
        "\n"
      ]
    },
    {
      "cell_type": "markdown",
      "metadata": {
        "id": "pZTMseDkhTC7"
      },
      "source": [
        "## Задание 1 Подготовка (0.5 балла)"
      ]
    },
    {
      "cell_type": "markdown",
      "metadata": {
        "id": "Xx2-odn9hdAW"
      },
      "source": [
        "Целевая переменная находится в колонке `Sentiment`.  Преобразуйте ее таким образом, чтобы она стала бинарной: 1 - если у твитта положительная эмоциональная окраска и 0 - если отрицательная."
      ]
    },
    {
      "cell_type": "code",
      "execution_count": 3,
      "metadata": {
        "id": "ZaQKQ1zEjP15",
        "colab": {
          "base_uri": "https://localhost:8080/",
          "height": 175
        },
        "outputId": "d089f380-0be4-417b-de56-67125079426c"
      },
      "outputs": [
        {
          "output_type": "execute_result",
          "data": {
            "text/plain": [
              "       UserName  ScreenName                 Location     TweetAt  \\\n",
              "3118       7573       52525          New Jersey, USA  18-03-2020   \n",
              "15440     22585       67537                      NaN  23-03-2020   \n",
              "27407     37408       82360    Ahmadabad City, India  08-04-2020   \n",
              "8639      14294       59246  England, United Kingdom  20-03-2020   \n",
              "\n",
              "                                           OriginalTweet  Sentiment  \n",
              "3118   Every person I spoke to today, whether at 7-11...          1  \n",
              "15440  as my first tweet i would like to take the lib...          0  \n",
              "27407  #BMW has started online shopping for their CAR...          1  \n",
              "8639   Just braved my local supermarket for the first...          1  "
            ],
            "text/html": [
              "\n",
              "  <div id=\"df-825eb294-8dc7-4797-9be8-f2fc8dbd4ce7\" class=\"colab-df-container\">\n",
              "    <div>\n",
              "<style scoped>\n",
              "    .dataframe tbody tr th:only-of-type {\n",
              "        vertical-align: middle;\n",
              "    }\n",
              "\n",
              "    .dataframe tbody tr th {\n",
              "        vertical-align: top;\n",
              "    }\n",
              "\n",
              "    .dataframe thead th {\n",
              "        text-align: right;\n",
              "    }\n",
              "</style>\n",
              "<table border=\"1\" class=\"dataframe\">\n",
              "  <thead>\n",
              "    <tr style=\"text-align: right;\">\n",
              "      <th></th>\n",
              "      <th>UserName</th>\n",
              "      <th>ScreenName</th>\n",
              "      <th>Location</th>\n",
              "      <th>TweetAt</th>\n",
              "      <th>OriginalTweet</th>\n",
              "      <th>Sentiment</th>\n",
              "    </tr>\n",
              "  </thead>\n",
              "  <tbody>\n",
              "    <tr>\n",
              "      <th>3118</th>\n",
              "      <td>7573</td>\n",
              "      <td>52525</td>\n",
              "      <td>New Jersey, USA</td>\n",
              "      <td>18-03-2020</td>\n",
              "      <td>Every person I spoke to today, whether at 7-11...</td>\n",
              "      <td>1</td>\n",
              "    </tr>\n",
              "    <tr>\n",
              "      <th>15440</th>\n",
              "      <td>22585</td>\n",
              "      <td>67537</td>\n",
              "      <td>NaN</td>\n",
              "      <td>23-03-2020</td>\n",
              "      <td>as my first tweet i would like to take the lib...</td>\n",
              "      <td>0</td>\n",
              "    </tr>\n",
              "    <tr>\n",
              "      <th>27407</th>\n",
              "      <td>37408</td>\n",
              "      <td>82360</td>\n",
              "      <td>Ahmadabad City, India</td>\n",
              "      <td>08-04-2020</td>\n",
              "      <td>#BMW has started online shopping for their CAR...</td>\n",
              "      <td>1</td>\n",
              "    </tr>\n",
              "    <tr>\n",
              "      <th>8639</th>\n",
              "      <td>14294</td>\n",
              "      <td>59246</td>\n",
              "      <td>England, United Kingdom</td>\n",
              "      <td>20-03-2020</td>\n",
              "      <td>Just braved my local supermarket for the first...</td>\n",
              "      <td>1</td>\n",
              "    </tr>\n",
              "  </tbody>\n",
              "</table>\n",
              "</div>\n",
              "    <div class=\"colab-df-buttons\">\n",
              "\n",
              "  <div class=\"colab-df-container\">\n",
              "    <button class=\"colab-df-convert\" onclick=\"convertToInteractive('df-825eb294-8dc7-4797-9be8-f2fc8dbd4ce7')\"\n",
              "            title=\"Convert this dataframe to an interactive table.\"\n",
              "            style=\"display:none;\">\n",
              "\n",
              "  <svg xmlns=\"http://www.w3.org/2000/svg\" height=\"24px\" viewBox=\"0 -960 960 960\">\n",
              "    <path d=\"M120-120v-720h720v720H120Zm60-500h600v-160H180v160Zm220 220h160v-160H400v160Zm0 220h160v-160H400v160ZM180-400h160v-160H180v160Zm440 0h160v-160H620v160ZM180-180h160v-160H180v160Zm440 0h160v-160H620v160Z\"/>\n",
              "  </svg>\n",
              "    </button>\n",
              "\n",
              "  <style>\n",
              "    .colab-df-container {\n",
              "      display:flex;\n",
              "      gap: 12px;\n",
              "    }\n",
              "\n",
              "    .colab-df-convert {\n",
              "      background-color: #E8F0FE;\n",
              "      border: none;\n",
              "      border-radius: 50%;\n",
              "      cursor: pointer;\n",
              "      display: none;\n",
              "      fill: #1967D2;\n",
              "      height: 32px;\n",
              "      padding: 0 0 0 0;\n",
              "      width: 32px;\n",
              "    }\n",
              "\n",
              "    .colab-df-convert:hover {\n",
              "      background-color: #E2EBFA;\n",
              "      box-shadow: 0px 1px 2px rgba(60, 64, 67, 0.3), 0px 1px 3px 1px rgba(60, 64, 67, 0.15);\n",
              "      fill: #174EA6;\n",
              "    }\n",
              "\n",
              "    .colab-df-buttons div {\n",
              "      margin-bottom: 4px;\n",
              "    }\n",
              "\n",
              "    [theme=dark] .colab-df-convert {\n",
              "      background-color: #3B4455;\n",
              "      fill: #D2E3FC;\n",
              "    }\n",
              "\n",
              "    [theme=dark] .colab-df-convert:hover {\n",
              "      background-color: #434B5C;\n",
              "      box-shadow: 0px 1px 3px 1px rgba(0, 0, 0, 0.15);\n",
              "      filter: drop-shadow(0px 1px 2px rgba(0, 0, 0, 0.3));\n",
              "      fill: #FFFFFF;\n",
              "    }\n",
              "  </style>\n",
              "\n",
              "    <script>\n",
              "      const buttonEl =\n",
              "        document.querySelector('#df-825eb294-8dc7-4797-9be8-f2fc8dbd4ce7 button.colab-df-convert');\n",
              "      buttonEl.style.display =\n",
              "        google.colab.kernel.accessAllowed ? 'block' : 'none';\n",
              "\n",
              "      async function convertToInteractive(key) {\n",
              "        const element = document.querySelector('#df-825eb294-8dc7-4797-9be8-f2fc8dbd4ce7');\n",
              "        const dataTable =\n",
              "          await google.colab.kernel.invokeFunction('convertToInteractive',\n",
              "                                                    [key], {});\n",
              "        if (!dataTable) return;\n",
              "\n",
              "        const docLinkHtml = 'Like what you see? Visit the ' +\n",
              "          '<a target=\"_blank\" href=https://colab.research.google.com/notebooks/data_table.ipynb>data table notebook</a>'\n",
              "          + ' to learn more about interactive tables.';\n",
              "        element.innerHTML = '';\n",
              "        dataTable['output_type'] = 'display_data';\n",
              "        await google.colab.output.renderOutput(dataTable, element);\n",
              "        const docLink = document.createElement('div');\n",
              "        docLink.innerHTML = docLinkHtml;\n",
              "        element.appendChild(docLink);\n",
              "      }\n",
              "    </script>\n",
              "  </div>\n",
              "\n",
              "\n",
              "<div id=\"df-62454caa-75dd-4cf9-9cc3-2d62f7295179\">\n",
              "  <button class=\"colab-df-quickchart\" onclick=\"quickchart('df-62454caa-75dd-4cf9-9cc3-2d62f7295179')\"\n",
              "            title=\"Suggest charts\"\n",
              "            style=\"display:none;\">\n",
              "\n",
              "<svg xmlns=\"http://www.w3.org/2000/svg\" height=\"24px\"viewBox=\"0 0 24 24\"\n",
              "     width=\"24px\">\n",
              "    <g>\n",
              "        <path d=\"M19 3H5c-1.1 0-2 .9-2 2v14c0 1.1.9 2 2 2h14c1.1 0 2-.9 2-2V5c0-1.1-.9-2-2-2zM9 17H7v-7h2v7zm4 0h-2V7h2v10zm4 0h-2v-4h2v4z\"/>\n",
              "    </g>\n",
              "</svg>\n",
              "  </button>\n",
              "\n",
              "<style>\n",
              "  .colab-df-quickchart {\n",
              "      --bg-color: #E8F0FE;\n",
              "      --fill-color: #1967D2;\n",
              "      --hover-bg-color: #E2EBFA;\n",
              "      --hover-fill-color: #174EA6;\n",
              "      --disabled-fill-color: #AAA;\n",
              "      --disabled-bg-color: #DDD;\n",
              "  }\n",
              "\n",
              "  [theme=dark] .colab-df-quickchart {\n",
              "      --bg-color: #3B4455;\n",
              "      --fill-color: #D2E3FC;\n",
              "      --hover-bg-color: #434B5C;\n",
              "      --hover-fill-color: #FFFFFF;\n",
              "      --disabled-bg-color: #3B4455;\n",
              "      --disabled-fill-color: #666;\n",
              "  }\n",
              "\n",
              "  .colab-df-quickchart {\n",
              "    background-color: var(--bg-color);\n",
              "    border: none;\n",
              "    border-radius: 50%;\n",
              "    cursor: pointer;\n",
              "    display: none;\n",
              "    fill: var(--fill-color);\n",
              "    height: 32px;\n",
              "    padding: 0;\n",
              "    width: 32px;\n",
              "  }\n",
              "\n",
              "  .colab-df-quickchart:hover {\n",
              "    background-color: var(--hover-bg-color);\n",
              "    box-shadow: 0 1px 2px rgba(60, 64, 67, 0.3), 0 1px 3px 1px rgba(60, 64, 67, 0.15);\n",
              "    fill: var(--button-hover-fill-color);\n",
              "  }\n",
              "\n",
              "  .colab-df-quickchart-complete:disabled,\n",
              "  .colab-df-quickchart-complete:disabled:hover {\n",
              "    background-color: var(--disabled-bg-color);\n",
              "    fill: var(--disabled-fill-color);\n",
              "    box-shadow: none;\n",
              "  }\n",
              "\n",
              "  .colab-df-spinner {\n",
              "    border: 2px solid var(--fill-color);\n",
              "    border-color: transparent;\n",
              "    border-bottom-color: var(--fill-color);\n",
              "    animation:\n",
              "      spin 1s steps(1) infinite;\n",
              "  }\n",
              "\n",
              "  @keyframes spin {\n",
              "    0% {\n",
              "      border-color: transparent;\n",
              "      border-bottom-color: var(--fill-color);\n",
              "      border-left-color: var(--fill-color);\n",
              "    }\n",
              "    20% {\n",
              "      border-color: transparent;\n",
              "      border-left-color: var(--fill-color);\n",
              "      border-top-color: var(--fill-color);\n",
              "    }\n",
              "    30% {\n",
              "      border-color: transparent;\n",
              "      border-left-color: var(--fill-color);\n",
              "      border-top-color: var(--fill-color);\n",
              "      border-right-color: var(--fill-color);\n",
              "    }\n",
              "    40% {\n",
              "      border-color: transparent;\n",
              "      border-right-color: var(--fill-color);\n",
              "      border-top-color: var(--fill-color);\n",
              "    }\n",
              "    60% {\n",
              "      border-color: transparent;\n",
              "      border-right-color: var(--fill-color);\n",
              "    }\n",
              "    80% {\n",
              "      border-color: transparent;\n",
              "      border-right-color: var(--fill-color);\n",
              "      border-bottom-color: var(--fill-color);\n",
              "    }\n",
              "    90% {\n",
              "      border-color: transparent;\n",
              "      border-bottom-color: var(--fill-color);\n",
              "    }\n",
              "  }\n",
              "</style>\n",
              "\n",
              "  <script>\n",
              "    async function quickchart(key) {\n",
              "      const quickchartButtonEl =\n",
              "        document.querySelector('#' + key + ' button');\n",
              "      quickchartButtonEl.disabled = true;  // To prevent multiple clicks.\n",
              "      quickchartButtonEl.classList.add('colab-df-spinner');\n",
              "      try {\n",
              "        const charts = await google.colab.kernel.invokeFunction(\n",
              "            'suggestCharts', [key], {});\n",
              "      } catch (error) {\n",
              "        console.error('Error during call to suggestCharts:', error);\n",
              "      }\n",
              "      quickchartButtonEl.classList.remove('colab-df-spinner');\n",
              "      quickchartButtonEl.classList.add('colab-df-quickchart-complete');\n",
              "    }\n",
              "    (() => {\n",
              "      let quickchartButtonEl =\n",
              "        document.querySelector('#df-62454caa-75dd-4cf9-9cc3-2d62f7295179 button');\n",
              "      quickchartButtonEl.style.display =\n",
              "        google.colab.kernel.accessAllowed ? 'block' : 'none';\n",
              "    })();\n",
              "  </script>\n",
              "</div>\n",
              "    </div>\n",
              "  </div>\n"
            ],
            "application/vnd.google.colaboratory.intrinsic+json": {
              "type": "dataframe",
              "repr_error": "0"
            }
          },
          "metadata": {},
          "execution_count": 3
        }
      ],
      "source": [
        "def encoding(sent: str):\n",
        "  if 'positive' in sent.lower():\n",
        "    return 1\n",
        "  return 0\n",
        "\n",
        "\n",
        "df['Sentiment'] = df['Sentiment'].apply(encoding)\n",
        "df.sample(4)"
      ]
    },
    {
      "cell_type": "markdown",
      "metadata": {
        "id": "pGq1FxJ-kBo5"
      },
      "source": [
        "Сбалансированы ли классы?"
      ]
    },
    {
      "cell_type": "code",
      "execution_count": 4,
      "metadata": {
        "id": "a7gdNtxckK5V",
        "colab": {
          "base_uri": "https://localhost:8080/"
        },
        "outputId": "b268f2cb-fc4a-4bbd-ab3f-4f1de77e1139"
      },
      "outputs": [
        {
          "output_type": "stream",
          "name": "stdout",
          "text": [
            "Negative : 15398\n",
            "Positive :  18046\n"
          ]
        }
      ],
      "source": [
        "print(f\"Negative : {len(df[df['Sentiment'] == 0])}\\nPositive :  {len(df[df['Sentiment'] == 1])}\")"
      ]
    },
    {
      "cell_type": "markdown",
      "metadata": {
        "id": "Ng8BCelMkWb0"
      },
      "source": [
        "**Ответ:** В целом, количество наблюдений в обоих классах приблизительно одинаковое (46% негативных твитов и 54% положительных), поэтому можно считать, что классы **сбалансированы**."
      ]
    },
    {
      "cell_type": "markdown",
      "metadata": {
        "id": "qmSIBSsLk5Zz"
      },
      "source": [
        "Выведете на экран информацию о пропусках в данных. Если пропуски присутствуют заполните их строкой 'Unknown'."
      ]
    },
    {
      "cell_type": "code",
      "execution_count": 5,
      "metadata": {
        "id": "UhUVRkR5kxa7",
        "colab": {
          "base_uri": "https://localhost:8080/"
        },
        "outputId": "55d090a2-deb9-491d-e10c-51fda7bd5b70"
      },
      "outputs": [
        {
          "output_type": "execute_result",
          "data": {
            "text/plain": [
              "UserName            0\n",
              "ScreenName          0\n",
              "Location         7049\n",
              "TweetAt             0\n",
              "OriginalTweet       0\n",
              "Sentiment           0\n",
              "dtype: int64"
            ]
          },
          "metadata": {},
          "execution_count": 5
        }
      ],
      "source": [
        "df.isnull().sum()"
      ]
    },
    {
      "cell_type": "markdown",
      "source": [
        "Есть довольно много пропусков в столбце Location. Заполним их строкой Unknown"
      ],
      "metadata": {
        "id": "o2j9BVQ7WCEv"
      }
    },
    {
      "cell_type": "code",
      "source": [
        "# cat_features_mask = (df.dtypes == \"object\").values\n",
        "df = df.fillna(\"Unknown\")"
      ],
      "metadata": {
        "id": "gkojmKOIWHZ5"
      },
      "execution_count": 6,
      "outputs": []
    },
    {
      "cell_type": "markdown",
      "source": [
        "Посмотрим, заполнились ли пропуски"
      ],
      "metadata": {
        "id": "OI4wf5utXDuX"
      }
    },
    {
      "cell_type": "code",
      "source": [
        "df.sample(4)"
      ],
      "metadata": {
        "colab": {
          "base_uri": "https://localhost:8080/",
          "height": 175
        },
        "id": "s01M7wPAXOEK",
        "outputId": "baced130-e311-4b91-88d9-3754ccfe5a7b"
      },
      "execution_count": 7,
      "outputs": [
        {
          "output_type": "execute_result",
          "data": {
            "text/plain": [
              "       UserName  ScreenName Location     TweetAt  \\\n",
              "31985     43141       88093   London  12-04-2020   \n",
              "13425     20090       65042   Canada  22-03-2020   \n",
              "21303     29783       74735  Unknown  01-04-2020   \n",
              "26078     35748       80700  Unknown  07-04-2020   \n",
              "\n",
              "                                           OriginalTweet  Sentiment  \n",
              "31985  Families fear care homes may collapse under pr...          0  \n",
              "13425  Really @Bell @Bell_Support people are losing j...          1  \n",
              "21303  Colombian workers demand protection from hunge...          0  \n",
              "26078  CBG CBD Hand Sanitizer Repair and redydrate sk...          1  "
            ],
            "text/html": [
              "\n",
              "  <div id=\"df-d16a980d-3946-4c48-bfb5-17d9c8ecdc6f\" class=\"colab-df-container\">\n",
              "    <div>\n",
              "<style scoped>\n",
              "    .dataframe tbody tr th:only-of-type {\n",
              "        vertical-align: middle;\n",
              "    }\n",
              "\n",
              "    .dataframe tbody tr th {\n",
              "        vertical-align: top;\n",
              "    }\n",
              "\n",
              "    .dataframe thead th {\n",
              "        text-align: right;\n",
              "    }\n",
              "</style>\n",
              "<table border=\"1\" class=\"dataframe\">\n",
              "  <thead>\n",
              "    <tr style=\"text-align: right;\">\n",
              "      <th></th>\n",
              "      <th>UserName</th>\n",
              "      <th>ScreenName</th>\n",
              "      <th>Location</th>\n",
              "      <th>TweetAt</th>\n",
              "      <th>OriginalTweet</th>\n",
              "      <th>Sentiment</th>\n",
              "    </tr>\n",
              "  </thead>\n",
              "  <tbody>\n",
              "    <tr>\n",
              "      <th>31985</th>\n",
              "      <td>43141</td>\n",
              "      <td>88093</td>\n",
              "      <td>London</td>\n",
              "      <td>12-04-2020</td>\n",
              "      <td>Families fear care homes may collapse under pr...</td>\n",
              "      <td>0</td>\n",
              "    </tr>\n",
              "    <tr>\n",
              "      <th>13425</th>\n",
              "      <td>20090</td>\n",
              "      <td>65042</td>\n",
              "      <td>Canada</td>\n",
              "      <td>22-03-2020</td>\n",
              "      <td>Really @Bell @Bell_Support people are losing j...</td>\n",
              "      <td>1</td>\n",
              "    </tr>\n",
              "    <tr>\n",
              "      <th>21303</th>\n",
              "      <td>29783</td>\n",
              "      <td>74735</td>\n",
              "      <td>Unknown</td>\n",
              "      <td>01-04-2020</td>\n",
              "      <td>Colombian workers demand protection from hunge...</td>\n",
              "      <td>0</td>\n",
              "    </tr>\n",
              "    <tr>\n",
              "      <th>26078</th>\n",
              "      <td>35748</td>\n",
              "      <td>80700</td>\n",
              "      <td>Unknown</td>\n",
              "      <td>07-04-2020</td>\n",
              "      <td>CBG CBD Hand Sanitizer Repair and redydrate sk...</td>\n",
              "      <td>1</td>\n",
              "    </tr>\n",
              "  </tbody>\n",
              "</table>\n",
              "</div>\n",
              "    <div class=\"colab-df-buttons\">\n",
              "\n",
              "  <div class=\"colab-df-container\">\n",
              "    <button class=\"colab-df-convert\" onclick=\"convertToInteractive('df-d16a980d-3946-4c48-bfb5-17d9c8ecdc6f')\"\n",
              "            title=\"Convert this dataframe to an interactive table.\"\n",
              "            style=\"display:none;\">\n",
              "\n",
              "  <svg xmlns=\"http://www.w3.org/2000/svg\" height=\"24px\" viewBox=\"0 -960 960 960\">\n",
              "    <path d=\"M120-120v-720h720v720H120Zm60-500h600v-160H180v160Zm220 220h160v-160H400v160Zm0 220h160v-160H400v160ZM180-400h160v-160H180v160Zm440 0h160v-160H620v160ZM180-180h160v-160H180v160Zm440 0h160v-160H620v160Z\"/>\n",
              "  </svg>\n",
              "    </button>\n",
              "\n",
              "  <style>\n",
              "    .colab-df-container {\n",
              "      display:flex;\n",
              "      gap: 12px;\n",
              "    }\n",
              "\n",
              "    .colab-df-convert {\n",
              "      background-color: #E8F0FE;\n",
              "      border: none;\n",
              "      border-radius: 50%;\n",
              "      cursor: pointer;\n",
              "      display: none;\n",
              "      fill: #1967D2;\n",
              "      height: 32px;\n",
              "      padding: 0 0 0 0;\n",
              "      width: 32px;\n",
              "    }\n",
              "\n",
              "    .colab-df-convert:hover {\n",
              "      background-color: #E2EBFA;\n",
              "      box-shadow: 0px 1px 2px rgba(60, 64, 67, 0.3), 0px 1px 3px 1px rgba(60, 64, 67, 0.15);\n",
              "      fill: #174EA6;\n",
              "    }\n",
              "\n",
              "    .colab-df-buttons div {\n",
              "      margin-bottom: 4px;\n",
              "    }\n",
              "\n",
              "    [theme=dark] .colab-df-convert {\n",
              "      background-color: #3B4455;\n",
              "      fill: #D2E3FC;\n",
              "    }\n",
              "\n",
              "    [theme=dark] .colab-df-convert:hover {\n",
              "      background-color: #434B5C;\n",
              "      box-shadow: 0px 1px 3px 1px rgba(0, 0, 0, 0.15);\n",
              "      filter: drop-shadow(0px 1px 2px rgba(0, 0, 0, 0.3));\n",
              "      fill: #FFFFFF;\n",
              "    }\n",
              "  </style>\n",
              "\n",
              "    <script>\n",
              "      const buttonEl =\n",
              "        document.querySelector('#df-d16a980d-3946-4c48-bfb5-17d9c8ecdc6f button.colab-df-convert');\n",
              "      buttonEl.style.display =\n",
              "        google.colab.kernel.accessAllowed ? 'block' : 'none';\n",
              "\n",
              "      async function convertToInteractive(key) {\n",
              "        const element = document.querySelector('#df-d16a980d-3946-4c48-bfb5-17d9c8ecdc6f');\n",
              "        const dataTable =\n",
              "          await google.colab.kernel.invokeFunction('convertToInteractive',\n",
              "                                                    [key], {});\n",
              "        if (!dataTable) return;\n",
              "\n",
              "        const docLinkHtml = 'Like what you see? Visit the ' +\n",
              "          '<a target=\"_blank\" href=https://colab.research.google.com/notebooks/data_table.ipynb>data table notebook</a>'\n",
              "          + ' to learn more about interactive tables.';\n",
              "        element.innerHTML = '';\n",
              "        dataTable['output_type'] = 'display_data';\n",
              "        await google.colab.output.renderOutput(dataTable, element);\n",
              "        const docLink = document.createElement('div');\n",
              "        docLink.innerHTML = docLinkHtml;\n",
              "        element.appendChild(docLink);\n",
              "      }\n",
              "    </script>\n",
              "  </div>\n",
              "\n",
              "\n",
              "<div id=\"df-1294abb3-bd91-46c3-88ad-2e7a8f9f5db3\">\n",
              "  <button class=\"colab-df-quickchart\" onclick=\"quickchart('df-1294abb3-bd91-46c3-88ad-2e7a8f9f5db3')\"\n",
              "            title=\"Suggest charts\"\n",
              "            style=\"display:none;\">\n",
              "\n",
              "<svg xmlns=\"http://www.w3.org/2000/svg\" height=\"24px\"viewBox=\"0 0 24 24\"\n",
              "     width=\"24px\">\n",
              "    <g>\n",
              "        <path d=\"M19 3H5c-1.1 0-2 .9-2 2v14c0 1.1.9 2 2 2h14c1.1 0 2-.9 2-2V5c0-1.1-.9-2-2-2zM9 17H7v-7h2v7zm4 0h-2V7h2v10zm4 0h-2v-4h2v4z\"/>\n",
              "    </g>\n",
              "</svg>\n",
              "  </button>\n",
              "\n",
              "<style>\n",
              "  .colab-df-quickchart {\n",
              "      --bg-color: #E8F0FE;\n",
              "      --fill-color: #1967D2;\n",
              "      --hover-bg-color: #E2EBFA;\n",
              "      --hover-fill-color: #174EA6;\n",
              "      --disabled-fill-color: #AAA;\n",
              "      --disabled-bg-color: #DDD;\n",
              "  }\n",
              "\n",
              "  [theme=dark] .colab-df-quickchart {\n",
              "      --bg-color: #3B4455;\n",
              "      --fill-color: #D2E3FC;\n",
              "      --hover-bg-color: #434B5C;\n",
              "      --hover-fill-color: #FFFFFF;\n",
              "      --disabled-bg-color: #3B4455;\n",
              "      --disabled-fill-color: #666;\n",
              "  }\n",
              "\n",
              "  .colab-df-quickchart {\n",
              "    background-color: var(--bg-color);\n",
              "    border: none;\n",
              "    border-radius: 50%;\n",
              "    cursor: pointer;\n",
              "    display: none;\n",
              "    fill: var(--fill-color);\n",
              "    height: 32px;\n",
              "    padding: 0;\n",
              "    width: 32px;\n",
              "  }\n",
              "\n",
              "  .colab-df-quickchart:hover {\n",
              "    background-color: var(--hover-bg-color);\n",
              "    box-shadow: 0 1px 2px rgba(60, 64, 67, 0.3), 0 1px 3px 1px rgba(60, 64, 67, 0.15);\n",
              "    fill: var(--button-hover-fill-color);\n",
              "  }\n",
              "\n",
              "  .colab-df-quickchart-complete:disabled,\n",
              "  .colab-df-quickchart-complete:disabled:hover {\n",
              "    background-color: var(--disabled-bg-color);\n",
              "    fill: var(--disabled-fill-color);\n",
              "    box-shadow: none;\n",
              "  }\n",
              "\n",
              "  .colab-df-spinner {\n",
              "    border: 2px solid var(--fill-color);\n",
              "    border-color: transparent;\n",
              "    border-bottom-color: var(--fill-color);\n",
              "    animation:\n",
              "      spin 1s steps(1) infinite;\n",
              "  }\n",
              "\n",
              "  @keyframes spin {\n",
              "    0% {\n",
              "      border-color: transparent;\n",
              "      border-bottom-color: var(--fill-color);\n",
              "      border-left-color: var(--fill-color);\n",
              "    }\n",
              "    20% {\n",
              "      border-color: transparent;\n",
              "      border-left-color: var(--fill-color);\n",
              "      border-top-color: var(--fill-color);\n",
              "    }\n",
              "    30% {\n",
              "      border-color: transparent;\n",
              "      border-left-color: var(--fill-color);\n",
              "      border-top-color: var(--fill-color);\n",
              "      border-right-color: var(--fill-color);\n",
              "    }\n",
              "    40% {\n",
              "      border-color: transparent;\n",
              "      border-right-color: var(--fill-color);\n",
              "      border-top-color: var(--fill-color);\n",
              "    }\n",
              "    60% {\n",
              "      border-color: transparent;\n",
              "      border-right-color: var(--fill-color);\n",
              "    }\n",
              "    80% {\n",
              "      border-color: transparent;\n",
              "      border-right-color: var(--fill-color);\n",
              "      border-bottom-color: var(--fill-color);\n",
              "    }\n",
              "    90% {\n",
              "      border-color: transparent;\n",
              "      border-bottom-color: var(--fill-color);\n",
              "    }\n",
              "  }\n",
              "</style>\n",
              "\n",
              "  <script>\n",
              "    async function quickchart(key) {\n",
              "      const quickchartButtonEl =\n",
              "        document.querySelector('#' + key + ' button');\n",
              "      quickchartButtonEl.disabled = true;  // To prevent multiple clicks.\n",
              "      quickchartButtonEl.classList.add('colab-df-spinner');\n",
              "      try {\n",
              "        const charts = await google.colab.kernel.invokeFunction(\n",
              "            'suggestCharts', [key], {});\n",
              "      } catch (error) {\n",
              "        console.error('Error during call to suggestCharts:', error);\n",
              "      }\n",
              "      quickchartButtonEl.classList.remove('colab-df-spinner');\n",
              "      quickchartButtonEl.classList.add('colab-df-quickchart-complete');\n",
              "    }\n",
              "    (() => {\n",
              "      let quickchartButtonEl =\n",
              "        document.querySelector('#df-1294abb3-bd91-46c3-88ad-2e7a8f9f5db3 button');\n",
              "      quickchartButtonEl.style.display =\n",
              "        google.colab.kernel.accessAllowed ? 'block' : 'none';\n",
              "    })();\n",
              "  </script>\n",
              "</div>\n",
              "    </div>\n",
              "  </div>\n"
            ],
            "application/vnd.google.colaboratory.intrinsic+json": {
              "type": "dataframe",
              "summary": "{\n  \"name\": \"df\",\n  \"rows\": 4,\n  \"fields\": [\n    {\n      \"column\": \"UserName\",\n      \"properties\": {\n        \"dtype\": \"number\",\n        \"std\": 9743,\n        \"min\": 20090,\n        \"max\": 43141,\n        \"num_unique_values\": 4,\n        \"samples\": [\n          20090,\n          35748,\n          43141\n        ],\n        \"semantic_type\": \"\",\n        \"description\": \"\"\n      }\n    },\n    {\n      \"column\": \"ScreenName\",\n      \"properties\": {\n        \"dtype\": \"number\",\n        \"std\": 9743,\n        \"min\": 65042,\n        \"max\": 88093,\n        \"num_unique_values\": 4,\n        \"samples\": [\n          65042,\n          80700,\n          88093\n        ],\n        \"semantic_type\": \"\",\n        \"description\": \"\"\n      }\n    },\n    {\n      \"column\": \"Location\",\n      \"properties\": {\n        \"dtype\": \"string\",\n        \"num_unique_values\": 3,\n        \"samples\": [\n          \"London\",\n          \"Canada\",\n          \"Unknown\"\n        ],\n        \"semantic_type\": \"\",\n        \"description\": \"\"\n      }\n    },\n    {\n      \"column\": \"TweetAt\",\n      \"properties\": {\n        \"dtype\": \"string\",\n        \"num_unique_values\": 4,\n        \"samples\": [\n          \"22-03-2020\",\n          \"07-04-2020\",\n          \"12-04-2020\"\n        ],\n        \"semantic_type\": \"\",\n        \"description\": \"\"\n      }\n    },\n    {\n      \"column\": \"OriginalTweet\",\n      \"properties\": {\n        \"dtype\": \"string\",\n        \"num_unique_values\": 4,\n        \"samples\": [\n          \"Really @Bell @Bell_Support people are losing jobs, people are freaked out so you jacked the prices of your internet $5 without notice????!!! Bell is a POS company, way to help Canadians out! #CoronaCrisis #coronavirus #pricegougers #pricegouging #bell\",\n          \"CBG CBD Hand Sanitizer Repair and redydrate skin while sanitizing\",\n          \"Families fear care homes may collapse under pressure\"\n        ],\n        \"semantic_type\": \"\",\n        \"description\": \"\"\n      }\n    },\n    {\n      \"column\": \"Sentiment\",\n      \"properties\": {\n        \"dtype\": \"number\",\n        \"std\": 0,\n        \"min\": 0,\n        \"max\": 1,\n        \"num_unique_values\": 2,\n        \"samples\": [\n          1,\n          0\n        ],\n        \"semantic_type\": \"\",\n        \"description\": \"\"\n      }\n    }\n  ]\n}"
            }
          },
          "metadata": {},
          "execution_count": 7
        }
      ]
    },
    {
      "cell_type": "markdown",
      "source": [
        "Видно, что вместо NaN теперь Unknown."
      ],
      "metadata": {
        "id": "S0fMvDbmYWr7"
      }
    },
    {
      "cell_type": "markdown",
      "metadata": {
        "id": "1tzt27tfjUpq"
      },
      "source": [
        "Разделите данные на обучающие и тестовые в соотношении 7 : 3 и `random_state=0`"
      ]
    },
    {
      "cell_type": "code",
      "execution_count": 8,
      "metadata": {
        "id": "xSLOA9tIj9Z6"
      },
      "outputs": [],
      "source": [
        "from sklearn.model_selection import train_test_split\n",
        "\n",
        "train, test = train_test_split(df, test_size=0.3, random_state=0)\n"
      ]
    },
    {
      "cell_type": "markdown",
      "metadata": {
        "id": "J9RrPUsJlL60"
      },
      "source": [
        "## Задание 2 Токенизация (3 балла)"
      ]
    },
    {
      "cell_type": "markdown",
      "metadata": {
        "id": "2Dz_b7Xopc_R"
      },
      "source": [
        "Постройте словарь на основе обучающей выборки и посчитайте количество встреч каждого токена с использованием самой простой токенизации - деления текстов по пробельным символам и приведение токенов в нижний регистр"
      ]
    },
    {
      "cell_type": "code",
      "source": [
        "from collections import Counter"
      ],
      "metadata": {
        "id": "p8tFjPNgaQMw"
      },
      "execution_count": 9,
      "outputs": []
    },
    {
      "cell_type": "code",
      "execution_count": 10,
      "metadata": {
        "id": "SFr67WOJphny"
      },
      "outputs": [],
      "source": [
        "# Переведем тексты твитов в нижний регистр\n",
        "data = train['OriginalTweet'].apply(lambda x: x.lower())\n",
        "temp = []\n",
        "for element in data:\n",
        "  temp.extend(element.split())\n",
        "result = Counter(temp)"
      ]
    },
    {
      "cell_type": "markdown",
      "metadata": {
        "id": "Pe0h2Jqkpnao"
      },
      "source": [
        "Какой размер словаря получился?"
      ]
    },
    {
      "cell_type": "code",
      "execution_count": 11,
      "metadata": {
        "id": "umyENA7EpokD",
        "colab": {
          "base_uri": "https://localhost:8080/"
        },
        "outputId": "5745c5b4-55a8-4d7b-afa1-cda1558a9510"
      },
      "outputs": [
        {
          "output_type": "execute_result",
          "data": {
            "text/plain": [
              "79755"
            ]
          },
          "metadata": {},
          "execution_count": 11
        }
      ],
      "source": [
        "len(result)"
      ]
    },
    {
      "cell_type": "markdown",
      "metadata": {
        "id": "0d2G1Z-Qpqkd"
      },
      "source": [
        "Выведите 10 самых популярных токенов с количеством встреч каждого из них. Объясните, почему именно эти токены в топе"
      ]
    },
    {
      "cell_type": "code",
      "execution_count": 12,
      "metadata": {
        "id": "Impi32a_pssg",
        "colab": {
          "base_uri": "https://localhost:8080/"
        },
        "outputId": "e89666f3-885b-4dff-94e9-8ac646c3374c"
      },
      "outputs": [
        {
          "output_type": "execute_result",
          "data": {
            "text/plain": [
              "[('the', 26815),\n",
              " ('to', 23373),\n",
              " ('and', 14684),\n",
              " ('of', 13012),\n",
              " ('a', 11737),\n",
              " ('in', 11198),\n",
              " ('for', 8566),\n",
              " ('#coronavirus', 8223),\n",
              " ('is', 7383),\n",
              " ('are', 7050)]"
            ]
          },
          "metadata": {},
          "execution_count": 12
        }
      ],
      "source": [
        "result.most_common(10)"
      ]
    },
    {
      "cell_type": "markdown",
      "metadata": {
        "id": "ZtuJCD0ApuFd"
      },
      "source": [
        "**Ответ:** Среди самых популярных слов много частиц (to, of, ...) и артиклей (a, the), которые используются в каждом предложении для грамматической связи слов. Так как основная тема твитов в этом датасете - коронавирус, то логично, что хэштег #coronavirus будет встречаться крайне часто."
      ]
    },
    {
      "cell_type": "markdown",
      "metadata": {
        "id": "T7DTQDkWsVYp"
      },
      "source": [
        "Удалите стоп-слова из словаря и выведите новый топ-10 токенов (и количество встреч) по популярности.  Что можно сказать  о нем?"
      ]
    },
    {
      "cell_type": "code",
      "source": [
        "!pip install nltk"
      ],
      "metadata": {
        "colab": {
          "base_uri": "https://localhost:8080/"
        },
        "id": "6H4Oz5nzdr6H",
        "outputId": "2fd59ba1-9c83-473f-d996-e9ceeca75350"
      },
      "execution_count": 13,
      "outputs": [
        {
          "output_type": "stream",
          "name": "stdout",
          "text": [
            "Requirement already satisfied: nltk in /usr/local/lib/python3.10/dist-packages (3.8.1)\n",
            "Requirement already satisfied: click in /usr/local/lib/python3.10/dist-packages (from nltk) (8.1.7)\n",
            "Requirement already satisfied: joblib in /usr/local/lib/python3.10/dist-packages (from nltk) (1.4.2)\n",
            "Requirement already satisfied: regex>=2021.8.3 in /usr/local/lib/python3.10/dist-packages (from nltk) (2023.12.25)\n",
            "Requirement already satisfied: tqdm in /usr/local/lib/python3.10/dist-packages (from nltk) (4.66.4)\n"
          ]
        }
      ]
    },
    {
      "cell_type": "code",
      "execution_count": 14,
      "metadata": {
        "id": "8csSAdgTsnFx",
        "colab": {
          "base_uri": "https://localhost:8080/"
        },
        "outputId": "6d15b36e-841e-486c-d1cb-8012678b1651"
      },
      "outputs": [
        {
          "output_type": "stream",
          "name": "stderr",
          "text": [
            "[nltk_data] Downloading package stopwords to /root/nltk_data...\n",
            "[nltk_data]   Package stopwords is already up-to-date!\n"
          ]
        },
        {
          "output_type": "execute_result",
          "data": {
            "text/plain": [
              "['i',\n",
              " 'me',\n",
              " 'my',\n",
              " 'myself',\n",
              " 'we',\n",
              " 'our',\n",
              " 'ours',\n",
              " 'ourselves',\n",
              " 'you',\n",
              " \"you're\",\n",
              " \"you've\",\n",
              " \"you'll\",\n",
              " \"you'd\",\n",
              " 'your',\n",
              " 'yours',\n",
              " 'yourself',\n",
              " 'yourselves',\n",
              " 'he',\n",
              " 'him',\n",
              " 'his']"
            ]
          },
          "metadata": {},
          "execution_count": 14
        }
      ],
      "source": [
        "import nltk\n",
        "nltk.download(\"stopwords\")\n",
        "from nltk.corpus import stopwords\n",
        "\n",
        "stoplist = stopwords.words('english')\n",
        "# Посмотрим на некоторые слова\n",
        "stoplist[:20]"
      ]
    },
    {
      "cell_type": "code",
      "source": [
        "for word in stoplist:\n",
        "  del result[word]\n",
        "\n",
        "result.most_common(10)"
      ],
      "metadata": {
        "colab": {
          "base_uri": "https://localhost:8080/"
        },
        "id": "I-0SmrhHd-WP",
        "outputId": "9de13d21-535e-4447-a428-e42e146d92f2"
      },
      "execution_count": 15,
      "outputs": [
        {
          "output_type": "execute_result",
          "data": {
            "text/plain": [
              "[('#coronavirus', 8223),\n",
              " ('prices', 3891),\n",
              " ('food', 3820),\n",
              " ('grocery', 3469),\n",
              " ('supermarket', 3288),\n",
              " ('people', 3175),\n",
              " ('covid-19', 3173),\n",
              " ('store', 3155),\n",
              " ('#covid19', 2471),\n",
              " ('&amp;', 2314)]"
            ]
          },
          "metadata": {},
          "execution_count": 15
        }
      ]
    },
    {
      "cell_type": "markdown",
      "metadata": {
        "id": "LZH0x2Lzs-Dh"
      },
      "source": [
        "**Ответ:**  Можно заметить, что все предлоги и артикли исчезли из словаря, так как находились в стоп-списке английских слов."
      ]
    },
    {
      "cell_type": "markdown",
      "metadata": {
        "id": "TKSGRyI-uor0"
      },
      "source": [
        "Также выведите 20 самых непопулярных слов (если самых непопулярных слов больше выведите любые 20 из них) Почему эти токены непопулярны, требуется ли как-то дополнительно работать с ними?"
      ]
    },
    {
      "cell_type": "code",
      "execution_count": 16,
      "metadata": {
        "id": "moArbwfvun9t",
        "colab": {
          "base_uri": "https://localhost:8080/"
        },
        "outputId": "5b5e723a-6f69-4eb0-9b27-4813cf7895f0"
      },
      "outputs": [
        {
          "output_type": "execute_result",
          "data": {
            "text/plain": [
              "[('skellig', 1),\n",
              " ('coast!', 1),\n",
              " ('closer!)', 1),\n",
              " ('@skelligsix18', 1),\n",
              " ('#skelligcoast2kms', 1),\n",
              " ('#southkerry', 1),\n",
              " ('https://t.co/zjcl195vqs', 1),\n",
              " ('@srinivasiyc', 1),\n",
              " ('https://t.co/iaek4fwsgz', 1),\n",
              " ('premiership', 1),\n",
              " ('non-playing', 1),\n",
              " ('subsidise', 1),\n",
              " ('playersã\\x82â\\x92', 1),\n",
              " ('renewing', 1),\n",
              " ('wage!', 1),\n",
              " ('flew', 1),\n",
              " ('nothing...', 1),\n",
              " ('@torontopearson', 1),\n",
              " ('@680news', 1),\n",
              " ('https://t.co/7j2y3rsld9', 1)]"
            ]
          },
          "metadata": {},
          "execution_count": 16
        }
      ],
      "source": [
        "result.most_common()[-20::]"
      ]
    },
    {
      "cell_type": "markdown",
      "metadata": {
        "id": "uRp3J1gQunlR"
      },
      "source": [
        "**Ответ:** Среди данных слов есть слова (иногда странные) со знаками препинания, ссылки на другие твиты, слова с \"полетевшей кодировкой\" и линки на аккаунты разных людей, которые, очевидно, не так часто фигурируют в тексте твиттов. Стоит ли как-то работать с этими словами? На мой взгляд, если таких слов много (например, более 30% от общего количества слов), то их стоит игнорировать, поскольку они могут переобучить модель. Если подобных слов немного, можно пропробовать убрать все ссылки и численные значения, при этом оставить слова.\n"
      ]
    },
    {
      "cell_type": "markdown",
      "metadata": {
        "id": "wx9LQOSPzvjV"
      },
      "source": [
        "Теперь воспользуемся токенайзером получше - TweetTokenizer из библиотеки nltk. Примените его и посмотрите на топ-10 популярных слов. Чем он отличается от топа, который получался раньше? Почему?"
      ]
    },
    {
      "cell_type": "code",
      "execution_count": 17,
      "metadata": {
        "id": "2G1UkyVxzvFY",
        "colab": {
          "base_uri": "https://localhost:8080/"
        },
        "outputId": "995bcd59-c7b7-4e38-92ed-31f3b0826b54"
      },
      "outputs": [
        {
          "output_type": "execute_result",
          "data": {
            "text/plain": [
              "[('the', 26993),\n",
              " ('.', 24118),\n",
              " ('to', 23478),\n",
              " (',', 17571),\n",
              " ('and', 14825),\n",
              " ('of', 13044),\n",
              " ('a', 11891),\n",
              " ('in', 11348),\n",
              " ('?', 9524),\n",
              " ('#coronavirus', 8808)]"
            ]
          },
          "metadata": {},
          "execution_count": 17
        }
      ],
      "source": [
        "from nltk.tokenize import TweetTokenizer\n",
        "\n",
        "temp = []\n",
        "tweet_tokenizer = TweetTokenizer()\n",
        "for element in data:\n",
        "  temp.extend(tweet_tokenizer.tokenize(element))\n",
        "bag = Counter(temp)\n",
        "bag.most_common(10)"
      ]
    },
    {
      "cell_type": "markdown",
      "metadata": {
        "id": "50eVUnJN1Zxl"
      },
      "source": [
        "**Ответ:** В топ-10 слов добавились знаки препинания, которые до этого учитывались в качестве части слова (например, delays.). Знаки препинания важно учитывать, поскольку они могут влиять на эмоциональную окраску (например, !!! много восклицательных знаков придают тексту более агрессивный тон)"
      ]
    },
    {
      "cell_type": "markdown",
      "metadata": {
        "id": "1gqQgiMs11bs"
      },
      "source": [
        "Удалите из словаря стоп-слова и пунктуацию, посмотрите на новый топ-10 слов с количеством встреч, есть ли теперь в нем что-то не похожее на слова?"
      ]
    },
    {
      "cell_type": "code",
      "execution_count": 18,
      "metadata": {
        "id": "0yHWdFrp0Mup",
        "colab": {
          "base_uri": "https://localhost:8080/"
        },
        "outputId": "4e5a67e3-2504-40bf-cda7-bc92346e83ba"
      },
      "outputs": [
        {
          "output_type": "execute_result",
          "data": {
            "text/plain": [
              "[('#coronavirus', 8808),\n",
              " ('â', 7415),\n",
              " ('\\x82', 7311),\n",
              " ('19', 7167),\n",
              " ('covid', 6253),\n",
              " ('prices', 4601),\n",
              " ('\\x92', 4372),\n",
              " ('food', 4367),\n",
              " ('store', 3877),\n",
              " ('supermarket', 3805)]"
            ]
          },
          "metadata": {},
          "execution_count": 18
        }
      ],
      "source": [
        "from string import punctuation\n",
        "\n",
        "stoplist += list(punctuation)\n",
        "\n",
        "for word in stoplist:\n",
        "  del bag[word]\n",
        "\n",
        "bag.most_common(10)"
      ]
    },
    {
      "cell_type": "markdown",
      "metadata": {
        "id": "8ZJqXELP_Yxy"
      },
      "source": [
        "**Ответ:** есть последовательности вида /х.. , которые означают полетевшую кодировку определенных символов (например, некоторые люди используют красивые шрифты, которые могут не поддерживаться в Python - я сам столкнулся с этим во время выполнения курсового проекта), а также локализованные символы разных языков (а \"с крышкой\") и загадочное число 19. Остальные слова выглядят вполне прекрасно)"
      ]
    },
    {
      "cell_type": "markdown",
      "metadata": {
        "id": "rzXjMsSB_kXB"
      },
      "source": [
        "Удалите из словаря токены из одного символа, с позицией в таблице Unicode 128 и более (`ord(x) >= 128`)\n",
        "\n",
        "Выведите топ-10 самых популярных и топ-20 непопулярных слов. Чем полученные топы отличаются от итоговых топов, полученных при использовании токенизации по пробелам? Что теперь лучше, а что хуже?"
      ]
    },
    {
      "cell_type": "code",
      "execution_count": 19,
      "metadata": {
        "id": "1695hlkS_1-J",
        "colab": {
          "base_uri": "https://localhost:8080/"
        },
        "outputId": "9dce8e7d-1526-4100-ba0f-204bebc7f822"
      },
      "outputs": [
        {
          "output_type": "execute_result",
          "data": {
            "text/plain": [
              "[('#coronavirus', 8808),\n",
              " ('19', 7167),\n",
              " ('covid', 6253),\n",
              " ('prices', 4601),\n",
              " ('food', 4367),\n",
              " ('store', 3877),\n",
              " ('supermarket', 3805),\n",
              " ('grocery', 3523),\n",
              " ('people', 3463),\n",
              " ('#covid19', 2589)]"
            ]
          },
          "metadata": {},
          "execution_count": 19
        }
      ],
      "source": [
        "for order in range(128, 256):\n",
        "  del bag[chr(order)]\n",
        "bag.most_common(10)\n"
      ]
    },
    {
      "cell_type": "code",
      "source": [
        "bag.most_common()[-20::]"
      ],
      "metadata": {
        "colab": {
          "base_uri": "https://localhost:8080/"
        },
        "id": "iu3jSXZGkoGo",
        "outputId": "1cd0d38c-ca4d-4bcb-dea3-2b043a040255"
      },
      "execution_count": 20,
      "outputs": [
        {
          "output_type": "execute_result",
          "data": {
            "text/plain": [
              "[('https://t.co/lw1r0rm7xs', 1),\n",
              " ('https://t.co/5cbliqzx7l', 1),\n",
              " ('now.when', 1),\n",
              " ('milion', 1),\n",
              " ('skellig', 1),\n",
              " ('@skelligsix18', 1),\n",
              " ('#skelligcoast2kms', 1),\n",
              " ('#southkerry', 1),\n",
              " ('https://t.co/zjcl195vqs', 1),\n",
              " ('@srinivasiyc', 1),\n",
              " ('https://t.co/iaek4fwsgz', 1),\n",
              " ('premiership', 1),\n",
              " ('non-playing', 1),\n",
              " ('subsidise', 1),\n",
              " ('playersã', 1),\n",
              " ('renewing', 1),\n",
              " ('flew', 1),\n",
              " ('@torontopearson', 1),\n",
              " ('@680news', 1),\n",
              " ('https://t.co/7j2y3rsld9', 1)]"
            ]
          },
          "metadata": {},
          "execution_count": 20
        }
      ]
    },
    {
      "cell_type": "markdown",
      "metadata": {
        "id": "KzjHAKIlDvc6"
      },
      "source": [
        "**Ответ:** Топ-10 слов значительно улучшился: исчезли знаки препинания, символы с \"полетевшими\" кодировками. Вместо них появились слова со смысловой нагрузкой.\n",
        "\n",
        "Что касается анти-топа, то тут все осталось примерно таким же, но исчезли непонятные символы, но добавились новые ссылки на твиты и пользователей."
      ]
    },
    {
      "cell_type": "markdown",
      "metadata": {
        "id": "EcDf9_6HB2zm"
      },
      "source": [
        "Выведите топ-10 популярных хештегов с количеством встреч. Что можно сказать о них?"
      ]
    },
    {
      "cell_type": "code",
      "execution_count": 21,
      "metadata": {
        "id": "zk4fygCUBw3l",
        "colab": {
          "base_uri": "https://localhost:8080/"
        },
        "outputId": "40bd4347-a112-4b8e-ec75-bcc4fff4264c"
      },
      "outputs": [
        {
          "output_type": "execute_result",
          "data": {
            "text/plain": [
              "[('#coronavirus', 8808),\n",
              " ('#covid19', 2589),\n",
              " ('#covid_19', 1734),\n",
              " ('#covid2019', 946),\n",
              " ('#toiletpaper', 744),\n",
              " ('#covid', 641),\n",
              " ('#socialdistancing', 465),\n",
              " ('#coronacrisis', 448),\n",
              " ('#pandemic', 257),\n",
              " ('#coronaviruspandemic', 249)]"
            ]
          },
          "metadata": {},
          "execution_count": 21
        }
      ],
      "source": [
        "new_bag = Counter({key: bag[key] for key in bag.keys() if key.startswith('#')})\n",
        "new_bag.most_common(10)"
      ]
    },
    {
      "cell_type": "markdown",
      "metadata": {
        "id": "-6NeNWBkDxM7"
      },
      "source": [
        "**Ответ:** Все хэштеги посвящены теме пандемии, а также забавными явлениями того периода (например, когда люди раскупили всю туалетную бумагу в первые дни после объявления локдауна)"
      ]
    },
    {
      "cell_type": "markdown",
      "metadata": {
        "id": "LLYBg7caD5GA"
      },
      "source": [
        "То же самое проделайте для ссылок на сайт https://t.co Сравнима ли популярность ссылок с популярностью хештегов? Будет ли информация о ссылке на конкретную страницу полезна?"
      ]
    },
    {
      "cell_type": "code",
      "execution_count": 22,
      "metadata": {
        "id": "MXbm1oeaCK9S",
        "colab": {
          "base_uri": "https://localhost:8080/"
        },
        "outputId": "b3e07485-e05a-485e-95cb-36be0352f266"
      },
      "outputs": [
        {
          "output_type": "execute_result",
          "data": {
            "text/plain": [
              "[('https://t.co/oxa7swtond', 5),\n",
              " ('https://t.co/gp3eusapl8', 4),\n",
              " ('https://t.co/deftrui1pfã\\x82â', 3),\n",
              " ('https://t.co/wrlhyzizaa', 3),\n",
              " ('https://t.co/kuwipf1kqw', 3),\n",
              " ('https://t.co/zjnrx6dkkn', 3),\n",
              " ('https://t.co/3gbbdpdjat', 3),\n",
              " ('https://t.co/e2znxajpre', 3),\n",
              " ('https://t.co/catkegayoy', 3),\n",
              " ('https://t.co/g63rp042ho', 3)]"
            ]
          },
          "metadata": {},
          "execution_count": 22
        }
      ],
      "source": [
        "new_bag = Counter({key: bag[key] for key in bag.keys() if key.startswith('https://t.co')})\n",
        "new_bag.most_common(10)"
      ]
    },
    {
      "cell_type": "markdown",
      "metadata": {
        "id": "at6lRYZ8A07N"
      },
      "source": [
        "**Ответ:** У подобных ссылок популярность намного ниже, чем у хэштегов (у тэгов может быть 12000 упоминаний, а у ссылок максимум 5). Поэтому информация о ссылке на конкретную страницу не будет полезной при анализе эмоциональной окраски твитов. Однако (если заморочиться и спарсить твиттер по ссылкам), то можно при токенизации добавить информацию о каждом твите, на который ссылается текущий."
      ]
    },
    {
      "cell_type": "markdown",
      "metadata": {
        "id": "IOGdUU1kBU1D"
      },
      "source": [
        "Используем опыт предыдущих экспериментов и напишем собственный токенайзер, улучшив TweetTokenizer. Функция tokenize должна:\n",
        "\n",
        "\n",
        "\n",
        "*   Привести текст в нижний регистр\n",
        "*   Применить TweetTokenizer для изначального выделения токенов\n",
        "*   Удалить стоп-слова, пунктуацию, токены из одного символа, с позицией в таблице Unicode 128 и более и ссылки на t.co\n",
        "\n"
      ]
    },
    {
      "cell_type": "code",
      "execution_count": 23,
      "metadata": {
        "id": "ctEsB6xkFrrK"
      },
      "outputs": [],
      "source": [
        "# Будем считать, что пользователь уже импортировал необходимые библиотеки выше\n",
        "def custom_tokenizer(text):\n",
        "  text = text.lower()\n",
        "  tweet_tokenizer = TweetTokenizer()\n",
        "  tokens = tweet_tokenizer.tokenize(text)\n",
        "  stoplist = stopwords.words('english') + list(punctuation)\n",
        "  return [i for i in tokens if i not in stoplist and all(ord(ch) < 128 for ch in i if len(i) == 1) and not i.startswith('https://t.co')]\n"
      ]
    },
    {
      "cell_type": "code",
      "execution_count": 24,
      "metadata": {
        "colab": {
          "base_uri": "https://localhost:8080/"
        },
        "id": "XwbgtYkJGYym",
        "outputId": "3137b737-5483-46a2-fae1-1a86902f679f"
      },
      "outputs": [
        {
          "output_type": "execute_result",
          "data": {
            "text/plain": [
              "['sample', 'text', '@sample_text', '#sampletext']"
            ]
          },
          "metadata": {},
          "execution_count": 24
        }
      ],
      "source": [
        "custom_tokenizer('This is sample text!!!! @Sample_text I, \\x92\\x92 https://t.co/sample  #sampletext')"
      ]
    },
    {
      "cell_type": "markdown",
      "metadata": {
        "id": "wURVABmXHk97"
      },
      "source": [
        "## Задание 3 Векторизация текстов (2 балла)"
      ]
    },
    {
      "cell_type": "markdown",
      "metadata": {
        "id": "H44iXkoHIQfN"
      },
      "source": [
        "Обучите CountVectorizer с использованием custom_tokenizer в качестве токенайзера. Как размер полученного словаря соотносится с размером изначального словаря из начала задания 2?"
      ]
    },
    {
      "cell_type": "code",
      "source": [
        "from sklearn.feature_extraction.text import CountVectorizer\n",
        "\n",
        "cv = CountVectorizer(tokenizer=custom_tokenizer)\n",
        "cv.fit(train['OriginalTweet'])\n",
        "print(len(cv.vocabulary_))"
      ],
      "metadata": {
        "colab": {
          "base_uri": "https://localhost:8080/"
        },
        "id": "gHn_limQl3BI",
        "outputId": "0a17f835-adc2-4c9d-f35e-e7d86f4f2232"
      },
      "execution_count": 25,
      "outputs": [
        {
          "output_type": "stream",
          "name": "stderr",
          "text": [
            "/usr/local/lib/python3.10/dist-packages/sklearn/feature_extraction/text.py:528: UserWarning: The parameter 'token_pattern' will not be used since 'tokenizer' is not None'\n",
            "  warnings.warn(\n"
          ]
        },
        {
          "output_type": "stream",
          "name": "stdout",
          "text": [
            "45308\n"
          ]
        }
      ]
    },
    {
      "cell_type": "markdown",
      "metadata": {
        "id": "gsfmaSGoItUm"
      },
      "source": [
        "**Ответ:** Размер словаря уменьшился в 1.31 раз за счет более качественной токенизации."
      ]
    },
    {
      "cell_type": "code",
      "source": [
        "print(len(bag) / len(cv.vocabulary_))"
      ],
      "metadata": {
        "colab": {
          "base_uri": "https://localhost:8080/"
        },
        "id": "nbREu_Om68kO",
        "outputId": "d747347e-b39b-4896-ee15-c66ee9261f51"
      },
      "execution_count": 26,
      "outputs": [
        {
          "output_type": "stream",
          "name": "stdout",
          "text": [
            "1.2824446013948971\n"
          ]
        }
      ]
    },
    {
      "cell_type": "markdown",
      "metadata": {
        "id": "lm6UHNmqKZT0"
      },
      "source": [
        "Посмотрим на какой-нибудь конкретный твитт:"
      ]
    },
    {
      "cell_type": "code",
      "execution_count": 27,
      "metadata": {
        "id": "aJVjjfqOJh8m",
        "colab": {
          "base_uri": "https://localhost:8080/"
        },
        "outputId": "0e593f01-630d-4c40-da6b-48b601cf145e"
      },
      "outputs": [
        {
          "output_type": "execute_result",
          "data": {
            "text/plain": [
              "('Nice one @SkyNews lets not panic but show ppl in france queueing for food!!! #CoronavirusOutbreak #COVID2019 brainless!! Ffs',\n",
              " 0)"
            ]
          },
          "metadata": {},
          "execution_count": 27
        }
      ],
      "source": [
        "ind = 9023\n",
        "train.iloc[ind]['OriginalTweet'], train.iloc[ind]['Sentiment']"
      ]
    },
    {
      "cell_type": "markdown",
      "metadata": {
        "id": "PBMIHBI5KdaS"
      },
      "source": [
        "Автор твитта не доволен ситуацией с едой во Франции и текст имеет резко негативную окраску.\n",
        "\n",
        "Примените обученный CountVectorizer для векторизации данного текста, и попытайтесь определить самый важный токен и самый неважный токен (токен, компонента которого в векторе максимальна/минимальна, без учета 0). Хорошо ли они определились, почему?"
      ]
    },
    {
      "cell_type": "code",
      "execution_count": 28,
      "metadata": {
        "id": "7NcAllaEKsJj",
        "colab": {
          "base_uri": "https://localhost:8080/"
        },
        "outputId": "cd42de60-262c-4c6e-a01a-bcb70114219a"
      },
      "outputs": [
        {
          "output_type": "stream",
          "name": "stdout",
          "text": [
            "most important: #coronavirusoutbreak\n",
            "least important: ###covid-19\n"
          ]
        }
      ],
      "source": [
        "tweet_9023 = cv.transform([train.iloc[ind]['OriginalTweet']])\n",
        "feat = cv.get_feature_names_out()\n",
        "# Получили вектор-строку (матрицу) с некоторыми числами, показывающими значимость токена.\n",
        "# Надо найти максимальное и минимальное ненулевое значение\n",
        "maxx = np.argmax(tweet_9023)\n",
        "# Тут использовал статью https://stackoverflow.com/questions/45002848/how-to-find-index-of-minimum-non-zero-element-with-numpy\n",
        "minn = np.argmin(tweet_9023[np.nonzero(tweet_9023)])\n",
        "\n",
        "most_token = feat[maxx]\n",
        "least_token = feat[minn]\n",
        "print(f'most important: {most_token}\\nleast important: {least_token}')"
      ]
    },
    {
      "cell_type": "markdown",
      "metadata": {
        "id": "TpEsl1k_NF4T"
      },
      "source": [
        "**Ответ:** Токены определились не сильно хорошо, поскольку это тэги о коронавирусе, которые не имеют никакой эмоциональной окраски. По самому важному токену нельзя определить, положительный ли твит или отрицательный."
      ]
    },
    {
      "cell_type": "markdown",
      "metadata": {
        "id": "w4DsEQpLO3J6"
      },
      "source": [
        "Теперь примените TfidfVectorizer и  определите самый важный/неважный токены. Хорошо ли определились, почему?"
      ]
    },
    {
      "cell_type": "code",
      "execution_count": 29,
      "metadata": {
        "id": "uSNzdK3ENGB3",
        "colab": {
          "base_uri": "https://localhost:8080/"
        },
        "outputId": "8fe46728-d214-46e4-ebbb-b20b8ce778b3"
      },
      "outputs": [
        {
          "output_type": "stream",
          "name": "stdout",
          "text": [
            "45308\n"
          ]
        }
      ],
      "source": [
        "from sklearn.feature_extraction.text import TfidfVectorizer\n",
        "tv = TfidfVectorizer(tokenizer=custom_tokenizer)\n",
        "tv.fit(train['OriginalTweet'])\n",
        "print(len(tv.vocabulary_))"
      ]
    },
    {
      "cell_type": "code",
      "source": [
        "tweet_9023_2 = tv.transform([train.iloc[ind]['OriginalTweet']])\n",
        "feat_2 = tv.get_feature_names_out()\n",
        "# Получили вектор-строку (матрицу) с некоторыми числами, показывающими значимость токена.\n",
        "# Надо найти максимальное и минимальное ненулевое значение\n",
        "maxx = np.argmax(tweet_9023_2)\n",
        "# Тут использовал статью https://stackoverflow.com/questions/45002848/how-to-find-index-of-minimum-non-zero-element-with-numpy\n",
        "minn = np.argmin(tweet_9023_2[np.nonzero(tweet_9023_2)])\n",
        "\n",
        "most_token = feat[maxx]\n",
        "least_token = feat[minn]\n",
        "print(f'most important: {most_token}\\nleast important: {least_token}')"
      ],
      "metadata": {
        "id": "yz__WqyrFh45",
        "colab": {
          "base_uri": "https://localhost:8080/"
        },
        "outputId": "e1812cae-b048-43e2-9221-4e35fe0ceb96"
      },
      "execution_count": 30,
      "outputs": [
        {
          "output_type": "stream",
          "name": "stdout",
          "text": [
            "most important: brainless\n",
            "least important: #100daysofcode\n"
          ]
        }
      ]
    },
    {
      "cell_type": "markdown",
      "metadata": {
        "id": "NYao_UhqQADm"
      },
      "source": [
        "**Ответ:** Мы получили самый важный токен - brainless, что переводится, как безмозглый и имеет явно негативный окрас. По этому можно предположить, что данный твитт окрашен негативно.\n",
        "\n",
        "Проверим:"
      ]
    },
    {
      "cell_type": "code",
      "source": [
        "train.iloc[ind]['Sentiment']"
      ],
      "metadata": {
        "colab": {
          "base_uri": "https://localhost:8080/"
        },
        "id": "BQA0gd2qGPLZ",
        "outputId": "c32bf77d-5861-44fa-a6c6-2656ffc0cd83"
      },
      "execution_count": 31,
      "outputs": [
        {
          "output_type": "execute_result",
          "data": {
            "text/plain": [
              "0"
            ]
          },
          "metadata": {},
          "execution_count": 31
        }
      ]
    },
    {
      "cell_type": "markdown",
      "source": [
        "Действительно, окрас негативный!"
      ],
      "metadata": {
        "id": "Ix5sKXOwGYL3"
      }
    },
    {
      "cell_type": "markdown",
      "metadata": {
        "id": "LGRJPqfWSesQ"
      },
      "source": [
        "Найдите какой-нибудь положительно окрашенный твитт, где TfidfVectorizer хорошо (полезно для определения окраски) выделяет важный токен, поясните пример.\n",
        "\n",
        "*Подсказка:* явно положительные твитты можно искать при помощи положительных слов (good, great, amazing и т. д.)"
      ]
    },
    {
      "cell_type": "code",
      "execution_count": 32,
      "metadata": {
        "id": "bRbQ2CHiSuJI",
        "colab": {
          "base_uri": "https://localhost:8080/",
          "height": 833
        },
        "outputId": "f8fbe4f6-e930-40c5-a9df-80b9f5638b86"
      },
      "outputs": [
        {
          "output_type": "execute_result",
          "data": {
            "text/plain": [
              "       UserName  ScreenName                                     Location  \\\n",
              "22856     31728       76680                                      Nigeria   \n",
              "19861     28001       72953                                      Unknown   \n",
              "5632      10641       55593                             Baku, Azerbaijan   \n",
              "13832     20591       65543                                        India   \n",
              "11479     17716       62668                               Leeds, England   \n",
              "13427     20092       65044                https://www.facebook.com/Pete   \n",
              "26294     36006       80958                                   Canada ???   \n",
              "21452     29968       74920  California was Mexico for over 2 centuries.   \n",
              "31181     42155       87107                                         Pune   \n",
              "29791     40374       85326                                  Chicago, IL   \n",
              "30078     40747       85699                                      Unknown   \n",
              "14670     21630       66582                                      Unknown   \n",
              "13745     20481       65433                                 Poland/India   \n",
              "13800     20550       65502                                      Germany   \n",
              "12495     18947       63899                                      Unknown   \n",
              "8767      14452       59404                                 New York, NY   \n",
              "28224     38411       83363                           Marylebone, London   \n",
              "15870     23094       68046                            Oklahoma City, OK   \n",
              "24583     33878       78830                              London, England   \n",
              "27616     37658       82610                       United Kingdom, London   \n",
              "32473     43738       88690                              London, England   \n",
              "15198     22300       67252                                San Francisco   \n",
              "22092     30783       75735                                      Unknown   \n",
              "11382     17603       62555                            Greenwich, London   \n",
              "22578     31390       76342                                      Unknown   \n",
              "\n",
              "          TweetAt                                      OriginalTweet  \\\n",
              "22856  04-04-2020  Hello beautiful people we have the perfect jew...   \n",
              "19861  26-03-2020  Yup Modi Govt is so beautiful that it increase...   \n",
              "5632   19-03-2020  I have very little money and a year of researc...   \n",
              "13832  22-03-2020  Thanks Govt for the beautiful step to lockdown...   \n",
              "11479  21-03-2020  ItÃÂs 6am on a Saturday morning and IÃÂm i...   \n",
              "13427  22-03-2020  Hi everyone I hope you are all having a great ...   \n",
              "26294  07-04-2020  ? Join me on a beautiful drive I took up the N...   \n",
              "21452  02-04-2020  #coronavirus\\r\\r\\n\\r\\r\\nLife is beautiful. Con...   \n",
              "31181  11-04-2020  Telemedicine and telepathy combined is a beaut...   \n",
              "29791  09-04-2020  Clean, paint, sanitize ???\\r\\r\\n.\\r\\r\\n.\\r\\r\\n...   \n",
              "30078  10-04-2020  We are out enforcing the legislation that has ...   \n",
              "14670  23-03-2020  ??? MEMORIES; I can smile happy your days (I c...   \n",
              "13745  22-03-2020  It was beautiful as expected from an ancient c...   \n",
              "13800  22-03-2020  How beautiful the way to the supermarket can b...   \n",
              "12495  22-03-2020  Get this beautiful thing with #Shpock app: htt...   \n",
              "8767   20-03-2020  One of the #coronavirus's first #retail casual...   \n",
              "28224  08-04-2020  For the month of April, @kasturjewels will be ...   \n",
              "15870  24-03-2020  Bon Dia   While walking to the supermarket a f...   \n",
              "24583  06-04-2020  Looking forward to that beautiful day in the f...   \n",
              "27616  08-04-2020  Introducing Studio Store! \\r\\r\\n\\r\\r\\nGet your...   \n",
              "32473  13-04-2020  On route to my local supermarket SainsburyÃÂ...   \n",
              "15198  23-03-2020  @PeterEgan6 Hi Peter, lovely to see your beaut...   \n",
              "22092  02-04-2020  Fifteenth day of confinement due to #coronavir...   \n",
              "11382  21-03-2020  Back in Blighty and wow how things have change...   \n",
              "22578  03-04-2020  This is my beautiful, kind, funny niece, Megan...   \n",
              "\n",
              "       Sentiment  \n",
              "22856          1  \n",
              "19861          1  \n",
              "5632           1  \n",
              "13832          1  \n",
              "11479          1  \n",
              "13427          1  \n",
              "26294          1  \n",
              "21452          1  \n",
              "31181          1  \n",
              "29791          1  \n",
              "30078          1  \n",
              "14670          1  \n",
              "13745          1  \n",
              "13800          1  \n",
              "12495          1  \n",
              "8767           1  \n",
              "28224          1  \n",
              "15870          1  \n",
              "24583          1  \n",
              "27616          1  \n",
              "32473          1  \n",
              "15198          1  \n",
              "22092          1  \n",
              "11382          1  \n",
              "22578          1  "
            ],
            "text/html": [
              "\n",
              "  <div id=\"df-35260924-0106-4cd6-852e-d1e3a1926c8b\" class=\"colab-df-container\">\n",
              "    <div>\n",
              "<style scoped>\n",
              "    .dataframe tbody tr th:only-of-type {\n",
              "        vertical-align: middle;\n",
              "    }\n",
              "\n",
              "    .dataframe tbody tr th {\n",
              "        vertical-align: top;\n",
              "    }\n",
              "\n",
              "    .dataframe thead th {\n",
              "        text-align: right;\n",
              "    }\n",
              "</style>\n",
              "<table border=\"1\" class=\"dataframe\">\n",
              "  <thead>\n",
              "    <tr style=\"text-align: right;\">\n",
              "      <th></th>\n",
              "      <th>UserName</th>\n",
              "      <th>ScreenName</th>\n",
              "      <th>Location</th>\n",
              "      <th>TweetAt</th>\n",
              "      <th>OriginalTweet</th>\n",
              "      <th>Sentiment</th>\n",
              "    </tr>\n",
              "  </thead>\n",
              "  <tbody>\n",
              "    <tr>\n",
              "      <th>22856</th>\n",
              "      <td>31728</td>\n",
              "      <td>76680</td>\n",
              "      <td>Nigeria</td>\n",
              "      <td>04-04-2020</td>\n",
              "      <td>Hello beautiful people we have the perfect jew...</td>\n",
              "      <td>1</td>\n",
              "    </tr>\n",
              "    <tr>\n",
              "      <th>19861</th>\n",
              "      <td>28001</td>\n",
              "      <td>72953</td>\n",
              "      <td>Unknown</td>\n",
              "      <td>26-03-2020</td>\n",
              "      <td>Yup Modi Govt is so beautiful that it increase...</td>\n",
              "      <td>1</td>\n",
              "    </tr>\n",
              "    <tr>\n",
              "      <th>5632</th>\n",
              "      <td>10641</td>\n",
              "      <td>55593</td>\n",
              "      <td>Baku, Azerbaijan</td>\n",
              "      <td>19-03-2020</td>\n",
              "      <td>I have very little money and a year of researc...</td>\n",
              "      <td>1</td>\n",
              "    </tr>\n",
              "    <tr>\n",
              "      <th>13832</th>\n",
              "      <td>20591</td>\n",
              "      <td>65543</td>\n",
              "      <td>India</td>\n",
              "      <td>22-03-2020</td>\n",
              "      <td>Thanks Govt for the beautiful step to lockdown...</td>\n",
              "      <td>1</td>\n",
              "    </tr>\n",
              "    <tr>\n",
              "      <th>11479</th>\n",
              "      <td>17716</td>\n",
              "      <td>62668</td>\n",
              "      <td>Leeds, England</td>\n",
              "      <td>21-03-2020</td>\n",
              "      <td>ItÃÂs 6am on a Saturday morning and IÃÂm i...</td>\n",
              "      <td>1</td>\n",
              "    </tr>\n",
              "    <tr>\n",
              "      <th>13427</th>\n",
              "      <td>20092</td>\n",
              "      <td>65044</td>\n",
              "      <td>https://www.facebook.com/Pete</td>\n",
              "      <td>22-03-2020</td>\n",
              "      <td>Hi everyone I hope you are all having a great ...</td>\n",
              "      <td>1</td>\n",
              "    </tr>\n",
              "    <tr>\n",
              "      <th>26294</th>\n",
              "      <td>36006</td>\n",
              "      <td>80958</td>\n",
              "      <td>Canada ???</td>\n",
              "      <td>07-04-2020</td>\n",
              "      <td>? Join me on a beautiful drive I took up the N...</td>\n",
              "      <td>1</td>\n",
              "    </tr>\n",
              "    <tr>\n",
              "      <th>21452</th>\n",
              "      <td>29968</td>\n",
              "      <td>74920</td>\n",
              "      <td>California was Mexico for over 2 centuries.</td>\n",
              "      <td>02-04-2020</td>\n",
              "      <td>#coronavirus\\r\\r\\n\\r\\r\\nLife is beautiful. Con...</td>\n",
              "      <td>1</td>\n",
              "    </tr>\n",
              "    <tr>\n",
              "      <th>31181</th>\n",
              "      <td>42155</td>\n",
              "      <td>87107</td>\n",
              "      <td>Pune</td>\n",
              "      <td>11-04-2020</td>\n",
              "      <td>Telemedicine and telepathy combined is a beaut...</td>\n",
              "      <td>1</td>\n",
              "    </tr>\n",
              "    <tr>\n",
              "      <th>29791</th>\n",
              "      <td>40374</td>\n",
              "      <td>85326</td>\n",
              "      <td>Chicago, IL</td>\n",
              "      <td>09-04-2020</td>\n",
              "      <td>Clean, paint, sanitize ???\\r\\r\\n.\\r\\r\\n.\\r\\r\\n...</td>\n",
              "      <td>1</td>\n",
              "    </tr>\n",
              "    <tr>\n",
              "      <th>30078</th>\n",
              "      <td>40747</td>\n",
              "      <td>85699</td>\n",
              "      <td>Unknown</td>\n",
              "      <td>10-04-2020</td>\n",
              "      <td>We are out enforcing the legislation that has ...</td>\n",
              "      <td>1</td>\n",
              "    </tr>\n",
              "    <tr>\n",
              "      <th>14670</th>\n",
              "      <td>21630</td>\n",
              "      <td>66582</td>\n",
              "      <td>Unknown</td>\n",
              "      <td>23-03-2020</td>\n",
              "      <td>??? MEMORIES; I can smile happy your days (I c...</td>\n",
              "      <td>1</td>\n",
              "    </tr>\n",
              "    <tr>\n",
              "      <th>13745</th>\n",
              "      <td>20481</td>\n",
              "      <td>65433</td>\n",
              "      <td>Poland/India</td>\n",
              "      <td>22-03-2020</td>\n",
              "      <td>It was beautiful as expected from an ancient c...</td>\n",
              "      <td>1</td>\n",
              "    </tr>\n",
              "    <tr>\n",
              "      <th>13800</th>\n",
              "      <td>20550</td>\n",
              "      <td>65502</td>\n",
              "      <td>Germany</td>\n",
              "      <td>22-03-2020</td>\n",
              "      <td>How beautiful the way to the supermarket can b...</td>\n",
              "      <td>1</td>\n",
              "    </tr>\n",
              "    <tr>\n",
              "      <th>12495</th>\n",
              "      <td>18947</td>\n",
              "      <td>63899</td>\n",
              "      <td>Unknown</td>\n",
              "      <td>22-03-2020</td>\n",
              "      <td>Get this beautiful thing with #Shpock app: htt...</td>\n",
              "      <td>1</td>\n",
              "    </tr>\n",
              "    <tr>\n",
              "      <th>8767</th>\n",
              "      <td>14452</td>\n",
              "      <td>59404</td>\n",
              "      <td>New York, NY</td>\n",
              "      <td>20-03-2020</td>\n",
              "      <td>One of the #coronavirus's first #retail casual...</td>\n",
              "      <td>1</td>\n",
              "    </tr>\n",
              "    <tr>\n",
              "      <th>28224</th>\n",
              "      <td>38411</td>\n",
              "      <td>83363</td>\n",
              "      <td>Marylebone, London</td>\n",
              "      <td>08-04-2020</td>\n",
              "      <td>For the month of April, @kasturjewels will be ...</td>\n",
              "      <td>1</td>\n",
              "    </tr>\n",
              "    <tr>\n",
              "      <th>15870</th>\n",
              "      <td>23094</td>\n",
              "      <td>68046</td>\n",
              "      <td>Oklahoma City, OK</td>\n",
              "      <td>24-03-2020</td>\n",
              "      <td>Bon Dia   While walking to the supermarket a f...</td>\n",
              "      <td>1</td>\n",
              "    </tr>\n",
              "    <tr>\n",
              "      <th>24583</th>\n",
              "      <td>33878</td>\n",
              "      <td>78830</td>\n",
              "      <td>London, England</td>\n",
              "      <td>06-04-2020</td>\n",
              "      <td>Looking forward to that beautiful day in the f...</td>\n",
              "      <td>1</td>\n",
              "    </tr>\n",
              "    <tr>\n",
              "      <th>27616</th>\n",
              "      <td>37658</td>\n",
              "      <td>82610</td>\n",
              "      <td>United Kingdom, London</td>\n",
              "      <td>08-04-2020</td>\n",
              "      <td>Introducing Studio Store! \\r\\r\\n\\r\\r\\nGet your...</td>\n",
              "      <td>1</td>\n",
              "    </tr>\n",
              "    <tr>\n",
              "      <th>32473</th>\n",
              "      <td>43738</td>\n",
              "      <td>88690</td>\n",
              "      <td>London, England</td>\n",
              "      <td>13-04-2020</td>\n",
              "      <td>On route to my local supermarket SainsburyÃÂ...</td>\n",
              "      <td>1</td>\n",
              "    </tr>\n",
              "    <tr>\n",
              "      <th>15198</th>\n",
              "      <td>22300</td>\n",
              "      <td>67252</td>\n",
              "      <td>San Francisco</td>\n",
              "      <td>23-03-2020</td>\n",
              "      <td>@PeterEgan6 Hi Peter, lovely to see your beaut...</td>\n",
              "      <td>1</td>\n",
              "    </tr>\n",
              "    <tr>\n",
              "      <th>22092</th>\n",
              "      <td>30783</td>\n",
              "      <td>75735</td>\n",
              "      <td>Unknown</td>\n",
              "      <td>02-04-2020</td>\n",
              "      <td>Fifteenth day of confinement due to #coronavir...</td>\n",
              "      <td>1</td>\n",
              "    </tr>\n",
              "    <tr>\n",
              "      <th>11382</th>\n",
              "      <td>17603</td>\n",
              "      <td>62555</td>\n",
              "      <td>Greenwich, London</td>\n",
              "      <td>21-03-2020</td>\n",
              "      <td>Back in Blighty and wow how things have change...</td>\n",
              "      <td>1</td>\n",
              "    </tr>\n",
              "    <tr>\n",
              "      <th>22578</th>\n",
              "      <td>31390</td>\n",
              "      <td>76342</td>\n",
              "      <td>Unknown</td>\n",
              "      <td>03-04-2020</td>\n",
              "      <td>This is my beautiful, kind, funny niece, Megan...</td>\n",
              "      <td>1</td>\n",
              "    </tr>\n",
              "  </tbody>\n",
              "</table>\n",
              "</div>\n",
              "    <div class=\"colab-df-buttons\">\n",
              "\n",
              "  <div class=\"colab-df-container\">\n",
              "    <button class=\"colab-df-convert\" onclick=\"convertToInteractive('df-35260924-0106-4cd6-852e-d1e3a1926c8b')\"\n",
              "            title=\"Convert this dataframe to an interactive table.\"\n",
              "            style=\"display:none;\">\n",
              "\n",
              "  <svg xmlns=\"http://www.w3.org/2000/svg\" height=\"24px\" viewBox=\"0 -960 960 960\">\n",
              "    <path d=\"M120-120v-720h720v720H120Zm60-500h600v-160H180v160Zm220 220h160v-160H400v160Zm0 220h160v-160H400v160ZM180-400h160v-160H180v160Zm440 0h160v-160H620v160ZM180-180h160v-160H180v160Zm440 0h160v-160H620v160Z\"/>\n",
              "  </svg>\n",
              "    </button>\n",
              "\n",
              "  <style>\n",
              "    .colab-df-container {\n",
              "      display:flex;\n",
              "      gap: 12px;\n",
              "    }\n",
              "\n",
              "    .colab-df-convert {\n",
              "      background-color: #E8F0FE;\n",
              "      border: none;\n",
              "      border-radius: 50%;\n",
              "      cursor: pointer;\n",
              "      display: none;\n",
              "      fill: #1967D2;\n",
              "      height: 32px;\n",
              "      padding: 0 0 0 0;\n",
              "      width: 32px;\n",
              "    }\n",
              "\n",
              "    .colab-df-convert:hover {\n",
              "      background-color: #E2EBFA;\n",
              "      box-shadow: 0px 1px 2px rgba(60, 64, 67, 0.3), 0px 1px 3px 1px rgba(60, 64, 67, 0.15);\n",
              "      fill: #174EA6;\n",
              "    }\n",
              "\n",
              "    .colab-df-buttons div {\n",
              "      margin-bottom: 4px;\n",
              "    }\n",
              "\n",
              "    [theme=dark] .colab-df-convert {\n",
              "      background-color: #3B4455;\n",
              "      fill: #D2E3FC;\n",
              "    }\n",
              "\n",
              "    [theme=dark] .colab-df-convert:hover {\n",
              "      background-color: #434B5C;\n",
              "      box-shadow: 0px 1px 3px 1px rgba(0, 0, 0, 0.15);\n",
              "      filter: drop-shadow(0px 1px 2px rgba(0, 0, 0, 0.3));\n",
              "      fill: #FFFFFF;\n",
              "    }\n",
              "  </style>\n",
              "\n",
              "    <script>\n",
              "      const buttonEl =\n",
              "        document.querySelector('#df-35260924-0106-4cd6-852e-d1e3a1926c8b button.colab-df-convert');\n",
              "      buttonEl.style.display =\n",
              "        google.colab.kernel.accessAllowed ? 'block' : 'none';\n",
              "\n",
              "      async function convertToInteractive(key) {\n",
              "        const element = document.querySelector('#df-35260924-0106-4cd6-852e-d1e3a1926c8b');\n",
              "        const dataTable =\n",
              "          await google.colab.kernel.invokeFunction('convertToInteractive',\n",
              "                                                    [key], {});\n",
              "        if (!dataTable) return;\n",
              "\n",
              "        const docLinkHtml = 'Like what you see? Visit the ' +\n",
              "          '<a target=\"_blank\" href=https://colab.research.google.com/notebooks/data_table.ipynb>data table notebook</a>'\n",
              "          + ' to learn more about interactive tables.';\n",
              "        element.innerHTML = '';\n",
              "        dataTable['output_type'] = 'display_data';\n",
              "        await google.colab.output.renderOutput(dataTable, element);\n",
              "        const docLink = document.createElement('div');\n",
              "        docLink.innerHTML = docLinkHtml;\n",
              "        element.appendChild(docLink);\n",
              "      }\n",
              "    </script>\n",
              "  </div>\n",
              "\n",
              "\n",
              "<div id=\"df-653d0d03-8571-4254-b429-b0f59504398f\">\n",
              "  <button class=\"colab-df-quickchart\" onclick=\"quickchart('df-653d0d03-8571-4254-b429-b0f59504398f')\"\n",
              "            title=\"Suggest charts\"\n",
              "            style=\"display:none;\">\n",
              "\n",
              "<svg xmlns=\"http://www.w3.org/2000/svg\" height=\"24px\"viewBox=\"0 0 24 24\"\n",
              "     width=\"24px\">\n",
              "    <g>\n",
              "        <path d=\"M19 3H5c-1.1 0-2 .9-2 2v14c0 1.1.9 2 2 2h14c1.1 0 2-.9 2-2V5c0-1.1-.9-2-2-2zM9 17H7v-7h2v7zm4 0h-2V7h2v10zm4 0h-2v-4h2v4z\"/>\n",
              "    </g>\n",
              "</svg>\n",
              "  </button>\n",
              "\n",
              "<style>\n",
              "  .colab-df-quickchart {\n",
              "      --bg-color: #E8F0FE;\n",
              "      --fill-color: #1967D2;\n",
              "      --hover-bg-color: #E2EBFA;\n",
              "      --hover-fill-color: #174EA6;\n",
              "      --disabled-fill-color: #AAA;\n",
              "      --disabled-bg-color: #DDD;\n",
              "  }\n",
              "\n",
              "  [theme=dark] .colab-df-quickchart {\n",
              "      --bg-color: #3B4455;\n",
              "      --fill-color: #D2E3FC;\n",
              "      --hover-bg-color: #434B5C;\n",
              "      --hover-fill-color: #FFFFFF;\n",
              "      --disabled-bg-color: #3B4455;\n",
              "      --disabled-fill-color: #666;\n",
              "  }\n",
              "\n",
              "  .colab-df-quickchart {\n",
              "    background-color: var(--bg-color);\n",
              "    border: none;\n",
              "    border-radius: 50%;\n",
              "    cursor: pointer;\n",
              "    display: none;\n",
              "    fill: var(--fill-color);\n",
              "    height: 32px;\n",
              "    padding: 0;\n",
              "    width: 32px;\n",
              "  }\n",
              "\n",
              "  .colab-df-quickchart:hover {\n",
              "    background-color: var(--hover-bg-color);\n",
              "    box-shadow: 0 1px 2px rgba(60, 64, 67, 0.3), 0 1px 3px 1px rgba(60, 64, 67, 0.15);\n",
              "    fill: var(--button-hover-fill-color);\n",
              "  }\n",
              "\n",
              "  .colab-df-quickchart-complete:disabled,\n",
              "  .colab-df-quickchart-complete:disabled:hover {\n",
              "    background-color: var(--disabled-bg-color);\n",
              "    fill: var(--disabled-fill-color);\n",
              "    box-shadow: none;\n",
              "  }\n",
              "\n",
              "  .colab-df-spinner {\n",
              "    border: 2px solid var(--fill-color);\n",
              "    border-color: transparent;\n",
              "    border-bottom-color: var(--fill-color);\n",
              "    animation:\n",
              "      spin 1s steps(1) infinite;\n",
              "  }\n",
              "\n",
              "  @keyframes spin {\n",
              "    0% {\n",
              "      border-color: transparent;\n",
              "      border-bottom-color: var(--fill-color);\n",
              "      border-left-color: var(--fill-color);\n",
              "    }\n",
              "    20% {\n",
              "      border-color: transparent;\n",
              "      border-left-color: var(--fill-color);\n",
              "      border-top-color: var(--fill-color);\n",
              "    }\n",
              "    30% {\n",
              "      border-color: transparent;\n",
              "      border-left-color: var(--fill-color);\n",
              "      border-top-color: var(--fill-color);\n",
              "      border-right-color: var(--fill-color);\n",
              "    }\n",
              "    40% {\n",
              "      border-color: transparent;\n",
              "      border-right-color: var(--fill-color);\n",
              "      border-top-color: var(--fill-color);\n",
              "    }\n",
              "    60% {\n",
              "      border-color: transparent;\n",
              "      border-right-color: var(--fill-color);\n",
              "    }\n",
              "    80% {\n",
              "      border-color: transparent;\n",
              "      border-right-color: var(--fill-color);\n",
              "      border-bottom-color: var(--fill-color);\n",
              "    }\n",
              "    90% {\n",
              "      border-color: transparent;\n",
              "      border-bottom-color: var(--fill-color);\n",
              "    }\n",
              "  }\n",
              "</style>\n",
              "\n",
              "  <script>\n",
              "    async function quickchart(key) {\n",
              "      const quickchartButtonEl =\n",
              "        document.querySelector('#' + key + ' button');\n",
              "      quickchartButtonEl.disabled = true;  // To prevent multiple clicks.\n",
              "      quickchartButtonEl.classList.add('colab-df-spinner');\n",
              "      try {\n",
              "        const charts = await google.colab.kernel.invokeFunction(\n",
              "            'suggestCharts', [key], {});\n",
              "      } catch (error) {\n",
              "        console.error('Error during call to suggestCharts:', error);\n",
              "      }\n",
              "      quickchartButtonEl.classList.remove('colab-df-spinner');\n",
              "      quickchartButtonEl.classList.add('colab-df-quickchart-complete');\n",
              "    }\n",
              "    (() => {\n",
              "      let quickchartButtonEl =\n",
              "        document.querySelector('#df-653d0d03-8571-4254-b429-b0f59504398f button');\n",
              "      quickchartButtonEl.style.display =\n",
              "        google.colab.kernel.accessAllowed ? 'block' : 'none';\n",
              "    })();\n",
              "  </script>\n",
              "</div>\n",
              "    </div>\n",
              "  </div>\n"
            ],
            "application/vnd.google.colaboratory.intrinsic+json": {
              "type": "dataframe",
              "summary": "{\n  \"name\": \"train[train['OriginalTweet']\",\n  \"rows\": 25,\n  \"fields\": [\n    {\n      \"column\": \"UserName\",\n      \"properties\": {\n        \"dtype\": \"number\",\n        \"std\": 9587,\n        \"min\": 10641,\n        \"max\": 43738,\n        \"num_unique_values\": 25,\n        \"samples\": [\n          42155,\n          38411,\n          31728\n        ],\n        \"semantic_type\": \"\",\n        \"description\": \"\"\n      }\n    },\n    {\n      \"column\": \"ScreenName\",\n      \"properties\": {\n        \"dtype\": \"number\",\n        \"std\": 9587,\n        \"min\": 55593,\n        \"max\": 88690,\n        \"num_unique_values\": 25,\n        \"samples\": [\n          87107,\n          83363,\n          76680\n        ],\n        \"semantic_type\": \"\",\n        \"description\": \"\"\n      }\n    },\n    {\n      \"column\": \"Location\",\n      \"properties\": {\n        \"dtype\": \"string\",\n        \"num_unique_values\": 19,\n        \"samples\": [\n          \"Nigeria\",\n          \"https://www.facebook.com/Pete\",\n          \"Germany\"\n        ],\n        \"semantic_type\": \"\",\n        \"description\": \"\"\n      }\n    },\n    {\n      \"column\": \"TweetAt\",\n      \"properties\": {\n        \"dtype\": \"string\",\n        \"num_unique_values\": 17,\n        \"samples\": [\n          \"04-04-2020\",\n          \"26-03-2020\",\n          \"07-04-2020\"\n        ],\n        \"semantic_type\": \"\",\n        \"description\": \"\"\n      }\n    },\n    {\n      \"column\": \"OriginalTweet\",\n      \"properties\": {\n        \"dtype\": \"string\",\n        \"num_unique_values\": 25,\n        \"samples\": [\n          \"Telemedicine and telepathy combined is a beautiful thing indeed!\\r\\r\\n\\r\\r\\n#doctors #telemedicine \\r\\r\\n#Telepathy \\r\\r\\n#corona #covid19 \\r\\r\\n#washhand #sanitizer #sanitizeeverything #socialdistancing \\r\\r\\n#healthylifestyle #healthcare #home #stayindoorsclub #indoor #coronavirus #covid19 #medRabbits https://t.co/IdPvEzyfO1\",\n          \"For the month of April, @kasturjewels will be giving 50% of any online sale to their selected charities in the UK, Kenya and India that help the most vulnerable affected by COVID-19 ? If you want to support, head to their beautiful online store ? https://t.co/8lIiisptWR https://t.co/GEDfTBKvY7\",\n          \"Hello beautiful people we have the perfect jewelry for you at swell prices each complete set is N2 700 Order like and retweet\"\n        ],\n        \"semantic_type\": \"\",\n        \"description\": \"\"\n      }\n    },\n    {\n      \"column\": \"Sentiment\",\n      \"properties\": {\n        \"dtype\": \"number\",\n        \"std\": 0,\n        \"min\": 1,\n        \"max\": 1,\n        \"num_unique_values\": 1,\n        \"samples\": [\n          1\n        ],\n        \"semantic_type\": \"\",\n        \"description\": \"\"\n      }\n    }\n  ]\n}"
            }
          },
          "metadata": {},
          "execution_count": 32
        }
      ],
      "source": [
        "train[train['OriginalTweet'].apply(lambda x: 'beautiful' in x) & (train['Sentiment'] == 1)]"
      ]
    },
    {
      "cell_type": "markdown",
      "source": [
        "Возьмем твитт с индексом 24583.\n",
        "\n",
        "Распечатаем текст твитта и найдем наиболее и наименее важные токены."
      ],
      "metadata": {
        "id": "VGaK7EaUHCZK"
      }
    },
    {
      "cell_type": "code",
      "source": [
        "ind = 24583\n",
        "train.loc[ind]['OriginalTweet']"
      ],
      "metadata": {
        "colab": {
          "base_uri": "https://localhost:8080/",
          "height": 71
        },
        "id": "9aFRErTtHTSq",
        "outputId": "6ba635b4-4064-4072-d4f3-918d05dba4f3"
      },
      "execution_count": 33,
      "outputs": [
        {
          "output_type": "execute_result",
          "data": {
            "text/plain": [
              "'Looking forward to that beautiful day in the future when we can hear a concert crowd singing Ã\\x82Â\\x91WonderwallÃ\\x82Â\\x92 together. Why? Because we need each other, we believe in one another. WeÃ\\x82Â\\x92ve got to make it happen. @allontheboard \\r\\r\\n\\r\\r\\n@oasis @liamgallagher @NoelGallagher #Oasis https://t.co/V8hY4lSQks'"
            ],
            "application/vnd.google.colaboratory.intrinsic+json": {
              "type": "string"
            }
          },
          "metadata": {},
          "execution_count": 33
        }
      ]
    },
    {
      "cell_type": "code",
      "source": [
        "tweet_9023_2 = tv.transform([train.loc[ind]['OriginalTweet']])\n",
        "feat_2 = tv.get_feature_names_out()\n",
        "# Получили вектор-строку (матрицу) с некоторыми числами, показывающими значимость токена.\n",
        "# Надо найти максимальное и минимальное ненулевое значение\n",
        "maxx = np.argmax(tweet_9023_2)\n",
        "# Тут использовал статью https://stackoverflow.com/questions/45002848/how-to-find-index-of-minimum-non-zero-element-with-numpy\n",
        "minn = np.argmin(tweet_9023_2[np.nonzero(tweet_9023_2)])\n",
        "\n",
        "most_token = feat[maxx]\n",
        "least_token = feat[minn]\n",
        "print(f'most important: {most_token}\\nleast important: {least_token}')"
      ],
      "metadata": {
        "id": "jSjbKPCWk87K",
        "colab": {
          "base_uri": "https://localhost:8080/"
        },
        "outputId": "8cb8085b-9e72-4950-c425-b753d44c74cf"
      },
      "execution_count": 34,
      "outputs": [
        {
          "output_type": "stream",
          "name": "stdout",
          "text": [
            "most important: #oasis\n",
            "least important: #01\n"
          ]
        }
      ]
    },
    {
      "cell_type": "markdown",
      "metadata": {
        "id": "JTv9ST2_U6NA"
      },
      "source": [
        "**Ответ:** Данный твитт посвящен желанию автора посетить концерт группы Оазис, где люди будут вместе петь и радоваться. Название группы дано в качестве хэштега, а также есть ссылки на аккаунты ее участников.\n",
        "\n",
        "Самый важный токен - как раз хэштег с названием группы, что говорит о том, что он был определен достаточно точно."
      ]
    },
    {
      "cell_type": "markdown",
      "metadata": {
        "id": "JVEuZm8BHms6"
      },
      "source": [
        "## Задание 4 Обучение первых моделей (1 балл)"
      ]
    },
    {
      "cell_type": "markdown",
      "metadata": {
        "id": "JADkO3sfXdOG"
      },
      "source": [
        "Примените оба векторайзера для получения матриц с признаками текстов.  Выделите целевую переменную."
      ]
    },
    {
      "cell_type": "code",
      "source": [
        "y_train = train['Sentiment']\n",
        "x_train = train.drop('Sentiment', axis=1)\n",
        "x_train"
      ],
      "metadata": {
        "colab": {
          "base_uri": "https://localhost:8080/",
          "height": 424
        },
        "id": "mYbRdjigJTV8",
        "outputId": "b65c0c9d-72d9-4db3-d792-3b4105fd9dba"
      },
      "execution_count": 35,
      "outputs": [
        {
          "output_type": "execute_result",
          "data": {
            "text/plain": [
              "       UserName  ScreenName                        Location     TweetAt  \\\n",
              "25621     35178       80130                         Unknown  06-04-2020   \n",
              "30135     40819       85771                   Boston, MA HQ  10-04-2020   \n",
              "28899     39249       84201                           India  09-04-2020   \n",
              "5989      11068       56020             Mayfair, London, UK  19-03-2020   \n",
              "4367       9109       54061                             WNC  18-03-2020   \n",
              "...         ...         ...                             ...         ...   \n",
              "20757     29120       74072                         Unknown  31-03-2020   \n",
              "32103     43291       88243  Waterville, Ireland Austin, TX  13-04-2020   \n",
              "30403     41159       86111            Mumbai , Delhi India  10-04-2020   \n",
              "21243     29702       74654                         Unknown  01-04-2020   \n",
              "2732       7104       52056                         Unknown  18-03-2020   \n",
              "\n",
              "                                           OriginalTweet  \n",
              "25621  Why we still want to buy so much stuff during ...  \n",
              "30135  With driving even more usage a strong strategy...  \n",
              "28899  @Canon_India I am very happy.. Great job by @C...  \n",
              "5989   The U.S national debt will likely exceed $30 T...  \n",
              "4367   Finally got to the grocery store. Honestly, wh...  \n",
              "...                                                  ...  \n",
              "20757  Football is in ruins right now.When it will re...  \n",
              "32103  Hand sanitizer made here on the Skellig Coast!...  \n",
              "30403  An initiative  taken by our  @GOLDENINITIATI1 ...  \n",
              "21243  Vile premiership players demanding full wages ...  \n",
              "2732   Just wondering why we arenÃÂt screening at t...  \n",
              "\n",
              "[23410 rows x 5 columns]"
            ],
            "text/html": [
              "\n",
              "  <div id=\"df-09f8c570-857c-4324-a326-7693cfa79631\" class=\"colab-df-container\">\n",
              "    <div>\n",
              "<style scoped>\n",
              "    .dataframe tbody tr th:only-of-type {\n",
              "        vertical-align: middle;\n",
              "    }\n",
              "\n",
              "    .dataframe tbody tr th {\n",
              "        vertical-align: top;\n",
              "    }\n",
              "\n",
              "    .dataframe thead th {\n",
              "        text-align: right;\n",
              "    }\n",
              "</style>\n",
              "<table border=\"1\" class=\"dataframe\">\n",
              "  <thead>\n",
              "    <tr style=\"text-align: right;\">\n",
              "      <th></th>\n",
              "      <th>UserName</th>\n",
              "      <th>ScreenName</th>\n",
              "      <th>Location</th>\n",
              "      <th>TweetAt</th>\n",
              "      <th>OriginalTweet</th>\n",
              "    </tr>\n",
              "  </thead>\n",
              "  <tbody>\n",
              "    <tr>\n",
              "      <th>25621</th>\n",
              "      <td>35178</td>\n",
              "      <td>80130</td>\n",
              "      <td>Unknown</td>\n",
              "      <td>06-04-2020</td>\n",
              "      <td>Why we still want to buy so much stuff during ...</td>\n",
              "    </tr>\n",
              "    <tr>\n",
              "      <th>30135</th>\n",
              "      <td>40819</td>\n",
              "      <td>85771</td>\n",
              "      <td>Boston, MA HQ</td>\n",
              "      <td>10-04-2020</td>\n",
              "      <td>With driving even more usage a strong strategy...</td>\n",
              "    </tr>\n",
              "    <tr>\n",
              "      <th>28899</th>\n",
              "      <td>39249</td>\n",
              "      <td>84201</td>\n",
              "      <td>India</td>\n",
              "      <td>09-04-2020</td>\n",
              "      <td>@Canon_India I am very happy.. Great job by @C...</td>\n",
              "    </tr>\n",
              "    <tr>\n",
              "      <th>5989</th>\n",
              "      <td>11068</td>\n",
              "      <td>56020</td>\n",
              "      <td>Mayfair, London, UK</td>\n",
              "      <td>19-03-2020</td>\n",
              "      <td>The U.S national debt will likely exceed $30 T...</td>\n",
              "    </tr>\n",
              "    <tr>\n",
              "      <th>4367</th>\n",
              "      <td>9109</td>\n",
              "      <td>54061</td>\n",
              "      <td>WNC</td>\n",
              "      <td>18-03-2020</td>\n",
              "      <td>Finally got to the grocery store. Honestly, wh...</td>\n",
              "    </tr>\n",
              "    <tr>\n",
              "      <th>...</th>\n",
              "      <td>...</td>\n",
              "      <td>...</td>\n",
              "      <td>...</td>\n",
              "      <td>...</td>\n",
              "      <td>...</td>\n",
              "    </tr>\n",
              "    <tr>\n",
              "      <th>20757</th>\n",
              "      <td>29120</td>\n",
              "      <td>74072</td>\n",
              "      <td>Unknown</td>\n",
              "      <td>31-03-2020</td>\n",
              "      <td>Football is in ruins right now.When it will re...</td>\n",
              "    </tr>\n",
              "    <tr>\n",
              "      <th>32103</th>\n",
              "      <td>43291</td>\n",
              "      <td>88243</td>\n",
              "      <td>Waterville, Ireland Austin, TX</td>\n",
              "      <td>13-04-2020</td>\n",
              "      <td>Hand sanitizer made here on the Skellig Coast!...</td>\n",
              "    </tr>\n",
              "    <tr>\n",
              "      <th>30403</th>\n",
              "      <td>41159</td>\n",
              "      <td>86111</td>\n",
              "      <td>Mumbai , Delhi India</td>\n",
              "      <td>10-04-2020</td>\n",
              "      <td>An initiative  taken by our  @GOLDENINITIATI1 ...</td>\n",
              "    </tr>\n",
              "    <tr>\n",
              "      <th>21243</th>\n",
              "      <td>29702</td>\n",
              "      <td>74654</td>\n",
              "      <td>Unknown</td>\n",
              "      <td>01-04-2020</td>\n",
              "      <td>Vile premiership players demanding full wages ...</td>\n",
              "    </tr>\n",
              "    <tr>\n",
              "      <th>2732</th>\n",
              "      <td>7104</td>\n",
              "      <td>52056</td>\n",
              "      <td>Unknown</td>\n",
              "      <td>18-03-2020</td>\n",
              "      <td>Just wondering why we arenÃÂt screening at t...</td>\n",
              "    </tr>\n",
              "  </tbody>\n",
              "</table>\n",
              "<p>23410 rows × 5 columns</p>\n",
              "</div>\n",
              "    <div class=\"colab-df-buttons\">\n",
              "\n",
              "  <div class=\"colab-df-container\">\n",
              "    <button class=\"colab-df-convert\" onclick=\"convertToInteractive('df-09f8c570-857c-4324-a326-7693cfa79631')\"\n",
              "            title=\"Convert this dataframe to an interactive table.\"\n",
              "            style=\"display:none;\">\n",
              "\n",
              "  <svg xmlns=\"http://www.w3.org/2000/svg\" height=\"24px\" viewBox=\"0 -960 960 960\">\n",
              "    <path d=\"M120-120v-720h720v720H120Zm60-500h600v-160H180v160Zm220 220h160v-160H400v160Zm0 220h160v-160H400v160ZM180-400h160v-160H180v160Zm440 0h160v-160H620v160ZM180-180h160v-160H180v160Zm440 0h160v-160H620v160Z\"/>\n",
              "  </svg>\n",
              "    </button>\n",
              "\n",
              "  <style>\n",
              "    .colab-df-container {\n",
              "      display:flex;\n",
              "      gap: 12px;\n",
              "    }\n",
              "\n",
              "    .colab-df-convert {\n",
              "      background-color: #E8F0FE;\n",
              "      border: none;\n",
              "      border-radius: 50%;\n",
              "      cursor: pointer;\n",
              "      display: none;\n",
              "      fill: #1967D2;\n",
              "      height: 32px;\n",
              "      padding: 0 0 0 0;\n",
              "      width: 32px;\n",
              "    }\n",
              "\n",
              "    .colab-df-convert:hover {\n",
              "      background-color: #E2EBFA;\n",
              "      box-shadow: 0px 1px 2px rgba(60, 64, 67, 0.3), 0px 1px 3px 1px rgba(60, 64, 67, 0.15);\n",
              "      fill: #174EA6;\n",
              "    }\n",
              "\n",
              "    .colab-df-buttons div {\n",
              "      margin-bottom: 4px;\n",
              "    }\n",
              "\n",
              "    [theme=dark] .colab-df-convert {\n",
              "      background-color: #3B4455;\n",
              "      fill: #D2E3FC;\n",
              "    }\n",
              "\n",
              "    [theme=dark] .colab-df-convert:hover {\n",
              "      background-color: #434B5C;\n",
              "      box-shadow: 0px 1px 3px 1px rgba(0, 0, 0, 0.15);\n",
              "      filter: drop-shadow(0px 1px 2px rgba(0, 0, 0, 0.3));\n",
              "      fill: #FFFFFF;\n",
              "    }\n",
              "  </style>\n",
              "\n",
              "    <script>\n",
              "      const buttonEl =\n",
              "        document.querySelector('#df-09f8c570-857c-4324-a326-7693cfa79631 button.colab-df-convert');\n",
              "      buttonEl.style.display =\n",
              "        google.colab.kernel.accessAllowed ? 'block' : 'none';\n",
              "\n",
              "      async function convertToInteractive(key) {\n",
              "        const element = document.querySelector('#df-09f8c570-857c-4324-a326-7693cfa79631');\n",
              "        const dataTable =\n",
              "          await google.colab.kernel.invokeFunction('convertToInteractive',\n",
              "                                                    [key], {});\n",
              "        if (!dataTable) return;\n",
              "\n",
              "        const docLinkHtml = 'Like what you see? Visit the ' +\n",
              "          '<a target=\"_blank\" href=https://colab.research.google.com/notebooks/data_table.ipynb>data table notebook</a>'\n",
              "          + ' to learn more about interactive tables.';\n",
              "        element.innerHTML = '';\n",
              "        dataTable['output_type'] = 'display_data';\n",
              "        await google.colab.output.renderOutput(dataTable, element);\n",
              "        const docLink = document.createElement('div');\n",
              "        docLink.innerHTML = docLinkHtml;\n",
              "        element.appendChild(docLink);\n",
              "      }\n",
              "    </script>\n",
              "  </div>\n",
              "\n",
              "\n",
              "<div id=\"df-9404d86b-f659-41ab-95c9-8640cbc253f9\">\n",
              "  <button class=\"colab-df-quickchart\" onclick=\"quickchart('df-9404d86b-f659-41ab-95c9-8640cbc253f9')\"\n",
              "            title=\"Suggest charts\"\n",
              "            style=\"display:none;\">\n",
              "\n",
              "<svg xmlns=\"http://www.w3.org/2000/svg\" height=\"24px\"viewBox=\"0 0 24 24\"\n",
              "     width=\"24px\">\n",
              "    <g>\n",
              "        <path d=\"M19 3H5c-1.1 0-2 .9-2 2v14c0 1.1.9 2 2 2h14c1.1 0 2-.9 2-2V5c0-1.1-.9-2-2-2zM9 17H7v-7h2v7zm4 0h-2V7h2v10zm4 0h-2v-4h2v4z\"/>\n",
              "    </g>\n",
              "</svg>\n",
              "  </button>\n",
              "\n",
              "<style>\n",
              "  .colab-df-quickchart {\n",
              "      --bg-color: #E8F0FE;\n",
              "      --fill-color: #1967D2;\n",
              "      --hover-bg-color: #E2EBFA;\n",
              "      --hover-fill-color: #174EA6;\n",
              "      --disabled-fill-color: #AAA;\n",
              "      --disabled-bg-color: #DDD;\n",
              "  }\n",
              "\n",
              "  [theme=dark] .colab-df-quickchart {\n",
              "      --bg-color: #3B4455;\n",
              "      --fill-color: #D2E3FC;\n",
              "      --hover-bg-color: #434B5C;\n",
              "      --hover-fill-color: #FFFFFF;\n",
              "      --disabled-bg-color: #3B4455;\n",
              "      --disabled-fill-color: #666;\n",
              "  }\n",
              "\n",
              "  .colab-df-quickchart {\n",
              "    background-color: var(--bg-color);\n",
              "    border: none;\n",
              "    border-radius: 50%;\n",
              "    cursor: pointer;\n",
              "    display: none;\n",
              "    fill: var(--fill-color);\n",
              "    height: 32px;\n",
              "    padding: 0;\n",
              "    width: 32px;\n",
              "  }\n",
              "\n",
              "  .colab-df-quickchart:hover {\n",
              "    background-color: var(--hover-bg-color);\n",
              "    box-shadow: 0 1px 2px rgba(60, 64, 67, 0.3), 0 1px 3px 1px rgba(60, 64, 67, 0.15);\n",
              "    fill: var(--button-hover-fill-color);\n",
              "  }\n",
              "\n",
              "  .colab-df-quickchart-complete:disabled,\n",
              "  .colab-df-quickchart-complete:disabled:hover {\n",
              "    background-color: var(--disabled-bg-color);\n",
              "    fill: var(--disabled-fill-color);\n",
              "    box-shadow: none;\n",
              "  }\n",
              "\n",
              "  .colab-df-spinner {\n",
              "    border: 2px solid var(--fill-color);\n",
              "    border-color: transparent;\n",
              "    border-bottom-color: var(--fill-color);\n",
              "    animation:\n",
              "      spin 1s steps(1) infinite;\n",
              "  }\n",
              "\n",
              "  @keyframes spin {\n",
              "    0% {\n",
              "      border-color: transparent;\n",
              "      border-bottom-color: var(--fill-color);\n",
              "      border-left-color: var(--fill-color);\n",
              "    }\n",
              "    20% {\n",
              "      border-color: transparent;\n",
              "      border-left-color: var(--fill-color);\n",
              "      border-top-color: var(--fill-color);\n",
              "    }\n",
              "    30% {\n",
              "      border-color: transparent;\n",
              "      border-left-color: var(--fill-color);\n",
              "      border-top-color: var(--fill-color);\n",
              "      border-right-color: var(--fill-color);\n",
              "    }\n",
              "    40% {\n",
              "      border-color: transparent;\n",
              "      border-right-color: var(--fill-color);\n",
              "      border-top-color: var(--fill-color);\n",
              "    }\n",
              "    60% {\n",
              "      border-color: transparent;\n",
              "      border-right-color: var(--fill-color);\n",
              "    }\n",
              "    80% {\n",
              "      border-color: transparent;\n",
              "      border-right-color: var(--fill-color);\n",
              "      border-bottom-color: var(--fill-color);\n",
              "    }\n",
              "    90% {\n",
              "      border-color: transparent;\n",
              "      border-bottom-color: var(--fill-color);\n",
              "    }\n",
              "  }\n",
              "</style>\n",
              "\n",
              "  <script>\n",
              "    async function quickchart(key) {\n",
              "      const quickchartButtonEl =\n",
              "        document.querySelector('#' + key + ' button');\n",
              "      quickchartButtonEl.disabled = true;  // To prevent multiple clicks.\n",
              "      quickchartButtonEl.classList.add('colab-df-spinner');\n",
              "      try {\n",
              "        const charts = await google.colab.kernel.invokeFunction(\n",
              "            'suggestCharts', [key], {});\n",
              "      } catch (error) {\n",
              "        console.error('Error during call to suggestCharts:', error);\n",
              "      }\n",
              "      quickchartButtonEl.classList.remove('colab-df-spinner');\n",
              "      quickchartButtonEl.classList.add('colab-df-quickchart-complete');\n",
              "    }\n",
              "    (() => {\n",
              "      let quickchartButtonEl =\n",
              "        document.querySelector('#df-9404d86b-f659-41ab-95c9-8640cbc253f9 button');\n",
              "      quickchartButtonEl.style.display =\n",
              "        google.colab.kernel.accessAllowed ? 'block' : 'none';\n",
              "    })();\n",
              "  </script>\n",
              "</div>\n",
              "    </div>\n",
              "  </div>\n"
            ],
            "application/vnd.google.colaboratory.intrinsic+json": {
              "type": "dataframe",
              "variable_name": "x_train",
              "summary": "{\n  \"name\": \"x_train\",\n  \"rows\": 23410,\n  \"fields\": [\n    {\n      \"column\": \"UserName\",\n      \"properties\": {\n        \"dtype\": \"number\",\n        \"std\": 11880,\n        \"min\": 3800,\n        \"max\": 44953,\n        \"num_unique_values\": 23410,\n        \"samples\": [\n          22348,\n          35556,\n          33042\n        ],\n        \"semantic_type\": \"\",\n        \"description\": \"\"\n      }\n    },\n    {\n      \"column\": \"ScreenName\",\n      \"properties\": {\n        \"dtype\": \"number\",\n        \"std\": 11880,\n        \"min\": 48752,\n        \"max\": 89905,\n        \"num_unique_values\": 23410,\n        \"samples\": [\n          67300,\n          80508,\n          77994\n        ],\n        \"semantic_type\": \"\",\n        \"description\": \"\"\n      }\n    },\n    {\n      \"column\": \"Location\",\n      \"properties\": {\n        \"dtype\": \"category\",\n        \"num_unique_values\": 7949,\n        \"samples\": [\n          \"Brussels, Belgium\",\n          \"Morioh cho\",\n          \"San Jacinto, CA\"\n        ],\n        \"semantic_type\": \"\",\n        \"description\": \"\"\n      }\n    },\n    {\n      \"column\": \"TweetAt\",\n      \"properties\": {\n        \"dtype\": \"category\",\n        \"num_unique_values\": 30,\n        \"samples\": [\n          \"31-03-2020\",\n          \"16-03-2020\",\n          \"24-03-2020\"\n        ],\n        \"semantic_type\": \"\",\n        \"description\": \"\"\n      }\n    },\n    {\n      \"column\": \"OriginalTweet\",\n      \"properties\": {\n        \"dtype\": \"string\",\n        \"num_unique_values\": 23410,\n        \"samples\": [\n          \"#POTUS \\r\\r\\n#FishTankTreatment uses same chemical in  drug you said \\\"game changer\\\" for #coronavirus It's a DIFFERENT form from \\\"hydroxychoronquine\\\", a #Malaria drug Now prices soared to $500+ on bidding sites #BannerHealth says  one DIED in AZ\\r\\r\\nYou are NOT a doctor! #WordsMatter\",\n          \"@dangerfield35 @HabgoodAaron @ReelAdventures_ @1116sen Unless you are fishing from a jetty its quite easy to find a spot with nobody near you. People are less likely to pass on the Covid 19 when fishing than they are going to the Supermarket ( which is es\",\n          \"A Supermarket Chain Was One Of The First To Anticipate Coronavirus. Then It Made A Truly Thoughtful Gesture To Help Local Restaurants | https://t.co/XifCsvX4rb #restaurants #supermarket #coronavirus  https://t.co/oroZoxtSXp\"\n        ],\n        \"semantic_type\": \"\",\n        \"description\": \"\"\n      }\n    }\n  ]\n}"
            }
          },
          "metadata": {},
          "execution_count": 35
        }
      ]
    },
    {
      "cell_type": "code",
      "source": [
        "y_test = test['Sentiment']\n",
        "x_test = test.drop('Sentiment', axis=1)\n",
        "x_test"
      ],
      "metadata": {
        "colab": {
          "base_uri": "https://localhost:8080/",
          "height": 424
        },
        "id": "AArC7YjhOTV6",
        "outputId": "dd60d067-514a-4314-ed69-11865d1485ae"
      },
      "execution_count": 36,
      "outputs": [
        {
          "output_type": "execute_result",
          "data": {
            "text/plain": [
              "       UserName  ScreenName                       Location     TweetAt  \\\n",
              "28168     38343       83295                         London  08-04-2020   \n",
              "19874     28015       72967                  Baltimore, MD  26-03-2020   \n",
              "31702     42798       87750                Tokyo-to, Japan  12-04-2020   \n",
              "5110      10012       54964                           Ohio  19-03-2020   \n",
              "30081     40750       85702                    Detroit, MI  10-04-2020   \n",
              "...         ...         ...                            ...         ...   \n",
              "5847      10903       55855  Yorkshire ÃÂ UK ÃÂ Europe  19-03-2020   \n",
              "3220       7693       52645                          India  18-03-2020   \n",
              "11637     17912       62864             Lexington/Phoenix   21-03-2020   \n",
              "21149     29590       74542                        Unknown  01-04-2020   \n",
              "23240     32197       77149                        Unknown  04-04-2020   \n",
              "\n",
              "                                           OriginalTweet  \n",
              "28168  What will the post-COVID-19 consumer look like...  \n",
              "19874  It's crazy how going to the grocery store is s...  \n",
              "31702  Best online stores to buy things from Tokyo an...  \n",
              "5110   #AngelaMerkel Nails #Coronavirus Speech ÃÂ U...  \n",
              "30081  Just saw someone at the grocery store lick the...  \n",
              "...                                                  ...  \n",
              "5847   As a supermarket assistant went through my bas...  \n",
              "3220   #NewsAlert | The benchmark West Texas Intermed...  \n",
              "11637  ItÃÂs starting. Sh*tÃÂs getting weird.\\r\\r...  \n",
              "21149  @henrymcmaster I work in a definitely nonessen...  \n",
              "23240  Experience the only best online shopping   Jus...  \n",
              "\n",
              "[10034 rows x 5 columns]"
            ],
            "text/html": [
              "\n",
              "  <div id=\"df-c0a6d6b1-2e9c-44b6-94b8-208da6d5f67f\" class=\"colab-df-container\">\n",
              "    <div>\n",
              "<style scoped>\n",
              "    .dataframe tbody tr th:only-of-type {\n",
              "        vertical-align: middle;\n",
              "    }\n",
              "\n",
              "    .dataframe tbody tr th {\n",
              "        vertical-align: top;\n",
              "    }\n",
              "\n",
              "    .dataframe thead th {\n",
              "        text-align: right;\n",
              "    }\n",
              "</style>\n",
              "<table border=\"1\" class=\"dataframe\">\n",
              "  <thead>\n",
              "    <tr style=\"text-align: right;\">\n",
              "      <th></th>\n",
              "      <th>UserName</th>\n",
              "      <th>ScreenName</th>\n",
              "      <th>Location</th>\n",
              "      <th>TweetAt</th>\n",
              "      <th>OriginalTweet</th>\n",
              "    </tr>\n",
              "  </thead>\n",
              "  <tbody>\n",
              "    <tr>\n",
              "      <th>28168</th>\n",
              "      <td>38343</td>\n",
              "      <td>83295</td>\n",
              "      <td>London</td>\n",
              "      <td>08-04-2020</td>\n",
              "      <td>What will the post-COVID-19 consumer look like...</td>\n",
              "    </tr>\n",
              "    <tr>\n",
              "      <th>19874</th>\n",
              "      <td>28015</td>\n",
              "      <td>72967</td>\n",
              "      <td>Baltimore, MD</td>\n",
              "      <td>26-03-2020</td>\n",
              "      <td>It's crazy how going to the grocery store is s...</td>\n",
              "    </tr>\n",
              "    <tr>\n",
              "      <th>31702</th>\n",
              "      <td>42798</td>\n",
              "      <td>87750</td>\n",
              "      <td>Tokyo-to, Japan</td>\n",
              "      <td>12-04-2020</td>\n",
              "      <td>Best online stores to buy things from Tokyo an...</td>\n",
              "    </tr>\n",
              "    <tr>\n",
              "      <th>5110</th>\n",
              "      <td>10012</td>\n",
              "      <td>54964</td>\n",
              "      <td>Ohio</td>\n",
              "      <td>19-03-2020</td>\n",
              "      <td>#AngelaMerkel Nails #Coronavirus Speech ÃÂ U...</td>\n",
              "    </tr>\n",
              "    <tr>\n",
              "      <th>30081</th>\n",
              "      <td>40750</td>\n",
              "      <td>85702</td>\n",
              "      <td>Detroit, MI</td>\n",
              "      <td>10-04-2020</td>\n",
              "      <td>Just saw someone at the grocery store lick the...</td>\n",
              "    </tr>\n",
              "    <tr>\n",
              "      <th>...</th>\n",
              "      <td>...</td>\n",
              "      <td>...</td>\n",
              "      <td>...</td>\n",
              "      <td>...</td>\n",
              "      <td>...</td>\n",
              "    </tr>\n",
              "    <tr>\n",
              "      <th>5847</th>\n",
              "      <td>10903</td>\n",
              "      <td>55855</td>\n",
              "      <td>Yorkshire ÃÂ UK ÃÂ Europe</td>\n",
              "      <td>19-03-2020</td>\n",
              "      <td>As a supermarket assistant went through my bas...</td>\n",
              "    </tr>\n",
              "    <tr>\n",
              "      <th>3220</th>\n",
              "      <td>7693</td>\n",
              "      <td>52645</td>\n",
              "      <td>India</td>\n",
              "      <td>18-03-2020</td>\n",
              "      <td>#NewsAlert | The benchmark West Texas Intermed...</td>\n",
              "    </tr>\n",
              "    <tr>\n",
              "      <th>11637</th>\n",
              "      <td>17912</td>\n",
              "      <td>62864</td>\n",
              "      <td>Lexington/Phoenix</td>\n",
              "      <td>21-03-2020</td>\n",
              "      <td>ItÃÂs starting. Sh*tÃÂs getting weird.\\r\\r...</td>\n",
              "    </tr>\n",
              "    <tr>\n",
              "      <th>21149</th>\n",
              "      <td>29590</td>\n",
              "      <td>74542</td>\n",
              "      <td>Unknown</td>\n",
              "      <td>01-04-2020</td>\n",
              "      <td>@henrymcmaster I work in a definitely nonessen...</td>\n",
              "    </tr>\n",
              "    <tr>\n",
              "      <th>23240</th>\n",
              "      <td>32197</td>\n",
              "      <td>77149</td>\n",
              "      <td>Unknown</td>\n",
              "      <td>04-04-2020</td>\n",
              "      <td>Experience the only best online shopping   Jus...</td>\n",
              "    </tr>\n",
              "  </tbody>\n",
              "</table>\n",
              "<p>10034 rows × 5 columns</p>\n",
              "</div>\n",
              "    <div class=\"colab-df-buttons\">\n",
              "\n",
              "  <div class=\"colab-df-container\">\n",
              "    <button class=\"colab-df-convert\" onclick=\"convertToInteractive('df-c0a6d6b1-2e9c-44b6-94b8-208da6d5f67f')\"\n",
              "            title=\"Convert this dataframe to an interactive table.\"\n",
              "            style=\"display:none;\">\n",
              "\n",
              "  <svg xmlns=\"http://www.w3.org/2000/svg\" height=\"24px\" viewBox=\"0 -960 960 960\">\n",
              "    <path d=\"M120-120v-720h720v720H120Zm60-500h600v-160H180v160Zm220 220h160v-160H400v160Zm0 220h160v-160H400v160ZM180-400h160v-160H180v160Zm440 0h160v-160H620v160ZM180-180h160v-160H180v160Zm440 0h160v-160H620v160Z\"/>\n",
              "  </svg>\n",
              "    </button>\n",
              "\n",
              "  <style>\n",
              "    .colab-df-container {\n",
              "      display:flex;\n",
              "      gap: 12px;\n",
              "    }\n",
              "\n",
              "    .colab-df-convert {\n",
              "      background-color: #E8F0FE;\n",
              "      border: none;\n",
              "      border-radius: 50%;\n",
              "      cursor: pointer;\n",
              "      display: none;\n",
              "      fill: #1967D2;\n",
              "      height: 32px;\n",
              "      padding: 0 0 0 0;\n",
              "      width: 32px;\n",
              "    }\n",
              "\n",
              "    .colab-df-convert:hover {\n",
              "      background-color: #E2EBFA;\n",
              "      box-shadow: 0px 1px 2px rgba(60, 64, 67, 0.3), 0px 1px 3px 1px rgba(60, 64, 67, 0.15);\n",
              "      fill: #174EA6;\n",
              "    }\n",
              "\n",
              "    .colab-df-buttons div {\n",
              "      margin-bottom: 4px;\n",
              "    }\n",
              "\n",
              "    [theme=dark] .colab-df-convert {\n",
              "      background-color: #3B4455;\n",
              "      fill: #D2E3FC;\n",
              "    }\n",
              "\n",
              "    [theme=dark] .colab-df-convert:hover {\n",
              "      background-color: #434B5C;\n",
              "      box-shadow: 0px 1px 3px 1px rgba(0, 0, 0, 0.15);\n",
              "      filter: drop-shadow(0px 1px 2px rgba(0, 0, 0, 0.3));\n",
              "      fill: #FFFFFF;\n",
              "    }\n",
              "  </style>\n",
              "\n",
              "    <script>\n",
              "      const buttonEl =\n",
              "        document.querySelector('#df-c0a6d6b1-2e9c-44b6-94b8-208da6d5f67f button.colab-df-convert');\n",
              "      buttonEl.style.display =\n",
              "        google.colab.kernel.accessAllowed ? 'block' : 'none';\n",
              "\n",
              "      async function convertToInteractive(key) {\n",
              "        const element = document.querySelector('#df-c0a6d6b1-2e9c-44b6-94b8-208da6d5f67f');\n",
              "        const dataTable =\n",
              "          await google.colab.kernel.invokeFunction('convertToInteractive',\n",
              "                                                    [key], {});\n",
              "        if (!dataTable) return;\n",
              "\n",
              "        const docLinkHtml = 'Like what you see? Visit the ' +\n",
              "          '<a target=\"_blank\" href=https://colab.research.google.com/notebooks/data_table.ipynb>data table notebook</a>'\n",
              "          + ' to learn more about interactive tables.';\n",
              "        element.innerHTML = '';\n",
              "        dataTable['output_type'] = 'display_data';\n",
              "        await google.colab.output.renderOutput(dataTable, element);\n",
              "        const docLink = document.createElement('div');\n",
              "        docLink.innerHTML = docLinkHtml;\n",
              "        element.appendChild(docLink);\n",
              "      }\n",
              "    </script>\n",
              "  </div>\n",
              "\n",
              "\n",
              "<div id=\"df-b6388d0d-cf18-4cf9-894b-0c23fafe2af8\">\n",
              "  <button class=\"colab-df-quickchart\" onclick=\"quickchart('df-b6388d0d-cf18-4cf9-894b-0c23fafe2af8')\"\n",
              "            title=\"Suggest charts\"\n",
              "            style=\"display:none;\">\n",
              "\n",
              "<svg xmlns=\"http://www.w3.org/2000/svg\" height=\"24px\"viewBox=\"0 0 24 24\"\n",
              "     width=\"24px\">\n",
              "    <g>\n",
              "        <path d=\"M19 3H5c-1.1 0-2 .9-2 2v14c0 1.1.9 2 2 2h14c1.1 0 2-.9 2-2V5c0-1.1-.9-2-2-2zM9 17H7v-7h2v7zm4 0h-2V7h2v10zm4 0h-2v-4h2v4z\"/>\n",
              "    </g>\n",
              "</svg>\n",
              "  </button>\n",
              "\n",
              "<style>\n",
              "  .colab-df-quickchart {\n",
              "      --bg-color: #E8F0FE;\n",
              "      --fill-color: #1967D2;\n",
              "      --hover-bg-color: #E2EBFA;\n",
              "      --hover-fill-color: #174EA6;\n",
              "      --disabled-fill-color: #AAA;\n",
              "      --disabled-bg-color: #DDD;\n",
              "  }\n",
              "\n",
              "  [theme=dark] .colab-df-quickchart {\n",
              "      --bg-color: #3B4455;\n",
              "      --fill-color: #D2E3FC;\n",
              "      --hover-bg-color: #434B5C;\n",
              "      --hover-fill-color: #FFFFFF;\n",
              "      --disabled-bg-color: #3B4455;\n",
              "      --disabled-fill-color: #666;\n",
              "  }\n",
              "\n",
              "  .colab-df-quickchart {\n",
              "    background-color: var(--bg-color);\n",
              "    border: none;\n",
              "    border-radius: 50%;\n",
              "    cursor: pointer;\n",
              "    display: none;\n",
              "    fill: var(--fill-color);\n",
              "    height: 32px;\n",
              "    padding: 0;\n",
              "    width: 32px;\n",
              "  }\n",
              "\n",
              "  .colab-df-quickchart:hover {\n",
              "    background-color: var(--hover-bg-color);\n",
              "    box-shadow: 0 1px 2px rgba(60, 64, 67, 0.3), 0 1px 3px 1px rgba(60, 64, 67, 0.15);\n",
              "    fill: var(--button-hover-fill-color);\n",
              "  }\n",
              "\n",
              "  .colab-df-quickchart-complete:disabled,\n",
              "  .colab-df-quickchart-complete:disabled:hover {\n",
              "    background-color: var(--disabled-bg-color);\n",
              "    fill: var(--disabled-fill-color);\n",
              "    box-shadow: none;\n",
              "  }\n",
              "\n",
              "  .colab-df-spinner {\n",
              "    border: 2px solid var(--fill-color);\n",
              "    border-color: transparent;\n",
              "    border-bottom-color: var(--fill-color);\n",
              "    animation:\n",
              "      spin 1s steps(1) infinite;\n",
              "  }\n",
              "\n",
              "  @keyframes spin {\n",
              "    0% {\n",
              "      border-color: transparent;\n",
              "      border-bottom-color: var(--fill-color);\n",
              "      border-left-color: var(--fill-color);\n",
              "    }\n",
              "    20% {\n",
              "      border-color: transparent;\n",
              "      border-left-color: var(--fill-color);\n",
              "      border-top-color: var(--fill-color);\n",
              "    }\n",
              "    30% {\n",
              "      border-color: transparent;\n",
              "      border-left-color: var(--fill-color);\n",
              "      border-top-color: var(--fill-color);\n",
              "      border-right-color: var(--fill-color);\n",
              "    }\n",
              "    40% {\n",
              "      border-color: transparent;\n",
              "      border-right-color: var(--fill-color);\n",
              "      border-top-color: var(--fill-color);\n",
              "    }\n",
              "    60% {\n",
              "      border-color: transparent;\n",
              "      border-right-color: var(--fill-color);\n",
              "    }\n",
              "    80% {\n",
              "      border-color: transparent;\n",
              "      border-right-color: var(--fill-color);\n",
              "      border-bottom-color: var(--fill-color);\n",
              "    }\n",
              "    90% {\n",
              "      border-color: transparent;\n",
              "      border-bottom-color: var(--fill-color);\n",
              "    }\n",
              "  }\n",
              "</style>\n",
              "\n",
              "  <script>\n",
              "    async function quickchart(key) {\n",
              "      const quickchartButtonEl =\n",
              "        document.querySelector('#' + key + ' button');\n",
              "      quickchartButtonEl.disabled = true;  // To prevent multiple clicks.\n",
              "      quickchartButtonEl.classList.add('colab-df-spinner');\n",
              "      try {\n",
              "        const charts = await google.colab.kernel.invokeFunction(\n",
              "            'suggestCharts', [key], {});\n",
              "      } catch (error) {\n",
              "        console.error('Error during call to suggestCharts:', error);\n",
              "      }\n",
              "      quickchartButtonEl.classList.remove('colab-df-spinner');\n",
              "      quickchartButtonEl.classList.add('colab-df-quickchart-complete');\n",
              "    }\n",
              "    (() => {\n",
              "      let quickchartButtonEl =\n",
              "        document.querySelector('#df-b6388d0d-cf18-4cf9-894b-0c23fafe2af8 button');\n",
              "      quickchartButtonEl.style.display =\n",
              "        google.colab.kernel.accessAllowed ? 'block' : 'none';\n",
              "    })();\n",
              "  </script>\n",
              "</div>\n",
              "    </div>\n",
              "  </div>\n"
            ],
            "application/vnd.google.colaboratory.intrinsic+json": {
              "type": "dataframe",
              "variable_name": "x_test",
              "summary": "{\n  \"name\": \"x_test\",\n  \"rows\": 10034,\n  \"fields\": [\n    {\n      \"column\": \"UserName\",\n      \"properties\": {\n        \"dtype\": \"number\",\n        \"std\": 11863,\n        \"min\": 3804,\n        \"max\": 44955,\n        \"num_unique_values\": 10034,\n        \"samples\": [\n          15793,\n          37695,\n          9453\n        ],\n        \"semantic_type\": \"\",\n        \"description\": \"\"\n      }\n    },\n    {\n      \"column\": \"ScreenName\",\n      \"properties\": {\n        \"dtype\": \"number\",\n        \"std\": 11863,\n        \"min\": 48756,\n        \"max\": 89907,\n        \"num_unique_values\": 10034,\n        \"samples\": [\n          60745,\n          82647,\n          54405\n        ],\n        \"semantic_type\": \"\",\n        \"description\": \"\"\n      }\n    },\n    {\n      \"column\": \"Location\",\n      \"properties\": {\n        \"dtype\": \"category\",\n        \"num_unique_values\": 3982,\n        \"samples\": [\n          \"Vaughan, Ontario\",\n          \"Omnipresent\",\n          \"Greensboro, NC\"\n        ],\n        \"semantic_type\": \"\",\n        \"description\": \"\"\n      }\n    },\n    {\n      \"column\": \"TweetAt\",\n      \"properties\": {\n        \"dtype\": \"category\",\n        \"num_unique_values\": 30,\n        \"samples\": [\n          \"29-03-2020\",\n          \"06-04-2020\",\n          \"14-04-2020\"\n        ],\n        \"semantic_type\": \"\",\n        \"description\": \"\"\n      }\n    },\n    {\n      \"column\": \"OriginalTweet\",\n      \"properties\": {\n        \"dtype\": \"string\",\n        \"num_unique_values\": 10034,\n        \"samples\": [\n          \"#Covid_19 stop panic buying theres enough food etc for everyone https://t.co/FfABnl3Upo\",\n          \"\\u00c3\\u0082\\u00c2\\u0093If you are unable to be with someone whose money you help manage, due to #Coronavirus prevention tactics like social distancing and quarantines\\u00c3\\u0082\\u00c2\\u0094 the Consumer Financial Protection Bureau (CFPB) provides a few tips: https://t.co/ZGJG0WqBB9. @CFPB\",\n          \"You guys should watch this. They have worked hard. I cant imagine if i were them. #coronavirus #stop #KamuDirumahYa https://t.co/lxzFk38Cab\"\n        ],\n        \"semantic_type\": \"\",\n        \"description\": \"\"\n      }\n    }\n  ]\n}"
            }
          },
          "metadata": {},
          "execution_count": 36
        }
      ]
    },
    {
      "cell_type": "markdown",
      "source": [
        "Выше мы уже обучили оба векторайзера на данных train.\n",
        "Матрицу с признаками текстов можно получить с помощью transform() Источник: https://www.geeksforgeeks.org/using-countvectorizer-to-extracting-features-from-text/"
      ],
      "metadata": {
        "id": "-baGxEfTYZzF"
      }
    },
    {
      "cell_type": "code",
      "source": [
        "cv_train_matrix = cv.transform(x_train['OriginalTweet'])\n",
        "cv_test_matrix = cv.transform(x_test['OriginalTweet'])\n",
        "\n",
        "tv_train_matrix = tv.transform(x_train['OriginalTweet'])\n",
        "tv_test_matrix = tv.transform(x_test['OriginalTweet'])"
      ],
      "metadata": {
        "id": "oJMErRp6XlwN"
      },
      "execution_count": 37,
      "outputs": []
    },
    {
      "cell_type": "markdown",
      "metadata": {
        "id": "_FX1KSOfYSx4"
      },
      "source": [
        "Обучите логистическую регрессию на векторах из обоих векторайзеров. Посчитайте долю правильных ответов на обучающих и тестовых данных. Какой векторайзер показал лучший результат? Что можно сказать о моделях?"
      ]
    },
    {
      "cell_type": "code",
      "execution_count": 38,
      "metadata": {
        "id": "-Tb3eh8UXJ6v",
        "colab": {
          "base_uri": "https://localhost:8080/",
          "height": 74
        },
        "outputId": "e210f2b1-d2ac-4205-c669-75878bf27eef"
      },
      "outputs": [
        {
          "output_type": "execute_result",
          "data": {
            "text/plain": [
              "LogisticRegression(max_iter=200)"
            ],
            "text/html": [
              "<style>#sk-container-id-1 {color: black;background-color: white;}#sk-container-id-1 pre{padding: 0;}#sk-container-id-1 div.sk-toggleable {background-color: white;}#sk-container-id-1 label.sk-toggleable__label {cursor: pointer;display: block;width: 100%;margin-bottom: 0;padding: 0.3em;box-sizing: border-box;text-align: center;}#sk-container-id-1 label.sk-toggleable__label-arrow:before {content: \"▸\";float: left;margin-right: 0.25em;color: #696969;}#sk-container-id-1 label.sk-toggleable__label-arrow:hover:before {color: black;}#sk-container-id-1 div.sk-estimator:hover label.sk-toggleable__label-arrow:before {color: black;}#sk-container-id-1 div.sk-toggleable__content {max-height: 0;max-width: 0;overflow: hidden;text-align: left;background-color: #f0f8ff;}#sk-container-id-1 div.sk-toggleable__content pre {margin: 0.2em;color: black;border-radius: 0.25em;background-color: #f0f8ff;}#sk-container-id-1 input.sk-toggleable__control:checked~div.sk-toggleable__content {max-height: 200px;max-width: 100%;overflow: auto;}#sk-container-id-1 input.sk-toggleable__control:checked~label.sk-toggleable__label-arrow:before {content: \"▾\";}#sk-container-id-1 div.sk-estimator input.sk-toggleable__control:checked~label.sk-toggleable__label {background-color: #d4ebff;}#sk-container-id-1 div.sk-label input.sk-toggleable__control:checked~label.sk-toggleable__label {background-color: #d4ebff;}#sk-container-id-1 input.sk-hidden--visually {border: 0;clip: rect(1px 1px 1px 1px);clip: rect(1px, 1px, 1px, 1px);height: 1px;margin: -1px;overflow: hidden;padding: 0;position: absolute;width: 1px;}#sk-container-id-1 div.sk-estimator {font-family: monospace;background-color: #f0f8ff;border: 1px dotted black;border-radius: 0.25em;box-sizing: border-box;margin-bottom: 0.5em;}#sk-container-id-1 div.sk-estimator:hover {background-color: #d4ebff;}#sk-container-id-1 div.sk-parallel-item::after {content: \"\";width: 100%;border-bottom: 1px solid gray;flex-grow: 1;}#sk-container-id-1 div.sk-label:hover label.sk-toggleable__label {background-color: #d4ebff;}#sk-container-id-1 div.sk-serial::before {content: \"\";position: absolute;border-left: 1px solid gray;box-sizing: border-box;top: 0;bottom: 0;left: 50%;z-index: 0;}#sk-container-id-1 div.sk-serial {display: flex;flex-direction: column;align-items: center;background-color: white;padding-right: 0.2em;padding-left: 0.2em;position: relative;}#sk-container-id-1 div.sk-item {position: relative;z-index: 1;}#sk-container-id-1 div.sk-parallel {display: flex;align-items: stretch;justify-content: center;background-color: white;position: relative;}#sk-container-id-1 div.sk-item::before, #sk-container-id-1 div.sk-parallel-item::before {content: \"\";position: absolute;border-left: 1px solid gray;box-sizing: border-box;top: 0;bottom: 0;left: 50%;z-index: -1;}#sk-container-id-1 div.sk-parallel-item {display: flex;flex-direction: column;z-index: 1;position: relative;background-color: white;}#sk-container-id-1 div.sk-parallel-item:first-child::after {align-self: flex-end;width: 50%;}#sk-container-id-1 div.sk-parallel-item:last-child::after {align-self: flex-start;width: 50%;}#sk-container-id-1 div.sk-parallel-item:only-child::after {width: 0;}#sk-container-id-1 div.sk-dashed-wrapped {border: 1px dashed gray;margin: 0 0.4em 0.5em 0.4em;box-sizing: border-box;padding-bottom: 0.4em;background-color: white;}#sk-container-id-1 div.sk-label label {font-family: monospace;font-weight: bold;display: inline-block;line-height: 1.2em;}#sk-container-id-1 div.sk-label-container {text-align: center;}#sk-container-id-1 div.sk-container {/* jupyter's `normalize.less` sets `[hidden] { display: none; }` but bootstrap.min.css set `[hidden] { display: none !important; }` so we also need the `!important` here to be able to override the default hidden behavior on the sphinx rendered scikit-learn.org. See: https://github.com/scikit-learn/scikit-learn/issues/21755 */display: inline-block !important;position: relative;}#sk-container-id-1 div.sk-text-repr-fallback {display: none;}</style><div id=\"sk-container-id-1\" class=\"sk-top-container\"><div class=\"sk-text-repr-fallback\"><pre>LogisticRegression(max_iter=200)</pre><b>In a Jupyter environment, please rerun this cell to show the HTML representation or trust the notebook. <br />On GitHub, the HTML representation is unable to render, please try loading this page with nbviewer.org.</b></div><div class=\"sk-container\" hidden><div class=\"sk-item\"><div class=\"sk-estimator sk-toggleable\"><input class=\"sk-toggleable__control sk-hidden--visually\" id=\"sk-estimator-id-1\" type=\"checkbox\" checked><label for=\"sk-estimator-id-1\" class=\"sk-toggleable__label sk-toggleable__label-arrow\">LogisticRegression</label><div class=\"sk-toggleable__content\"><pre>LogisticRegression(max_iter=200)</pre></div></div></div></div></div>"
            ]
          },
          "metadata": {},
          "execution_count": 38
        }
      ],
      "source": [
        "from sklearn.linear_model import LogisticRegression\n",
        "from sklearn.metrics import accuracy_score\n",
        "\n",
        "log_reg1 = LogisticRegression(max_iter=200)\n",
        "log_reg1.fit(cv_train_matrix, y_train)\n",
        "\n",
        "log_reg2 = LogisticRegression(max_iter=200)\n",
        "log_reg2.fit(tv_train_matrix, y_train)"
      ]
    },
    {
      "cell_type": "markdown",
      "source": [
        "Посчитаем долю верных ответов на обучающей и тестовой выборке"
      ],
      "metadata": {
        "id": "EHEE6DlHaLde"
      }
    },
    {
      "cell_type": "code",
      "source": [
        "from sklearn.metrics import accuracy_score\n",
        "\n",
        "acc_train_vec = accuracy_score(log_reg1.predict(cv_train_matrix), y_train)\n",
        "acc_test_vec = accuracy_score(log_reg1.predict(cv_test_matrix), y_test)\n",
        "acc_train_tfidf = accuracy_score(log_reg2.predict(tv_train_matrix), y_train)\n",
        "acc_test_tfidf = accuracy_score(log_reg2.predict(tv_test_matrix), y_test)\n",
        "print(f'Count vectorizer:\\ntrain : {acc_train_vec}\\ntest : {acc_test_vec}')\n",
        "print(f'TF-IDF:\\ntrain : {acc_train_tfidf}\\ntest : {acc_test_tfidf}')"
      ],
      "metadata": {
        "id": "6jCuwbHmaSxp",
        "colab": {
          "base_uri": "https://localhost:8080/"
        },
        "outputId": "51049b90-cd3c-46b8-faf5-cb992df9303e"
      },
      "execution_count": 39,
      "outputs": [
        {
          "output_type": "stream",
          "name": "stdout",
          "text": [
            "Count vectorizer:\n",
            "train : 0.9844510892780863\n",
            "test : 0.8672513454255532\n",
            "TF-IDF:\n",
            "train : 0.9254592054677488\n",
            "test : 0.8533984452860275\n"
          ]
        }
      ]
    },
    {
      "cell_type": "markdown",
      "metadata": {
        "id": "8y_wO7rCmv7K"
      },
      "source": [
        "**Ответ:** Видно, что обе регрессии показали высокие результаты на тренировочной выборке (и даже вроде не переобучились!). На тренировочной выборке точность для обеих регрессий превышает 0.85, что является довольно хорошим показателем.\n",
        "\n",
        "Если сравнивать два способа векторизации, то на данном датасете чуть лучше себя проявил CountVectorizer, хотя точность 0.98 на тренировочной выборке может свидетельствовать о небольшом переобучении."
      ]
    },
    {
      "cell_type": "markdown",
      "metadata": {
        "id": "rSOR1i3mjrys"
      },
      "source": [
        "## Задание 5 Стемминг (0.5 балла)"
      ]
    },
    {
      "cell_type": "markdown",
      "metadata": {
        "id": "i6ONBWNPjuq-"
      },
      "source": [
        "Для уменьшения словаря можно использовать стемминг.\n",
        "\n",
        "Модифицируйте написанный токенайзер, добавив в него стемминг с использованием SnowballStemmer. Обучите Count- и Tfidf- векторайзеры. Как изменился размер словаря?"
      ]
    },
    {
      "cell_type": "code",
      "source": [
        "from nltk.stem.snowball import SnowballStemmer"
      ],
      "metadata": {
        "id": "0Zvjumq5yHpu"
      },
      "execution_count": 40,
      "outputs": []
    },
    {
      "cell_type": "code",
      "execution_count": 41,
      "metadata": {
        "id": "oVfA2-iMkQBb"
      },
      "outputs": [],
      "source": [
        "def custom_stem_tokenizer(text):\n",
        "  stemmer = SnowballStemmer('english')\n",
        "  tweet_tokenizer = TweetTokenizer()\n",
        "  tokens = tweet_tokenizer.tokenize(text.lower())\n",
        "  stoplist = stopwords.words('english') + list(punctuation)\n",
        "  return [stemmer.stem(i) for i in tokens if i not in stoplist and all(ord(ch) < 128 for ch in i if len(i) == 1) and not i.startswith('https://t.co')]"
      ]
    },
    {
      "cell_type": "code",
      "execution_count": 42,
      "metadata": {
        "id": "9QmrjYtqnlPd",
        "colab": {
          "base_uri": "https://localhost:8080/"
        },
        "outputId": "f321dbfc-ee85-412a-a434-a4371a774681"
      },
      "outputs": [
        {
          "output_type": "execute_result",
          "data": {
            "text/plain": [
              "['sampl', 'text', '@sample_text', '#sampletext', 'ad', 'word', 'check', 'stem']"
            ]
          },
          "metadata": {},
          "execution_count": 42
        }
      ],
      "source": [
        "custom_stem_tokenizer('This is sample text!!!! @Sample_text I, \\x92\\x92 https://t.co/sample  #sampletext adding more words to check stemming')"
      ]
    },
    {
      "cell_type": "code",
      "execution_count": 43,
      "metadata": {
        "id": "zAvUTmaplzOS",
        "colab": {
          "base_uri": "https://localhost:8080/"
        },
        "outputId": "6a9c245d-bd44-4a17-ad23-b39cbd753186"
      },
      "outputs": [
        {
          "output_type": "stream",
          "name": "stderr",
          "text": [
            "/usr/local/lib/python3.10/dist-packages/sklearn/feature_extraction/text.py:528: UserWarning: The parameter 'token_pattern' will not be used since 'tokenizer' is not None'\n",
            "  warnings.warn(\n"
          ]
        },
        {
          "output_type": "stream",
          "name": "stdout",
          "text": [
            "CountVec : 36652\n",
            "Tf-idf : 36652\n"
          ]
        }
      ],
      "source": [
        "cv = CountVectorizer(tokenizer=custom_stem_tokenizer)\n",
        "tv = TfidfVectorizer(tokenizer=custom_stem_tokenizer)\n",
        "\n",
        "cv.fit(x_train['OriginalTweet'])\n",
        "tv.fit(x_train['OriginalTweet'])\n",
        "print(f'CountVec : {len(cv.vocabulary_)}\\nTf-idf : {len(tv.vocabulary_)}')"
      ]
    },
    {
      "cell_type": "markdown",
      "metadata": {
        "id": "Oyzs5TaAoHP6"
      },
      "source": [
        "**Ответ** Размер словаря сократился еще сильнее, поскольку мы убрали из него формы одного слова, оставив только \"основу\""
      ]
    },
    {
      "cell_type": "markdown",
      "metadata": {
        "id": "1OkncHI8oRmd"
      },
      "source": [
        "Обучите логистическую регрессию с использованием обоих векторайзеров. Изменилось ли качество? Есть ли смысл применять стемминг?"
      ]
    },
    {
      "cell_type": "code",
      "source": [
        "cv_train_matrix = cv.transform(x_train['OriginalTweet'])\n",
        "cv_test_matrix = cv.transform(x_test['OriginalTweet'])\n",
        "\n",
        "tv_train_matrix = tv.transform(x_train['OriginalTweet'])\n",
        "tv_test_matrix = tv.transform(x_test['OriginalTweet'])"
      ],
      "metadata": {
        "id": "Z0mWJJ3K0Uxx"
      },
      "execution_count": 44,
      "outputs": []
    },
    {
      "cell_type": "code",
      "execution_count": 45,
      "metadata": {
        "id": "ykZJPphEoZ5W",
        "colab": {
          "base_uri": "https://localhost:8080/",
          "height": 74
        },
        "outputId": "cae5cdb1-16ac-45b5-91e0-7a93de7389a5"
      },
      "outputs": [
        {
          "output_type": "execute_result",
          "data": {
            "text/plain": [
              "LogisticRegression(max_iter=200)"
            ],
            "text/html": [
              "<style>#sk-container-id-2 {color: black;background-color: white;}#sk-container-id-2 pre{padding: 0;}#sk-container-id-2 div.sk-toggleable {background-color: white;}#sk-container-id-2 label.sk-toggleable__label {cursor: pointer;display: block;width: 100%;margin-bottom: 0;padding: 0.3em;box-sizing: border-box;text-align: center;}#sk-container-id-2 label.sk-toggleable__label-arrow:before {content: \"▸\";float: left;margin-right: 0.25em;color: #696969;}#sk-container-id-2 label.sk-toggleable__label-arrow:hover:before {color: black;}#sk-container-id-2 div.sk-estimator:hover label.sk-toggleable__label-arrow:before {color: black;}#sk-container-id-2 div.sk-toggleable__content {max-height: 0;max-width: 0;overflow: hidden;text-align: left;background-color: #f0f8ff;}#sk-container-id-2 div.sk-toggleable__content pre {margin: 0.2em;color: black;border-radius: 0.25em;background-color: #f0f8ff;}#sk-container-id-2 input.sk-toggleable__control:checked~div.sk-toggleable__content {max-height: 200px;max-width: 100%;overflow: auto;}#sk-container-id-2 input.sk-toggleable__control:checked~label.sk-toggleable__label-arrow:before {content: \"▾\";}#sk-container-id-2 div.sk-estimator input.sk-toggleable__control:checked~label.sk-toggleable__label {background-color: #d4ebff;}#sk-container-id-2 div.sk-label input.sk-toggleable__control:checked~label.sk-toggleable__label {background-color: #d4ebff;}#sk-container-id-2 input.sk-hidden--visually {border: 0;clip: rect(1px 1px 1px 1px);clip: rect(1px, 1px, 1px, 1px);height: 1px;margin: -1px;overflow: hidden;padding: 0;position: absolute;width: 1px;}#sk-container-id-2 div.sk-estimator {font-family: monospace;background-color: #f0f8ff;border: 1px dotted black;border-radius: 0.25em;box-sizing: border-box;margin-bottom: 0.5em;}#sk-container-id-2 div.sk-estimator:hover {background-color: #d4ebff;}#sk-container-id-2 div.sk-parallel-item::after {content: \"\";width: 100%;border-bottom: 1px solid gray;flex-grow: 1;}#sk-container-id-2 div.sk-label:hover label.sk-toggleable__label {background-color: #d4ebff;}#sk-container-id-2 div.sk-serial::before {content: \"\";position: absolute;border-left: 1px solid gray;box-sizing: border-box;top: 0;bottom: 0;left: 50%;z-index: 0;}#sk-container-id-2 div.sk-serial {display: flex;flex-direction: column;align-items: center;background-color: white;padding-right: 0.2em;padding-left: 0.2em;position: relative;}#sk-container-id-2 div.sk-item {position: relative;z-index: 1;}#sk-container-id-2 div.sk-parallel {display: flex;align-items: stretch;justify-content: center;background-color: white;position: relative;}#sk-container-id-2 div.sk-item::before, #sk-container-id-2 div.sk-parallel-item::before {content: \"\";position: absolute;border-left: 1px solid gray;box-sizing: border-box;top: 0;bottom: 0;left: 50%;z-index: -1;}#sk-container-id-2 div.sk-parallel-item {display: flex;flex-direction: column;z-index: 1;position: relative;background-color: white;}#sk-container-id-2 div.sk-parallel-item:first-child::after {align-self: flex-end;width: 50%;}#sk-container-id-2 div.sk-parallel-item:last-child::after {align-self: flex-start;width: 50%;}#sk-container-id-2 div.sk-parallel-item:only-child::after {width: 0;}#sk-container-id-2 div.sk-dashed-wrapped {border: 1px dashed gray;margin: 0 0.4em 0.5em 0.4em;box-sizing: border-box;padding-bottom: 0.4em;background-color: white;}#sk-container-id-2 div.sk-label label {font-family: monospace;font-weight: bold;display: inline-block;line-height: 1.2em;}#sk-container-id-2 div.sk-label-container {text-align: center;}#sk-container-id-2 div.sk-container {/* jupyter's `normalize.less` sets `[hidden] { display: none; }` but bootstrap.min.css set `[hidden] { display: none !important; }` so we also need the `!important` here to be able to override the default hidden behavior on the sphinx rendered scikit-learn.org. See: https://github.com/scikit-learn/scikit-learn/issues/21755 */display: inline-block !important;position: relative;}#sk-container-id-2 div.sk-text-repr-fallback {display: none;}</style><div id=\"sk-container-id-2\" class=\"sk-top-container\"><div class=\"sk-text-repr-fallback\"><pre>LogisticRegression(max_iter=200)</pre><b>In a Jupyter environment, please rerun this cell to show the HTML representation or trust the notebook. <br />On GitHub, the HTML representation is unable to render, please try loading this page with nbviewer.org.</b></div><div class=\"sk-container\" hidden><div class=\"sk-item\"><div class=\"sk-estimator sk-toggleable\"><input class=\"sk-toggleable__control sk-hidden--visually\" id=\"sk-estimator-id-2\" type=\"checkbox\" checked><label for=\"sk-estimator-id-2\" class=\"sk-toggleable__label sk-toggleable__label-arrow\">LogisticRegression</label><div class=\"sk-toggleable__content\"><pre>LogisticRegression(max_iter=200)</pre></div></div></div></div></div>"
            ]
          },
          "metadata": {},
          "execution_count": 45
        }
      ],
      "source": [
        "lr1 = LogisticRegression(max_iter=200)\n",
        "lr1.fit(cv_train_matrix, y_train)\n",
        "\n",
        "lr2 = LogisticRegression(max_iter=200)\n",
        "lr2.fit(cv_train_matrix, y_train)"
      ]
    },
    {
      "cell_type": "code",
      "source": [
        "acc_train_vec = accuracy_score(lr1.predict(cv_train_matrix), y_train)\n",
        "acc_test_vec = accuracy_score(lr1.predict(cv_test_matrix), y_test)\n",
        "acc_train_tfidf = accuracy_score(lr2.predict(tv_train_matrix), y_train)\n",
        "acc_test_tfidf = accuracy_score(lr2.predict(tv_test_matrix), y_test)\n",
        "print(f'Count vectorizer:\\ntrain : {acc_train_vec}\\ntest : {acc_test_vec}')\n",
        "print(f'TF-IDF:\\ntrain : {acc_train_tfidf}\\ntest : {acc_test_tfidf}')"
      ],
      "metadata": {
        "colab": {
          "base_uri": "https://localhost:8080/"
        },
        "id": "kgKacYoE0p00",
        "outputId": "6905a216-8669-4fa6-a826-0bedfe8205ce"
      },
      "execution_count": 46,
      "outputs": [
        {
          "output_type": "stream",
          "name": "stdout",
          "text": [
            "Count vectorizer:\n",
            "train : 0.9718923536950022\n",
            "test : 0.8672513454255532\n",
            "TF-IDF:\n",
            "train : 0.9775309696710808\n",
            "test : 0.8571855690651784\n"
          ]
        }
      ]
    },
    {
      "cell_type": "markdown",
      "metadata": {
        "id": "bCRlrODro0h8"
      },
      "source": [
        "**Ответ:** На обучающей выборке Tf-idf векторайзер стал показывать более высокие результаты (но это может говорить о переобучении), однако accuracy на тестовой выборке практически не изменилось. Я думаю, есть смысл применять стемминг на более объемных художественных текстах, где можно найти много форм и проявлений одного слова."
      ]
    },
    {
      "cell_type": "markdown",
      "metadata": {
        "id": "hYWGQNEDqLC-"
      },
      "source": [
        "## Задание  6 Работа с частотами (1.5 балла)"
      ]
    },
    {
      "cell_type": "markdown",
      "metadata": {
        "id": "8Hq-tl5mqUSn"
      },
      "source": [
        "Еще один способ уменьшить количество признаков - это использовать параметры min_df и max_df при построении векторайзера  эти параметры помогают ограничить требуемую частоту встречаемости токена в документах.\n",
        "\n",
        "По умолчанию берутся все токены, которые встретились хотя бы один раз.\n",
        "\n"
      ]
    },
    {
      "cell_type": "markdown",
      "metadata": {
        "id": "m1SiD4DE3WZ2"
      },
      "source": [
        "Подберите max_df такой, что размер словаря будет 36651 (на 1 меньше, чем было). Почему параметр получился такой большой/маленький?"
      ]
    },
    {
      "cell_type": "markdown",
      "source": [
        "Попробуем разные значения:"
      ],
      "metadata": {
        "id": "VyMnpibP8jjC"
      }
    },
    {
      "cell_type": "code",
      "source": [
        "cv_df = CountVectorizer(tokenizer=custom_stem_tokenizer,\n",
        "                        max_df=10000\n",
        "                        ).fit(\n",
        "                            x_train['OriginalTweet']\n",
        "                            )\n",
        "print(len(cv_df.vocabulary_))"
      ],
      "metadata": {
        "id": "o3YLb8PViExb",
        "colab": {
          "base_uri": "https://localhost:8080/"
        },
        "outputId": "9b2bc70f-5a0f-404c-9d35-090444e767c9"
      },
      "execution_count": 47,
      "outputs": [
        {
          "output_type": "stream",
          "name": "stderr",
          "text": [
            "/usr/local/lib/python3.10/dist-packages/sklearn/feature_extraction/text.py:528: UserWarning: The parameter 'token_pattern' will not be used since 'tokenizer' is not None'\n",
            "  warnings.warn(\n"
          ]
        },
        {
          "output_type": "stream",
          "name": "stdout",
          "text": [
            "36652\n"
          ]
        }
      ]
    },
    {
      "cell_type": "markdown",
      "source": [
        "Размер словаря не изменился, поэтому попробуем уменьшить значение."
      ],
      "metadata": {
        "id": "tqQLBHZQ9NWw"
      }
    },
    {
      "cell_type": "code",
      "source": [
        "cv_df = CountVectorizer(tokenizer=custom_stem_tokenizer,\n",
        "                        max_df=6000\n",
        "                        ).fit(\n",
        "                            x_train['OriginalTweet']\n",
        "                            )\n",
        "print(len(cv_df.vocabulary_))"
      ],
      "metadata": {
        "id": "tyEpkJUkjnuK",
        "colab": {
          "base_uri": "https://localhost:8080/"
        },
        "outputId": "203df211-8718-4071-c2ae-7516ffc04bf7"
      },
      "execution_count": 48,
      "outputs": [
        {
          "output_type": "stream",
          "name": "stdout",
          "text": [
            "36649\n"
          ]
        }
      ]
    },
    {
      "cell_type": "markdown",
      "source": [
        "Перестарались. Попробуем 7600."
      ],
      "metadata": {
        "id": "7bxg_jdK9vHY"
      }
    },
    {
      "cell_type": "code",
      "source": [
        "cv_df = CountVectorizer(tokenizer=custom_stem_tokenizer,\n",
        "                        max_df=7600\n",
        "                        ).fit(\n",
        "                            x_train['OriginalTweet']\n",
        "                            )\n",
        "print(len(cv_df.vocabulary_))"
      ],
      "metadata": {
        "colab": {
          "base_uri": "https://localhost:8080/"
        },
        "id": "hBYqP8OR9yHn",
        "outputId": "5dbd8412-17e6-46b0-db61-76ae047d4df1"
      },
      "execution_count": 49,
      "outputs": [
        {
          "output_type": "stream",
          "name": "stdout",
          "text": [
            "36651\n"
          ]
        }
      ]
    },
    {
      "cell_type": "markdown",
      "metadata": {
        "id": "UdZYoGZR4UsA"
      },
      "source": [
        "**Ответ:** Отлично! Параметр довольно большой, поскольку очень малый процент токенов встречается более, чем в 5000 статьях, поэтому для уменьшения размера словаря приходилось пробовать большие значения max_df"
      ]
    },
    {
      "cell_type": "markdown",
      "metadata": {
        "id": "_gRIUaB1u32f"
      },
      "source": [
        "Подберите min_df (используйте дефолтное значение max_df) в CountVectorizer таким образом, чтобы размер словаря был 3700 токенов (при использовании токенайзера со стеммингом), а качество осталось таким же, как и было. Что можно сказать о результатах?"
      ]
    },
    {
      "cell_type": "code",
      "execution_count": 50,
      "metadata": {
        "id": "kSnMJkn9XmsT",
        "colab": {
          "base_uri": "https://localhost:8080/"
        },
        "outputId": "5df0d431-e4bd-4c7d-b056-f56b413556cd"
      },
      "outputs": [
        {
          "output_type": "stream",
          "name": "stdout",
          "text": [
            "761\n"
          ]
        }
      ],
      "source": [
        "cv_df = CountVectorizer(tokenizer=custom_stem_tokenizer,\n",
        "                        min_df=100\n",
        "                        ).fit(\n",
        "                           x_train['OriginalTweet']\n",
        "                            )\n",
        "print(len(cv_df.vocabulary_))"
      ]
    },
    {
      "cell_type": "markdown",
      "source": [
        "При ограничении в минимум 100 статей получился довольно маленький словарь. Попробуем значения меньше"
      ],
      "metadata": {
        "id": "UT9h7l4o_ca7"
      }
    },
    {
      "cell_type": "code",
      "source": [
        "cv_df = CountVectorizer(tokenizer=custom_stem_tokenizer,\n",
        "                        min_df=50\n",
        "                        ).fit(\n",
        "                           x_train['OriginalTweet']\n",
        "                            )\n",
        "print(len(cv_df.vocabulary_))"
      ],
      "metadata": {
        "id": "mvMDwpdfjm8Y",
        "colab": {
          "base_uri": "https://localhost:8080/"
        },
        "outputId": "9725defd-d7bc-4331-c2ae-8795a267b40f"
      },
      "execution_count": 51,
      "outputs": [
        {
          "output_type": "stream",
          "name": "stdout",
          "text": [
            "1355\n"
          ]
        }
      ]
    },
    {
      "cell_type": "markdown",
      "source": [
        "И еще меньше"
      ],
      "metadata": {
        "id": "BnQBmaQM_3IE"
      }
    },
    {
      "cell_type": "code",
      "source": [
        "cv_df = CountVectorizer(tokenizer=custom_stem_tokenizer,\n",
        "                        min_df=20\n",
        "                        ).fit(\n",
        "                           x_train['OriginalTweet']\n",
        "                            )\n",
        "print(len(cv_df.vocabulary_))"
      ],
      "metadata": {
        "colab": {
          "base_uri": "https://localhost:8080/"
        },
        "id": "4oQ6X1Ye_4xQ",
        "outputId": "7cc8b69b-0231-4d4b-99c8-ce88786875db"
      },
      "execution_count": 52,
      "outputs": [
        {
          "output_type": "stream",
          "name": "stdout",
          "text": [
            "2507\n"
          ]
        }
      ]
    },
    {
      "cell_type": "markdown",
      "source": [
        "И еще немного уменьшим"
      ],
      "metadata": {
        "id": "PiPNQG3zATL4"
      }
    },
    {
      "cell_type": "code",
      "source": [
        "cv_df = CountVectorizer(tokenizer=custom_stem_tokenizer,\n",
        "                        min_df=11\n",
        "                        ).fit(\n",
        "                           x_train['OriginalTweet']\n",
        "                            )\n",
        "print(len(cv_df.vocabulary_))"
      ],
      "metadata": {
        "colab": {
          "base_uri": "https://localhost:8080/"
        },
        "id": "DCXg7kO5AVkm",
        "outputId": "d56cca3c-e916-4754-f601-e420d6114fc7"
      },
      "execution_count": 53,
      "outputs": [
        {
          "output_type": "stream",
          "name": "stdout",
          "text": [
            "3700\n"
          ]
        }
      ]
    },
    {
      "cell_type": "markdown",
      "metadata": {
        "id": "3fGYpUIZx0fk"
      },
      "source": [
        "**Ответ:** Супер! Значение получилось относительно небольшим, поскольку видимо значительная часть слов (в особенности, существительные и прилагательные) являются не сильно распространенными, так как в других твиттах могут использоваться синонимы и прочее."
      ]
    },
    {
      "cell_type": "markdown",
      "source": [
        "В предыдущих заданиях признаки не скалировались. Отскалируйте данные (при словаре размера 3.7 тысяч, векторизованные CountVectorizer), обучите логистическую регрессию, посмотрите качество и выведите `berplot` содержащий по 10 токенов, с наибольшим по модулю положительными/отрицательными весами. Что можно сказать об этих токенах?"
      ],
      "metadata": {
        "id": "Gx_h_-inKbBl"
      }
    },
    {
      "cell_type": "code",
      "source": [
        "from sklearn.preprocessing import StandardScaler\n",
        "\n",
        "cv_matrix_train = cv_df.transform(x_train['OriginalTweet'])\n",
        "cv_matrix_test = cv_df.transform(x_test['OriginalTweet'])"
      ],
      "metadata": {
        "id": "KBATXJX6LG9q"
      },
      "execution_count": 54,
      "outputs": []
    },
    {
      "cell_type": "code",
      "source": [
        "scaler = StandardScaler()\n",
        "scaler.fit(cv_matrix_train.toarray())"
      ],
      "metadata": {
        "colab": {
          "base_uri": "https://localhost:8080/",
          "height": 74
        },
        "id": "_x0fr-uoGGzZ",
        "outputId": "2b7b7526-a5ef-42d9-ef65-d2ca900df969"
      },
      "execution_count": 55,
      "outputs": [
        {
          "output_type": "execute_result",
          "data": {
            "text/plain": [
              "StandardScaler()"
            ],
            "text/html": [
              "<style>#sk-container-id-3 {color: black;background-color: white;}#sk-container-id-3 pre{padding: 0;}#sk-container-id-3 div.sk-toggleable {background-color: white;}#sk-container-id-3 label.sk-toggleable__label {cursor: pointer;display: block;width: 100%;margin-bottom: 0;padding: 0.3em;box-sizing: border-box;text-align: center;}#sk-container-id-3 label.sk-toggleable__label-arrow:before {content: \"▸\";float: left;margin-right: 0.25em;color: #696969;}#sk-container-id-3 label.sk-toggleable__label-arrow:hover:before {color: black;}#sk-container-id-3 div.sk-estimator:hover label.sk-toggleable__label-arrow:before {color: black;}#sk-container-id-3 div.sk-toggleable__content {max-height: 0;max-width: 0;overflow: hidden;text-align: left;background-color: #f0f8ff;}#sk-container-id-3 div.sk-toggleable__content pre {margin: 0.2em;color: black;border-radius: 0.25em;background-color: #f0f8ff;}#sk-container-id-3 input.sk-toggleable__control:checked~div.sk-toggleable__content {max-height: 200px;max-width: 100%;overflow: auto;}#sk-container-id-3 input.sk-toggleable__control:checked~label.sk-toggleable__label-arrow:before {content: \"▾\";}#sk-container-id-3 div.sk-estimator input.sk-toggleable__control:checked~label.sk-toggleable__label {background-color: #d4ebff;}#sk-container-id-3 div.sk-label input.sk-toggleable__control:checked~label.sk-toggleable__label {background-color: #d4ebff;}#sk-container-id-3 input.sk-hidden--visually {border: 0;clip: rect(1px 1px 1px 1px);clip: rect(1px, 1px, 1px, 1px);height: 1px;margin: -1px;overflow: hidden;padding: 0;position: absolute;width: 1px;}#sk-container-id-3 div.sk-estimator {font-family: monospace;background-color: #f0f8ff;border: 1px dotted black;border-radius: 0.25em;box-sizing: border-box;margin-bottom: 0.5em;}#sk-container-id-3 div.sk-estimator:hover {background-color: #d4ebff;}#sk-container-id-3 div.sk-parallel-item::after {content: \"\";width: 100%;border-bottom: 1px solid gray;flex-grow: 1;}#sk-container-id-3 div.sk-label:hover label.sk-toggleable__label {background-color: #d4ebff;}#sk-container-id-3 div.sk-serial::before {content: \"\";position: absolute;border-left: 1px solid gray;box-sizing: border-box;top: 0;bottom: 0;left: 50%;z-index: 0;}#sk-container-id-3 div.sk-serial {display: flex;flex-direction: column;align-items: center;background-color: white;padding-right: 0.2em;padding-left: 0.2em;position: relative;}#sk-container-id-3 div.sk-item {position: relative;z-index: 1;}#sk-container-id-3 div.sk-parallel {display: flex;align-items: stretch;justify-content: center;background-color: white;position: relative;}#sk-container-id-3 div.sk-item::before, #sk-container-id-3 div.sk-parallel-item::before {content: \"\";position: absolute;border-left: 1px solid gray;box-sizing: border-box;top: 0;bottom: 0;left: 50%;z-index: -1;}#sk-container-id-3 div.sk-parallel-item {display: flex;flex-direction: column;z-index: 1;position: relative;background-color: white;}#sk-container-id-3 div.sk-parallel-item:first-child::after {align-self: flex-end;width: 50%;}#sk-container-id-3 div.sk-parallel-item:last-child::after {align-self: flex-start;width: 50%;}#sk-container-id-3 div.sk-parallel-item:only-child::after {width: 0;}#sk-container-id-3 div.sk-dashed-wrapped {border: 1px dashed gray;margin: 0 0.4em 0.5em 0.4em;box-sizing: border-box;padding-bottom: 0.4em;background-color: white;}#sk-container-id-3 div.sk-label label {font-family: monospace;font-weight: bold;display: inline-block;line-height: 1.2em;}#sk-container-id-3 div.sk-label-container {text-align: center;}#sk-container-id-3 div.sk-container {/* jupyter's `normalize.less` sets `[hidden] { display: none; }` but bootstrap.min.css set `[hidden] { display: none !important; }` so we also need the `!important` here to be able to override the default hidden behavior on the sphinx rendered scikit-learn.org. See: https://github.com/scikit-learn/scikit-learn/issues/21755 */display: inline-block !important;position: relative;}#sk-container-id-3 div.sk-text-repr-fallback {display: none;}</style><div id=\"sk-container-id-3\" class=\"sk-top-container\"><div class=\"sk-text-repr-fallback\"><pre>StandardScaler()</pre><b>In a Jupyter environment, please rerun this cell to show the HTML representation or trust the notebook. <br />On GitHub, the HTML representation is unable to render, please try loading this page with nbviewer.org.</b></div><div class=\"sk-container\" hidden><div class=\"sk-item\"><div class=\"sk-estimator sk-toggleable\"><input class=\"sk-toggleable__control sk-hidden--visually\" id=\"sk-estimator-id-3\" type=\"checkbox\" checked><label for=\"sk-estimator-id-3\" class=\"sk-toggleable__label sk-toggleable__label-arrow\">StandardScaler</label><div class=\"sk-toggleable__content\"><pre>StandardScaler()</pre></div></div></div></div></div>"
            ]
          },
          "metadata": {},
          "execution_count": 55
        }
      ]
    },
    {
      "cell_type": "code",
      "source": [
        "cv_train_scal = scaler.transform(cv_matrix_train.toarray())\n",
        "cv_test_scal = scaler.transform(cv_matrix_test.toarray())"
      ],
      "metadata": {
        "id": "i6duv6vzGUA-"
      },
      "execution_count": 56,
      "outputs": []
    },
    {
      "cell_type": "markdown",
      "source": [
        "Обучим логистическую регрессию"
      ],
      "metadata": {
        "id": "RuGVBDOsGpPh"
      }
    },
    {
      "cell_type": "code",
      "source": [
        "logr = LogisticRegression(max_iter=200)\n",
        "logr.fit(cv_train_scal, y_train)"
      ],
      "metadata": {
        "colab": {
          "base_uri": "https://localhost:8080/",
          "height": 74
        },
        "id": "NfhzXwVSGr8p",
        "outputId": "08bf24bf-8c8e-4e37-c88c-d191d4df1541"
      },
      "execution_count": 57,
      "outputs": [
        {
          "output_type": "execute_result",
          "data": {
            "text/plain": [
              "LogisticRegression(max_iter=200)"
            ],
            "text/html": [
              "<style>#sk-container-id-4 {color: black;background-color: white;}#sk-container-id-4 pre{padding: 0;}#sk-container-id-4 div.sk-toggleable {background-color: white;}#sk-container-id-4 label.sk-toggleable__label {cursor: pointer;display: block;width: 100%;margin-bottom: 0;padding: 0.3em;box-sizing: border-box;text-align: center;}#sk-container-id-4 label.sk-toggleable__label-arrow:before {content: \"▸\";float: left;margin-right: 0.25em;color: #696969;}#sk-container-id-4 label.sk-toggleable__label-arrow:hover:before {color: black;}#sk-container-id-4 div.sk-estimator:hover label.sk-toggleable__label-arrow:before {color: black;}#sk-container-id-4 div.sk-toggleable__content {max-height: 0;max-width: 0;overflow: hidden;text-align: left;background-color: #f0f8ff;}#sk-container-id-4 div.sk-toggleable__content pre {margin: 0.2em;color: black;border-radius: 0.25em;background-color: #f0f8ff;}#sk-container-id-4 input.sk-toggleable__control:checked~div.sk-toggleable__content {max-height: 200px;max-width: 100%;overflow: auto;}#sk-container-id-4 input.sk-toggleable__control:checked~label.sk-toggleable__label-arrow:before {content: \"▾\";}#sk-container-id-4 div.sk-estimator input.sk-toggleable__control:checked~label.sk-toggleable__label {background-color: #d4ebff;}#sk-container-id-4 div.sk-label input.sk-toggleable__control:checked~label.sk-toggleable__label {background-color: #d4ebff;}#sk-container-id-4 input.sk-hidden--visually {border: 0;clip: rect(1px 1px 1px 1px);clip: rect(1px, 1px, 1px, 1px);height: 1px;margin: -1px;overflow: hidden;padding: 0;position: absolute;width: 1px;}#sk-container-id-4 div.sk-estimator {font-family: monospace;background-color: #f0f8ff;border: 1px dotted black;border-radius: 0.25em;box-sizing: border-box;margin-bottom: 0.5em;}#sk-container-id-4 div.sk-estimator:hover {background-color: #d4ebff;}#sk-container-id-4 div.sk-parallel-item::after {content: \"\";width: 100%;border-bottom: 1px solid gray;flex-grow: 1;}#sk-container-id-4 div.sk-label:hover label.sk-toggleable__label {background-color: #d4ebff;}#sk-container-id-4 div.sk-serial::before {content: \"\";position: absolute;border-left: 1px solid gray;box-sizing: border-box;top: 0;bottom: 0;left: 50%;z-index: 0;}#sk-container-id-4 div.sk-serial {display: flex;flex-direction: column;align-items: center;background-color: white;padding-right: 0.2em;padding-left: 0.2em;position: relative;}#sk-container-id-4 div.sk-item {position: relative;z-index: 1;}#sk-container-id-4 div.sk-parallel {display: flex;align-items: stretch;justify-content: center;background-color: white;position: relative;}#sk-container-id-4 div.sk-item::before, #sk-container-id-4 div.sk-parallel-item::before {content: \"\";position: absolute;border-left: 1px solid gray;box-sizing: border-box;top: 0;bottom: 0;left: 50%;z-index: -1;}#sk-container-id-4 div.sk-parallel-item {display: flex;flex-direction: column;z-index: 1;position: relative;background-color: white;}#sk-container-id-4 div.sk-parallel-item:first-child::after {align-self: flex-end;width: 50%;}#sk-container-id-4 div.sk-parallel-item:last-child::after {align-self: flex-start;width: 50%;}#sk-container-id-4 div.sk-parallel-item:only-child::after {width: 0;}#sk-container-id-4 div.sk-dashed-wrapped {border: 1px dashed gray;margin: 0 0.4em 0.5em 0.4em;box-sizing: border-box;padding-bottom: 0.4em;background-color: white;}#sk-container-id-4 div.sk-label label {font-family: monospace;font-weight: bold;display: inline-block;line-height: 1.2em;}#sk-container-id-4 div.sk-label-container {text-align: center;}#sk-container-id-4 div.sk-container {/* jupyter's `normalize.less` sets `[hidden] { display: none; }` but bootstrap.min.css set `[hidden] { display: none !important; }` so we also need the `!important` here to be able to override the default hidden behavior on the sphinx rendered scikit-learn.org. See: https://github.com/scikit-learn/scikit-learn/issues/21755 */display: inline-block !important;position: relative;}#sk-container-id-4 div.sk-text-repr-fallback {display: none;}</style><div id=\"sk-container-id-4\" class=\"sk-top-container\"><div class=\"sk-text-repr-fallback\"><pre>LogisticRegression(max_iter=200)</pre><b>In a Jupyter environment, please rerun this cell to show the HTML representation or trust the notebook. <br />On GitHub, the HTML representation is unable to render, please try loading this page with nbviewer.org.</b></div><div class=\"sk-container\" hidden><div class=\"sk-item\"><div class=\"sk-estimator sk-toggleable\"><input class=\"sk-toggleable__control sk-hidden--visually\" id=\"sk-estimator-id-4\" type=\"checkbox\" checked><label for=\"sk-estimator-id-4\" class=\"sk-toggleable__label sk-toggleable__label-arrow\">LogisticRegression</label><div class=\"sk-toggleable__content\"><pre>LogisticRegression(max_iter=200)</pre></div></div></div></div></div>"
            ]
          },
          "metadata": {},
          "execution_count": 57
        }
      ]
    },
    {
      "cell_type": "markdown",
      "source": [
        "Посмотрим на accuracy"
      ],
      "metadata": {
        "id": "turzBes-G0ns"
      }
    },
    {
      "cell_type": "code",
      "source": [
        "acc_train = accuracy_score(logr.predict(cv_train_scal), y_train)\n",
        "acc_test = accuracy_score(logr.predict(cv_test_scal), y_test)\n",
        "print(f'Train : {acc_train}\\nTest : {acc_test}')"
      ],
      "metadata": {
        "colab": {
          "base_uri": "https://localhost:8080/"
        },
        "id": "573j4izGG33h",
        "outputId": "d4b381c9-835a-4549-f241-bac8ef55f196"
      },
      "execution_count": 58,
      "outputs": [
        {
          "output_type": "stream",
          "name": "stdout",
          "text": [
            "Train : 0.9416915847928236\n",
            "Test : 0.8446282639027307\n"
          ]
        }
      ]
    },
    {
      "cell_type": "markdown",
      "source": [
        "accuracy немного уменьшилось, однако в целом осталось на высоком уровне"
      ],
      "metadata": {
        "id": "li37eXodKdnQ"
      }
    },
    {
      "cell_type": "code",
      "source": [
        "weights = logr.coef_[0]\n",
        "tokens = np.array(cv_df.get_feature_names_out())\n",
        "\n",
        "new_df = pd.DataFrame(\n",
        "    {\n",
        "        'tokens' : tokens,\n",
        "        'weights' : weights\n",
        "    }\n",
        ")\n",
        "new_df"
      ],
      "metadata": {
        "colab": {
          "base_uri": "https://localhost:8080/",
          "height": 424
        },
        "id": "AS3d0o1KHbyK",
        "outputId": "699f9e1c-5a69-4e21-9d76-7f2f093c6c65"
      },
      "execution_count": 59,
      "outputs": [
        {
          "output_type": "execute_result",
          "data": {
            "text/plain": [
              "               tokens   weights\n",
              "0               #2020 -0.006290\n",
              "1      #21daylockdown -0.002830\n",
              "2     #21dayslockdown  0.067381\n",
              "3               #7new -0.010649\n",
              "4                 #ad  0.020395\n",
              "...               ...       ...\n",
              "3695          zealand -0.023139\n",
              "3696             zero  0.009880\n",
              "3697            zombi  0.006143\n",
              "3698             zone  0.014903\n",
              "3699             zoom  0.011394\n",
              "\n",
              "[3700 rows x 2 columns]"
            ],
            "text/html": [
              "\n",
              "  <div id=\"df-94b31411-3c31-4cbf-9538-cc3849d8bf40\" class=\"colab-df-container\">\n",
              "    <div>\n",
              "<style scoped>\n",
              "    .dataframe tbody tr th:only-of-type {\n",
              "        vertical-align: middle;\n",
              "    }\n",
              "\n",
              "    .dataframe tbody tr th {\n",
              "        vertical-align: top;\n",
              "    }\n",
              "\n",
              "    .dataframe thead th {\n",
              "        text-align: right;\n",
              "    }\n",
              "</style>\n",
              "<table border=\"1\" class=\"dataframe\">\n",
              "  <thead>\n",
              "    <tr style=\"text-align: right;\">\n",
              "      <th></th>\n",
              "      <th>tokens</th>\n",
              "      <th>weights</th>\n",
              "    </tr>\n",
              "  </thead>\n",
              "  <tbody>\n",
              "    <tr>\n",
              "      <th>0</th>\n",
              "      <td>#2020</td>\n",
              "      <td>-0.006290</td>\n",
              "    </tr>\n",
              "    <tr>\n",
              "      <th>1</th>\n",
              "      <td>#21daylockdown</td>\n",
              "      <td>-0.002830</td>\n",
              "    </tr>\n",
              "    <tr>\n",
              "      <th>2</th>\n",
              "      <td>#21dayslockdown</td>\n",
              "      <td>0.067381</td>\n",
              "    </tr>\n",
              "    <tr>\n",
              "      <th>3</th>\n",
              "      <td>#7new</td>\n",
              "      <td>-0.010649</td>\n",
              "    </tr>\n",
              "    <tr>\n",
              "      <th>4</th>\n",
              "      <td>#ad</td>\n",
              "      <td>0.020395</td>\n",
              "    </tr>\n",
              "    <tr>\n",
              "      <th>...</th>\n",
              "      <td>...</td>\n",
              "      <td>...</td>\n",
              "    </tr>\n",
              "    <tr>\n",
              "      <th>3695</th>\n",
              "      <td>zealand</td>\n",
              "      <td>-0.023139</td>\n",
              "    </tr>\n",
              "    <tr>\n",
              "      <th>3696</th>\n",
              "      <td>zero</td>\n",
              "      <td>0.009880</td>\n",
              "    </tr>\n",
              "    <tr>\n",
              "      <th>3697</th>\n",
              "      <td>zombi</td>\n",
              "      <td>0.006143</td>\n",
              "    </tr>\n",
              "    <tr>\n",
              "      <th>3698</th>\n",
              "      <td>zone</td>\n",
              "      <td>0.014903</td>\n",
              "    </tr>\n",
              "    <tr>\n",
              "      <th>3699</th>\n",
              "      <td>zoom</td>\n",
              "      <td>0.011394</td>\n",
              "    </tr>\n",
              "  </tbody>\n",
              "</table>\n",
              "<p>3700 rows × 2 columns</p>\n",
              "</div>\n",
              "    <div class=\"colab-df-buttons\">\n",
              "\n",
              "  <div class=\"colab-df-container\">\n",
              "    <button class=\"colab-df-convert\" onclick=\"convertToInteractive('df-94b31411-3c31-4cbf-9538-cc3849d8bf40')\"\n",
              "            title=\"Convert this dataframe to an interactive table.\"\n",
              "            style=\"display:none;\">\n",
              "\n",
              "  <svg xmlns=\"http://www.w3.org/2000/svg\" height=\"24px\" viewBox=\"0 -960 960 960\">\n",
              "    <path d=\"M120-120v-720h720v720H120Zm60-500h600v-160H180v160Zm220 220h160v-160H400v160Zm0 220h160v-160H400v160ZM180-400h160v-160H180v160Zm440 0h160v-160H620v160ZM180-180h160v-160H180v160Zm440 0h160v-160H620v160Z\"/>\n",
              "  </svg>\n",
              "    </button>\n",
              "\n",
              "  <style>\n",
              "    .colab-df-container {\n",
              "      display:flex;\n",
              "      gap: 12px;\n",
              "    }\n",
              "\n",
              "    .colab-df-convert {\n",
              "      background-color: #E8F0FE;\n",
              "      border: none;\n",
              "      border-radius: 50%;\n",
              "      cursor: pointer;\n",
              "      display: none;\n",
              "      fill: #1967D2;\n",
              "      height: 32px;\n",
              "      padding: 0 0 0 0;\n",
              "      width: 32px;\n",
              "    }\n",
              "\n",
              "    .colab-df-convert:hover {\n",
              "      background-color: #E2EBFA;\n",
              "      box-shadow: 0px 1px 2px rgba(60, 64, 67, 0.3), 0px 1px 3px 1px rgba(60, 64, 67, 0.15);\n",
              "      fill: #174EA6;\n",
              "    }\n",
              "\n",
              "    .colab-df-buttons div {\n",
              "      margin-bottom: 4px;\n",
              "    }\n",
              "\n",
              "    [theme=dark] .colab-df-convert {\n",
              "      background-color: #3B4455;\n",
              "      fill: #D2E3FC;\n",
              "    }\n",
              "\n",
              "    [theme=dark] .colab-df-convert:hover {\n",
              "      background-color: #434B5C;\n",
              "      box-shadow: 0px 1px 3px 1px rgba(0, 0, 0, 0.15);\n",
              "      filter: drop-shadow(0px 1px 2px rgba(0, 0, 0, 0.3));\n",
              "      fill: #FFFFFF;\n",
              "    }\n",
              "  </style>\n",
              "\n",
              "    <script>\n",
              "      const buttonEl =\n",
              "        document.querySelector('#df-94b31411-3c31-4cbf-9538-cc3849d8bf40 button.colab-df-convert');\n",
              "      buttonEl.style.display =\n",
              "        google.colab.kernel.accessAllowed ? 'block' : 'none';\n",
              "\n",
              "      async function convertToInteractive(key) {\n",
              "        const element = document.querySelector('#df-94b31411-3c31-4cbf-9538-cc3849d8bf40');\n",
              "        const dataTable =\n",
              "          await google.colab.kernel.invokeFunction('convertToInteractive',\n",
              "                                                    [key], {});\n",
              "        if (!dataTable) return;\n",
              "\n",
              "        const docLinkHtml = 'Like what you see? Visit the ' +\n",
              "          '<a target=\"_blank\" href=https://colab.research.google.com/notebooks/data_table.ipynb>data table notebook</a>'\n",
              "          + ' to learn more about interactive tables.';\n",
              "        element.innerHTML = '';\n",
              "        dataTable['output_type'] = 'display_data';\n",
              "        await google.colab.output.renderOutput(dataTable, element);\n",
              "        const docLink = document.createElement('div');\n",
              "        docLink.innerHTML = docLinkHtml;\n",
              "        element.appendChild(docLink);\n",
              "      }\n",
              "    </script>\n",
              "  </div>\n",
              "\n",
              "\n",
              "<div id=\"df-ab761c4d-900a-4c58-93cb-c394f88bf047\">\n",
              "  <button class=\"colab-df-quickchart\" onclick=\"quickchart('df-ab761c4d-900a-4c58-93cb-c394f88bf047')\"\n",
              "            title=\"Suggest charts\"\n",
              "            style=\"display:none;\">\n",
              "\n",
              "<svg xmlns=\"http://www.w3.org/2000/svg\" height=\"24px\"viewBox=\"0 0 24 24\"\n",
              "     width=\"24px\">\n",
              "    <g>\n",
              "        <path d=\"M19 3H5c-1.1 0-2 .9-2 2v14c0 1.1.9 2 2 2h14c1.1 0 2-.9 2-2V5c0-1.1-.9-2-2-2zM9 17H7v-7h2v7zm4 0h-2V7h2v10zm4 0h-2v-4h2v4z\"/>\n",
              "    </g>\n",
              "</svg>\n",
              "  </button>\n",
              "\n",
              "<style>\n",
              "  .colab-df-quickchart {\n",
              "      --bg-color: #E8F0FE;\n",
              "      --fill-color: #1967D2;\n",
              "      --hover-bg-color: #E2EBFA;\n",
              "      --hover-fill-color: #174EA6;\n",
              "      --disabled-fill-color: #AAA;\n",
              "      --disabled-bg-color: #DDD;\n",
              "  }\n",
              "\n",
              "  [theme=dark] .colab-df-quickchart {\n",
              "      --bg-color: #3B4455;\n",
              "      --fill-color: #D2E3FC;\n",
              "      --hover-bg-color: #434B5C;\n",
              "      --hover-fill-color: #FFFFFF;\n",
              "      --disabled-bg-color: #3B4455;\n",
              "      --disabled-fill-color: #666;\n",
              "  }\n",
              "\n",
              "  .colab-df-quickchart {\n",
              "    background-color: var(--bg-color);\n",
              "    border: none;\n",
              "    border-radius: 50%;\n",
              "    cursor: pointer;\n",
              "    display: none;\n",
              "    fill: var(--fill-color);\n",
              "    height: 32px;\n",
              "    padding: 0;\n",
              "    width: 32px;\n",
              "  }\n",
              "\n",
              "  .colab-df-quickchart:hover {\n",
              "    background-color: var(--hover-bg-color);\n",
              "    box-shadow: 0 1px 2px rgba(60, 64, 67, 0.3), 0 1px 3px 1px rgba(60, 64, 67, 0.15);\n",
              "    fill: var(--button-hover-fill-color);\n",
              "  }\n",
              "\n",
              "  .colab-df-quickchart-complete:disabled,\n",
              "  .colab-df-quickchart-complete:disabled:hover {\n",
              "    background-color: var(--disabled-bg-color);\n",
              "    fill: var(--disabled-fill-color);\n",
              "    box-shadow: none;\n",
              "  }\n",
              "\n",
              "  .colab-df-spinner {\n",
              "    border: 2px solid var(--fill-color);\n",
              "    border-color: transparent;\n",
              "    border-bottom-color: var(--fill-color);\n",
              "    animation:\n",
              "      spin 1s steps(1) infinite;\n",
              "  }\n",
              "\n",
              "  @keyframes spin {\n",
              "    0% {\n",
              "      border-color: transparent;\n",
              "      border-bottom-color: var(--fill-color);\n",
              "      border-left-color: var(--fill-color);\n",
              "    }\n",
              "    20% {\n",
              "      border-color: transparent;\n",
              "      border-left-color: var(--fill-color);\n",
              "      border-top-color: var(--fill-color);\n",
              "    }\n",
              "    30% {\n",
              "      border-color: transparent;\n",
              "      border-left-color: var(--fill-color);\n",
              "      border-top-color: var(--fill-color);\n",
              "      border-right-color: var(--fill-color);\n",
              "    }\n",
              "    40% {\n",
              "      border-color: transparent;\n",
              "      border-right-color: var(--fill-color);\n",
              "      border-top-color: var(--fill-color);\n",
              "    }\n",
              "    60% {\n",
              "      border-color: transparent;\n",
              "      border-right-color: var(--fill-color);\n",
              "    }\n",
              "    80% {\n",
              "      border-color: transparent;\n",
              "      border-right-color: var(--fill-color);\n",
              "      border-bottom-color: var(--fill-color);\n",
              "    }\n",
              "    90% {\n",
              "      border-color: transparent;\n",
              "      border-bottom-color: var(--fill-color);\n",
              "    }\n",
              "  }\n",
              "</style>\n",
              "\n",
              "  <script>\n",
              "    async function quickchart(key) {\n",
              "      const quickchartButtonEl =\n",
              "        document.querySelector('#' + key + ' button');\n",
              "      quickchartButtonEl.disabled = true;  // To prevent multiple clicks.\n",
              "      quickchartButtonEl.classList.add('colab-df-spinner');\n",
              "      try {\n",
              "        const charts = await google.colab.kernel.invokeFunction(\n",
              "            'suggestCharts', [key], {});\n",
              "      } catch (error) {\n",
              "        console.error('Error during call to suggestCharts:', error);\n",
              "      }\n",
              "      quickchartButtonEl.classList.remove('colab-df-spinner');\n",
              "      quickchartButtonEl.classList.add('colab-df-quickchart-complete');\n",
              "    }\n",
              "    (() => {\n",
              "      let quickchartButtonEl =\n",
              "        document.querySelector('#df-ab761c4d-900a-4c58-93cb-c394f88bf047 button');\n",
              "      quickchartButtonEl.style.display =\n",
              "        google.colab.kernel.accessAllowed ? 'block' : 'none';\n",
              "    })();\n",
              "  </script>\n",
              "</div>\n",
              "    </div>\n",
              "  </div>\n"
            ],
            "application/vnd.google.colaboratory.intrinsic+json": {
              "type": "dataframe",
              "variable_name": "new_df",
              "summary": "{\n  \"name\": \"new_df\",\n  \"rows\": 3700,\n  \"fields\": [\n    {\n      \"column\": \"tokens\",\n      \"properties\": {\n        \"dtype\": \"string\",\n        \"num_unique_values\": 3700,\n        \"samples\": [\n          \"commerci\",\n          \"overlook\",\n          \"#trump\"\n        ],\n        \"semantic_type\": \"\",\n        \"description\": \"\"\n      }\n    },\n    {\n      \"column\": \"weights\",\n      \"properties\": {\n        \"dtype\": \"number\",\n        \"std\": 0.12716908224524542,\n        \"min\": -1.752453469844478,\n        \"max\": 1.2317627848921382,\n        \"num_unique_values\": 3699,\n        \"samples\": [\n          0.004703537744158084,\n          -0.0010103910371832192,\n          0.05922447345581034\n        ],\n        \"semantic_type\": \"\",\n        \"description\": \"\"\n      }\n    }\n  ]\n}"
            }
          },
          "metadata": {},
          "execution_count": 59
        }
      ]
    },
    {
      "cell_type": "markdown",
      "source": [
        "Найдем 10 наибольших положительных весов"
      ],
      "metadata": {
        "id": "HxF0x1osI9OT"
      }
    },
    {
      "cell_type": "code",
      "source": [
        "maxx = new_df.nlargest(10, 'weights')\n",
        "maxx"
      ],
      "metadata": {
        "colab": {
          "base_uri": "https://localhost:8080/",
          "height": 363
        },
        "id": "jWclJAo0JEs7",
        "outputId": "ea9f303e-cc75-4f03-f870-cdf9977b2bd9"
      },
      "execution_count": 60,
      "outputs": [
        {
          "output_type": "execute_result",
          "data": {
            "text/plain": [
              "       tokens   weights\n",
              "1792     hand  1.231763\n",
              "1651     free  1.108295\n",
              "1830     help  1.078967\n",
              "3323    thank  1.043814\n",
              "2126     like  0.932089\n",
              "776      best  0.922209\n",
              "2576    pleas  0.839675\n",
              "1757    great  0.817236\n",
              "2911     safe  0.793572\n",
              "3248  support  0.744183"
            ],
            "text/html": [
              "\n",
              "  <div id=\"df-aa11fda7-0091-48c9-97c3-fdd713abfa79\" class=\"colab-df-container\">\n",
              "    <div>\n",
              "<style scoped>\n",
              "    .dataframe tbody tr th:only-of-type {\n",
              "        vertical-align: middle;\n",
              "    }\n",
              "\n",
              "    .dataframe tbody tr th {\n",
              "        vertical-align: top;\n",
              "    }\n",
              "\n",
              "    .dataframe thead th {\n",
              "        text-align: right;\n",
              "    }\n",
              "</style>\n",
              "<table border=\"1\" class=\"dataframe\">\n",
              "  <thead>\n",
              "    <tr style=\"text-align: right;\">\n",
              "      <th></th>\n",
              "      <th>tokens</th>\n",
              "      <th>weights</th>\n",
              "    </tr>\n",
              "  </thead>\n",
              "  <tbody>\n",
              "    <tr>\n",
              "      <th>1792</th>\n",
              "      <td>hand</td>\n",
              "      <td>1.231763</td>\n",
              "    </tr>\n",
              "    <tr>\n",
              "      <th>1651</th>\n",
              "      <td>free</td>\n",
              "      <td>1.108295</td>\n",
              "    </tr>\n",
              "    <tr>\n",
              "      <th>1830</th>\n",
              "      <td>help</td>\n",
              "      <td>1.078967</td>\n",
              "    </tr>\n",
              "    <tr>\n",
              "      <th>3323</th>\n",
              "      <td>thank</td>\n",
              "      <td>1.043814</td>\n",
              "    </tr>\n",
              "    <tr>\n",
              "      <th>2126</th>\n",
              "      <td>like</td>\n",
              "      <td>0.932089</td>\n",
              "    </tr>\n",
              "    <tr>\n",
              "      <th>776</th>\n",
              "      <td>best</td>\n",
              "      <td>0.922209</td>\n",
              "    </tr>\n",
              "    <tr>\n",
              "      <th>2576</th>\n",
              "      <td>pleas</td>\n",
              "      <td>0.839675</td>\n",
              "    </tr>\n",
              "    <tr>\n",
              "      <th>1757</th>\n",
              "      <td>great</td>\n",
              "      <td>0.817236</td>\n",
              "    </tr>\n",
              "    <tr>\n",
              "      <th>2911</th>\n",
              "      <td>safe</td>\n",
              "      <td>0.793572</td>\n",
              "    </tr>\n",
              "    <tr>\n",
              "      <th>3248</th>\n",
              "      <td>support</td>\n",
              "      <td>0.744183</td>\n",
              "    </tr>\n",
              "  </tbody>\n",
              "</table>\n",
              "</div>\n",
              "    <div class=\"colab-df-buttons\">\n",
              "\n",
              "  <div class=\"colab-df-container\">\n",
              "    <button class=\"colab-df-convert\" onclick=\"convertToInteractive('df-aa11fda7-0091-48c9-97c3-fdd713abfa79')\"\n",
              "            title=\"Convert this dataframe to an interactive table.\"\n",
              "            style=\"display:none;\">\n",
              "\n",
              "  <svg xmlns=\"http://www.w3.org/2000/svg\" height=\"24px\" viewBox=\"0 -960 960 960\">\n",
              "    <path d=\"M120-120v-720h720v720H120Zm60-500h600v-160H180v160Zm220 220h160v-160H400v160Zm0 220h160v-160H400v160ZM180-400h160v-160H180v160Zm440 0h160v-160H620v160ZM180-180h160v-160H180v160Zm440 0h160v-160H620v160Z\"/>\n",
              "  </svg>\n",
              "    </button>\n",
              "\n",
              "  <style>\n",
              "    .colab-df-container {\n",
              "      display:flex;\n",
              "      gap: 12px;\n",
              "    }\n",
              "\n",
              "    .colab-df-convert {\n",
              "      background-color: #E8F0FE;\n",
              "      border: none;\n",
              "      border-radius: 50%;\n",
              "      cursor: pointer;\n",
              "      display: none;\n",
              "      fill: #1967D2;\n",
              "      height: 32px;\n",
              "      padding: 0 0 0 0;\n",
              "      width: 32px;\n",
              "    }\n",
              "\n",
              "    .colab-df-convert:hover {\n",
              "      background-color: #E2EBFA;\n",
              "      box-shadow: 0px 1px 2px rgba(60, 64, 67, 0.3), 0px 1px 3px 1px rgba(60, 64, 67, 0.15);\n",
              "      fill: #174EA6;\n",
              "    }\n",
              "\n",
              "    .colab-df-buttons div {\n",
              "      margin-bottom: 4px;\n",
              "    }\n",
              "\n",
              "    [theme=dark] .colab-df-convert {\n",
              "      background-color: #3B4455;\n",
              "      fill: #D2E3FC;\n",
              "    }\n",
              "\n",
              "    [theme=dark] .colab-df-convert:hover {\n",
              "      background-color: #434B5C;\n",
              "      box-shadow: 0px 1px 3px 1px rgba(0, 0, 0, 0.15);\n",
              "      filter: drop-shadow(0px 1px 2px rgba(0, 0, 0, 0.3));\n",
              "      fill: #FFFFFF;\n",
              "    }\n",
              "  </style>\n",
              "\n",
              "    <script>\n",
              "      const buttonEl =\n",
              "        document.querySelector('#df-aa11fda7-0091-48c9-97c3-fdd713abfa79 button.colab-df-convert');\n",
              "      buttonEl.style.display =\n",
              "        google.colab.kernel.accessAllowed ? 'block' : 'none';\n",
              "\n",
              "      async function convertToInteractive(key) {\n",
              "        const element = document.querySelector('#df-aa11fda7-0091-48c9-97c3-fdd713abfa79');\n",
              "        const dataTable =\n",
              "          await google.colab.kernel.invokeFunction('convertToInteractive',\n",
              "                                                    [key], {});\n",
              "        if (!dataTable) return;\n",
              "\n",
              "        const docLinkHtml = 'Like what you see? Visit the ' +\n",
              "          '<a target=\"_blank\" href=https://colab.research.google.com/notebooks/data_table.ipynb>data table notebook</a>'\n",
              "          + ' to learn more about interactive tables.';\n",
              "        element.innerHTML = '';\n",
              "        dataTable['output_type'] = 'display_data';\n",
              "        await google.colab.output.renderOutput(dataTable, element);\n",
              "        const docLink = document.createElement('div');\n",
              "        docLink.innerHTML = docLinkHtml;\n",
              "        element.appendChild(docLink);\n",
              "      }\n",
              "    </script>\n",
              "  </div>\n",
              "\n",
              "\n",
              "<div id=\"df-f73c8ee2-9561-4979-ae94-d6fb52607ef3\">\n",
              "  <button class=\"colab-df-quickchart\" onclick=\"quickchart('df-f73c8ee2-9561-4979-ae94-d6fb52607ef3')\"\n",
              "            title=\"Suggest charts\"\n",
              "            style=\"display:none;\">\n",
              "\n",
              "<svg xmlns=\"http://www.w3.org/2000/svg\" height=\"24px\"viewBox=\"0 0 24 24\"\n",
              "     width=\"24px\">\n",
              "    <g>\n",
              "        <path d=\"M19 3H5c-1.1 0-2 .9-2 2v14c0 1.1.9 2 2 2h14c1.1 0 2-.9 2-2V5c0-1.1-.9-2-2-2zM9 17H7v-7h2v7zm4 0h-2V7h2v10zm4 0h-2v-4h2v4z\"/>\n",
              "    </g>\n",
              "</svg>\n",
              "  </button>\n",
              "\n",
              "<style>\n",
              "  .colab-df-quickchart {\n",
              "      --bg-color: #E8F0FE;\n",
              "      --fill-color: #1967D2;\n",
              "      --hover-bg-color: #E2EBFA;\n",
              "      --hover-fill-color: #174EA6;\n",
              "      --disabled-fill-color: #AAA;\n",
              "      --disabled-bg-color: #DDD;\n",
              "  }\n",
              "\n",
              "  [theme=dark] .colab-df-quickchart {\n",
              "      --bg-color: #3B4455;\n",
              "      --fill-color: #D2E3FC;\n",
              "      --hover-bg-color: #434B5C;\n",
              "      --hover-fill-color: #FFFFFF;\n",
              "      --disabled-bg-color: #3B4455;\n",
              "      --disabled-fill-color: #666;\n",
              "  }\n",
              "\n",
              "  .colab-df-quickchart {\n",
              "    background-color: var(--bg-color);\n",
              "    border: none;\n",
              "    border-radius: 50%;\n",
              "    cursor: pointer;\n",
              "    display: none;\n",
              "    fill: var(--fill-color);\n",
              "    height: 32px;\n",
              "    padding: 0;\n",
              "    width: 32px;\n",
              "  }\n",
              "\n",
              "  .colab-df-quickchart:hover {\n",
              "    background-color: var(--hover-bg-color);\n",
              "    box-shadow: 0 1px 2px rgba(60, 64, 67, 0.3), 0 1px 3px 1px rgba(60, 64, 67, 0.15);\n",
              "    fill: var(--button-hover-fill-color);\n",
              "  }\n",
              "\n",
              "  .colab-df-quickchart-complete:disabled,\n",
              "  .colab-df-quickchart-complete:disabled:hover {\n",
              "    background-color: var(--disabled-bg-color);\n",
              "    fill: var(--disabled-fill-color);\n",
              "    box-shadow: none;\n",
              "  }\n",
              "\n",
              "  .colab-df-spinner {\n",
              "    border: 2px solid var(--fill-color);\n",
              "    border-color: transparent;\n",
              "    border-bottom-color: var(--fill-color);\n",
              "    animation:\n",
              "      spin 1s steps(1) infinite;\n",
              "  }\n",
              "\n",
              "  @keyframes spin {\n",
              "    0% {\n",
              "      border-color: transparent;\n",
              "      border-bottom-color: var(--fill-color);\n",
              "      border-left-color: var(--fill-color);\n",
              "    }\n",
              "    20% {\n",
              "      border-color: transparent;\n",
              "      border-left-color: var(--fill-color);\n",
              "      border-top-color: var(--fill-color);\n",
              "    }\n",
              "    30% {\n",
              "      border-color: transparent;\n",
              "      border-left-color: var(--fill-color);\n",
              "      border-top-color: var(--fill-color);\n",
              "      border-right-color: var(--fill-color);\n",
              "    }\n",
              "    40% {\n",
              "      border-color: transparent;\n",
              "      border-right-color: var(--fill-color);\n",
              "      border-top-color: var(--fill-color);\n",
              "    }\n",
              "    60% {\n",
              "      border-color: transparent;\n",
              "      border-right-color: var(--fill-color);\n",
              "    }\n",
              "    80% {\n",
              "      border-color: transparent;\n",
              "      border-right-color: var(--fill-color);\n",
              "      border-bottom-color: var(--fill-color);\n",
              "    }\n",
              "    90% {\n",
              "      border-color: transparent;\n",
              "      border-bottom-color: var(--fill-color);\n",
              "    }\n",
              "  }\n",
              "</style>\n",
              "\n",
              "  <script>\n",
              "    async function quickchart(key) {\n",
              "      const quickchartButtonEl =\n",
              "        document.querySelector('#' + key + ' button');\n",
              "      quickchartButtonEl.disabled = true;  // To prevent multiple clicks.\n",
              "      quickchartButtonEl.classList.add('colab-df-spinner');\n",
              "      try {\n",
              "        const charts = await google.colab.kernel.invokeFunction(\n",
              "            'suggestCharts', [key], {});\n",
              "      } catch (error) {\n",
              "        console.error('Error during call to suggestCharts:', error);\n",
              "      }\n",
              "      quickchartButtonEl.classList.remove('colab-df-spinner');\n",
              "      quickchartButtonEl.classList.add('colab-df-quickchart-complete');\n",
              "    }\n",
              "    (() => {\n",
              "      let quickchartButtonEl =\n",
              "        document.querySelector('#df-f73c8ee2-9561-4979-ae94-d6fb52607ef3 button');\n",
              "      quickchartButtonEl.style.display =\n",
              "        google.colab.kernel.accessAllowed ? 'block' : 'none';\n",
              "    })();\n",
              "  </script>\n",
              "</div>\n",
              "    </div>\n",
              "  </div>\n"
            ],
            "application/vnd.google.colaboratory.intrinsic+json": {
              "type": "dataframe",
              "variable_name": "maxx",
              "summary": "{\n  \"name\": \"maxx\",\n  \"rows\": 10,\n  \"fields\": [\n    {\n      \"column\": \"tokens\",\n      \"properties\": {\n        \"dtype\": \"string\",\n        \"num_unique_values\": 10,\n        \"samples\": [\n          \"safe\",\n          \"free\",\n          \"best\"\n        ],\n        \"semantic_type\": \"\",\n        \"description\": \"\"\n      }\n    },\n    {\n      \"column\": \"weights\",\n      \"properties\": {\n        \"dtype\": \"number\",\n        \"std\": 0.1590208758821692,\n        \"min\": 0.7441825078844944,\n        \"max\": 1.2317627848921382,\n        \"num_unique_values\": 10,\n        \"samples\": [\n          0.7935721354979309,\n          1.1082948334330491,\n          0.922208774090928\n        ],\n        \"semantic_type\": \"\",\n        \"description\": \"\"\n      }\n    }\n  ]\n}"
            }
          },
          "metadata": {},
          "execution_count": 60
        }
      ]
    },
    {
      "cell_type": "markdown",
      "source": [
        "Построим диаграмму"
      ],
      "metadata": {
        "id": "yNVEduJMJee9"
      }
    },
    {
      "cell_type": "code",
      "source": [
        "plt.figure(figsize=(10, 6))\n",
        "plt.bar(maxx['tokens'], maxx['weights'], color='skyblue')\n",
        "plt.xlabel('token')\n",
        "plt.ylabel('weight')\n",
        "plt.title('Top 10 tokens with max positive weights')\n",
        "plt.xticks(maxx['tokens'])\n",
        "plt.grid(axis='y', linestyle='--', alpha=0.7)\n",
        "plt.show()"
      ],
      "metadata": {
        "colab": {
          "base_uri": "https://localhost:8080/",
          "height": 564
        },
        "id": "9QVhLW0IJgO8",
        "outputId": "2d556599-c139-4245-97fb-da7b6260b2c3"
      },
      "execution_count": 61,
      "outputs": [
        {
          "output_type": "display_data",
          "data": {
            "text/plain": [
              "<Figure size 1000x600 with 1 Axes>"
            ],
            "image/png": "[encoded data removed]"
          },
          "metadata": {}
        }
      ]
    },
    {
      "cell_type": "markdown",
      "source": [
        "Найдем 10 наибольших по модулю отрицательных весов"
      ],
      "metadata": {
        "id": "werhWdAiJ10I"
      }
    },
    {
      "cell_type": "code",
      "source": [
        "minn = new_df.nsmallest(10, 'weights')\n",
        "minn"
      ],
      "metadata": {
        "colab": {
          "base_uri": "https://localhost:8080/",
          "height": 363
        },
        "id": "5SQReOseJ9_z",
        "outputId": "4d7c1a16-5ef2-4919-d400-ccf2101e424a"
      },
      "execution_count": 62,
      "outputs": [
        {
          "output_type": "execute_result",
          "data": {
            "text/plain": [
              "     tokens   weights\n",
              "1163  crisi -1.752453\n",
              "2486  panic -1.311949\n",
              "2937   scam -1.067288\n",
              "2048   kill -0.763717\n",
              "1170  crude -0.615644\n",
              "3191   stop -0.605137\n",
              "1560   fear -0.575225\n",
              "1409  emerg -0.563132\n",
              "3673    wtf -0.552442\n",
              "1577  fight -0.542246"
            ],
            "text/html": [
              "\n",
              "  <div id=\"df-e6baf089-9fcd-4aa0-a041-852e58b783a6\" class=\"colab-df-container\">\n",
              "    <div>\n",
              "<style scoped>\n",
              "    .dataframe tbody tr th:only-of-type {\n",
              "        vertical-align: middle;\n",
              "    }\n",
              "\n",
              "    .dataframe tbody tr th {\n",
              "        vertical-align: top;\n",
              "    }\n",
              "\n",
              "    .dataframe thead th {\n",
              "        text-align: right;\n",
              "    }\n",
              "</style>\n",
              "<table border=\"1\" class=\"dataframe\">\n",
              "  <thead>\n",
              "    <tr style=\"text-align: right;\">\n",
              "      <th></th>\n",
              "      <th>tokens</th>\n",
              "      <th>weights</th>\n",
              "    </tr>\n",
              "  </thead>\n",
              "  <tbody>\n",
              "    <tr>\n",
              "      <th>1163</th>\n",
              "      <td>crisi</td>\n",
              "      <td>-1.752453</td>\n",
              "    </tr>\n",
              "    <tr>\n",
              "      <th>2486</th>\n",
              "      <td>panic</td>\n",
              "      <td>-1.311949</td>\n",
              "    </tr>\n",
              "    <tr>\n",
              "      <th>2937</th>\n",
              "      <td>scam</td>\n",
              "      <td>-1.067288</td>\n",
              "    </tr>\n",
              "    <tr>\n",
              "      <th>2048</th>\n",
              "      <td>kill</td>\n",
              "      <td>-0.763717</td>\n",
              "    </tr>\n",
              "    <tr>\n",
              "      <th>1170</th>\n",
              "      <td>crude</td>\n",
              "      <td>-0.615644</td>\n",
              "    </tr>\n",
              "    <tr>\n",
              "      <th>3191</th>\n",
              "      <td>stop</td>\n",
              "      <td>-0.605137</td>\n",
              "    </tr>\n",
              "    <tr>\n",
              "      <th>1560</th>\n",
              "      <td>fear</td>\n",
              "      <td>-0.575225</td>\n",
              "    </tr>\n",
              "    <tr>\n",
              "      <th>1409</th>\n",
              "      <td>emerg</td>\n",
              "      <td>-0.563132</td>\n",
              "    </tr>\n",
              "    <tr>\n",
              "      <th>3673</th>\n",
              "      <td>wtf</td>\n",
              "      <td>-0.552442</td>\n",
              "    </tr>\n",
              "    <tr>\n",
              "      <th>1577</th>\n",
              "      <td>fight</td>\n",
              "      <td>-0.542246</td>\n",
              "    </tr>\n",
              "  </tbody>\n",
              "</table>\n",
              "</div>\n",
              "    <div class=\"colab-df-buttons\">\n",
              "\n",
              "  <div class=\"colab-df-container\">\n",
              "    <button class=\"colab-df-convert\" onclick=\"convertToInteractive('df-e6baf089-9fcd-4aa0-a041-852e58b783a6')\"\n",
              "            title=\"Convert this dataframe to an interactive table.\"\n",
              "            style=\"display:none;\">\n",
              "\n",
              "  <svg xmlns=\"http://www.w3.org/2000/svg\" height=\"24px\" viewBox=\"0 -960 960 960\">\n",
              "    <path d=\"M120-120v-720h720v720H120Zm60-500h600v-160H180v160Zm220 220h160v-160H400v160Zm0 220h160v-160H400v160ZM180-400h160v-160H180v160Zm440 0h160v-160H620v160ZM180-180h160v-160H180v160Zm440 0h160v-160H620v160Z\"/>\n",
              "  </svg>\n",
              "    </button>\n",
              "\n",
              "  <style>\n",
              "    .colab-df-container {\n",
              "      display:flex;\n",
              "      gap: 12px;\n",
              "    }\n",
              "\n",
              "    .colab-df-convert {\n",
              "      background-color: #E8F0FE;\n",
              "      border: none;\n",
              "      border-radius: 50%;\n",
              "      cursor: pointer;\n",
              "      display: none;\n",
              "      fill: #1967D2;\n",
              "      height: 32px;\n",
              "      padding: 0 0 0 0;\n",
              "      width: 32px;\n",
              "    }\n",
              "\n",
              "    .colab-df-convert:hover {\n",
              "      background-color: #E2EBFA;\n",
              "      box-shadow: 0px 1px 2px rgba(60, 64, 67, 0.3), 0px 1px 3px 1px rgba(60, 64, 67, 0.15);\n",
              "      fill: #174EA6;\n",
              "    }\n",
              "\n",
              "    .colab-df-buttons div {\n",
              "      margin-bottom: 4px;\n",
              "    }\n",
              "\n",
              "    [theme=dark] .colab-df-convert {\n",
              "      background-color: #3B4455;\n",
              "      fill: #D2E3FC;\n",
              "    }\n",
              "\n",
              "    [theme=dark] .colab-df-convert:hover {\n",
              "      background-color: #434B5C;\n",
              "      box-shadow: 0px 1px 3px 1px rgba(0, 0, 0, 0.15);\n",
              "      filter: drop-shadow(0px 1px 2px rgba(0, 0, 0, 0.3));\n",
              "      fill: #FFFFFF;\n",
              "    }\n",
              "  </style>\n",
              "\n",
              "    <script>\n",
              "      const buttonEl =\n",
              "        document.querySelector('#df-e6baf089-9fcd-4aa0-a041-852e58b783a6 button.colab-df-convert');\n",
              "      buttonEl.style.display =\n",
              "        google.colab.kernel.accessAllowed ? 'block' : 'none';\n",
              "\n",
              "      async function convertToInteractive(key) {\n",
              "        const element = document.querySelector('#df-e6baf089-9fcd-4aa0-a041-852e58b783a6');\n",
              "        const dataTable =\n",
              "          await google.colab.kernel.invokeFunction('convertToInteractive',\n",
              "                                                    [key], {});\n",
              "        if (!dataTable) return;\n",
              "\n",
              "        const docLinkHtml = 'Like what you see? Visit the ' +\n",
              "          '<a target=\"_blank\" href=https://colab.research.google.com/notebooks/data_table.ipynb>data table notebook</a>'\n",
              "          + ' to learn more about interactive tables.';\n",
              "        element.innerHTML = '';\n",
              "        dataTable['output_type'] = 'display_data';\n",
              "        await google.colab.output.renderOutput(dataTable, element);\n",
              "        const docLink = document.createElement('div');\n",
              "        docLink.innerHTML = docLinkHtml;\n",
              "        element.appendChild(docLink);\n",
              "      }\n",
              "    </script>\n",
              "  </div>\n",
              "\n",
              "\n",
              "<div id=\"df-b24f877d-9a2d-40ed-8c67-c7c1c416f61c\">\n",
              "  <button class=\"colab-df-quickchart\" onclick=\"quickchart('df-b24f877d-9a2d-40ed-8c67-c7c1c416f61c')\"\n",
              "            title=\"Suggest charts\"\n",
              "            style=\"display:none;\">\n",
              "\n",
              "<svg xmlns=\"http://www.w3.org/2000/svg\" height=\"24px\"viewBox=\"0 0 24 24\"\n",
              "     width=\"24px\">\n",
              "    <g>\n",
              "        <path d=\"M19 3H5c-1.1 0-2 .9-2 2v14c0 1.1.9 2 2 2h14c1.1 0 2-.9 2-2V5c0-1.1-.9-2-2-2zM9 17H7v-7h2v7zm4 0h-2V7h2v10zm4 0h-2v-4h2v4z\"/>\n",
              "    </g>\n",
              "</svg>\n",
              "  </button>\n",
              "\n",
              "<style>\n",
              "  .colab-df-quickchart {\n",
              "      --bg-color: #E8F0FE;\n",
              "      --fill-color: #1967D2;\n",
              "      --hover-bg-color: #E2EBFA;\n",
              "      --hover-fill-color: #174EA6;\n",
              "      --disabled-fill-color: #AAA;\n",
              "      --disabled-bg-color: #DDD;\n",
              "  }\n",
              "\n",
              "  [theme=dark] .colab-df-quickchart {\n",
              "      --bg-color: #3B4455;\n",
              "      --fill-color: #D2E3FC;\n",
              "      --hover-bg-color: #434B5C;\n",
              "      --hover-fill-color: #FFFFFF;\n",
              "      --disabled-bg-color: #3B4455;\n",
              "      --disabled-fill-color: #666;\n",
              "  }\n",
              "\n",
              "  .colab-df-quickchart {\n",
              "    background-color: var(--bg-color);\n",
              "    border: none;\n",
              "    border-radius: 50%;\n",
              "    cursor: pointer;\n",
              "    display: none;\n",
              "    fill: var(--fill-color);\n",
              "    height: 32px;\n",
              "    padding: 0;\n",
              "    width: 32px;\n",
              "  }\n",
              "\n",
              "  .colab-df-quickchart:hover {\n",
              "    background-color: var(--hover-bg-color);\n",
              "    box-shadow: 0 1px 2px rgba(60, 64, 67, 0.3), 0 1px 3px 1px rgba(60, 64, 67, 0.15);\n",
              "    fill: var(--button-hover-fill-color);\n",
              "  }\n",
              "\n",
              "  .colab-df-quickchart-complete:disabled,\n",
              "  .colab-df-quickchart-complete:disabled:hover {\n",
              "    background-color: var(--disabled-bg-color);\n",
              "    fill: var(--disabled-fill-color);\n",
              "    box-shadow: none;\n",
              "  }\n",
              "\n",
              "  .colab-df-spinner {\n",
              "    border: 2px solid var(--fill-color);\n",
              "    border-color: transparent;\n",
              "    border-bottom-color: var(--fill-color);\n",
              "    animation:\n",
              "      spin 1s steps(1) infinite;\n",
              "  }\n",
              "\n",
              "  @keyframes spin {\n",
              "    0% {\n",
              "      border-color: transparent;\n",
              "      border-bottom-color: var(--fill-color);\n",
              "      border-left-color: var(--fill-color);\n",
              "    }\n",
              "    20% {\n",
              "      border-color: transparent;\n",
              "      border-left-color: var(--fill-color);\n",
              "      border-top-color: var(--fill-color);\n",
              "    }\n",
              "    30% {\n",
              "      border-color: transparent;\n",
              "      border-left-color: var(--fill-color);\n",
              "      border-top-color: var(--fill-color);\n",
              "      border-right-color: var(--fill-color);\n",
              "    }\n",
              "    40% {\n",
              "      border-color: transparent;\n",
              "      border-right-color: var(--fill-color);\n",
              "      border-top-color: var(--fill-color);\n",
              "    }\n",
              "    60% {\n",
              "      border-color: transparent;\n",
              "      border-right-color: var(--fill-color);\n",
              "    }\n",
              "    80% {\n",
              "      border-color: transparent;\n",
              "      border-right-color: var(--fill-color);\n",
              "      border-bottom-color: var(--fill-color);\n",
              "    }\n",
              "    90% {\n",
              "      border-color: transparent;\n",
              "      border-bottom-color: var(--fill-color);\n",
              "    }\n",
              "  }\n",
              "</style>\n",
              "\n",
              "  <script>\n",
              "    async function quickchart(key) {\n",
              "      const quickchartButtonEl =\n",
              "        document.querySelector('#' + key + ' button');\n",
              "      quickchartButtonEl.disabled = true;  // To prevent multiple clicks.\n",
              "      quickchartButtonEl.classList.add('colab-df-spinner');\n",
              "      try {\n",
              "        const charts = await google.colab.kernel.invokeFunction(\n",
              "            'suggestCharts', [key], {});\n",
              "      } catch (error) {\n",
              "        console.error('Error during call to suggestCharts:', error);\n",
              "      }\n",
              "      quickchartButtonEl.classList.remove('colab-df-spinner');\n",
              "      quickchartButtonEl.classList.add('colab-df-quickchart-complete');\n",
              "    }\n",
              "    (() => {\n",
              "      let quickchartButtonEl =\n",
              "        document.querySelector('#df-b24f877d-9a2d-40ed-8c67-c7c1c416f61c button');\n",
              "      quickchartButtonEl.style.display =\n",
              "        google.colab.kernel.accessAllowed ? 'block' : 'none';\n",
              "    })();\n",
              "  </script>\n",
              "</div>\n",
              "    </div>\n",
              "  </div>\n"
            ],
            "application/vnd.google.colaboratory.intrinsic+json": {
              "type": "dataframe",
              "variable_name": "minn",
              "summary": "{\n  \"name\": \"minn\",\n  \"rows\": 10,\n  \"fields\": [\n    {\n      \"column\": \"tokens\",\n      \"properties\": {\n        \"dtype\": \"string\",\n        \"num_unique_values\": 10,\n        \"samples\": [\n          \"wtf\",\n          \"panic\",\n          \"stop\"\n        ],\n        \"semantic_type\": \"\",\n        \"description\": \"\"\n      }\n    },\n    {\n      \"column\": \"weights\",\n      \"properties\": {\n        \"dtype\": \"number\",\n        \"std\": 0.41313616350100413,\n        \"min\": -1.752453469844478,\n        \"max\": -0.5422456402013349,\n        \"num_unique_values\": 10,\n        \"samples\": [\n          -0.5524421611886828,\n          -1.3119492621880784,\n          -0.6051372476213314\n        ],\n        \"semantic_type\": \"\",\n        \"description\": \"\"\n      }\n    }\n  ]\n}"
            }
          },
          "metadata": {},
          "execution_count": 62
        }
      ]
    },
    {
      "cell_type": "code",
      "source": [
        "plt.figure(figsize=(10, 6))\n",
        "plt.bar(minn['tokens'], np.abs(minn['weights']), color='skyblue')\n",
        "plt.xlabel('token')\n",
        "plt.ylabel('weight')\n",
        "plt.title('Top 10 tokens with max abs negative weights')\n",
        "plt.xticks(minn['tokens'])\n",
        "plt.grid(axis='y', linestyle='--', alpha=0.7)\n",
        "plt.show()"
      ],
      "metadata": {
        "colab": {
          "base_uri": "https://localhost:8080/",
          "height": 564
        },
        "id": "EZgKKuZUKKey",
        "outputId": "b77cb33b-7f75-40ce-aa9e-3dd3a54492a6"
      },
      "execution_count": 63,
      "outputs": [
        {
          "output_type": "display_data",
          "data": {
            "text/plain": [
              "<Figure size 1000x600 with 1 Axes>"
            ],
            "image/png": "[encoded data removed]"
          },
          "metadata": {}
        }
      ]
    },
    {
      "cell_type": "markdown",
      "source": [
        "**Ответ:** Можно заметить, что токены с максимальным положительным весом имеют очень положительный окрас. Например, это слова free, help, hand, thank, like. Среди токенов с наибольшим по модулю отрицательным весом можно найти такие слова, как crisi(s), panic, scam, etc. Они имеют резко негативный окрас, поэтому у них существенный отрицательный вес."
      ],
      "metadata": {
        "id": "ThcEfzY1LHET"
      }
    },
    {
      "cell_type": "markdown",
      "metadata": {
        "id": "ktJVOdrIHq7B"
      },
      "source": [
        "## Задание 7 Другие признаки (1.5 балла)"
      ]
    },
    {
      "cell_type": "markdown",
      "metadata": {
        "id": "Yt3jRCZ2H0Og"
      },
      "source": [
        "Мы были сконцентрированы на работе с текстами твиттов и не использовали другие признаки - имена пользователя, дату и местоположение"
      ]
    },
    {
      "cell_type": "markdown",
      "metadata": {
        "id": "52wjewCCo_di"
      },
      "source": [
        "Изучите признаки UserName и ScreenName. полезны ли они? Если полезны, то закодируйте их, добавьте к матрице с отскалированными признаками, обучите логистическую регрессию, замерьте качество."
      ]
    },
    {
      "cell_type": "code",
      "execution_count": 64,
      "metadata": {
        "id": "63thouYZptj6",
        "colab": {
          "base_uri": "https://localhost:8080/"
        },
        "outputId": "e75ee5e5-85a2-4514-b9dc-68df422434d7"
      },
      "outputs": [
        {
          "output_type": "execute_result",
          "data": {
            "text/plain": [
              "array([35178, 40819, 39249, ..., 41159, 29702,  7104])"
            ]
          },
          "metadata": {},
          "execution_count": 64
        }
      ],
      "source": [
        "train['UserName'].unique()"
      ]
    },
    {
      "cell_type": "code",
      "source": [
        "train['ScreenName'].unique()"
      ],
      "metadata": {
        "colab": {
          "base_uri": "https://localhost:8080/"
        },
        "id": "CCGEgSeRYLYl",
        "outputId": "16ed42f8-ed0d-435b-9b92-236aef80e1c1"
      },
      "execution_count": 65,
      "outputs": [
        {
          "output_type": "execute_result",
          "data": {
            "text/plain": [
              "array([80130, 85771, 84201, ..., 86111, 74654, 52056])"
            ]
          },
          "metadata": {},
          "execution_count": 65
        }
      ]
    },
    {
      "cell_type": "markdown",
      "metadata": {
        "id": "r8_qR-gnpT3a"
      },
      "source": [
        "**Ответ:** Можно заметить, что эти данные представляют собой числа, которые не несут смысловой нагрузки относительно эмоциональной окраски текста"
      ]
    },
    {
      "cell_type": "markdown",
      "metadata": {
        "id": "ythEcFSkt7y3"
      },
      "source": [
        "Изучите признак TweetAt в обучающей выборке: преобразуйте его к типу datetime и нарисуйте его гистограмму с разделением по цвету на основе целевой переменной. Полезен ли он? Если полезен, то закодируйте его, добавьте к матрице с отскалированными признаками, обучите логистическую регрессию, замерьте качество."
      ]
    },
    {
      "cell_type": "code",
      "source": [
        "train['TweetAt'].unique()"
      ],
      "metadata": {
        "colab": {
          "base_uri": "https://localhost:8080/"
        },
        "id": "BOzlSdB5aCb2",
        "outputId": "28481edc-e8d0-4c6d-8e59-6a01f335b27a"
      },
      "execution_count": 66,
      "outputs": [
        {
          "output_type": "execute_result",
          "data": {
            "text/plain": [
              "array(['06-04-2020', '10-04-2020', '09-04-2020', '19-03-2020',\n",
              "       '18-03-2020', '01-04-2020', '23-03-2020', '07-04-2020',\n",
              "       '21-03-2020', '20-03-2020', '17-03-2020', '14-04-2020',\n",
              "       '22-03-2020', '04-04-2020', '26-03-2020', '16-03-2020',\n",
              "       '25-03-2020', '28-03-2020', '05-04-2020', '02-04-2020',\n",
              "       '13-04-2020', '11-04-2020', '08-04-2020', '24-03-2020',\n",
              "       '03-04-2020', '27-03-2020', '12-04-2020', '31-03-2020',\n",
              "       '29-03-2020', '30-03-2020'], dtype=object)"
            ]
          },
          "metadata": {},
          "execution_count": 66
        }
      ]
    },
    {
      "cell_type": "code",
      "source": [
        "train['TweetAt'] = pd.to_datetime(train['TweetAt'], format='%d-%m-%Y')"
      ],
      "metadata": {
        "id": "Lxb_k0JLirNv"
      },
      "execution_count": 67,
      "outputs": []
    },
    {
      "cell_type": "code",
      "source": [
        "plt.figure(figsize=(11, 6))\n",
        "sns.histplot(data=train, x='TweetAt', hue='Sentiment', palette=['lightgreen', 'pink'], bins = 12)"
      ],
      "metadata": {
        "colab": {
          "base_uri": "https://localhost:8080/",
          "height": 560
        },
        "id": "guWnKR-2bclE",
        "outputId": "017d333f-bd3d-4dc0-e2e0-763c5b6affe7"
      },
      "execution_count": 68,
      "outputs": [
        {
          "output_type": "execute_result",
          "data": {
            "text/plain": [
              "<Axes: xlabel='TweetAt', ylabel='Count'>"
            ]
          },
          "metadata": {},
          "execution_count": 68
        },
        {
          "output_type": "display_data",
          "data": {
            "text/plain": [
              "<Figure size 1100x600 with 1 Axes>"
            ],
            "image/png": "[encoded data removed]"
          },
          "metadata": {}
        }
      ]
    },
    {
      "cell_type": "markdown",
      "metadata": {
        "id": "4IdLBdpQxM-G"
      },
      "source": [
        "**Ответ:** Можно заметить, что вне зависимости от даты, процентное соотношение положительных и негативных твиттов практически одинаковое, поэтому дата вряд ли будет являться важным признаком.\n",
        "\n"
      ]
    },
    {
      "cell_type": "markdown",
      "source": [
        "Поработайте с признаком Location в обучающей выборке. Сколько уникальных значений?"
      ],
      "metadata": {
        "id": "r2JtRPhNP6qx"
      }
    },
    {
      "cell_type": "code",
      "source": [
        "len(train['Location'].unique())"
      ],
      "metadata": {
        "id": "xYQZQ1FRNpoe",
        "colab": {
          "base_uri": "https://localhost:8080/"
        },
        "outputId": "e383549d-4615-4c46-b380-fcae30aa46a6"
      },
      "execution_count": 69,
      "outputs": [
        {
          "output_type": "execute_result",
          "data": {
            "text/plain": [
              "7949"
            ]
          },
          "metadata": {},
          "execution_count": 69
        }
      ]
    },
    {
      "cell_type": "markdown",
      "source": [
        "В тренировочной выборке 7949 уникальных геоположений на ~23000 записей."
      ],
      "metadata": {
        "id": "e-aTqme7mK9m"
      }
    },
    {
      "cell_type": "markdown",
      "source": [
        "Постройте гистограмму топ-10 по популярности местоположений (исключая Unknown)"
      ],
      "metadata": {
        "id": "6k4JwpRTQISa"
      }
    },
    {
      "cell_type": "code",
      "source": [
        "plt.figure(figsize=(11, 6))\n",
        "location_counts = train['Location'].value_counts()\n",
        "location_counts = location_counts.drop('Unknown', errors='ignore')\n",
        "top_locations = location_counts.head(10)\n",
        "top_locations.plot(kind='bar', color='skyblue')\n",
        "plt.title('Top 10 Locations')\n",
        "plt.xlabel('Location')\n",
        "plt.ylabel('Count')\n",
        "plt.xticks(rotation=45, ha='right')\n",
        "plt.grid(axis='y', linestyle='--', alpha=0.7)\n",
        "plt.show()"
      ],
      "metadata": {
        "id": "J91YkhegJ0mz",
        "colab": {
          "base_uri": "https://localhost:8080/",
          "height": 642
        },
        "outputId": "ebeb4f5d-0b89-4a97-9bc5-10bdbe772b75"
      },
      "execution_count": 70,
      "outputs": [
        {
          "output_type": "display_data",
          "data": {
            "text/plain": [
              "<Figure size 1100x600 with 1 Axes>"
            ],
            "image/png": "[encoded data removed]"
          },
          "metadata": {}
        }
      ]
    },
    {
      "cell_type": "markdown",
      "source": [
        "Видно, что многие местоположения включают в себя более точное название места, чем другие (Например, у некоторых стоит London, UK; а у некоторых просто UK или United Kingdom).\n",
        "\n",
        "Создайте новый признак WiderLocation, который содержит самое широкое местоположение (например, из London, UK должно получиться UK). Сколько уникальных категорий теперь? Постройте аналогичную гистограмму."
      ],
      "metadata": {
        "id": "ZOsv3lODTfYB"
      }
    },
    {
      "cell_type": "code",
      "source": [
        "def wider_location(location):\n",
        "  if ',' in location:\n",
        "    return location.split(', ')[-1]\n",
        "  if len(location.split()) >= 2:\n",
        "    return location.split()[-1]\n",
        "  return location\n",
        "\n",
        "train['WiderLocation'] = train['Location'].apply(wider_location)\n",
        "test['WiderLocation'] = test['Location'].apply(wider_location)\n",
        "train"
      ],
      "metadata": {
        "id": "mSkow6acOMyD",
        "colab": {
          "base_uri": "https://localhost:8080/",
          "height": 424
        },
        "outputId": "840cadc2-46c3-4307-8e53-eef04dbaf86f"
      },
      "execution_count": 71,
      "outputs": [
        {
          "output_type": "execute_result",
          "data": {
            "text/plain": [
              "       UserName  ScreenName                        Location    TweetAt  \\\n",
              "25621     35178       80130                         Unknown 2020-04-06   \n",
              "30135     40819       85771                   Boston, MA HQ 2020-04-10   \n",
              "28899     39249       84201                           India 2020-04-09   \n",
              "5989      11068       56020             Mayfair, London, UK 2020-03-19   \n",
              "4367       9109       54061                             WNC 2020-03-18   \n",
              "...         ...         ...                             ...        ...   \n",
              "20757     29120       74072                         Unknown 2020-03-31   \n",
              "32103     43291       88243  Waterville, Ireland Austin, TX 2020-04-13   \n",
              "30403     41159       86111            Mumbai , Delhi India 2020-04-10   \n",
              "21243     29702       74654                         Unknown 2020-04-01   \n",
              "2732       7104       52056                         Unknown 2020-03-18   \n",
              "\n",
              "                                           OriginalTweet  Sentiment  \\\n",
              "25621  Why we still want to buy so much stuff during ...          1   \n",
              "30135  With driving even more usage a strong strategy...          1   \n",
              "28899  @Canon_India I am very happy.. Great job by @C...          1   \n",
              "5989   The U.S national debt will likely exceed $30 T...          0   \n",
              "4367   Finally got to the grocery store. Honestly, wh...          1   \n",
              "...                                                  ...        ...   \n",
              "20757  Football is in ruins right now.When it will re...          0   \n",
              "32103  Hand sanitizer made here on the Skellig Coast!...          1   \n",
              "30403  An initiative  taken by our  @GOLDENINITIATI1 ...          1   \n",
              "21243  Vile premiership players demanding full wages ...          0   \n",
              "2732   Just wondering why we arenÃÂt screening at t...          1   \n",
              "\n",
              "      WiderLocation  \n",
              "25621       Unknown  \n",
              "30135         MA HQ  \n",
              "28899         India  \n",
              "5989             UK  \n",
              "4367            WNC  \n",
              "...             ...  \n",
              "20757       Unknown  \n",
              "32103            TX  \n",
              "30403   Delhi India  \n",
              "21243       Unknown  \n",
              "2732        Unknown  \n",
              "\n",
              "[23410 rows x 7 columns]"
            ],
            "text/html": [
              "\n",
              "  <div id=\"df-50fba91d-fae9-4e95-b11c-f854de73e548\" class=\"colab-df-container\">\n",
              "    <div>\n",
              "<style scoped>\n",
              "    .dataframe tbody tr th:only-of-type {\n",
              "        vertical-align: middle;\n",
              "    }\n",
              "\n",
              "    .dataframe tbody tr th {\n",
              "        vertical-align: top;\n",
              "    }\n",
              "\n",
              "    .dataframe thead th {\n",
              "        text-align: right;\n",
              "    }\n",
              "</style>\n",
              "<table border=\"1\" class=\"dataframe\">\n",
              "  <thead>\n",
              "    <tr style=\"text-align: right;\">\n",
              "      <th></th>\n",
              "      <th>UserName</th>\n",
              "      <th>ScreenName</th>\n",
              "      <th>Location</th>\n",
              "      <th>TweetAt</th>\n",
              "      <th>OriginalTweet</th>\n",
              "      <th>Sentiment</th>\n",
              "      <th>WiderLocation</th>\n",
              "    </tr>\n",
              "  </thead>\n",
              "  <tbody>\n",
              "    <tr>\n",
              "      <th>25621</th>\n",
              "      <td>35178</td>\n",
              "      <td>80130</td>\n",
              "      <td>Unknown</td>\n",
              "      <td>2020-04-06</td>\n",
              "      <td>Why we still want to buy so much stuff during ...</td>\n",
              "      <td>1</td>\n",
              "      <td>Unknown</td>\n",
              "    </tr>\n",
              "    <tr>\n",
              "      <th>30135</th>\n",
              "      <td>40819</td>\n",
              "      <td>85771</td>\n",
              "      <td>Boston, MA HQ</td>\n",
              "      <td>2020-04-10</td>\n",
              "      <td>With driving even more usage a strong strategy...</td>\n",
              "      <td>1</td>\n",
              "      <td>MA HQ</td>\n",
              "    </tr>\n",
              "    <tr>\n",
              "      <th>28899</th>\n",
              "      <td>39249</td>\n",
              "      <td>84201</td>\n",
              "      <td>India</td>\n",
              "      <td>2020-04-09</td>\n",
              "      <td>@Canon_India I am very happy.. Great job by @C...</td>\n",
              "      <td>1</td>\n",
              "      <td>India</td>\n",
              "    </tr>\n",
              "    <tr>\n",
              "      <th>5989</th>\n",
              "      <td>11068</td>\n",
              "      <td>56020</td>\n",
              "      <td>Mayfair, London, UK</td>\n",
              "      <td>2020-03-19</td>\n",
              "      <td>The U.S national debt will likely exceed $30 T...</td>\n",
              "      <td>0</td>\n",
              "      <td>UK</td>\n",
              "    </tr>\n",
              "    <tr>\n",
              "      <th>4367</th>\n",
              "      <td>9109</td>\n",
              "      <td>54061</td>\n",
              "      <td>WNC</td>\n",
              "      <td>2020-03-18</td>\n",
              "      <td>Finally got to the grocery store. Honestly, wh...</td>\n",
              "      <td>1</td>\n",
              "      <td>WNC</td>\n",
              "    </tr>\n",
              "    <tr>\n",
              "      <th>...</th>\n",
              "      <td>...</td>\n",
              "      <td>...</td>\n",
              "      <td>...</td>\n",
              "      <td>...</td>\n",
              "      <td>...</td>\n",
              "      <td>...</td>\n",
              "      <td>...</td>\n",
              "    </tr>\n",
              "    <tr>\n",
              "      <th>20757</th>\n",
              "      <td>29120</td>\n",
              "      <td>74072</td>\n",
              "      <td>Unknown</td>\n",
              "      <td>2020-03-31</td>\n",
              "      <td>Football is in ruins right now.When it will re...</td>\n",
              "      <td>0</td>\n",
              "      <td>Unknown</td>\n",
              "    </tr>\n",
              "    <tr>\n",
              "      <th>32103</th>\n",
              "      <td>43291</td>\n",
              "      <td>88243</td>\n",
              "      <td>Waterville, Ireland Austin, TX</td>\n",
              "      <td>2020-04-13</td>\n",
              "      <td>Hand sanitizer made here on the Skellig Coast!...</td>\n",
              "      <td>1</td>\n",
              "      <td>TX</td>\n",
              "    </tr>\n",
              "    <tr>\n",
              "      <th>30403</th>\n",
              "      <td>41159</td>\n",
              "      <td>86111</td>\n",
              "      <td>Mumbai , Delhi India</td>\n",
              "      <td>2020-04-10</td>\n",
              "      <td>An initiative  taken by our  @GOLDENINITIATI1 ...</td>\n",
              "      <td>1</td>\n",
              "      <td>Delhi India</td>\n",
              "    </tr>\n",
              "    <tr>\n",
              "      <th>21243</th>\n",
              "      <td>29702</td>\n",
              "      <td>74654</td>\n",
              "      <td>Unknown</td>\n",
              "      <td>2020-04-01</td>\n",
              "      <td>Vile premiership players demanding full wages ...</td>\n",
              "      <td>0</td>\n",
              "      <td>Unknown</td>\n",
              "    </tr>\n",
              "    <tr>\n",
              "      <th>2732</th>\n",
              "      <td>7104</td>\n",
              "      <td>52056</td>\n",
              "      <td>Unknown</td>\n",
              "      <td>2020-03-18</td>\n",
              "      <td>Just wondering why we arenÃÂt screening at t...</td>\n",
              "      <td>1</td>\n",
              "      <td>Unknown</td>\n",
              "    </tr>\n",
              "  </tbody>\n",
              "</table>\n",
              "<p>23410 rows × 7 columns</p>\n",
              "</div>\n",
              "    <div class=\"colab-df-buttons\">\n",
              "\n",
              "  <div class=\"colab-df-container\">\n",
              "    <button class=\"colab-df-convert\" onclick=\"convertToInteractive('df-50fba91d-fae9-4e95-b11c-f854de73e548')\"\n",
              "            title=\"Convert this dataframe to an interactive table.\"\n",
              "            style=\"display:none;\">\n",
              "\n",
              "  <svg xmlns=\"http://www.w3.org/2000/svg\" height=\"24px\" viewBox=\"0 -960 960 960\">\n",
              "    <path d=\"M120-120v-720h720v720H120Zm60-500h600v-160H180v160Zm220 220h160v-160H400v160Zm0 220h160v-160H400v160ZM180-400h160v-160H180v160Zm440 0h160v-160H620v160ZM180-180h160v-160H180v160Zm440 0h160v-160H620v160Z\"/>\n",
              "  </svg>\n",
              "    </button>\n",
              "\n",
              "  <style>\n",
              "    .colab-df-container {\n",
              "      display:flex;\n",
              "      gap: 12px;\n",
              "    }\n",
              "\n",
              "    .colab-df-convert {\n",
              "      background-color: #E8F0FE;\n",
              "      border: none;\n",
              "      border-radius: 50%;\n",
              "      cursor: pointer;\n",
              "      display: none;\n",
              "      fill: #1967D2;\n",
              "      height: 32px;\n",
              "      padding: 0 0 0 0;\n",
              "      width: 32px;\n",
              "    }\n",
              "\n",
              "    .colab-df-convert:hover {\n",
              "      background-color: #E2EBFA;\n",
              "      box-shadow: 0px 1px 2px rgba(60, 64, 67, 0.3), 0px 1px 3px 1px rgba(60, 64, 67, 0.15);\n",
              "      fill: #174EA6;\n",
              "    }\n",
              "\n",
              "    .colab-df-buttons div {\n",
              "      margin-bottom: 4px;\n",
              "    }\n",
              "\n",
              "    [theme=dark] .colab-df-convert {\n",
              "      background-color: #3B4455;\n",
              "      fill: #D2E3FC;\n",
              "    }\n",
              "\n",
              "    [theme=dark] .colab-df-convert:hover {\n",
              "      background-color: #434B5C;\n",
              "      box-shadow: 0px 1px 3px 1px rgba(0, 0, 0, 0.15);\n",
              "      filter: drop-shadow(0px 1px 2px rgba(0, 0, 0, 0.3));\n",
              "      fill: #FFFFFF;\n",
              "    }\n",
              "  </style>\n",
              "\n",
              "    <script>\n",
              "      const buttonEl =\n",
              "        document.querySelector('#df-50fba91d-fae9-4e95-b11c-f854de73e548 button.colab-df-convert');\n",
              "      buttonEl.style.display =\n",
              "        google.colab.kernel.accessAllowed ? 'block' : 'none';\n",
              "\n",
              "      async function convertToInteractive(key) {\n",
              "        const element = document.querySelector('#df-50fba91d-fae9-4e95-b11c-f854de73e548');\n",
              "        const dataTable =\n",
              "          await google.colab.kernel.invokeFunction('convertToInteractive',\n",
              "                                                    [key], {});\n",
              "        if (!dataTable) return;\n",
              "\n",
              "        const docLinkHtml = 'Like what you see? Visit the ' +\n",
              "          '<a target=\"_blank\" href=https://colab.research.google.com/notebooks/data_table.ipynb>data table notebook</a>'\n",
              "          + ' to learn more about interactive tables.';\n",
              "        element.innerHTML = '';\n",
              "        dataTable['output_type'] = 'display_data';\n",
              "        await google.colab.output.renderOutput(dataTable, element);\n",
              "        const docLink = document.createElement('div');\n",
              "        docLink.innerHTML = docLinkHtml;\n",
              "        element.appendChild(docLink);\n",
              "      }\n",
              "    </script>\n",
              "  </div>\n",
              "\n",
              "\n",
              "<div id=\"df-a6d37785-c2a9-4b20-b129-a37b51a237c2\">\n",
              "  <button class=\"colab-df-quickchart\" onclick=\"quickchart('df-a6d37785-c2a9-4b20-b129-a37b51a237c2')\"\n",
              "            title=\"Suggest charts\"\n",
              "            style=\"display:none;\">\n",
              "\n",
              "<svg xmlns=\"http://www.w3.org/2000/svg\" height=\"24px\"viewBox=\"0 0 24 24\"\n",
              "     width=\"24px\">\n",
              "    <g>\n",
              "        <path d=\"M19 3H5c-1.1 0-2 .9-2 2v14c0 1.1.9 2 2 2h14c1.1 0 2-.9 2-2V5c0-1.1-.9-2-2-2zM9 17H7v-7h2v7zm4 0h-2V7h2v10zm4 0h-2v-4h2v4z\"/>\n",
              "    </g>\n",
              "</svg>\n",
              "  </button>\n",
              "\n",
              "<style>\n",
              "  .colab-df-quickchart {\n",
              "      --bg-color: #E8F0FE;\n",
              "      --fill-color: #1967D2;\n",
              "      --hover-bg-color: #E2EBFA;\n",
              "      --hover-fill-color: #174EA6;\n",
              "      --disabled-fill-color: #AAA;\n",
              "      --disabled-bg-color: #DDD;\n",
              "  }\n",
              "\n",
              "  [theme=dark] .colab-df-quickchart {\n",
              "      --bg-color: #3B4455;\n",
              "      --fill-color: #D2E3FC;\n",
              "      --hover-bg-color: #434B5C;\n",
              "      --hover-fill-color: #FFFFFF;\n",
              "      --disabled-bg-color: #3B4455;\n",
              "      --disabled-fill-color: #666;\n",
              "  }\n",
              "\n",
              "  .colab-df-quickchart {\n",
              "    background-color: var(--bg-color);\n",
              "    border: none;\n",
              "    border-radius: 50%;\n",
              "    cursor: pointer;\n",
              "    display: none;\n",
              "    fill: var(--fill-color);\n",
              "    height: 32px;\n",
              "    padding: 0;\n",
              "    width: 32px;\n",
              "  }\n",
              "\n",
              "  .colab-df-quickchart:hover {\n",
              "    background-color: var(--hover-bg-color);\n",
              "    box-shadow: 0 1px 2px rgba(60, 64, 67, 0.3), 0 1px 3px 1px rgba(60, 64, 67, 0.15);\n",
              "    fill: var(--button-hover-fill-color);\n",
              "  }\n",
              "\n",
              "  .colab-df-quickchart-complete:disabled,\n",
              "  .colab-df-quickchart-complete:disabled:hover {\n",
              "    background-color: var(--disabled-bg-color);\n",
              "    fill: var(--disabled-fill-color);\n",
              "    box-shadow: none;\n",
              "  }\n",
              "\n",
              "  .colab-df-spinner {\n",
              "    border: 2px solid var(--fill-color);\n",
              "    border-color: transparent;\n",
              "    border-bottom-color: var(--fill-color);\n",
              "    animation:\n",
              "      spin 1s steps(1) infinite;\n",
              "  }\n",
              "\n",
              "  @keyframes spin {\n",
              "    0% {\n",
              "      border-color: transparent;\n",
              "      border-bottom-color: var(--fill-color);\n",
              "      border-left-color: var(--fill-color);\n",
              "    }\n",
              "    20% {\n",
              "      border-color: transparent;\n",
              "      border-left-color: var(--fill-color);\n",
              "      border-top-color: var(--fill-color);\n",
              "    }\n",
              "    30% {\n",
              "      border-color: transparent;\n",
              "      border-left-color: var(--fill-color);\n",
              "      border-top-color: var(--fill-color);\n",
              "      border-right-color: var(--fill-color);\n",
              "    }\n",
              "    40% {\n",
              "      border-color: transparent;\n",
              "      border-right-color: var(--fill-color);\n",
              "      border-top-color: var(--fill-color);\n",
              "    }\n",
              "    60% {\n",
              "      border-color: transparent;\n",
              "      border-right-color: var(--fill-color);\n",
              "    }\n",
              "    80% {\n",
              "      border-color: transparent;\n",
              "      border-right-color: var(--fill-color);\n",
              "      border-bottom-color: var(--fill-color);\n",
              "    }\n",
              "    90% {\n",
              "      border-color: transparent;\n",
              "      border-bottom-color: var(--fill-color);\n",
              "    }\n",
              "  }\n",
              "</style>\n",
              "\n",
              "  <script>\n",
              "    async function quickchart(key) {\n",
              "      const quickchartButtonEl =\n",
              "        document.querySelector('#' + key + ' button');\n",
              "      quickchartButtonEl.disabled = true;  // To prevent multiple clicks.\n",
              "      quickchartButtonEl.classList.add('colab-df-spinner');\n",
              "      try {\n",
              "        const charts = await google.colab.kernel.invokeFunction(\n",
              "            'suggestCharts', [key], {});\n",
              "      } catch (error) {\n",
              "        console.error('Error during call to suggestCharts:', error);\n",
              "      }\n",
              "      quickchartButtonEl.classList.remove('colab-df-spinner');\n",
              "      quickchartButtonEl.classList.add('colab-df-quickchart-complete');\n",
              "    }\n",
              "    (() => {\n",
              "      let quickchartButtonEl =\n",
              "        document.querySelector('#df-a6d37785-c2a9-4b20-b129-a37b51a237c2 button');\n",
              "      quickchartButtonEl.style.display =\n",
              "        google.colab.kernel.accessAllowed ? 'block' : 'none';\n",
              "    })();\n",
              "  </script>\n",
              "</div>\n",
              "    </div>\n",
              "  </div>\n"
            ],
            "application/vnd.google.colaboratory.intrinsic+json": {
              "type": "dataframe",
              "variable_name": "train",
              "summary": "{\n  \"name\": \"train\",\n  \"rows\": 23410,\n  \"fields\": [\n    {\n      \"column\": \"UserName\",\n      \"properties\": {\n        \"dtype\": \"number\",\n        \"std\": 11880,\n        \"min\": 3800,\n        \"max\": 44953,\n        \"num_unique_values\": 23410,\n        \"samples\": [\n          22348,\n          35556,\n          33042\n        ],\n        \"semantic_type\": \"\",\n        \"description\": \"\"\n      }\n    },\n    {\n      \"column\": \"ScreenName\",\n      \"properties\": {\n        \"dtype\": \"number\",\n        \"std\": 11880,\n        \"min\": 48752,\n        \"max\": 89905,\n        \"num_unique_values\": 23410,\n        \"samples\": [\n          67300,\n          80508,\n          77994\n        ],\n        \"semantic_type\": \"\",\n        \"description\": \"\"\n      }\n    },\n    {\n      \"column\": \"Location\",\n      \"properties\": {\n        \"dtype\": \"category\",\n        \"num_unique_values\": 7949,\n        \"samples\": [\n          \"Brussels, Belgium\",\n          \"Morioh cho\",\n          \"San Jacinto, CA\"\n        ],\n        \"semantic_type\": \"\",\n        \"description\": \"\"\n      }\n    },\n    {\n      \"column\": \"TweetAt\",\n      \"properties\": {\n        \"dtype\": \"date\",\n        \"min\": \"2020-03-16 00:00:00\",\n        \"max\": \"2020-04-14 00:00:00\",\n        \"num_unique_values\": 30,\n        \"samples\": [\n          \"2020-03-31 00:00:00\",\n          \"2020-03-16 00:00:00\",\n          \"2020-03-24 00:00:00\"\n        ],\n        \"semantic_type\": \"\",\n        \"description\": \"\"\n      }\n    },\n    {\n      \"column\": \"OriginalTweet\",\n      \"properties\": {\n        \"dtype\": \"string\",\n        \"num_unique_values\": 23410,\n        \"samples\": [\n          \"#POTUS \\r\\r\\n#FishTankTreatment uses same chemical in  drug you said \\\"game changer\\\" for #coronavirus It's a DIFFERENT form from \\\"hydroxychoronquine\\\", a #Malaria drug Now prices soared to $500+ on bidding sites #BannerHealth says  one DIED in AZ\\r\\r\\nYou are NOT a doctor! #WordsMatter\",\n          \"@dangerfield35 @HabgoodAaron @ReelAdventures_ @1116sen Unless you are fishing from a jetty its quite easy to find a spot with nobody near you. People are less likely to pass on the Covid 19 when fishing than they are going to the Supermarket ( which is es\",\n          \"A Supermarket Chain Was One Of The First To Anticipate Coronavirus. Then It Made A Truly Thoughtful Gesture To Help Local Restaurants | https://t.co/XifCsvX4rb #restaurants #supermarket #coronavirus  https://t.co/oroZoxtSXp\"\n        ],\n        \"semantic_type\": \"\",\n        \"description\": \"\"\n      }\n    },\n    {\n      \"column\": \"Sentiment\",\n      \"properties\": {\n        \"dtype\": \"number\",\n        \"std\": 0,\n        \"min\": 0,\n        \"max\": 1,\n        \"num_unique_values\": 2,\n        \"samples\": [\n          0,\n          1\n        ],\n        \"semantic_type\": \"\",\n        \"description\": \"\"\n      }\n    },\n    {\n      \"column\": \"WiderLocation\",\n      \"properties\": {\n        \"dtype\": \"category\",\n        \"num_unique_values\": 3617,\n        \"samples\": [\n          \"Hoboken\",\n          \"kitchen\"\n        ],\n        \"semantic_type\": \"\",\n        \"description\": \"\"\n      }\n    }\n  ]\n}"
            }
          },
          "metadata": {},
          "execution_count": 71
        }
      ]
    },
    {
      "cell_type": "markdown",
      "source": [
        "Закодируйте признак WiderLocation с помощью OHE таким образом, чтобы создались только столбцы для местоположений, которые встречаются более одного раза. Сколько таких значений?\n"
      ],
      "metadata": {
        "id": "cgyWrD2eVfff"
      }
    },
    {
      "cell_type": "code",
      "source": [
        "from sklearn.preprocessing import OneHotEncoder\n",
        "\n",
        "df_concat = pd.concat([train, test], axis=0)\n",
        "location_counts = df_concat['WiderLocation'].value_counts()\n",
        "frequent_locations = location_counts[location_counts > 1].index.tolist()\n",
        "print(len(frequent_locations))"
      ],
      "metadata": {
        "id": "SeJBfBWgPvg_",
        "colab": {
          "base_uri": "https://localhost:8080/"
        },
        "outputId": "7a98cffe-2f9c-4a7a-db29-5d3f6b5beea9"
      },
      "execution_count": 72,
      "outputs": [
        {
          "output_type": "stream",
          "name": "stdout",
          "text": [
            "1346\n"
          ]
        }
      ]
    },
    {
      "cell_type": "markdown",
      "source": [
        "1346 - количество мест, которые встречались более чем в одном твитте."
      ],
      "metadata": {
        "id": "giAm8OJizpGC"
      }
    },
    {
      "cell_type": "code",
      "source": [
        "df_encoded = pd.get_dummies(df_concat['WiderLocation'])[frequent_locations]\n",
        "df_encoded"
      ],
      "metadata": {
        "colab": {
          "base_uri": "https://localhost:8080/",
          "height": 478
        },
        "id": "F5yA1xmOzygs",
        "outputId": "dfc5eeb1-4f28-4709-aa52-941456934fa8"
      },
      "execution_count": 73,
      "outputs": [
        {
          "output_type": "execute_result",
          "data": {
            "text/plain": [
              "       Unknown    USA  England     CA  India     UK  London     NY  Canada  \\\n",
              "25621     True  False    False  False  False  False   False  False   False   \n",
              "30135    False  False    False  False  False  False   False  False   False   \n",
              "28899    False  False    False  False   True  False   False  False   False   \n",
              "5989     False  False    False  False  False   True   False  False   False   \n",
              "4367     False  False    False  False  False  False   False  False   False   \n",
              "...        ...    ...      ...    ...    ...    ...     ...    ...     ...   \n",
              "5847     False  False    False  False  False  False   False  False   False   \n",
              "3220     False  False    False  False   True  False   False  False   False   \n",
              "11637    False  False    False  False  False  False   False  False   False   \n",
              "21149     True  False    False  False  False  False   False  False   False   \n",
              "23240     True  False    False  False  False  False   False  False   False   \n",
              "\n",
              "       States  ...  mundo   Suva  WA USA  Northants  Heath  90210  dreams  \\\n",
              "25621   False  ...  False  False   False      False  False  False   False   \n",
              "30135   False  ...  False  False   False      False  False  False   False   \n",
              "28899   False  ...  False  False   False      False  False  False   False   \n",
              "5989    False  ...  False  False   False      False  False  False   False   \n",
              "4367    False  ...  False  False   False      False  False  False   False   \n",
              "...       ...  ...    ...    ...     ...        ...    ...    ...     ...   \n",
              "5847    False  ...  False  False   False      False  False  False   False   \n",
              "3220    False  ...  False  False   False      False  False  False   False   \n",
              "11637   False  ...  False  False   False      False  False  False   False   \n",
              "21149   False  ...  False  False   False      False  False  False   False   \n",
              "23240   False  ...  False  False   False      False  False  False   False   \n",
              "\n",
              "        Rock   why?  ||somali|kenyan??  \n",
              "25621  False  False              False  \n",
              "30135  False  False              False  \n",
              "28899  False  False              False  \n",
              "5989   False  False              False  \n",
              "4367   False  False              False  \n",
              "...      ...    ...                ...  \n",
              "5847   False  False              False  \n",
              "3220   False  False              False  \n",
              "11637  False  False              False  \n",
              "21149  False  False              False  \n",
              "23240  False  False              False  \n",
              "\n",
              "[33444 rows x 1346 columns]"
            ],
            "text/html": [
              "\n",
              "  <div id=\"df-18a31e5d-6c35-4286-8b06-f024e0a7ab83\" class=\"colab-df-container\">\n",
              "    <div>\n",
              "<style scoped>\n",
              "    .dataframe tbody tr th:only-of-type {\n",
              "        vertical-align: middle;\n",
              "    }\n",
              "\n",
              "    .dataframe tbody tr th {\n",
              "        vertical-align: top;\n",
              "    }\n",
              "\n",
              "    .dataframe thead th {\n",
              "        text-align: right;\n",
              "    }\n",
              "</style>\n",
              "<table border=\"1\" class=\"dataframe\">\n",
              "  <thead>\n",
              "    <tr style=\"text-align: right;\">\n",
              "      <th></th>\n",
              "      <th>Unknown</th>\n",
              "      <th>USA</th>\n",
              "      <th>England</th>\n",
              "      <th>CA</th>\n",
              "      <th>India</th>\n",
              "      <th>UK</th>\n",
              "      <th>London</th>\n",
              "      <th>NY</th>\n",
              "      <th>Canada</th>\n",
              "      <th>States</th>\n",
              "      <th>...</th>\n",
              "      <th>mundo</th>\n",
              "      <th>Suva</th>\n",
              "      <th>WA USA</th>\n",
              "      <th>Northants</th>\n",
              "      <th>Heath</th>\n",
              "      <th>90210</th>\n",
              "      <th>dreams</th>\n",
              "      <th>Rock</th>\n",
              "      <th>why?</th>\n",
              "      <th>||somali|kenyan??</th>\n",
              "    </tr>\n",
              "  </thead>\n",
              "  <tbody>\n",
              "    <tr>\n",
              "      <th>25621</th>\n",
              "      <td>True</td>\n",
              "      <td>False</td>\n",
              "      <td>False</td>\n",
              "      <td>False</td>\n",
              "      <td>False</td>\n",
              "      <td>False</td>\n",
              "      <td>False</td>\n",
              "      <td>False</td>\n",
              "      <td>False</td>\n",
              "      <td>False</td>\n",
              "      <td>...</td>\n",
              "      <td>False</td>\n",
              "      <td>False</td>\n",
              "      <td>False</td>\n",
              "      <td>False</td>\n",
              "      <td>False</td>\n",
              "      <td>False</td>\n",
              "      <td>False</td>\n",
              "      <td>False</td>\n",
              "      <td>False</td>\n",
              "      <td>False</td>\n",
              "    </tr>\n",
              "    <tr>\n",
              "      <th>30135</th>\n",
              "      <td>False</td>\n",
              "      <td>False</td>\n",
              "      <td>False</td>\n",
              "      <td>False</td>\n",
              "      <td>False</td>\n",
              "      <td>False</td>\n",
              "      <td>False</td>\n",
              "      <td>False</td>\n",
              "      <td>False</td>\n",
              "      <td>False</td>\n",
              "      <td>...</td>\n",
              "      <td>False</td>\n",
              "      <td>False</td>\n",
              "      <td>False</td>\n",
              "      <td>False</td>\n",
              "      <td>False</td>\n",
              "      <td>False</td>\n",
              "      <td>False</td>\n",
              "      <td>False</td>\n",
              "      <td>False</td>\n",
              "      <td>False</td>\n",
              "    </tr>\n",
              "    <tr>\n",
              "      <th>28899</th>\n",
              "      <td>False</td>\n",
              "      <td>False</td>\n",
              "      <td>False</td>\n",
              "      <td>False</td>\n",
              "      <td>True</td>\n",
              "      <td>False</td>\n",
              "      <td>False</td>\n",
              "      <td>False</td>\n",
              "      <td>False</td>\n",
              "      <td>False</td>\n",
              "      <td>...</td>\n",
              "      <td>False</td>\n",
              "      <td>False</td>\n",
              "      <td>False</td>\n",
              "      <td>False</td>\n",
              "      <td>False</td>\n",
              "      <td>False</td>\n",
              "      <td>False</td>\n",
              "      <td>False</td>\n",
              "      <td>False</td>\n",
              "      <td>False</td>\n",
              "    </tr>\n",
              "    <tr>\n",
              "      <th>5989</th>\n",
              "      <td>False</td>\n",
              "      <td>False</td>\n",
              "      <td>False</td>\n",
              "      <td>False</td>\n",
              "      <td>False</td>\n",
              "      <td>True</td>\n",
              "      <td>False</td>\n",
              "      <td>False</td>\n",
              "      <td>False</td>\n",
              "      <td>False</td>\n",
              "      <td>...</td>\n",
              "      <td>False</td>\n",
              "      <td>False</td>\n",
              "      <td>False</td>\n",
              "      <td>False</td>\n",
              "      <td>False</td>\n",
              "      <td>False</td>\n",
              "      <td>False</td>\n",
              "      <td>False</td>\n",
              "      <td>False</td>\n",
              "      <td>False</td>\n",
              "    </tr>\n",
              "    <tr>\n",
              "      <th>4367</th>\n",
              "      <td>False</td>\n",
              "      <td>False</td>\n",
              "      <td>False</td>\n",
              "      <td>False</td>\n",
              "      <td>False</td>\n",
              "      <td>False</td>\n",
              "      <td>False</td>\n",
              "      <td>False</td>\n",
              "      <td>False</td>\n",
              "      <td>False</td>\n",
              "      <td>...</td>\n",
              "      <td>False</td>\n",
              "      <td>False</td>\n",
              "      <td>False</td>\n",
              "      <td>False</td>\n",
              "      <td>False</td>\n",
              "      <td>False</td>\n",
              "      <td>False</td>\n",
              "      <td>False</td>\n",
              "      <td>False</td>\n",
              "      <td>False</td>\n",
              "    </tr>\n",
              "    <tr>\n",
              "      <th>...</th>\n",
              "      <td>...</td>\n",
              "      <td>...</td>\n",
              "      <td>...</td>\n",
              "      <td>...</td>\n",
              "      <td>...</td>\n",
              "      <td>...</td>\n",
              "      <td>...</td>\n",
              "      <td>...</td>\n",
              "      <td>...</td>\n",
              "      <td>...</td>\n",
              "      <td>...</td>\n",
              "      <td>...</td>\n",
              "      <td>...</td>\n",
              "      <td>...</td>\n",
              "      <td>...</td>\n",
              "      <td>...</td>\n",
              "      <td>...</td>\n",
              "      <td>...</td>\n",
              "      <td>...</td>\n",
              "      <td>...</td>\n",
              "      <td>...</td>\n",
              "    </tr>\n",
              "    <tr>\n",
              "      <th>5847</th>\n",
              "      <td>False</td>\n",
              "      <td>False</td>\n",
              "      <td>False</td>\n",
              "      <td>False</td>\n",
              "      <td>False</td>\n",
              "      <td>False</td>\n",
              "      <td>False</td>\n",
              "      <td>False</td>\n",
              "      <td>False</td>\n",
              "      <td>False</td>\n",
              "      <td>...</td>\n",
              "      <td>False</td>\n",
              "      <td>False</td>\n",
              "      <td>False</td>\n",
              "      <td>False</td>\n",
              "      <td>False</td>\n",
              "      <td>False</td>\n",
              "      <td>False</td>\n",
              "      <td>False</td>\n",
              "      <td>False</td>\n",
              "      <td>False</td>\n",
              "    </tr>\n",
              "    <tr>\n",
              "      <th>3220</th>\n",
              "      <td>False</td>\n",
              "      <td>False</td>\n",
              "      <td>False</td>\n",
              "      <td>False</td>\n",
              "      <td>True</td>\n",
              "      <td>False</td>\n",
              "      <td>False</td>\n",
              "      <td>False</td>\n",
              "      <td>False</td>\n",
              "      <td>False</td>\n",
              "      <td>...</td>\n",
              "      <td>False</td>\n",
              "      <td>False</td>\n",
              "      <td>False</td>\n",
              "      <td>False</td>\n",
              "      <td>False</td>\n",
              "      <td>False</td>\n",
              "      <td>False</td>\n",
              "      <td>False</td>\n",
              "      <td>False</td>\n",
              "      <td>False</td>\n",
              "    </tr>\n",
              "    <tr>\n",
              "      <th>11637</th>\n",
              "      <td>False</td>\n",
              "      <td>False</td>\n",
              "      <td>False</td>\n",
              "      <td>False</td>\n",
              "      <td>False</td>\n",
              "      <td>False</td>\n",
              "      <td>False</td>\n",
              "      <td>False</td>\n",
              "      <td>False</td>\n",
              "      <td>False</td>\n",
              "      <td>...</td>\n",
              "      <td>False</td>\n",
              "      <td>False</td>\n",
              "      <td>False</td>\n",
              "      <td>False</td>\n",
              "      <td>False</td>\n",
              "      <td>False</td>\n",
              "      <td>False</td>\n",
              "      <td>False</td>\n",
              "      <td>False</td>\n",
              "      <td>False</td>\n",
              "    </tr>\n",
              "    <tr>\n",
              "      <th>21149</th>\n",
              "      <td>True</td>\n",
              "      <td>False</td>\n",
              "      <td>False</td>\n",
              "      <td>False</td>\n",
              "      <td>False</td>\n",
              "      <td>False</td>\n",
              "      <td>False</td>\n",
              "      <td>False</td>\n",
              "      <td>False</td>\n",
              "      <td>False</td>\n",
              "      <td>...</td>\n",
              "      <td>False</td>\n",
              "      <td>False</td>\n",
              "      <td>False</td>\n",
              "      <td>False</td>\n",
              "      <td>False</td>\n",
              "      <td>False</td>\n",
              "      <td>False</td>\n",
              "      <td>False</td>\n",
              "      <td>False</td>\n",
              "      <td>False</td>\n",
              "    </tr>\n",
              "    <tr>\n",
              "      <th>23240</th>\n",
              "      <td>True</td>\n",
              "      <td>False</td>\n",
              "      <td>False</td>\n",
              "      <td>False</td>\n",
              "      <td>False</td>\n",
              "      <td>False</td>\n",
              "      <td>False</td>\n",
              "      <td>False</td>\n",
              "      <td>False</td>\n",
              "      <td>False</td>\n",
              "      <td>...</td>\n",
              "      <td>False</td>\n",
              "      <td>False</td>\n",
              "      <td>False</td>\n",
              "      <td>False</td>\n",
              "      <td>False</td>\n",
              "      <td>False</td>\n",
              "      <td>False</td>\n",
              "      <td>False</td>\n",
              "      <td>False</td>\n",
              "      <td>False</td>\n",
              "    </tr>\n",
              "  </tbody>\n",
              "</table>\n",
              "<p>33444 rows × 1346 columns</p>\n",
              "</div>\n",
              "    <div class=\"colab-df-buttons\">\n",
              "\n",
              "  <div class=\"colab-df-container\">\n",
              "    <button class=\"colab-df-convert\" onclick=\"convertToInteractive('df-18a31e5d-6c35-4286-8b06-f024e0a7ab83')\"\n",
              "            title=\"Convert this dataframe to an interactive table.\"\n",
              "            style=\"display:none;\">\n",
              "\n",
              "  <svg xmlns=\"http://www.w3.org/2000/svg\" height=\"24px\" viewBox=\"0 -960 960 960\">\n",
              "    <path d=\"M120-120v-720h720v720H120Zm60-500h600v-160H180v160Zm220 220h160v-160H400v160Zm0 220h160v-160H400v160ZM180-400h160v-160H180v160Zm440 0h160v-160H620v160ZM180-180h160v-160H180v160Zm440 0h160v-160H620v160Z\"/>\n",
              "  </svg>\n",
              "    </button>\n",
              "\n",
              "  <style>\n",
              "    .colab-df-container {\n",
              "      display:flex;\n",
              "      gap: 12px;\n",
              "    }\n",
              "\n",
              "    .colab-df-convert {\n",
              "      background-color: #E8F0FE;\n",
              "      border: none;\n",
              "      border-radius: 50%;\n",
              "      cursor: pointer;\n",
              "      display: none;\n",
              "      fill: #1967D2;\n",
              "      height: 32px;\n",
              "      padding: 0 0 0 0;\n",
              "      width: 32px;\n",
              "    }\n",
              "\n",
              "    .colab-df-convert:hover {\n",
              "      background-color: #E2EBFA;\n",
              "      box-shadow: 0px 1px 2px rgba(60, 64, 67, 0.3), 0px 1px 3px 1px rgba(60, 64, 67, 0.15);\n",
              "      fill: #174EA6;\n",
              "    }\n",
              "\n",
              "    .colab-df-buttons div {\n",
              "      margin-bottom: 4px;\n",
              "    }\n",
              "\n",
              "    [theme=dark] .colab-df-convert {\n",
              "      background-color: #3B4455;\n",
              "      fill: #D2E3FC;\n",
              "    }\n",
              "\n",
              "    [theme=dark] .colab-df-convert:hover {\n",
              "      background-color: #434B5C;\n",
              "      box-shadow: 0px 1px 3px 1px rgba(0, 0, 0, 0.15);\n",
              "      filter: drop-shadow(0px 1px 2px rgba(0, 0, 0, 0.3));\n",
              "      fill: #FFFFFF;\n",
              "    }\n",
              "  </style>\n",
              "\n",
              "    <script>\n",
              "      const buttonEl =\n",
              "        document.querySelector('#df-18a31e5d-6c35-4286-8b06-f024e0a7ab83 button.colab-df-convert');\n",
              "      buttonEl.style.display =\n",
              "        google.colab.kernel.accessAllowed ? 'block' : 'none';\n",
              "\n",
              "      async function convertToInteractive(key) {\n",
              "        const element = document.querySelector('#df-18a31e5d-6c35-4286-8b06-f024e0a7ab83');\n",
              "        const dataTable =\n",
              "          await google.colab.kernel.invokeFunction('convertToInteractive',\n",
              "                                                    [key], {});\n",
              "        if (!dataTable) return;\n",
              "\n",
              "        const docLinkHtml = 'Like what you see? Visit the ' +\n",
              "          '<a target=\"_blank\" href=https://colab.research.google.com/notebooks/data_table.ipynb>data table notebook</a>'\n",
              "          + ' to learn more about interactive tables.';\n",
              "        element.innerHTML = '';\n",
              "        dataTable['output_type'] = 'display_data';\n",
              "        await google.colab.output.renderOutput(dataTable, element);\n",
              "        const docLink = document.createElement('div');\n",
              "        docLink.innerHTML = docLinkHtml;\n",
              "        element.appendChild(docLink);\n",
              "      }\n",
              "    </script>\n",
              "  </div>\n",
              "\n",
              "\n",
              "<div id=\"df-d9ac73ab-79ed-4e3b-8e6c-ef3d4de645d3\">\n",
              "  <button class=\"colab-df-quickchart\" onclick=\"quickchart('df-d9ac73ab-79ed-4e3b-8e6c-ef3d4de645d3')\"\n",
              "            title=\"Suggest charts\"\n",
              "            style=\"display:none;\">\n",
              "\n",
              "<svg xmlns=\"http://www.w3.org/2000/svg\" height=\"24px\"viewBox=\"0 0 24 24\"\n",
              "     width=\"24px\">\n",
              "    <g>\n",
              "        <path d=\"M19 3H5c-1.1 0-2 .9-2 2v14c0 1.1.9 2 2 2h14c1.1 0 2-.9 2-2V5c0-1.1-.9-2-2-2zM9 17H7v-7h2v7zm4 0h-2V7h2v10zm4 0h-2v-4h2v4z\"/>\n",
              "    </g>\n",
              "</svg>\n",
              "  </button>\n",
              "\n",
              "<style>\n",
              "  .colab-df-quickchart {\n",
              "      --bg-color: #E8F0FE;\n",
              "      --fill-color: #1967D2;\n",
              "      --hover-bg-color: #E2EBFA;\n",
              "      --hover-fill-color: #174EA6;\n",
              "      --disabled-fill-color: #AAA;\n",
              "      --disabled-bg-color: #DDD;\n",
              "  }\n",
              "\n",
              "  [theme=dark] .colab-df-quickchart {\n",
              "      --bg-color: #3B4455;\n",
              "      --fill-color: #D2E3FC;\n",
              "      --hover-bg-color: #434B5C;\n",
              "      --hover-fill-color: #FFFFFF;\n",
              "      --disabled-bg-color: #3B4455;\n",
              "      --disabled-fill-color: #666;\n",
              "  }\n",
              "\n",
              "  .colab-df-quickchart {\n",
              "    background-color: var(--bg-color);\n",
              "    border: none;\n",
              "    border-radius: 50%;\n",
              "    cursor: pointer;\n",
              "    display: none;\n",
              "    fill: var(--fill-color);\n",
              "    height: 32px;\n",
              "    padding: 0;\n",
              "    width: 32px;\n",
              "  }\n",
              "\n",
              "  .colab-df-quickchart:hover {\n",
              "    background-color: var(--hover-bg-color);\n",
              "    box-shadow: 0 1px 2px rgba(60, 64, 67, 0.3), 0 1px 3px 1px rgba(60, 64, 67, 0.15);\n",
              "    fill: var(--button-hover-fill-color);\n",
              "  }\n",
              "\n",
              "  .colab-df-quickchart-complete:disabled,\n",
              "  .colab-df-quickchart-complete:disabled:hover {\n",
              "    background-color: var(--disabled-bg-color);\n",
              "    fill: var(--disabled-fill-color);\n",
              "    box-shadow: none;\n",
              "  }\n",
              "\n",
              "  .colab-df-spinner {\n",
              "    border: 2px solid var(--fill-color);\n",
              "    border-color: transparent;\n",
              "    border-bottom-color: var(--fill-color);\n",
              "    animation:\n",
              "      spin 1s steps(1) infinite;\n",
              "  }\n",
              "\n",
              "  @keyframes spin {\n",
              "    0% {\n",
              "      border-color: transparent;\n",
              "      border-bottom-color: var(--fill-color);\n",
              "      border-left-color: var(--fill-color);\n",
              "    }\n",
              "    20% {\n",
              "      border-color: transparent;\n",
              "      border-left-color: var(--fill-color);\n",
              "      border-top-color: var(--fill-color);\n",
              "    }\n",
              "    30% {\n",
              "      border-color: transparent;\n",
              "      border-left-color: var(--fill-color);\n",
              "      border-top-color: var(--fill-color);\n",
              "      border-right-color: var(--fill-color);\n",
              "    }\n",
              "    40% {\n",
              "      border-color: transparent;\n",
              "      border-right-color: var(--fill-color);\n",
              "      border-top-color: var(--fill-color);\n",
              "    }\n",
              "    60% {\n",
              "      border-color: transparent;\n",
              "      border-right-color: var(--fill-color);\n",
              "    }\n",
              "    80% {\n",
              "      border-color: transparent;\n",
              "      border-right-color: var(--fill-color);\n",
              "      border-bottom-color: var(--fill-color);\n",
              "    }\n",
              "    90% {\n",
              "      border-color: transparent;\n",
              "      border-bottom-color: var(--fill-color);\n",
              "    }\n",
              "  }\n",
              "</style>\n",
              "\n",
              "  <script>\n",
              "    async function quickchart(key) {\n",
              "      const quickchartButtonEl =\n",
              "        document.querySelector('#' + key + ' button');\n",
              "      quickchartButtonEl.disabled = true;  // To prevent multiple clicks.\n",
              "      quickchartButtonEl.classList.add('colab-df-spinner');\n",
              "      try {\n",
              "        const charts = await google.colab.kernel.invokeFunction(\n",
              "            'suggestCharts', [key], {});\n",
              "      } catch (error) {\n",
              "        console.error('Error during call to suggestCharts:', error);\n",
              "      }\n",
              "      quickchartButtonEl.classList.remove('colab-df-spinner');\n",
              "      quickchartButtonEl.classList.add('colab-df-quickchart-complete');\n",
              "    }\n",
              "    (() => {\n",
              "      let quickchartButtonEl =\n",
              "        document.querySelector('#df-d9ac73ab-79ed-4e3b-8e6c-ef3d4de645d3 button');\n",
              "      quickchartButtonEl.style.display =\n",
              "        google.colab.kernel.accessAllowed ? 'block' : 'none';\n",
              "    })();\n",
              "  </script>\n",
              "</div>\n",
              "    </div>\n",
              "  </div>\n"
            ],
            "application/vnd.google.colaboratory.intrinsic+json": {
              "type": "dataframe",
              "variable_name": "df_encoded"
            }
          },
          "metadata": {},
          "execution_count": 73
        }
      ]
    },
    {
      "cell_type": "markdown",
      "source": [
        "Разделим выборки обратно (складывали их вертикально, поэтому можем также разделить)"
      ],
      "metadata": {
        "id": "LwodoLEe2YwT"
      }
    },
    {
      "cell_type": "code",
      "source": [
        "x_test = df_encoded.tail(10034)\n",
        "x_train = df_encoded.head(23410)"
      ],
      "metadata": {
        "id": "6Nyc6kNL189q"
      },
      "execution_count": 74,
      "outputs": []
    },
    {
      "cell_type": "markdown",
      "source": [
        "Добавьте этот признак к матрице отскалированных текстовых признаков, обучите логистическую регрессию, замерьте качество. Как оно изменилось? Оказался ли признак полезным?\n",
        "\n",
        "\n",
        "*Подсказка:* используйте параметр `categories` в энкодере."
      ],
      "metadata": {
        "id": "ZyMX5kZuimPK"
      }
    },
    {
      "cell_type": "code",
      "source": [
        "cv_matrix_train1 = np.concatenate([cv_train_scal, x_train], axis = 1)\n",
        "cv_matrix_test1 = np.concatenate([cv_test_scal, x_test], axis = 1)"
      ],
      "metadata": {
        "id": "EO1jNPeeim7A"
      },
      "execution_count": 75,
      "outputs": []
    },
    {
      "cell_type": "code",
      "source": [
        "logreg = LogisticRegression(max_iter=200)\n",
        "logreg.fit(cv_matrix_train1, y_train)"
      ],
      "metadata": {
        "colab": {
          "base_uri": "https://localhost:8080/",
          "height": 216
        },
        "id": "p_k6chzn4O5f",
        "outputId": "f800cd77-eb50-4fb4-c71a-c5d1473b600b"
      },
      "execution_count": 76,
      "outputs": [
        {
          "output_type": "stream",
          "name": "stderr",
          "text": [
            "/usr/local/lib/python3.10/dist-packages/sklearn/linear_model/_logistic.py:458: ConvergenceWarning: lbfgs failed to converge (status=1):\n",
            "STOP: TOTAL NO. of ITERATIONS REACHED LIMIT.\n",
            "\n",
            "Increase the number of iterations (max_iter) or scale the data as shown in:\n",
            "    https://scikit-learn.org/stable/modules/preprocessing.html\n",
            "Please also refer to the documentation for alternative solver options:\n",
            "    https://scikit-learn.org/stable/modules/linear_model.html#logistic-regression\n",
            "  n_iter_i = _check_optimize_result(\n"
          ]
        },
        {
          "output_type": "execute_result",
          "data": {
            "text/plain": [
              "LogisticRegression(max_iter=200)"
            ],
            "text/html": [
              "<style>#sk-container-id-5 {color: black;background-color: white;}#sk-container-id-5 pre{padding: 0;}#sk-container-id-5 div.sk-toggleable {background-color: white;}#sk-container-id-5 label.sk-toggleable__label {cursor: pointer;display: block;width: 100%;margin-bottom: 0;padding: 0.3em;box-sizing: border-box;text-align: center;}#sk-container-id-5 label.sk-toggleable__label-arrow:before {content: \"▸\";float: left;margin-right: 0.25em;color: #696969;}#sk-container-id-5 label.sk-toggleable__label-arrow:hover:before {color: black;}#sk-container-id-5 div.sk-estimator:hover label.sk-toggleable__label-arrow:before {color: black;}#sk-container-id-5 div.sk-toggleable__content {max-height: 0;max-width: 0;overflow: hidden;text-align: left;background-color: #f0f8ff;}#sk-container-id-5 div.sk-toggleable__content pre {margin: 0.2em;color: black;border-radius: 0.25em;background-color: #f0f8ff;}#sk-container-id-5 input.sk-toggleable__control:checked~div.sk-toggleable__content {max-height: 200px;max-width: 100%;overflow: auto;}#sk-container-id-5 input.sk-toggleable__control:checked~label.sk-toggleable__label-arrow:before {content: \"▾\";}#sk-container-id-5 div.sk-estimator input.sk-toggleable__control:checked~label.sk-toggleable__label {background-color: #d4ebff;}#sk-container-id-5 div.sk-label input.sk-toggleable__control:checked~label.sk-toggleable__label {background-color: #d4ebff;}#sk-container-id-5 input.sk-hidden--visually {border: 0;clip: rect(1px 1px 1px 1px);clip: rect(1px, 1px, 1px, 1px);height: 1px;margin: -1px;overflow: hidden;padding: 0;position: absolute;width: 1px;}#sk-container-id-5 div.sk-estimator {font-family: monospace;background-color: #f0f8ff;border: 1px dotted black;border-radius: 0.25em;box-sizing: border-box;margin-bottom: 0.5em;}#sk-container-id-5 div.sk-estimator:hover {background-color: #d4ebff;}#sk-container-id-5 div.sk-parallel-item::after {content: \"\";width: 100%;border-bottom: 1px solid gray;flex-grow: 1;}#sk-container-id-5 div.sk-label:hover label.sk-toggleable__label {background-color: #d4ebff;}#sk-container-id-5 div.sk-serial::before {content: \"\";position: absolute;border-left: 1px solid gray;box-sizing: border-box;top: 0;bottom: 0;left: 50%;z-index: 0;}#sk-container-id-5 div.sk-serial {display: flex;flex-direction: column;align-items: center;background-color: white;padding-right: 0.2em;padding-left: 0.2em;position: relative;}#sk-container-id-5 div.sk-item {position: relative;z-index: 1;}#sk-container-id-5 div.sk-parallel {display: flex;align-items: stretch;justify-content: center;background-color: white;position: relative;}#sk-container-id-5 div.sk-item::before, #sk-container-id-5 div.sk-parallel-item::before {content: \"\";position: absolute;border-left: 1px solid gray;box-sizing: border-box;top: 0;bottom: 0;left: 50%;z-index: -1;}#sk-container-id-5 div.sk-parallel-item {display: flex;flex-direction: column;z-index: 1;position: relative;background-color: white;}#sk-container-id-5 div.sk-parallel-item:first-child::after {align-self: flex-end;width: 50%;}#sk-container-id-5 div.sk-parallel-item:last-child::after {align-self: flex-start;width: 50%;}#sk-container-id-5 div.sk-parallel-item:only-child::after {width: 0;}#sk-container-id-5 div.sk-dashed-wrapped {border: 1px dashed gray;margin: 0 0.4em 0.5em 0.4em;box-sizing: border-box;padding-bottom: 0.4em;background-color: white;}#sk-container-id-5 div.sk-label label {font-family: monospace;font-weight: bold;display: inline-block;line-height: 1.2em;}#sk-container-id-5 div.sk-label-container {text-align: center;}#sk-container-id-5 div.sk-container {/* jupyter's `normalize.less` sets `[hidden] { display: none; }` but bootstrap.min.css set `[hidden] { display: none !important; }` so we also need the `!important` here to be able to override the default hidden behavior on the sphinx rendered scikit-learn.org. See: https://github.com/scikit-learn/scikit-learn/issues/21755 */display: inline-block !important;position: relative;}#sk-container-id-5 div.sk-text-repr-fallback {display: none;}</style><div id=\"sk-container-id-5\" class=\"sk-top-container\"><div class=\"sk-text-repr-fallback\"><pre>LogisticRegression(max_iter=200)</pre><b>In a Jupyter environment, please rerun this cell to show the HTML representation or trust the notebook. <br />On GitHub, the HTML representation is unable to render, please try loading this page with nbviewer.org.</b></div><div class=\"sk-container\" hidden><div class=\"sk-item\"><div class=\"sk-estimator sk-toggleable\"><input class=\"sk-toggleable__control sk-hidden--visually\" id=\"sk-estimator-id-5\" type=\"checkbox\" checked><label for=\"sk-estimator-id-5\" class=\"sk-toggleable__label sk-toggleable__label-arrow\">LogisticRegression</label><div class=\"sk-toggleable__content\"><pre>LogisticRegression(max_iter=200)</pre></div></div></div></div></div>"
            ]
          },
          "metadata": {},
          "execution_count": 76
        }
      ]
    },
    {
      "cell_type": "code",
      "source": [
        "acc_train = accuracy_score(logreg.predict(cv_matrix_train1), y_train)\n",
        "acc_test = accuracy_score(logreg.predict(cv_matrix_test1), y_test)\n",
        "print(f'train : {acc_train}\\ntest : {acc_test}')"
      ],
      "metadata": {
        "colab": {
          "base_uri": "https://localhost:8080/"
        },
        "id": "WhHQIxNG4ky1",
        "outputId": "8a4360c4-06ad-4530-aafe-bfb3ff375d55"
      },
      "execution_count": 77,
      "outputs": [
        {
          "output_type": "stream",
          "name": "stdout",
          "text": [
            "train : 0.9466894489534387\n",
            "test : 0.8435319912298186\n"
          ]
        }
      ]
    },
    {
      "cell_type": "markdown",
      "source": [
        "**Ответ:**  accuracy модели практически не изменилось, поэтому данный признак не является действительно важным при определении эмоциональной окраски текста твитта."
      ],
      "metadata": {
        "id": "7dHsGlDRYUQt"
      }
    },
    {
      "cell_type": "markdown",
      "source": [
        "## Задание 8 Хорошее качество (Бонус 1 балл)"
      ],
      "metadata": {
        "id": "IWn6h4W9eD3S"
      }
    },
    {
      "cell_type": "markdown",
      "source": [
        "У меня не получилось добить качество 0.9, но оно все равно повысилось. А так как мне было лень удалять ячейки, so...."
      ],
      "metadata": {
        "id": "taUQRCpxJKPE"
      }
    },
    {
      "cell_type": "markdown",
      "source": [
        "Добейтесь accuracy=0.9 на тестовой выборке (можно сменить токенайзер, векторайзер, модель и т.д.)"
      ],
      "metadata": {
        "id": "-HDI0SU6eLgi"
      }
    },
    {
      "cell_type": "code",
      "source": [
        "!pip install catboost"
      ],
      "metadata": {
        "id": "k3WMbE8edhlW",
        "colab": {
          "base_uri": "https://localhost:8080/"
        },
        "outputId": "bad3d027-29fb-4206-e1c8-bbc79a87c13e"
      },
      "execution_count": 78,
      "outputs": [
        {
          "output_type": "stream",
          "name": "stdout",
          "text": [
            "Requirement already satisfied: catboost in /usr/local/lib/python3.10/dist-packages (1.2.5)\n",
            "Requirement already satisfied: graphviz in /usr/local/lib/python3.10/dist-packages (from catboost) (0.20.3)\n",
            "Requirement already satisfied: matplotlib in /usr/local/lib/python3.10/dist-packages (from catboost) (3.7.1)\n",
            "Requirement already satisfied: numpy>=1.16.0 in /usr/local/lib/python3.10/dist-packages (from catboost) (1.25.2)\n",
            "Requirement already satisfied: pandas>=0.24 in /usr/local/lib/python3.10/dist-packages (from catboost) (2.0.3)\n",
            "Requirement already satisfied: scipy in /usr/local/lib/python3.10/dist-packages (from catboost) (1.11.4)\n",
            "Requirement already satisfied: plotly in /usr/local/lib/python3.10/dist-packages (from catboost) (5.15.0)\n",
            "Requirement already satisfied: six in /usr/local/lib/python3.10/dist-packages (from catboost) (1.16.0)\n",
            "Requirement already satisfied: python-dateutil>=2.8.2 in /usr/local/lib/python3.10/dist-packages (from pandas>=0.24->catboost) (2.8.2)\n",
            "Requirement already satisfied: pytz>=2020.1 in /usr/local/lib/python3.10/dist-packages (from pandas>=0.24->catboost) (2023.4)\n",
            "Requirement already satisfied: tzdata>=2022.1 in /usr/local/lib/python3.10/dist-packages (from pandas>=0.24->catboost) (2024.1)\n",
            "Requirement already satisfied: contourpy>=1.0.1 in /usr/local/lib/python3.10/dist-packages (from matplotlib->catboost) (1.2.1)\n",
            "Requirement already satisfied: cycler>=0.10 in /usr/local/lib/python3.10/dist-packages (from matplotlib->catboost) (0.12.1)\n",
            "Requirement already satisfied: fonttools>=4.22.0 in /usr/local/lib/python3.10/dist-packages (from matplotlib->catboost) (4.51.0)\n",
            "Requirement already satisfied: kiwisolver>=1.0.1 in /usr/local/lib/python3.10/dist-packages (from matplotlib->catboost) (1.4.5)\n",
            "Requirement already satisfied: packaging>=20.0 in /usr/local/lib/python3.10/dist-packages (from matplotlib->catboost) (24.0)\n",
            "Requirement already satisfied: pillow>=6.2.0 in /usr/local/lib/python3.10/dist-packages (from matplotlib->catboost) (9.4.0)\n",
            "Requirement already satisfied: pyparsing>=2.3.1 in /usr/local/lib/python3.10/dist-packages (from matplotlib->catboost) (3.1.2)\n",
            "Requirement already satisfied: tenacity>=6.2.0 in /usr/local/lib/python3.10/dist-packages (from plotly->catboost) (8.3.0)\n"
          ]
        }
      ]
    },
    {
      "cell_type": "code",
      "source": [
        "from catboost import CatBoostClassifier, cv\n",
        "import xgboost as xgb"
      ],
      "metadata": {
        "id": "RrVtomL47gdO"
      },
      "execution_count": 89,
      "outputs": []
    },
    {
      "cell_type": "code",
      "source": [
        "model = xgb.XGBClassifier(max_depth=7, n_estimators=1000)\n",
        "model.fit(cv_matrix_train1, y_train)"
      ],
      "metadata": {
        "id": "KF-5Y0fF7poA",
        "colab": {
          "base_uri": "https://localhost:8080/",
          "height": 248
        },
        "outputId": "b0636f4d-9c9c-44de-93be-850b55e7a83c"
      },
      "execution_count": 93,
      "outputs": [
        {
          "output_type": "execute_result",
          "data": {
            "text/plain": [
              "XGBClassifier(base_score=None, booster=None, callbacks=None,\n",
              "              colsample_bylevel=None, colsample_bynode=None,\n",
              "              colsample_bytree=None, device=None, early_stopping_rounds=None,\n",
              "              enable_categorical=False, eval_metric=None, feature_types=None,\n",
              "              gamma=None, grow_policy=None, importance_type=None,\n",
              "              interaction_constraints=None, learning_rate=None, max_bin=None,\n",
              "              max_cat_threshold=None, max_cat_to_onehot=None,\n",
              "              max_delta_step=None, max_depth=7, max_leaves=None,\n",
              "              min_child_weight=None, missing=nan, monotone_constraints=None,\n",
              "              multi_strategy=None, n_estimators=1000, n_jobs=None,\n",
              "              num_parallel_tree=None, random_state=None, ...)"
            ],
            "text/html": [
              "<style>#sk-container-id-7 {color: black;background-color: white;}#sk-container-id-7 pre{padding: 0;}#sk-container-id-7 div.sk-toggleable {background-color: white;}#sk-container-id-7 label.sk-toggleable__label {cursor: pointer;display: block;width: 100%;margin-bottom: 0;padding: 0.3em;box-sizing: border-box;text-align: center;}#sk-container-id-7 label.sk-toggleable__label-arrow:before {content: \"▸\";float: left;margin-right: 0.25em;color: #696969;}#sk-container-id-7 label.sk-toggleable__label-arrow:hover:before {color: black;}#sk-container-id-7 div.sk-estimator:hover label.sk-toggleable__label-arrow:before {color: black;}#sk-container-id-7 div.sk-toggleable__content {max-height: 0;max-width: 0;overflow: hidden;text-align: left;background-color: #f0f8ff;}#sk-container-id-7 div.sk-toggleable__content pre {margin: 0.2em;color: black;border-radius: 0.25em;background-color: #f0f8ff;}#sk-container-id-7 input.sk-toggleable__control:checked~div.sk-toggleable__content {max-height: 200px;max-width: 100%;overflow: auto;}#sk-container-id-7 input.sk-toggleable__control:checked~label.sk-toggleable__label-arrow:before {content: \"▾\";}#sk-container-id-7 div.sk-estimator input.sk-toggleable__control:checked~label.sk-toggleable__label {background-color: #d4ebff;}#sk-container-id-7 div.sk-label input.sk-toggleable__control:checked~label.sk-toggleable__label {background-color: #d4ebff;}#sk-container-id-7 input.sk-hidden--visually {border: 0;clip: rect(1px 1px 1px 1px);clip: rect(1px, 1px, 1px, 1px);height: 1px;margin: -1px;overflow: hidden;padding: 0;position: absolute;width: 1px;}#sk-container-id-7 div.sk-estimator {font-family: monospace;background-color: #f0f8ff;border: 1px dotted black;border-radius: 0.25em;box-sizing: border-box;margin-bottom: 0.5em;}#sk-container-id-7 div.sk-estimator:hover {background-color: #d4ebff;}#sk-container-id-7 div.sk-parallel-item::after {content: \"\";width: 100%;border-bottom: 1px solid gray;flex-grow: 1;}#sk-container-id-7 div.sk-label:hover label.sk-toggleable__label {background-color: #d4ebff;}#sk-container-id-7 div.sk-serial::before {content: \"\";position: absolute;border-left: 1px solid gray;box-sizing: border-box;top: 0;bottom: 0;left: 50%;z-index: 0;}#sk-container-id-7 div.sk-serial {display: flex;flex-direction: column;align-items: center;background-color: white;padding-right: 0.2em;padding-left: 0.2em;position: relative;}#sk-container-id-7 div.sk-item {position: relative;z-index: 1;}#sk-container-id-7 div.sk-parallel {display: flex;align-items: stretch;justify-content: center;background-color: white;position: relative;}#sk-container-id-7 div.sk-item::before, #sk-container-id-7 div.sk-parallel-item::before {content: \"\";position: absolute;border-left: 1px solid gray;box-sizing: border-box;top: 0;bottom: 0;left: 50%;z-index: -1;}#sk-container-id-7 div.sk-parallel-item {display: flex;flex-direction: column;z-index: 1;position: relative;background-color: white;}#sk-container-id-7 div.sk-parallel-item:first-child::after {align-self: flex-end;width: 50%;}#sk-container-id-7 div.sk-parallel-item:last-child::after {align-self: flex-start;width: 50%;}#sk-container-id-7 div.sk-parallel-item:only-child::after {width: 0;}#sk-container-id-7 div.sk-dashed-wrapped {border: 1px dashed gray;margin: 0 0.4em 0.5em 0.4em;box-sizing: border-box;padding-bottom: 0.4em;background-color: white;}#sk-container-id-7 div.sk-label label {font-family: monospace;font-weight: bold;display: inline-block;line-height: 1.2em;}#sk-container-id-7 div.sk-label-container {text-align: center;}#sk-container-id-7 div.sk-container {/* jupyter's `normalize.less` sets `[hidden] { display: none; }` but bootstrap.min.css set `[hidden] { display: none !important; }` so we also need the `!important` here to be able to override the default hidden behavior on the sphinx rendered scikit-learn.org. See: https://github.com/scikit-learn/scikit-learn/issues/21755 */display: inline-block !important;position: relative;}#sk-container-id-7 div.sk-text-repr-fallback {display: none;}</style><div id=\"sk-container-id-7\" class=\"sk-top-container\"><div class=\"sk-text-repr-fallback\"><pre>XGBClassifier(base_score=None, booster=None, callbacks=None,\n",
              "              colsample_bylevel=None, colsample_bynode=None,\n",
              "              colsample_bytree=None, device=None, early_stopping_rounds=None,\n",
              "              enable_categorical=False, eval_metric=None, feature_types=None,\n",
              "              gamma=None, grow_policy=None, importance_type=None,\n",
              "              interaction_constraints=None, learning_rate=None, max_bin=None,\n",
              "              max_cat_threshold=None, max_cat_to_onehot=None,\n",
              "              max_delta_step=None, max_depth=7, max_leaves=None,\n",
              "              min_child_weight=None, missing=nan, monotone_constraints=None,\n",
              "              multi_strategy=None, n_estimators=1000, n_jobs=None,\n",
              "              num_parallel_tree=None, random_state=None, ...)</pre><b>In a Jupyter environment, please rerun this cell to show the HTML representation or trust the notebook. <br />On GitHub, the HTML representation is unable to render, please try loading this page with nbviewer.org.</b></div><div class=\"sk-container\" hidden><div class=\"sk-item\"><div class=\"sk-estimator sk-toggleable\"><input class=\"sk-toggleable__control sk-hidden--visually\" id=\"sk-estimator-id-7\" type=\"checkbox\" checked><label for=\"sk-estimator-id-7\" class=\"sk-toggleable__label sk-toggleable__label-arrow\">XGBClassifier</label><div class=\"sk-toggleable__content\"><pre>XGBClassifier(base_score=None, booster=None, callbacks=None,\n",
              "              colsample_bylevel=None, colsample_bynode=None,\n",
              "              colsample_bytree=None, device=None, early_stopping_rounds=None,\n",
              "              enable_categorical=False, eval_metric=None, feature_types=None,\n",
              "              gamma=None, grow_policy=None, importance_type=None,\n",
              "              interaction_constraints=None, learning_rate=None, max_bin=None,\n",
              "              max_cat_threshold=None, max_cat_to_onehot=None,\n",
              "              max_delta_step=None, max_depth=7, max_leaves=None,\n",
              "              min_child_weight=None, missing=nan, monotone_constraints=None,\n",
              "              multi_strategy=None, n_estimators=1000, n_jobs=None,\n",
              "              num_parallel_tree=None, random_state=None, ...)</pre></div></div></div></div></div>"
            ]
          },
          "metadata": {},
          "execution_count": 93
        }
      ]
    },
    {
      "cell_type": "code",
      "source": [
        "accuracy = model.score(cv_matrix_test1, y_test)\n",
        "print(f\"Accuracy: {accuracy}\")"
      ],
      "metadata": {
        "colab": {
          "base_uri": "https://localhost:8080/"
        },
        "id": "stgzrRi574nd",
        "outputId": "30649200-887e-4fd7-bb5f-ead262ed57b9"
      },
      "execution_count": 94,
      "outputs": [
        {
          "output_type": "stream",
          "name": "stdout",
          "text": [
            "Accuracy: 0.8688459238588798\n"
          ]
        }
      ]
    },
    {
      "cell_type": "code",
      "source": [
        "model = CatBoostClassifier(iterations=1500, learning_rate=0.1, depth=8)\n",
        "model.fit(cv_matrix_train1, y_train)"
      ],
      "metadata": {
        "colab": {
          "base_uri": "https://localhost:8080/"
        },
        "id": "5hWMMGo4JT_x",
        "outputId": "50c018eb-6b22-4401-edfd-033ae7e24c0b"
      },
      "execution_count": 95,
      "outputs": [
        {
          "output_type": "stream",
          "name": "stdout",
          "text": [
            "0:\tlearn: 0.6745228\ttotal: 89.5ms\tremaining: 2m 14s\n",
            "1:\tlearn: 0.6583323\ttotal: 165ms\tremaining: 2m 3s\n",
            "2:\tlearn: 0.6457610\ttotal: 240ms\tremaining: 1m 59s\n",
            "3:\tlearn: 0.6349869\ttotal: 321ms\tremaining: 2m\n",
            "4:\tlearn: 0.6277966\ttotal: 396ms\tremaining: 1m 58s\n",
            "5:\tlearn: 0.6208899\ttotal: 470ms\tremaining: 1m 56s\n",
            "6:\tlearn: 0.6146629\ttotal: 548ms\tremaining: 1m 56s\n",
            "7:\tlearn: 0.6081049\ttotal: 627ms\tremaining: 1m 56s\n",
            "8:\tlearn: 0.6029287\ttotal: 699ms\tremaining: 1m 55s\n",
            "9:\tlearn: 0.5986802\ttotal: 773ms\tremaining: 1m 55s\n",
            "10:\tlearn: 0.5941240\ttotal: 851ms\tremaining: 1m 55s\n",
            "11:\tlearn: 0.5897870\ttotal: 937ms\tremaining: 1m 56s\n",
            "12:\tlearn: 0.5851697\ttotal: 1.03s\tremaining: 1m 57s\n",
            "13:\tlearn: 0.5811257\ttotal: 1.1s\tremaining: 1m 57s\n",
            "14:\tlearn: 0.5777041\ttotal: 1.18s\tremaining: 1m 56s\n",
            "15:\tlearn: 0.5743632\ttotal: 1.26s\tremaining: 1m 56s\n",
            "16:\tlearn: 0.5711111\ttotal: 1.33s\tremaining: 1m 56s\n",
            "17:\tlearn: 0.5680019\ttotal: 1.4s\tremaining: 1m 55s\n",
            "18:\tlearn: 0.5656156\ttotal: 1.48s\tremaining: 1m 55s\n",
            "19:\tlearn: 0.5634731\ttotal: 1.56s\tremaining: 1m 55s\n",
            "20:\tlearn: 0.5610823\ttotal: 1.63s\tremaining: 1m 54s\n",
            "21:\tlearn: 0.5584531\ttotal: 1.71s\tremaining: 1m 54s\n",
            "22:\tlearn: 0.5559936\ttotal: 1.78s\tremaining: 1m 54s\n",
            "23:\tlearn: 0.5536486\ttotal: 1.85s\tremaining: 1m 53s\n",
            "24:\tlearn: 0.5511758\ttotal: 1.94s\tremaining: 1m 54s\n",
            "25:\tlearn: 0.5488581\ttotal: 2.02s\tremaining: 1m 54s\n",
            "26:\tlearn: 0.5467518\ttotal: 2.09s\tremaining: 1m 53s\n",
            "27:\tlearn: 0.5442574\ttotal: 2.16s\tremaining: 1m 53s\n",
            "28:\tlearn: 0.5424586\ttotal: 2.24s\tremaining: 1m 53s\n",
            "29:\tlearn: 0.5402894\ttotal: 2.32s\tremaining: 1m 53s\n",
            "30:\tlearn: 0.5382022\ttotal: 2.4s\tremaining: 1m 53s\n",
            "31:\tlearn: 0.5364132\ttotal: 2.47s\tremaining: 1m 53s\n",
            "32:\tlearn: 0.5346661\ttotal: 2.54s\tremaining: 1m 53s\n",
            "33:\tlearn: 0.5329936\ttotal: 2.62s\tremaining: 1m 52s\n",
            "34:\tlearn: 0.5313579\ttotal: 2.69s\tremaining: 1m 52s\n",
            "35:\tlearn: 0.5294480\ttotal: 2.77s\tremaining: 1m 52s\n",
            "36:\tlearn: 0.5280384\ttotal: 2.84s\tremaining: 1m 52s\n",
            "37:\tlearn: 0.5262761\ttotal: 2.92s\tremaining: 1m 52s\n",
            "38:\tlearn: 0.5248669\ttotal: 3.01s\tremaining: 1m 52s\n",
            "39:\tlearn: 0.5234929\ttotal: 3.08s\tremaining: 1m 52s\n",
            "40:\tlearn: 0.5217265\ttotal: 3.16s\tremaining: 1m 52s\n",
            "41:\tlearn: 0.5201602\ttotal: 3.23s\tremaining: 1m 52s\n",
            "42:\tlearn: 0.5183968\ttotal: 3.32s\tremaining: 1m 52s\n",
            "43:\tlearn: 0.5170220\ttotal: 3.39s\tremaining: 1m 52s\n",
            "44:\tlearn: 0.5156641\ttotal: 3.46s\tremaining: 1m 51s\n",
            "45:\tlearn: 0.5142989\ttotal: 3.54s\tremaining: 1m 51s\n",
            "46:\tlearn: 0.5130444\ttotal: 3.61s\tremaining: 1m 51s\n",
            "47:\tlearn: 0.5116461\ttotal: 3.68s\tremaining: 1m 51s\n",
            "48:\tlearn: 0.5105053\ttotal: 3.76s\tremaining: 1m 51s\n",
            "49:\tlearn: 0.5093602\ttotal: 3.83s\tremaining: 1m 51s\n",
            "50:\tlearn: 0.5080388\ttotal: 3.9s\tremaining: 1m 50s\n",
            "51:\tlearn: 0.5068167\ttotal: 3.99s\tremaining: 1m 51s\n",
            "52:\tlearn: 0.5054713\ttotal: 4.07s\tremaining: 1m 51s\n",
            "53:\tlearn: 0.5043251\ttotal: 4.14s\tremaining: 1m 50s\n",
            "54:\tlearn: 0.5029494\ttotal: 4.21s\tremaining: 1m 50s\n",
            "55:\tlearn: 0.5018416\ttotal: 4.29s\tremaining: 1m 50s\n",
            "56:\tlearn: 0.5006969\ttotal: 4.37s\tremaining: 1m 50s\n",
            "57:\tlearn: 0.4992032\ttotal: 4.44s\tremaining: 1m 50s\n",
            "58:\tlearn: 0.4980899\ttotal: 4.51s\tremaining: 1m 50s\n",
            "59:\tlearn: 0.4969052\ttotal: 4.59s\tremaining: 1m 50s\n",
            "60:\tlearn: 0.4960142\ttotal: 4.66s\tremaining: 1m 49s\n",
            "61:\tlearn: 0.4948454\ttotal: 4.73s\tremaining: 1m 49s\n",
            "62:\tlearn: 0.4937470\ttotal: 4.8s\tremaining: 1m 49s\n",
            "63:\tlearn: 0.4926911\ttotal: 4.88s\tremaining: 1m 49s\n",
            "64:\tlearn: 0.4915727\ttotal: 4.95s\tremaining: 1m 49s\n",
            "65:\tlearn: 0.4905527\ttotal: 5.04s\tremaining: 1m 49s\n",
            "66:\tlearn: 0.4894744\ttotal: 5.12s\tremaining: 1m 49s\n",
            "67:\tlearn: 0.4886587\ttotal: 5.24s\tremaining: 1m 50s\n",
            "68:\tlearn: 0.4876345\ttotal: 5.37s\tremaining: 1m 51s\n",
            "69:\tlearn: 0.4867022\ttotal: 5.51s\tremaining: 1m 52s\n",
            "70:\tlearn: 0.4857122\ttotal: 5.64s\tremaining: 1m 53s\n",
            "71:\tlearn: 0.4848040\ttotal: 5.78s\tremaining: 1m 54s\n",
            "72:\tlearn: 0.4838490\ttotal: 5.92s\tremaining: 1m 55s\n",
            "73:\tlearn: 0.4830403\ttotal: 6.05s\tremaining: 1m 56s\n",
            "74:\tlearn: 0.4819258\ttotal: 6.16s\tremaining: 1m 57s\n",
            "75:\tlearn: 0.4811452\ttotal: 6.29s\tremaining: 1m 57s\n",
            "76:\tlearn: 0.4802405\ttotal: 6.44s\tremaining: 1m 59s\n",
            "77:\tlearn: 0.4793251\ttotal: 6.58s\tremaining: 2m\n",
            "78:\tlearn: 0.4784607\ttotal: 6.73s\tremaining: 2m 1s\n",
            "79:\tlearn: 0.4774753\ttotal: 6.86s\tremaining: 2m 1s\n",
            "80:\tlearn: 0.4765442\ttotal: 7.01s\tremaining: 2m 2s\n",
            "81:\tlearn: 0.4757573\ttotal: 7.15s\tremaining: 2m 3s\n",
            "82:\tlearn: 0.4749335\ttotal: 7.29s\tremaining: 2m 4s\n",
            "83:\tlearn: 0.4740276\ttotal: 7.41s\tremaining: 2m 4s\n",
            "84:\tlearn: 0.4730742\ttotal: 7.55s\tremaining: 2m 5s\n",
            "85:\tlearn: 0.4722212\ttotal: 7.7s\tremaining: 2m 6s\n",
            "86:\tlearn: 0.4713421\ttotal: 7.84s\tremaining: 2m 7s\n",
            "87:\tlearn: 0.4706041\ttotal: 7.99s\tremaining: 2m 8s\n",
            "88:\tlearn: 0.4696373\ttotal: 8.13s\tremaining: 2m 8s\n",
            "89:\tlearn: 0.4685707\ttotal: 8.28s\tremaining: 2m 9s\n",
            "90:\tlearn: 0.4675043\ttotal: 8.43s\tremaining: 2m 10s\n",
            "91:\tlearn: 0.4666163\ttotal: 8.58s\tremaining: 2m 11s\n",
            "92:\tlearn: 0.4657105\ttotal: 8.74s\tremaining: 2m 12s\n",
            "93:\tlearn: 0.4648170\ttotal: 8.88s\tremaining: 2m 12s\n",
            "94:\tlearn: 0.4638837\ttotal: 8.95s\tremaining: 2m 12s\n",
            "95:\tlearn: 0.4629285\ttotal: 9.03s\tremaining: 2m 12s\n",
            "96:\tlearn: 0.4620935\ttotal: 9.1s\tremaining: 2m 11s\n",
            "97:\tlearn: 0.4612070\ttotal: 9.2s\tremaining: 2m 11s\n",
            "98:\tlearn: 0.4602352\ttotal: 9.27s\tremaining: 2m 11s\n",
            "99:\tlearn: 0.4593345\ttotal: 9.35s\tremaining: 2m 10s\n",
            "100:\tlearn: 0.4584921\ttotal: 9.43s\tremaining: 2m 10s\n",
            "101:\tlearn: 0.4575824\ttotal: 9.5s\tremaining: 2m 10s\n",
            "102:\tlearn: 0.4567155\ttotal: 9.57s\tremaining: 2m 9s\n",
            "103:\tlearn: 0.4558761\ttotal: 9.65s\tremaining: 2m 9s\n",
            "104:\tlearn: 0.4551162\ttotal: 9.72s\tremaining: 2m 9s\n",
            "105:\tlearn: 0.4543934\ttotal: 9.79s\tremaining: 2m 8s\n",
            "106:\tlearn: 0.4536053\ttotal: 9.87s\tremaining: 2m 8s\n",
            "107:\tlearn: 0.4527795\ttotal: 9.95s\tremaining: 2m 8s\n",
            "108:\tlearn: 0.4519738\ttotal: 10s\tremaining: 2m 7s\n",
            "109:\tlearn: 0.4511928\ttotal: 10.1s\tremaining: 2m 7s\n",
            "110:\tlearn: 0.4502998\ttotal: 10.2s\tremaining: 2m 7s\n",
            "111:\tlearn: 0.4494960\ttotal: 10.3s\tremaining: 2m 7s\n",
            "112:\tlearn: 0.4485791\ttotal: 10.3s\tremaining: 2m 6s\n",
            "113:\tlearn: 0.4477747\ttotal: 10.4s\tremaining: 2m 6s\n",
            "114:\tlearn: 0.4470507\ttotal: 10.5s\tremaining: 2m 6s\n",
            "115:\tlearn: 0.4461378\ttotal: 10.6s\tremaining: 2m 6s\n",
            "116:\tlearn: 0.4452668\ttotal: 10.6s\tremaining: 2m 5s\n",
            "117:\tlearn: 0.4445246\ttotal: 10.7s\tremaining: 2m 5s\n",
            "118:\tlearn: 0.4436177\ttotal: 10.8s\tremaining: 2m 5s\n",
            "119:\tlearn: 0.4428731\ttotal: 10.9s\tremaining: 2m 5s\n",
            "120:\tlearn: 0.4421301\ttotal: 10.9s\tremaining: 2m 4s\n",
            "121:\tlearn: 0.4413529\ttotal: 11s\tremaining: 2m 4s\n",
            "122:\tlearn: 0.4405486\ttotal: 11.1s\tremaining: 2m 4s\n",
            "123:\tlearn: 0.4397918\ttotal: 11.2s\tremaining: 2m 3s\n",
            "124:\tlearn: 0.4390234\ttotal: 11.3s\tremaining: 2m 3s\n",
            "125:\tlearn: 0.4382721\ttotal: 11.3s\tremaining: 2m 3s\n",
            "126:\tlearn: 0.4374605\ttotal: 11.4s\tremaining: 2m 3s\n",
            "127:\tlearn: 0.4366139\ttotal: 11.5s\tremaining: 2m 3s\n",
            "128:\tlearn: 0.4358962\ttotal: 11.6s\tremaining: 2m 2s\n",
            "129:\tlearn: 0.4350980\ttotal: 11.6s\tremaining: 2m 2s\n",
            "130:\tlearn: 0.4343794\ttotal: 11.7s\tremaining: 2m 2s\n",
            "131:\tlearn: 0.4336726\ttotal: 11.8s\tremaining: 2m 2s\n",
            "132:\tlearn: 0.4329235\ttotal: 11.9s\tremaining: 2m 1s\n",
            "133:\tlearn: 0.4322139\ttotal: 11.9s\tremaining: 2m 1s\n",
            "134:\tlearn: 0.4315840\ttotal: 12s\tremaining: 2m 1s\n",
            "135:\tlearn: 0.4308864\ttotal: 12.1s\tremaining: 2m 1s\n",
            "136:\tlearn: 0.4301572\ttotal: 12.2s\tremaining: 2m 1s\n",
            "137:\tlearn: 0.4293644\ttotal: 12.2s\tremaining: 2m\n",
            "138:\tlearn: 0.4287094\ttotal: 12.3s\tremaining: 2m\n",
            "139:\tlearn: 0.4279808\ttotal: 12.4s\tremaining: 2m\n",
            "140:\tlearn: 0.4273591\ttotal: 12.5s\tremaining: 2m\n",
            "141:\tlearn: 0.4266610\ttotal: 12.5s\tremaining: 1m 59s\n",
            "142:\tlearn: 0.4260127\ttotal: 12.6s\tremaining: 1m 59s\n",
            "143:\tlearn: 0.4253603\ttotal: 12.7s\tremaining: 1m 59s\n",
            "144:\tlearn: 0.4245864\ttotal: 12.8s\tremaining: 1m 59s\n",
            "145:\tlearn: 0.4238602\ttotal: 12.8s\tremaining: 1m 59s\n",
            "146:\tlearn: 0.4232131\ttotal: 12.9s\tremaining: 1m 58s\n",
            "147:\tlearn: 0.4224911\ttotal: 13s\tremaining: 1m 58s\n",
            "148:\tlearn: 0.4218095\ttotal: 13.1s\tremaining: 1m 58s\n",
            "149:\tlearn: 0.4211675\ttotal: 13.1s\tremaining: 1m 58s\n",
            "150:\tlearn: 0.4204926\ttotal: 13.2s\tremaining: 1m 58s\n",
            "151:\tlearn: 0.4198441\ttotal: 13.3s\tremaining: 1m 58s\n",
            "152:\tlearn: 0.4192402\ttotal: 13.4s\tremaining: 1m 57s\n",
            "153:\tlearn: 0.4186354\ttotal: 13.5s\tremaining: 1m 57s\n",
            "154:\tlearn: 0.4179286\ttotal: 13.5s\tremaining: 1m 57s\n",
            "155:\tlearn: 0.4172866\ttotal: 13.6s\tremaining: 1m 57s\n",
            "156:\tlearn: 0.4165817\ttotal: 13.7s\tremaining: 1m 57s\n",
            "157:\tlearn: 0.4159201\ttotal: 13.8s\tremaining: 1m 56s\n",
            "158:\tlearn: 0.4152889\ttotal: 13.8s\tremaining: 1m 56s\n",
            "159:\tlearn: 0.4147268\ttotal: 13.9s\tremaining: 1m 56s\n",
            "160:\tlearn: 0.4139962\ttotal: 14s\tremaining: 1m 56s\n",
            "161:\tlearn: 0.4133987\ttotal: 14.1s\tremaining: 1m 56s\n",
            "162:\tlearn: 0.4128134\ttotal: 14.1s\tremaining: 1m 55s\n",
            "163:\tlearn: 0.4122143\ttotal: 14.2s\tremaining: 1m 55s\n",
            "164:\tlearn: 0.4116380\ttotal: 14.3s\tremaining: 1m 55s\n",
            "165:\tlearn: 0.4110624\ttotal: 14.4s\tremaining: 1m 55s\n",
            "166:\tlearn: 0.4104585\ttotal: 14.4s\tremaining: 1m 55s\n",
            "167:\tlearn: 0.4098059\ttotal: 14.5s\tremaining: 1m 55s\n",
            "168:\tlearn: 0.4092707\ttotal: 14.6s\tremaining: 1m 54s\n",
            "169:\tlearn: 0.4086492\ttotal: 14.7s\tremaining: 1m 54s\n",
            "170:\tlearn: 0.4079757\ttotal: 14.7s\tremaining: 1m 54s\n",
            "171:\tlearn: 0.4074635\ttotal: 14.8s\tremaining: 1m 54s\n",
            "172:\tlearn: 0.4068753\ttotal: 14.9s\tremaining: 1m 54s\n",
            "173:\tlearn: 0.4062916\ttotal: 15s\tremaining: 1m 54s\n",
            "174:\tlearn: 0.4057526\ttotal: 15s\tremaining: 1m 53s\n",
            "175:\tlearn: 0.4052252\ttotal: 15.1s\tremaining: 1m 53s\n",
            "176:\tlearn: 0.4046897\ttotal: 15.2s\tremaining: 1m 53s\n",
            "177:\tlearn: 0.4041515\ttotal: 15.3s\tremaining: 1m 53s\n",
            "178:\tlearn: 0.4035754\ttotal: 15.4s\tremaining: 1m 53s\n",
            "179:\tlearn: 0.4029508\ttotal: 15.4s\tremaining: 1m 53s\n",
            "180:\tlearn: 0.4023610\ttotal: 15.5s\tremaining: 1m 53s\n",
            "181:\tlearn: 0.4018768\ttotal: 15.6s\tremaining: 1m 52s\n",
            "182:\tlearn: 0.4013200\ttotal: 15.7s\tremaining: 1m 52s\n",
            "183:\tlearn: 0.4008599\ttotal: 15.7s\tremaining: 1m 52s\n",
            "184:\tlearn: 0.4003402\ttotal: 15.8s\tremaining: 1m 52s\n",
            "185:\tlearn: 0.3998030\ttotal: 15.9s\tremaining: 1m 52s\n",
            "186:\tlearn: 0.3991786\ttotal: 15.9s\tremaining: 1m 51s\n",
            "187:\tlearn: 0.3986367\ttotal: 16s\tremaining: 1m 51s\n",
            "188:\tlearn: 0.3980681\ttotal: 16.1s\tremaining: 1m 51s\n",
            "189:\tlearn: 0.3974936\ttotal: 16.2s\tremaining: 1m 51s\n",
            "190:\tlearn: 0.3969331\ttotal: 16.2s\tremaining: 1m 51s\n",
            "191:\tlearn: 0.3963279\ttotal: 16.3s\tremaining: 1m 51s\n",
            "192:\tlearn: 0.3958252\ttotal: 16.4s\tremaining: 1m 51s\n",
            "193:\tlearn: 0.3952592\ttotal: 16.5s\tremaining: 1m 50s\n",
            "194:\tlearn: 0.3948442\ttotal: 16.5s\tremaining: 1m 50s\n",
            "195:\tlearn: 0.3942394\ttotal: 16.6s\tremaining: 1m 50s\n",
            "196:\tlearn: 0.3935772\ttotal: 16.7s\tremaining: 1m 50s\n",
            "197:\tlearn: 0.3930750\ttotal: 16.8s\tremaining: 1m 50s\n",
            "198:\tlearn: 0.3926163\ttotal: 16.8s\tremaining: 1m 50s\n",
            "199:\tlearn: 0.3920849\ttotal: 16.9s\tremaining: 1m 49s\n",
            "200:\tlearn: 0.3915658\ttotal: 17s\tremaining: 1m 49s\n",
            "201:\tlearn: 0.3910546\ttotal: 17.1s\tremaining: 1m 49s\n",
            "202:\tlearn: 0.3905373\ttotal: 17.1s\tremaining: 1m 49s\n",
            "203:\tlearn: 0.3900181\ttotal: 17.2s\tremaining: 1m 49s\n",
            "204:\tlearn: 0.3894840\ttotal: 17.3s\tremaining: 1m 49s\n",
            "205:\tlearn: 0.3890389\ttotal: 17.4s\tremaining: 1m 49s\n",
            "206:\tlearn: 0.3885413\ttotal: 17.5s\tremaining: 1m 49s\n",
            "207:\tlearn: 0.3880822\ttotal: 17.5s\tremaining: 1m 48s\n",
            "208:\tlearn: 0.3875736\ttotal: 17.6s\tremaining: 1m 48s\n",
            "209:\tlearn: 0.3871071\ttotal: 17.7s\tremaining: 1m 48s\n",
            "210:\tlearn: 0.3866083\ttotal: 17.7s\tremaining: 1m 48s\n",
            "211:\tlearn: 0.3861096\ttotal: 17.8s\tremaining: 1m 48s\n",
            "212:\tlearn: 0.3855754\ttotal: 17.9s\tremaining: 1m 48s\n",
            "213:\tlearn: 0.3851141\ttotal: 18s\tremaining: 1m 47s\n",
            "214:\tlearn: 0.3846151\ttotal: 18s\tremaining: 1m 47s\n",
            "215:\tlearn: 0.3840983\ttotal: 18.1s\tremaining: 1m 47s\n",
            "216:\tlearn: 0.3835720\ttotal: 18.2s\tremaining: 1m 47s\n",
            "217:\tlearn: 0.3831323\ttotal: 18.3s\tremaining: 1m 47s\n",
            "218:\tlearn: 0.3826986\ttotal: 18.3s\tremaining: 1m 47s\n",
            "219:\tlearn: 0.3821887\ttotal: 18.4s\tremaining: 1m 47s\n",
            "220:\tlearn: 0.3817821\ttotal: 18.5s\tremaining: 1m 47s\n",
            "221:\tlearn: 0.3813572\ttotal: 18.6s\tremaining: 1m 46s\n",
            "222:\tlearn: 0.3809026\ttotal: 18.6s\tremaining: 1m 46s\n",
            "223:\tlearn: 0.3804599\ttotal: 18.7s\tremaining: 1m 46s\n",
            "224:\tlearn: 0.3799055\ttotal: 18.8s\tremaining: 1m 46s\n",
            "225:\tlearn: 0.3794140\ttotal: 18.9s\tremaining: 1m 46s\n",
            "226:\tlearn: 0.3788861\ttotal: 19s\tremaining: 1m 46s\n",
            "227:\tlearn: 0.3784720\ttotal: 19.2s\tremaining: 1m 47s\n",
            "228:\tlearn: 0.3780057\ttotal: 19.3s\tremaining: 1m 47s\n",
            "229:\tlearn: 0.3775218\ttotal: 19.5s\tremaining: 1m 47s\n",
            "230:\tlearn: 0.3770580\ttotal: 19.6s\tremaining: 1m 47s\n",
            "231:\tlearn: 0.3765354\ttotal: 19.8s\tremaining: 1m 48s\n",
            "232:\tlearn: 0.3760745\ttotal: 19.9s\tremaining: 1m 48s\n",
            "233:\tlearn: 0.3756039\ttotal: 20s\tremaining: 1m 48s\n",
            "234:\tlearn: 0.3750792\ttotal: 20.2s\tremaining: 1m 48s\n",
            "235:\tlearn: 0.3746131\ttotal: 20.3s\tremaining: 1m 48s\n",
            "236:\tlearn: 0.3741935\ttotal: 20.4s\tremaining: 1m 48s\n",
            "237:\tlearn: 0.3737151\ttotal: 20.6s\tremaining: 1m 49s\n",
            "238:\tlearn: 0.3732926\ttotal: 20.7s\tremaining: 1m 49s\n",
            "239:\tlearn: 0.3728463\ttotal: 20.9s\tremaining: 1m 49s\n",
            "240:\tlearn: 0.3723975\ttotal: 21s\tremaining: 1m 49s\n",
            "241:\tlearn: 0.3719395\ttotal: 21.1s\tremaining: 1m 49s\n",
            "242:\tlearn: 0.3715215\ttotal: 21.3s\tremaining: 1m 50s\n",
            "243:\tlearn: 0.3711328\ttotal: 21.4s\tremaining: 1m 50s\n",
            "244:\tlearn: 0.3706640\ttotal: 21.5s\tremaining: 1m 50s\n",
            "245:\tlearn: 0.3702999\ttotal: 21.7s\tremaining: 1m 50s\n",
            "246:\tlearn: 0.3699409\ttotal: 21.8s\tremaining: 1m 50s\n",
            "247:\tlearn: 0.3695703\ttotal: 22s\tremaining: 1m 50s\n",
            "248:\tlearn: 0.3691367\ttotal: 22.1s\tremaining: 1m 51s\n",
            "249:\tlearn: 0.3687162\ttotal: 22.3s\tremaining: 1m 51s\n",
            "250:\tlearn: 0.3683069\ttotal: 22.4s\tremaining: 1m 51s\n",
            "251:\tlearn: 0.3679665\ttotal: 22.5s\tremaining: 1m 51s\n",
            "252:\tlearn: 0.3675130\ttotal: 22.7s\tremaining: 1m 51s\n",
            "253:\tlearn: 0.3671420\ttotal: 22.7s\tremaining: 1m 51s\n",
            "254:\tlearn: 0.3667386\ttotal: 22.8s\tremaining: 1m 51s\n",
            "255:\tlearn: 0.3661882\ttotal: 22.9s\tremaining: 1m 51s\n",
            "256:\tlearn: 0.3657910\ttotal: 23s\tremaining: 1m 51s\n",
            "257:\tlearn: 0.3653878\ttotal: 23s\tremaining: 1m 50s\n",
            "258:\tlearn: 0.3650033\ttotal: 23.1s\tremaining: 1m 50s\n",
            "259:\tlearn: 0.3646353\ttotal: 23.2s\tremaining: 1m 50s\n",
            "260:\tlearn: 0.3642285\ttotal: 23.3s\tremaining: 1m 50s\n",
            "261:\tlearn: 0.3638404\ttotal: 23.3s\tremaining: 1m 50s\n",
            "262:\tlearn: 0.3633315\ttotal: 23.4s\tremaining: 1m 50s\n",
            "263:\tlearn: 0.3629844\ttotal: 23.5s\tremaining: 1m 49s\n",
            "264:\tlearn: 0.3626191\ttotal: 23.6s\tremaining: 1m 49s\n",
            "265:\tlearn: 0.3622309\ttotal: 23.6s\tremaining: 1m 49s\n",
            "266:\tlearn: 0.3618127\ttotal: 23.7s\tremaining: 1m 49s\n",
            "267:\tlearn: 0.3614576\ttotal: 23.8s\tremaining: 1m 49s\n",
            "268:\tlearn: 0.3610072\ttotal: 23.9s\tremaining: 1m 49s\n",
            "269:\tlearn: 0.3605629\ttotal: 23.9s\tremaining: 1m 49s\n",
            "270:\tlearn: 0.3601464\ttotal: 24s\tremaining: 1m 48s\n",
            "271:\tlearn: 0.3597267\ttotal: 24.1s\tremaining: 1m 48s\n",
            "272:\tlearn: 0.3593025\ttotal: 24.2s\tremaining: 1m 48s\n",
            "273:\tlearn: 0.3589538\ttotal: 24.2s\tremaining: 1m 48s\n",
            "274:\tlearn: 0.3585933\ttotal: 24.3s\tremaining: 1m 48s\n",
            "275:\tlearn: 0.3581338\ttotal: 24.4s\tremaining: 1m 48s\n",
            "276:\tlearn: 0.3577520\ttotal: 24.5s\tremaining: 1m 48s\n",
            "277:\tlearn: 0.3572761\ttotal: 24.5s\tremaining: 1m 47s\n",
            "278:\tlearn: 0.3568998\ttotal: 24.6s\tremaining: 1m 47s\n",
            "279:\tlearn: 0.3565801\ttotal: 24.7s\tremaining: 1m 47s\n",
            "280:\tlearn: 0.3561850\ttotal: 24.8s\tremaining: 1m 47s\n",
            "281:\tlearn: 0.3557990\ttotal: 24.9s\tremaining: 1m 47s\n",
            "282:\tlearn: 0.3553559\ttotal: 24.9s\tremaining: 1m 47s\n",
            "283:\tlearn: 0.3549898\ttotal: 25s\tremaining: 1m 47s\n",
            "284:\tlearn: 0.3545378\ttotal: 25.1s\tremaining: 1m 46s\n",
            "285:\tlearn: 0.3541583\ttotal: 25.2s\tremaining: 1m 46s\n",
            "286:\tlearn: 0.3537793\ttotal: 25.2s\tremaining: 1m 46s\n",
            "287:\tlearn: 0.3534376\ttotal: 25.3s\tremaining: 1m 46s\n",
            "288:\tlearn: 0.3530190\ttotal: 25.4s\tremaining: 1m 46s\n",
            "289:\tlearn: 0.3526180\ttotal: 25.5s\tremaining: 1m 46s\n",
            "290:\tlearn: 0.3522945\ttotal: 25.5s\tremaining: 1m 46s\n",
            "291:\tlearn: 0.3519268\ttotal: 25.6s\tremaining: 1m 45s\n",
            "292:\tlearn: 0.3515431\ttotal: 25.7s\tremaining: 1m 45s\n",
            "293:\tlearn: 0.3511859\ttotal: 25.8s\tremaining: 1m 45s\n",
            "294:\tlearn: 0.3507972\ttotal: 25.8s\tremaining: 1m 45s\n",
            "295:\tlearn: 0.3503450\ttotal: 25.9s\tremaining: 1m 45s\n",
            "296:\tlearn: 0.3499628\ttotal: 26s\tremaining: 1m 45s\n",
            "297:\tlearn: 0.3495966\ttotal: 26.1s\tremaining: 1m 45s\n",
            "298:\tlearn: 0.3492220\ttotal: 26.1s\tremaining: 1m 44s\n",
            "299:\tlearn: 0.3488384\ttotal: 26.2s\tremaining: 1m 44s\n",
            "300:\tlearn: 0.3484905\ttotal: 26.3s\tremaining: 1m 44s\n",
            "301:\tlearn: 0.3481483\ttotal: 26.4s\tremaining: 1m 44s\n",
            "302:\tlearn: 0.3477953\ttotal: 26.4s\tremaining: 1m 44s\n",
            "303:\tlearn: 0.3474380\ttotal: 26.5s\tremaining: 1m 44s\n",
            "304:\tlearn: 0.3470898\ttotal: 26.6s\tremaining: 1m 44s\n",
            "305:\tlearn: 0.3467534\ttotal: 26.7s\tremaining: 1m 44s\n",
            "306:\tlearn: 0.3464076\ttotal: 26.7s\tremaining: 1m 43s\n",
            "307:\tlearn: 0.3460620\ttotal: 26.8s\tremaining: 1m 43s\n",
            "308:\tlearn: 0.3456901\ttotal: 26.9s\tremaining: 1m 43s\n",
            "309:\tlearn: 0.3453292\ttotal: 27s\tremaining: 1m 43s\n",
            "310:\tlearn: 0.3449307\ttotal: 27s\tremaining: 1m 43s\n",
            "311:\tlearn: 0.3445724\ttotal: 27.1s\tremaining: 1m 43s\n",
            "312:\tlearn: 0.3441947\ttotal: 27.2s\tremaining: 1m 43s\n",
            "313:\tlearn: 0.3438705\ttotal: 27.3s\tremaining: 1m 42s\n",
            "314:\tlearn: 0.3435093\ttotal: 27.3s\tremaining: 1m 42s\n",
            "315:\tlearn: 0.3431608\ttotal: 27.4s\tremaining: 1m 42s\n",
            "316:\tlearn: 0.3427915\ttotal: 27.5s\tremaining: 1m 42s\n",
            "317:\tlearn: 0.3424507\ttotal: 27.6s\tremaining: 1m 42s\n",
            "318:\tlearn: 0.3420912\ttotal: 27.6s\tremaining: 1m 42s\n",
            "319:\tlearn: 0.3417148\ttotal: 27.7s\tremaining: 1m 42s\n",
            "320:\tlearn: 0.3413293\ttotal: 27.8s\tremaining: 1m 42s\n",
            "321:\tlearn: 0.3410354\ttotal: 27.9s\tremaining: 1m 41s\n",
            "322:\tlearn: 0.3407303\ttotal: 27.9s\tremaining: 1m 41s\n",
            "323:\tlearn: 0.3404257\ttotal: 28s\tremaining: 1m 41s\n",
            "324:\tlearn: 0.3400497\ttotal: 28.1s\tremaining: 1m 41s\n",
            "325:\tlearn: 0.3397338\ttotal: 28.2s\tremaining: 1m 41s\n",
            "326:\tlearn: 0.3394298\ttotal: 28.2s\tremaining: 1m 41s\n",
            "327:\tlearn: 0.3390485\ttotal: 28.3s\tremaining: 1m 41s\n",
            "328:\tlearn: 0.3387393\ttotal: 28.4s\tremaining: 1m 41s\n",
            "329:\tlearn: 0.3383983\ttotal: 28.5s\tremaining: 1m 40s\n",
            "330:\tlearn: 0.3380782\ttotal: 28.5s\tremaining: 1m 40s\n",
            "331:\tlearn: 0.3377157\ttotal: 28.6s\tremaining: 1m 40s\n",
            "332:\tlearn: 0.3372866\ttotal: 28.7s\tremaining: 1m 40s\n",
            "333:\tlearn: 0.3369597\ttotal: 28.8s\tremaining: 1m 40s\n",
            "334:\tlearn: 0.3366790\ttotal: 28.8s\tremaining: 1m 40s\n",
            "335:\tlearn: 0.3363094\ttotal: 28.9s\tremaining: 1m 40s\n",
            "336:\tlearn: 0.3359564\ttotal: 29s\tremaining: 1m 40s\n",
            "337:\tlearn: 0.3356517\ttotal: 29.1s\tremaining: 1m 39s\n",
            "338:\tlearn: 0.3352472\ttotal: 29.1s\tremaining: 1m 39s\n",
            "339:\tlearn: 0.3348370\ttotal: 29.2s\tremaining: 1m 39s\n",
            "340:\tlearn: 0.3345522\ttotal: 29.3s\tremaining: 1m 39s\n",
            "341:\tlearn: 0.3342572\ttotal: 29.4s\tremaining: 1m 39s\n",
            "342:\tlearn: 0.3338798\ttotal: 29.4s\tremaining: 1m 39s\n",
            "343:\tlearn: 0.3335484\ttotal: 29.5s\tremaining: 1m 39s\n",
            "344:\tlearn: 0.3332543\ttotal: 29.6s\tremaining: 1m 39s\n",
            "345:\tlearn: 0.3328828\ttotal: 29.6s\tremaining: 1m 38s\n",
            "346:\tlearn: 0.3325558\ttotal: 29.7s\tremaining: 1m 38s\n",
            "347:\tlearn: 0.3322178\ttotal: 29.8s\tremaining: 1m 38s\n",
            "348:\tlearn: 0.3318793\ttotal: 29.9s\tremaining: 1m 38s\n",
            "349:\tlearn: 0.3315689\ttotal: 30s\tremaining: 1m 38s\n",
            "350:\tlearn: 0.3312511\ttotal: 30s\tremaining: 1m 38s\n",
            "351:\tlearn: 0.3309429\ttotal: 30.1s\tremaining: 1m 38s\n",
            "352:\tlearn: 0.3306174\ttotal: 30.2s\tremaining: 1m 38s\n",
            "353:\tlearn: 0.3303671\ttotal: 30.3s\tremaining: 1m 37s\n",
            "354:\tlearn: 0.3300454\ttotal: 30.4s\tremaining: 1m 37s\n",
            "355:\tlearn: 0.3297542\ttotal: 30.4s\tremaining: 1m 37s\n",
            "356:\tlearn: 0.3294452\ttotal: 30.5s\tremaining: 1m 37s\n",
            "357:\tlearn: 0.3290795\ttotal: 30.6s\tremaining: 1m 37s\n",
            "358:\tlearn: 0.3287862\ttotal: 30.6s\tremaining: 1m 37s\n",
            "359:\tlearn: 0.3284675\ttotal: 30.7s\tremaining: 1m 37s\n",
            "360:\tlearn: 0.3281019\ttotal: 30.8s\tremaining: 1m 37s\n",
            "361:\tlearn: 0.3278157\ttotal: 30.9s\tremaining: 1m 37s\n",
            "362:\tlearn: 0.3274278\ttotal: 31s\tremaining: 1m 36s\n",
            "363:\tlearn: 0.3271225\ttotal: 31s\tremaining: 1m 36s\n",
            "364:\tlearn: 0.3268033\ttotal: 31.1s\tremaining: 1m 36s\n",
            "365:\tlearn: 0.3264660\ttotal: 31.2s\tremaining: 1m 36s\n",
            "366:\tlearn: 0.3261673\ttotal: 31.3s\tremaining: 1m 36s\n",
            "367:\tlearn: 0.3258423\ttotal: 31.3s\tremaining: 1m 36s\n",
            "368:\tlearn: 0.3255164\ttotal: 31.4s\tremaining: 1m 36s\n",
            "369:\tlearn: 0.3251799\ttotal: 31.5s\tremaining: 1m 36s\n",
            "370:\tlearn: 0.3248591\ttotal: 31.6s\tremaining: 1m 36s\n",
            "371:\tlearn: 0.3245256\ttotal: 31.6s\tremaining: 1m 35s\n",
            "372:\tlearn: 0.3242151\ttotal: 31.7s\tremaining: 1m 35s\n",
            "373:\tlearn: 0.3239149\ttotal: 31.8s\tremaining: 1m 35s\n",
            "374:\tlearn: 0.3236276\ttotal: 31.9s\tremaining: 1m 35s\n",
            "375:\tlearn: 0.3233532\ttotal: 31.9s\tremaining: 1m 35s\n",
            "376:\tlearn: 0.3230675\ttotal: 32s\tremaining: 1m 35s\n",
            "377:\tlearn: 0.3227422\ttotal: 32.1s\tremaining: 1m 35s\n",
            "378:\tlearn: 0.3224194\ttotal: 32.2s\tremaining: 1m 35s\n",
            "379:\tlearn: 0.3221221\ttotal: 32.2s\tremaining: 1m 35s\n",
            "380:\tlearn: 0.3218574\ttotal: 32.3s\tremaining: 1m 34s\n",
            "381:\tlearn: 0.3215503\ttotal: 32.4s\tremaining: 1m 34s\n",
            "382:\tlearn: 0.3212119\ttotal: 32.5s\tremaining: 1m 34s\n",
            "383:\tlearn: 0.3209203\ttotal: 32.5s\tremaining: 1m 34s\n",
            "384:\tlearn: 0.3206462\ttotal: 32.6s\tremaining: 1m 34s\n",
            "385:\tlearn: 0.3203784\ttotal: 32.8s\tremaining: 1m 34s\n",
            "386:\tlearn: 0.3200994\ttotal: 32.9s\tremaining: 1m 34s\n",
            "387:\tlearn: 0.3197245\ttotal: 33s\tremaining: 1m 34s\n",
            "388:\tlearn: 0.3194557\ttotal: 33.2s\tremaining: 1m 34s\n",
            "389:\tlearn: 0.3190999\ttotal: 33.4s\tremaining: 1m 35s\n",
            "390:\tlearn: 0.3187976\ttotal: 33.8s\tremaining: 1m 35s\n",
            "391:\tlearn: 0.3184378\ttotal: 34.4s\tremaining: 1m 37s\n",
            "392:\tlearn: 0.3181726\ttotal: 34.8s\tremaining: 1m 38s\n",
            "393:\tlearn: 0.3177700\ttotal: 35.1s\tremaining: 1m 38s\n",
            "394:\tlearn: 0.3174985\ttotal: 35.2s\tremaining: 1m 38s\n",
            "395:\tlearn: 0.3171788\ttotal: 35.4s\tremaining: 1m 38s\n",
            "396:\tlearn: 0.3168921\ttotal: 35.5s\tremaining: 1m 38s\n",
            "397:\tlearn: 0.3166297\ttotal: 35.7s\tremaining: 1m 38s\n",
            "398:\tlearn: 0.3163296\ttotal: 35.8s\tremaining: 1m 38s\n",
            "399:\tlearn: 0.3160581\ttotal: 36s\tremaining: 1m 38s\n",
            "400:\tlearn: 0.3157416\ttotal: 36.1s\tremaining: 1m 39s\n",
            "401:\tlearn: 0.3154601\ttotal: 36.3s\tremaining: 1m 39s\n",
            "402:\tlearn: 0.3151816\ttotal: 36.4s\tremaining: 1m 39s\n",
            "403:\tlearn: 0.3148739\ttotal: 36.6s\tremaining: 1m 39s\n",
            "404:\tlearn: 0.3145524\ttotal: 36.6s\tremaining: 1m 39s\n",
            "405:\tlearn: 0.3142450\ttotal: 36.7s\tremaining: 1m 38s\n",
            "406:\tlearn: 0.3139733\ttotal: 36.8s\tremaining: 1m 38s\n",
            "407:\tlearn: 0.3138865\ttotal: 36.9s\tremaining: 1m 38s\n",
            "408:\tlearn: 0.3136201\ttotal: 36.9s\tremaining: 1m 38s\n",
            "409:\tlearn: 0.3132540\ttotal: 37s\tremaining: 1m 38s\n",
            "410:\tlearn: 0.3129720\ttotal: 37.1s\tremaining: 1m 38s\n",
            "411:\tlearn: 0.3126448\ttotal: 37.2s\tremaining: 1m 38s\n",
            "412:\tlearn: 0.3123377\ttotal: 37.3s\tremaining: 1m 38s\n",
            "413:\tlearn: 0.3120414\ttotal: 37.3s\tremaining: 1m 37s\n",
            "414:\tlearn: 0.3117679\ttotal: 37.4s\tremaining: 1m 37s\n",
            "415:\tlearn: 0.3114120\ttotal: 37.5s\tremaining: 1m 37s\n",
            "416:\tlearn: 0.3110969\ttotal: 37.6s\tremaining: 1m 37s\n",
            "417:\tlearn: 0.3107323\ttotal: 37.6s\tremaining: 1m 37s\n",
            "418:\tlearn: 0.3104699\ttotal: 37.7s\tremaining: 1m 37s\n",
            "419:\tlearn: 0.3102387\ttotal: 37.8s\tremaining: 1m 37s\n",
            "420:\tlearn: 0.3099829\ttotal: 37.8s\tremaining: 1m 37s\n",
            "421:\tlearn: 0.3096618\ttotal: 37.9s\tremaining: 1m 36s\n",
            "422:\tlearn: 0.3094150\ttotal: 38s\tremaining: 1m 36s\n",
            "423:\tlearn: 0.3091372\ttotal: 38.1s\tremaining: 1m 36s\n",
            "424:\tlearn: 0.3088886\ttotal: 38.2s\tremaining: 1m 36s\n",
            "425:\tlearn: 0.3086461\ttotal: 38.3s\tremaining: 1m 36s\n",
            "426:\tlearn: 0.3083886\ttotal: 38.3s\tremaining: 1m 36s\n",
            "427:\tlearn: 0.3080982\ttotal: 38.4s\tremaining: 1m 36s\n",
            "428:\tlearn: 0.3078250\ttotal: 38.5s\tremaining: 1m 36s\n",
            "429:\tlearn: 0.3075377\ttotal: 38.5s\tremaining: 1m 35s\n",
            "430:\tlearn: 0.3072968\ttotal: 38.6s\tremaining: 1m 35s\n",
            "431:\tlearn: 0.3070160\ttotal: 38.7s\tremaining: 1m 35s\n",
            "432:\tlearn: 0.3067652\ttotal: 38.8s\tremaining: 1m 35s\n",
            "433:\tlearn: 0.3064942\ttotal: 38.8s\tremaining: 1m 35s\n",
            "434:\tlearn: 0.3062435\ttotal: 38.9s\tremaining: 1m 35s\n",
            "435:\tlearn: 0.3059895\ttotal: 39s\tremaining: 1m 35s\n",
            "436:\tlearn: 0.3057122\ttotal: 39.1s\tremaining: 1m 35s\n",
            "437:\tlearn: 0.3054618\ttotal: 39.1s\tremaining: 1m 34s\n",
            "438:\tlearn: 0.3052132\ttotal: 39.2s\tremaining: 1m 34s\n",
            "439:\tlearn: 0.3049660\ttotal: 39.3s\tremaining: 1m 34s\n",
            "440:\tlearn: 0.3046430\ttotal: 39.4s\tremaining: 1m 34s\n",
            "441:\tlearn: 0.3043656\ttotal: 39.4s\tremaining: 1m 34s\n",
            "442:\tlearn: 0.3041287\ttotal: 39.5s\tremaining: 1m 34s\n",
            "443:\tlearn: 0.3038696\ttotal: 39.6s\tremaining: 1m 34s\n",
            "444:\tlearn: 0.3036085\ttotal: 39.7s\tremaining: 1m 34s\n",
            "445:\tlearn: 0.3033005\ttotal: 39.7s\tremaining: 1m 33s\n",
            "446:\tlearn: 0.3030555\ttotal: 39.8s\tremaining: 1m 33s\n",
            "447:\tlearn: 0.3028450\ttotal: 39.9s\tremaining: 1m 33s\n",
            "448:\tlearn: 0.3025875\ttotal: 40s\tremaining: 1m 33s\n",
            "449:\tlearn: 0.3023317\ttotal: 40s\tremaining: 1m 33s\n",
            "450:\tlearn: 0.3020961\ttotal: 40.1s\tremaining: 1m 33s\n",
            "451:\tlearn: 0.3018141\ttotal: 40.2s\tremaining: 1m 33s\n",
            "452:\tlearn: 0.3015851\ttotal: 40.3s\tremaining: 1m 33s\n",
            "453:\tlearn: 0.3013929\ttotal: 40.3s\tremaining: 1m 32s\n",
            "454:\tlearn: 0.3010970\ttotal: 40.4s\tremaining: 1m 32s\n",
            "455:\tlearn: 0.3008762\ttotal: 40.5s\tremaining: 1m 32s\n",
            "456:\tlearn: 0.3005266\ttotal: 40.6s\tremaining: 1m 32s\n",
            "457:\tlearn: 0.3002341\ttotal: 40.6s\tremaining: 1m 32s\n",
            "458:\tlearn: 0.2999734\ttotal: 40.7s\tremaining: 1m 32s\n",
            "459:\tlearn: 0.2997071\ttotal: 40.8s\tremaining: 1m 32s\n",
            "460:\tlearn: 0.2994735\ttotal: 40.9s\tremaining: 1m 32s\n",
            "461:\tlearn: 0.2992209\ttotal: 40.9s\tremaining: 1m 31s\n",
            "462:\tlearn: 0.2989795\ttotal: 41s\tremaining: 1m 31s\n",
            "463:\tlearn: 0.2987089\ttotal: 41.1s\tremaining: 1m 31s\n",
            "464:\tlearn: 0.2984515\ttotal: 41.2s\tremaining: 1m 31s\n",
            "465:\tlearn: 0.2982354\ttotal: 41.2s\tremaining: 1m 31s\n",
            "466:\tlearn: 0.2980314\ttotal: 41.3s\tremaining: 1m 31s\n",
            "467:\tlearn: 0.2977664\ttotal: 41.4s\tremaining: 1m 31s\n",
            "468:\tlearn: 0.2974525\ttotal: 41.5s\tremaining: 1m 31s\n",
            "469:\tlearn: 0.2971745\ttotal: 41.5s\tremaining: 1m 31s\n",
            "470:\tlearn: 0.2970021\ttotal: 41.6s\tremaining: 1m 30s\n",
            "471:\tlearn: 0.2967244\ttotal: 41.7s\tremaining: 1m 30s\n",
            "472:\tlearn: 0.2964442\ttotal: 41.8s\tremaining: 1m 30s\n",
            "473:\tlearn: 0.2961938\ttotal: 41.8s\tremaining: 1m 30s\n",
            "474:\tlearn: 0.2959652\ttotal: 41.9s\tremaining: 1m 30s\n",
            "475:\tlearn: 0.2957376\ttotal: 42s\tremaining: 1m 30s\n",
            "476:\tlearn: 0.2956292\ttotal: 42.1s\tremaining: 1m 30s\n",
            "477:\tlearn: 0.2954076\ttotal: 42.1s\tremaining: 1m 30s\n",
            "478:\tlearn: 0.2951202\ttotal: 42.2s\tremaining: 1m 30s\n",
            "479:\tlearn: 0.2948400\ttotal: 42.3s\tremaining: 1m 29s\n",
            "480:\tlearn: 0.2945885\ttotal: 42.4s\tremaining: 1m 29s\n",
            "481:\tlearn: 0.2943689\ttotal: 42.4s\tremaining: 1m 29s\n",
            "482:\tlearn: 0.2940815\ttotal: 42.5s\tremaining: 1m 29s\n",
            "483:\tlearn: 0.2938585\ttotal: 42.6s\tremaining: 1m 29s\n",
            "484:\tlearn: 0.2935708\ttotal: 42.7s\tremaining: 1m 29s\n",
            "485:\tlearn: 0.2933659\ttotal: 42.7s\tremaining: 1m 29s\n",
            "486:\tlearn: 0.2931054\ttotal: 42.8s\tremaining: 1m 29s\n",
            "487:\tlearn: 0.2928158\ttotal: 42.9s\tremaining: 1m 28s\n",
            "488:\tlearn: 0.2925249\ttotal: 43s\tremaining: 1m 28s\n",
            "489:\tlearn: 0.2922679\ttotal: 43s\tremaining: 1m 28s\n",
            "490:\tlearn: 0.2920066\ttotal: 43.1s\tremaining: 1m 28s\n",
            "491:\tlearn: 0.2917702\ttotal: 43.2s\tremaining: 1m 28s\n",
            "492:\tlearn: 0.2915300\ttotal: 43.3s\tremaining: 1m 28s\n",
            "493:\tlearn: 0.2912505\ttotal: 43.4s\tremaining: 1m 28s\n",
            "494:\tlearn: 0.2910074\ttotal: 43.4s\tremaining: 1m 28s\n",
            "495:\tlearn: 0.2907229\ttotal: 43.5s\tremaining: 1m 28s\n",
            "496:\tlearn: 0.2904803\ttotal: 43.6s\tremaining: 1m 27s\n",
            "497:\tlearn: 0.2901972\ttotal: 43.6s\tremaining: 1m 27s\n",
            "498:\tlearn: 0.2899738\ttotal: 43.7s\tremaining: 1m 27s\n",
            "499:\tlearn: 0.2899158\ttotal: 43.8s\tremaining: 1m 27s\n",
            "500:\tlearn: 0.2896113\ttotal: 43.9s\tremaining: 1m 27s\n",
            "501:\tlearn: 0.2893716\ttotal: 43.9s\tremaining: 1m 27s\n",
            "502:\tlearn: 0.2891478\ttotal: 44s\tremaining: 1m 27s\n",
            "503:\tlearn: 0.2888759\ttotal: 44.1s\tremaining: 1m 27s\n",
            "504:\tlearn: 0.2886162\ttotal: 44.2s\tremaining: 1m 27s\n",
            "505:\tlearn: 0.2883772\ttotal: 44.3s\tremaining: 1m 26s\n",
            "506:\tlearn: 0.2881603\ttotal: 44.4s\tremaining: 1m 26s\n",
            "507:\tlearn: 0.2878761\ttotal: 44.4s\tremaining: 1m 26s\n",
            "508:\tlearn: 0.2876653\ttotal: 44.5s\tremaining: 1m 26s\n",
            "509:\tlearn: 0.2874225\ttotal: 44.6s\tremaining: 1m 26s\n",
            "510:\tlearn: 0.2871739\ttotal: 44.6s\tremaining: 1m 26s\n",
            "511:\tlearn: 0.2869888\ttotal: 44.7s\tremaining: 1m 26s\n",
            "512:\tlearn: 0.2867533\ttotal: 44.8s\tremaining: 1m 26s\n",
            "513:\tlearn: 0.2865094\ttotal: 44.9s\tremaining: 1m 26s\n",
            "514:\tlearn: 0.2863265\ttotal: 44.9s\tremaining: 1m 25s\n",
            "515:\tlearn: 0.2862677\ttotal: 45s\tremaining: 1m 25s\n",
            "516:\tlearn: 0.2860290\ttotal: 45.1s\tremaining: 1m 25s\n",
            "517:\tlearn: 0.2857784\ttotal: 45.2s\tremaining: 1m 25s\n",
            "518:\tlearn: 0.2855576\ttotal: 45.2s\tremaining: 1m 25s\n",
            "519:\tlearn: 0.2853085\ttotal: 45.3s\tremaining: 1m 25s\n",
            "520:\tlearn: 0.2850676\ttotal: 45.4s\tremaining: 1m 25s\n",
            "521:\tlearn: 0.2848339\ttotal: 45.5s\tremaining: 1m 25s\n",
            "522:\tlearn: 0.2846241\ttotal: 45.5s\tremaining: 1m 25s\n",
            "523:\tlearn: 0.2843395\ttotal: 45.6s\tremaining: 1m 24s\n",
            "524:\tlearn: 0.2840668\ttotal: 45.7s\tremaining: 1m 24s\n",
            "525:\tlearn: 0.2837838\ttotal: 45.8s\tremaining: 1m 24s\n",
            "526:\tlearn: 0.2835415\ttotal: 45.8s\tremaining: 1m 24s\n",
            "527:\tlearn: 0.2832718\ttotal: 45.9s\tremaining: 1m 24s\n",
            "528:\tlearn: 0.2830252\ttotal: 46s\tremaining: 1m 24s\n",
            "529:\tlearn: 0.2827592\ttotal: 46.1s\tremaining: 1m 24s\n",
            "530:\tlearn: 0.2825500\ttotal: 46.1s\tremaining: 1m 24s\n",
            "531:\tlearn: 0.2823408\ttotal: 46.2s\tremaining: 1m 24s\n",
            "532:\tlearn: 0.2820872\ttotal: 46.3s\tremaining: 1m 24s\n",
            "533:\tlearn: 0.2818532\ttotal: 46.4s\tremaining: 1m 23s\n",
            "534:\tlearn: 0.2816315\ttotal: 46.5s\tremaining: 1m 23s\n",
            "535:\tlearn: 0.2813917\ttotal: 46.6s\tremaining: 1m 23s\n",
            "536:\tlearn: 0.2812058\ttotal: 46.7s\tremaining: 1m 23s\n",
            "537:\tlearn: 0.2810293\ttotal: 46.8s\tremaining: 1m 23s\n",
            "538:\tlearn: 0.2808179\ttotal: 46.9s\tremaining: 1m 23s\n",
            "539:\tlearn: 0.2807251\ttotal: 47.1s\tremaining: 1m 23s\n",
            "540:\tlearn: 0.2804905\ttotal: 47.2s\tremaining: 1m 23s\n",
            "541:\tlearn: 0.2802739\ttotal: 47.4s\tremaining: 1m 23s\n",
            "542:\tlearn: 0.2800344\ttotal: 47.5s\tremaining: 1m 23s\n",
            "543:\tlearn: 0.2797944\ttotal: 47.7s\tremaining: 1m 23s\n",
            "544:\tlearn: 0.2796016\ttotal: 47.8s\tremaining: 1m 23s\n",
            "545:\tlearn: 0.2793847\ttotal: 47.9s\tremaining: 1m 23s\n",
            "546:\tlearn: 0.2793326\ttotal: 48.1s\tremaining: 1m 23s\n",
            "547:\tlearn: 0.2791197\ttotal: 48.2s\tremaining: 1m 23s\n",
            "548:\tlearn: 0.2788495\ttotal: 48.4s\tremaining: 1m 23s\n",
            "549:\tlearn: 0.2785628\ttotal: 48.5s\tremaining: 1m 23s\n",
            "550:\tlearn: 0.2783430\ttotal: 48.6s\tremaining: 1m 23s\n",
            "551:\tlearn: 0.2780812\ttotal: 48.8s\tremaining: 1m 23s\n",
            "552:\tlearn: 0.2778901\ttotal: 48.9s\tremaining: 1m 23s\n",
            "553:\tlearn: 0.2776136\ttotal: 49s\tremaining: 1m 23s\n",
            "554:\tlearn: 0.2774617\ttotal: 49.2s\tremaining: 1m 23s\n",
            "555:\tlearn: 0.2772866\ttotal: 49.3s\tremaining: 1m 23s\n",
            "556:\tlearn: 0.2770379\ttotal: 49.4s\tremaining: 1m 23s\n",
            "557:\tlearn: 0.2767976\ttotal: 49.6s\tremaining: 1m 23s\n",
            "558:\tlearn: 0.2765827\ttotal: 49.7s\tremaining: 1m 23s\n",
            "559:\tlearn: 0.2763844\ttotal: 49.9s\tremaining: 1m 23s\n",
            "560:\tlearn: 0.2761773\ttotal: 50s\tremaining: 1m 23s\n",
            "561:\tlearn: 0.2760308\ttotal: 50.2s\tremaining: 1m 23s\n",
            "562:\tlearn: 0.2758731\ttotal: 50.3s\tremaining: 1m 23s\n",
            "563:\tlearn: 0.2756643\ttotal: 50.4s\tremaining: 1m 23s\n",
            "564:\tlearn: 0.2754625\ttotal: 50.5s\tremaining: 1m 23s\n",
            "565:\tlearn: 0.2753092\ttotal: 50.5s\tremaining: 1m 23s\n",
            "566:\tlearn: 0.2750839\ttotal: 50.6s\tremaining: 1m 23s\n",
            "567:\tlearn: 0.2748923\ttotal: 50.7s\tremaining: 1m 23s\n",
            "568:\tlearn: 0.2746587\ttotal: 50.8s\tremaining: 1m 23s\n",
            "569:\tlearn: 0.2744511\ttotal: 50.8s\tremaining: 1m 22s\n",
            "570:\tlearn: 0.2742499\ttotal: 50.9s\tremaining: 1m 22s\n",
            "571:\tlearn: 0.2740286\ttotal: 51s\tremaining: 1m 22s\n",
            "572:\tlearn: 0.2737779\ttotal: 51.1s\tremaining: 1m 22s\n",
            "573:\tlearn: 0.2735310\ttotal: 51.1s\tremaining: 1m 22s\n",
            "574:\tlearn: 0.2733068\ttotal: 51.2s\tremaining: 1m 22s\n",
            "575:\tlearn: 0.2731286\ttotal: 51.3s\tremaining: 1m 22s\n",
            "576:\tlearn: 0.2729173\ttotal: 51.4s\tremaining: 1m 22s\n",
            "577:\tlearn: 0.2726546\ttotal: 51.4s\tremaining: 1m 22s\n",
            "578:\tlearn: 0.2724413\ttotal: 51.5s\tremaining: 1m 21s\n",
            "579:\tlearn: 0.2722569\ttotal: 51.6s\tremaining: 1m 21s\n",
            "580:\tlearn: 0.2720600\ttotal: 51.7s\tremaining: 1m 21s\n",
            "581:\tlearn: 0.2718686\ttotal: 51.8s\tremaining: 1m 21s\n",
            "582:\tlearn: 0.2716933\ttotal: 51.8s\tremaining: 1m 21s\n",
            "583:\tlearn: 0.2714948\ttotal: 51.9s\tremaining: 1m 21s\n",
            "584:\tlearn: 0.2712249\ttotal: 52s\tremaining: 1m 21s\n",
            "585:\tlearn: 0.2709617\ttotal: 52.1s\tremaining: 1m 21s\n",
            "586:\tlearn: 0.2707582\ttotal: 52.1s\tremaining: 1m 21s\n",
            "587:\tlearn: 0.2705551\ttotal: 52.2s\tremaining: 1m 20s\n",
            "588:\tlearn: 0.2703127\ttotal: 52.3s\tremaining: 1m 20s\n",
            "589:\tlearn: 0.2701478\ttotal: 52.4s\tremaining: 1m 20s\n",
            "590:\tlearn: 0.2699066\ttotal: 52.4s\tremaining: 1m 20s\n",
            "591:\tlearn: 0.2697505\ttotal: 52.5s\tremaining: 1m 20s\n",
            "592:\tlearn: 0.2695342\ttotal: 52.6s\tremaining: 1m 20s\n",
            "593:\tlearn: 0.2694859\ttotal: 52.7s\tremaining: 1m 20s\n",
            "594:\tlearn: 0.2693094\ttotal: 52.7s\tremaining: 1m 20s\n",
            "595:\tlearn: 0.2690871\ttotal: 52.8s\tremaining: 1m 20s\n",
            "596:\tlearn: 0.2689263\ttotal: 52.9s\tremaining: 1m 19s\n",
            "597:\tlearn: 0.2687016\ttotal: 53s\tremaining: 1m 19s\n",
            "598:\tlearn: 0.2684789\ttotal: 53s\tremaining: 1m 19s\n",
            "599:\tlearn: 0.2682729\ttotal: 53.1s\tremaining: 1m 19s\n",
            "600:\tlearn: 0.2680208\ttotal: 53.2s\tremaining: 1m 19s\n",
            "601:\tlearn: 0.2678378\ttotal: 53.3s\tremaining: 1m 19s\n",
            "602:\tlearn: 0.2677949\ttotal: 53.3s\tremaining: 1m 19s\n",
            "603:\tlearn: 0.2675676\ttotal: 53.4s\tremaining: 1m 19s\n",
            "604:\tlearn: 0.2673291\ttotal: 53.5s\tremaining: 1m 19s\n",
            "605:\tlearn: 0.2671479\ttotal: 53.6s\tremaining: 1m 19s\n",
            "606:\tlearn: 0.2669861\ttotal: 53.7s\tremaining: 1m 18s\n",
            "607:\tlearn: 0.2668019\ttotal: 53.7s\tremaining: 1m 18s\n",
            "608:\tlearn: 0.2665984\ttotal: 53.8s\tremaining: 1m 18s\n",
            "609:\tlearn: 0.2664259\ttotal: 53.9s\tremaining: 1m 18s\n",
            "610:\tlearn: 0.2662565\ttotal: 53.9s\tremaining: 1m 18s\n",
            "611:\tlearn: 0.2660539\ttotal: 54s\tremaining: 1m 18s\n",
            "612:\tlearn: 0.2658933\ttotal: 54.1s\tremaining: 1m 18s\n",
            "613:\tlearn: 0.2656746\ttotal: 54.2s\tremaining: 1m 18s\n",
            "614:\tlearn: 0.2654710\ttotal: 54.2s\tremaining: 1m 18s\n",
            "615:\tlearn: 0.2652545\ttotal: 54.3s\tremaining: 1m 17s\n",
            "616:\tlearn: 0.2650384\ttotal: 54.4s\tremaining: 1m 17s\n",
            "617:\tlearn: 0.2648407\ttotal: 54.5s\tremaining: 1m 17s\n",
            "618:\tlearn: 0.2646050\ttotal: 54.6s\tremaining: 1m 17s\n",
            "619:\tlearn: 0.2644159\ttotal: 54.6s\tremaining: 1m 17s\n",
            "620:\tlearn: 0.2642216\ttotal: 54.7s\tremaining: 1m 17s\n",
            "621:\tlearn: 0.2640395\ttotal: 54.8s\tremaining: 1m 17s\n",
            "622:\tlearn: 0.2639673\ttotal: 54.9s\tremaining: 1m 17s\n",
            "623:\tlearn: 0.2637659\ttotal: 54.9s\tremaining: 1m 17s\n",
            "624:\tlearn: 0.2635612\ttotal: 55s\tremaining: 1m 17s\n",
            "625:\tlearn: 0.2634239\ttotal: 55.1s\tremaining: 1m 16s\n",
            "626:\tlearn: 0.2632060\ttotal: 55.2s\tremaining: 1m 16s\n",
            "627:\tlearn: 0.2629789\ttotal: 55.2s\tremaining: 1m 16s\n",
            "628:\tlearn: 0.2627566\ttotal: 55.3s\tremaining: 1m 16s\n",
            "629:\tlearn: 0.2624877\ttotal: 55.4s\tremaining: 1m 16s\n",
            "630:\tlearn: 0.2622710\ttotal: 55.5s\tremaining: 1m 16s\n",
            "631:\tlearn: 0.2620520\ttotal: 55.6s\tremaining: 1m 16s\n",
            "632:\tlearn: 0.2618324\ttotal: 55.7s\tremaining: 1m 16s\n",
            "633:\tlearn: 0.2617896\ttotal: 55.7s\tremaining: 1m 16s\n",
            "634:\tlearn: 0.2616020\ttotal: 55.8s\tremaining: 1m 16s\n",
            "635:\tlearn: 0.2613790\ttotal: 55.9s\tremaining: 1m 15s\n",
            "636:\tlearn: 0.2612017\ttotal: 55.9s\tremaining: 1m 15s\n",
            "637:\tlearn: 0.2610000\ttotal: 56s\tremaining: 1m 15s\n",
            "638:\tlearn: 0.2608367\ttotal: 56.1s\tremaining: 1m 15s\n",
            "639:\tlearn: 0.2606753\ttotal: 56.2s\tremaining: 1m 15s\n",
            "640:\tlearn: 0.2605136\ttotal: 56.3s\tremaining: 1m 15s\n",
            "641:\tlearn: 0.2603235\ttotal: 56.3s\tremaining: 1m 15s\n",
            "642:\tlearn: 0.2601162\ttotal: 56.4s\tremaining: 1m 15s\n",
            "643:\tlearn: 0.2598450\ttotal: 56.5s\tremaining: 1m 15s\n",
            "644:\tlearn: 0.2596457\ttotal: 56.6s\tremaining: 1m 14s\n",
            "645:\tlearn: 0.2594783\ttotal: 56.6s\tremaining: 1m 14s\n",
            "646:\tlearn: 0.2592596\ttotal: 56.7s\tremaining: 1m 14s\n",
            "647:\tlearn: 0.2590950\ttotal: 56.8s\tremaining: 1m 14s\n",
            "648:\tlearn: 0.2588520\ttotal: 56.9s\tremaining: 1m 14s\n",
            "649:\tlearn: 0.2586941\ttotal: 57s\tremaining: 1m 14s\n",
            "650:\tlearn: 0.2584907\ttotal: 57s\tremaining: 1m 14s\n",
            "651:\tlearn: 0.2583018\ttotal: 57.1s\tremaining: 1m 14s\n",
            "652:\tlearn: 0.2581101\ttotal: 57.2s\tremaining: 1m 14s\n",
            "653:\tlearn: 0.2579522\ttotal: 57.3s\tremaining: 1m 14s\n",
            "654:\tlearn: 0.2577577\ttotal: 57.3s\tremaining: 1m 13s\n",
            "655:\tlearn: 0.2575634\ttotal: 57.4s\tremaining: 1m 13s\n",
            "656:\tlearn: 0.2575216\ttotal: 57.5s\tremaining: 1m 13s\n",
            "657:\tlearn: 0.2573337\ttotal: 57.6s\tremaining: 1m 13s\n",
            "658:\tlearn: 0.2571074\ttotal: 57.6s\tremaining: 1m 13s\n",
            "659:\tlearn: 0.2569203\ttotal: 57.7s\tremaining: 1m 13s\n",
            "660:\tlearn: 0.2568574\ttotal: 57.8s\tremaining: 1m 13s\n",
            "661:\tlearn: 0.2566618\ttotal: 57.9s\tremaining: 1m 13s\n",
            "662:\tlearn: 0.2564442\ttotal: 57.9s\tremaining: 1m 13s\n",
            "663:\tlearn: 0.2562394\ttotal: 58s\tremaining: 1m 13s\n",
            "664:\tlearn: 0.2560450\ttotal: 58.1s\tremaining: 1m 12s\n",
            "665:\tlearn: 0.2558951\ttotal: 58.2s\tremaining: 1m 12s\n",
            "666:\tlearn: 0.2556672\ttotal: 58.2s\tremaining: 1m 12s\n",
            "667:\tlearn: 0.2555097\ttotal: 58.3s\tremaining: 1m 12s\n",
            "668:\tlearn: 0.2553645\ttotal: 58.4s\tremaining: 1m 12s\n",
            "669:\tlearn: 0.2551275\ttotal: 58.5s\tremaining: 1m 12s\n",
            "670:\tlearn: 0.2549550\ttotal: 58.6s\tremaining: 1m 12s\n",
            "671:\tlearn: 0.2547349\ttotal: 58.6s\tremaining: 1m 12s\n",
            "672:\tlearn: 0.2546916\ttotal: 58.7s\tremaining: 1m 12s\n",
            "673:\tlearn: 0.2545115\ttotal: 58.8s\tremaining: 1m 12s\n",
            "674:\tlearn: 0.2543096\ttotal: 58.9s\tremaining: 1m 11s\n",
            "675:\tlearn: 0.2540808\ttotal: 58.9s\tremaining: 1m 11s\n",
            "676:\tlearn: 0.2538862\ttotal: 59s\tremaining: 1m 11s\n",
            "677:\tlearn: 0.2537188\ttotal: 59.1s\tremaining: 1m 11s\n",
            "678:\tlearn: 0.2535248\ttotal: 59.2s\tremaining: 1m 11s\n",
            "679:\tlearn: 0.2533028\ttotal: 59.2s\tremaining: 1m 11s\n",
            "680:\tlearn: 0.2531233\ttotal: 59.3s\tremaining: 1m 11s\n",
            "681:\tlearn: 0.2529635\ttotal: 59.4s\tremaining: 1m 11s\n",
            "682:\tlearn: 0.2527755\ttotal: 59.5s\tremaining: 1m 11s\n",
            "683:\tlearn: 0.2525743\ttotal: 59.5s\tremaining: 1m 11s\n",
            "684:\tlearn: 0.2523681\ttotal: 59.6s\tremaining: 1m 10s\n",
            "685:\tlearn: 0.2523277\ttotal: 59.7s\tremaining: 1m 10s\n",
            "686:\tlearn: 0.2521489\ttotal: 59.8s\tremaining: 1m 10s\n",
            "687:\tlearn: 0.2519493\ttotal: 59.9s\tremaining: 1m 10s\n",
            "688:\tlearn: 0.2517704\ttotal: 59.9s\tremaining: 1m 10s\n",
            "689:\tlearn: 0.2516043\ttotal: 1m\tremaining: 1m 10s\n",
            "690:\tlearn: 0.2514434\ttotal: 1m\tremaining: 1m 10s\n",
            "691:\tlearn: 0.2512605\ttotal: 1m\tremaining: 1m 10s\n",
            "692:\tlearn: 0.2510563\ttotal: 1m\tremaining: 1m 10s\n",
            "693:\tlearn: 0.2508483\ttotal: 1m\tremaining: 1m 10s\n",
            "694:\tlearn: 0.2506541\ttotal: 1m\tremaining: 1m 10s\n",
            "695:\tlearn: 0.2505085\ttotal: 1m\tremaining: 1m 10s\n",
            "696:\tlearn: 0.2503282\ttotal: 1m\tremaining: 1m 10s\n",
            "697:\tlearn: 0.2501196\ttotal: 1m\tremaining: 1m 10s\n",
            "698:\tlearn: 0.2499469\ttotal: 1m 1s\tremaining: 1m 10s\n",
            "699:\tlearn: 0.2497728\ttotal: 1m 1s\tremaining: 1m 10s\n",
            "700:\tlearn: 0.2495842\ttotal: 1m 1s\tremaining: 1m 9s\n",
            "701:\tlearn: 0.2494242\ttotal: 1m 1s\tremaining: 1m 9s\n",
            "702:\tlearn: 0.2492761\ttotal: 1m 1s\tremaining: 1m 9s\n",
            "703:\tlearn: 0.2492395\ttotal: 1m 1s\tremaining: 1m 9s\n",
            "704:\tlearn: 0.2491795\ttotal: 1m 1s\tremaining: 1m 9s\n",
            "705:\tlearn: 0.2489745\ttotal: 1m 2s\tremaining: 1m 9s\n",
            "706:\tlearn: 0.2487992\ttotal: 1m 2s\tremaining: 1m 9s\n",
            "707:\tlearn: 0.2486023\ttotal: 1m 2s\tremaining: 1m 9s\n",
            "708:\tlearn: 0.2483942\ttotal: 1m 2s\tremaining: 1m 9s\n",
            "709:\tlearn: 0.2482345\ttotal: 1m 2s\tremaining: 1m 9s\n",
            "710:\tlearn: 0.2480770\ttotal: 1m 2s\tremaining: 1m 9s\n",
            "711:\tlearn: 0.2478655\ttotal: 1m 2s\tremaining: 1m 9s\n",
            "712:\tlearn: 0.2477220\ttotal: 1m 3s\tremaining: 1m 9s\n",
            "713:\tlearn: 0.2475565\ttotal: 1m 3s\tremaining: 1m 9s\n",
            "714:\tlearn: 0.2474179\ttotal: 1m 3s\tremaining: 1m 9s\n",
            "715:\tlearn: 0.2472740\ttotal: 1m 3s\tremaining: 1m 9s\n",
            "716:\tlearn: 0.2470961\ttotal: 1m 3s\tremaining: 1m 9s\n",
            "717:\tlearn: 0.2470613\ttotal: 1m 3s\tremaining: 1m 9s\n",
            "718:\tlearn: 0.2468803\ttotal: 1m 3s\tremaining: 1m 9s\n",
            "719:\tlearn: 0.2467102\ttotal: 1m 4s\tremaining: 1m 9s\n",
            "720:\tlearn: 0.2465201\ttotal: 1m 4s\tremaining: 1m 9s\n",
            "721:\tlearn: 0.2462441\ttotal: 1m 4s\tremaining: 1m 9s\n",
            "722:\tlearn: 0.2460194\ttotal: 1m 4s\tremaining: 1m 9s\n",
            "723:\tlearn: 0.2458372\ttotal: 1m 4s\tremaining: 1m 9s\n",
            "724:\tlearn: 0.2456361\ttotal: 1m 4s\tremaining: 1m 8s\n",
            "725:\tlearn: 0.2454755\ttotal: 1m 4s\tremaining: 1m 8s\n",
            "726:\tlearn: 0.2452955\ttotal: 1m 4s\tremaining: 1m 8s\n",
            "727:\tlearn: 0.2451171\ttotal: 1m 4s\tremaining: 1m 8s\n",
            "728:\tlearn: 0.2449436\ttotal: 1m 4s\tremaining: 1m 8s\n",
            "729:\tlearn: 0.2447533\ttotal: 1m 4s\tremaining: 1m 8s\n",
            "730:\tlearn: 0.2446052\ttotal: 1m 4s\tremaining: 1m 8s\n",
            "731:\tlearn: 0.2444320\ttotal: 1m 5s\tremaining: 1m 8s\n",
            "732:\tlearn: 0.2442670\ttotal: 1m 5s\tremaining: 1m 8s\n",
            "733:\tlearn: 0.2440566\ttotal: 1m 5s\tremaining: 1m 8s\n",
            "734:\tlearn: 0.2438783\ttotal: 1m 5s\tremaining: 1m 7s\n",
            "735:\tlearn: 0.2436843\ttotal: 1m 5s\tremaining: 1m 7s\n",
            "736:\tlearn: 0.2435355\ttotal: 1m 5s\tremaining: 1m 7s\n",
            "737:\tlearn: 0.2433828\ttotal: 1m 5s\tremaining: 1m 7s\n",
            "738:\tlearn: 0.2431984\ttotal: 1m 5s\tremaining: 1m 7s\n",
            "739:\tlearn: 0.2430325\ttotal: 1m 5s\tremaining: 1m 7s\n",
            "740:\tlearn: 0.2428900\ttotal: 1m 5s\tremaining: 1m 7s\n",
            "741:\tlearn: 0.2427179\ttotal: 1m 5s\tremaining: 1m 7s\n",
            "742:\tlearn: 0.2425792\ttotal: 1m 5s\tremaining: 1m 7s\n",
            "743:\tlearn: 0.2423937\ttotal: 1m 6s\tremaining: 1m 7s\n",
            "744:\tlearn: 0.2423593\ttotal: 1m 6s\tremaining: 1m 6s\n",
            "745:\tlearn: 0.2421471\ttotal: 1m 6s\tremaining: 1m 6s\n",
            "746:\tlearn: 0.2419783\ttotal: 1m 6s\tremaining: 1m 6s\n",
            "747:\tlearn: 0.2418771\ttotal: 1m 6s\tremaining: 1m 6s\n",
            "748:\tlearn: 0.2416732\ttotal: 1m 6s\tremaining: 1m 6s\n",
            "749:\tlearn: 0.2414832\ttotal: 1m 6s\tremaining: 1m 6s\n",
            "750:\tlearn: 0.2414499\ttotal: 1m 6s\tremaining: 1m 6s\n",
            "751:\tlearn: 0.2413004\ttotal: 1m 6s\tremaining: 1m 6s\n",
            "752:\tlearn: 0.2411067\ttotal: 1m 6s\tremaining: 1m 6s\n",
            "753:\tlearn: 0.2409402\ttotal: 1m 6s\tremaining: 1m 6s\n",
            "754:\tlearn: 0.2409102\ttotal: 1m 6s\tremaining: 1m 5s\n",
            "755:\tlearn: 0.2407146\ttotal: 1m 6s\tremaining: 1m 5s\n",
            "756:\tlearn: 0.2405309\ttotal: 1m 6s\tremaining: 1m 5s\n",
            "757:\tlearn: 0.2403588\ttotal: 1m 7s\tremaining: 1m 5s\n",
            "758:\tlearn: 0.2401567\ttotal: 1m 7s\tremaining: 1m 5s\n",
            "759:\tlearn: 0.2399563\ttotal: 1m 7s\tremaining: 1m 5s\n",
            "760:\tlearn: 0.2397581\ttotal: 1m 7s\tremaining: 1m 5s\n",
            "761:\tlearn: 0.2395350\ttotal: 1m 7s\tremaining: 1m 5s\n",
            "762:\tlearn: 0.2394152\ttotal: 1m 7s\tremaining: 1m 5s\n",
            "763:\tlearn: 0.2392951\ttotal: 1m 7s\tremaining: 1m 5s\n",
            "764:\tlearn: 0.2392245\ttotal: 1m 7s\tremaining: 1m 4s\n",
            "765:\tlearn: 0.2389941\ttotal: 1m 7s\tremaining: 1m 4s\n",
            "766:\tlearn: 0.2388148\ttotal: 1m 7s\tremaining: 1m 4s\n",
            "767:\tlearn: 0.2386056\ttotal: 1m 7s\tremaining: 1m 4s\n",
            "768:\tlearn: 0.2384487\ttotal: 1m 7s\tremaining: 1m 4s\n",
            "769:\tlearn: 0.2382919\ttotal: 1m 7s\tremaining: 1m 4s\n",
            "770:\tlearn: 0.2381429\ttotal: 1m 8s\tremaining: 1m 4s\n",
            "771:\tlearn: 0.2380009\ttotal: 1m 8s\tremaining: 1m 4s\n",
            "772:\tlearn: 0.2378384\ttotal: 1m 8s\tremaining: 1m 4s\n",
            "773:\tlearn: 0.2377361\ttotal: 1m 8s\tremaining: 1m 4s\n",
            "774:\tlearn: 0.2375700\ttotal: 1m 8s\tremaining: 1m 3s\n",
            "775:\tlearn: 0.2374153\ttotal: 1m 8s\tremaining: 1m 3s\n",
            "776:\tlearn: 0.2372475\ttotal: 1m 8s\tremaining: 1m 3s\n",
            "777:\tlearn: 0.2370574\ttotal: 1m 8s\tremaining: 1m 3s\n",
            "778:\tlearn: 0.2369480\ttotal: 1m 8s\tremaining: 1m 3s\n",
            "779:\tlearn: 0.2367203\ttotal: 1m 8s\tremaining: 1m 3s\n",
            "780:\tlearn: 0.2366895\ttotal: 1m 8s\tremaining: 1m 3s\n",
            "781:\tlearn: 0.2365531\ttotal: 1m 8s\tremaining: 1m 3s\n",
            "782:\tlearn: 0.2364028\ttotal: 1m 8s\tremaining: 1m 3s\n",
            "783:\tlearn: 0.2362295\ttotal: 1m 9s\tremaining: 1m 3s\n",
            "784:\tlearn: 0.2361803\ttotal: 1m 9s\tremaining: 1m 2s\n",
            "785:\tlearn: 0.2360096\ttotal: 1m 9s\tremaining: 1m 2s\n",
            "786:\tlearn: 0.2358537\ttotal: 1m 9s\tremaining: 1m 2s\n",
            "787:\tlearn: 0.2356892\ttotal: 1m 9s\tremaining: 1m 2s\n",
            "788:\tlearn: 0.2355166\ttotal: 1m 9s\tremaining: 1m 2s\n",
            "789:\tlearn: 0.2353398\ttotal: 1m 9s\tremaining: 1m 2s\n",
            "790:\tlearn: 0.2351793\ttotal: 1m 9s\tremaining: 1m 2s\n",
            "791:\tlearn: 0.2350488\ttotal: 1m 9s\tremaining: 1m 2s\n",
            "792:\tlearn: 0.2348362\ttotal: 1m 9s\tremaining: 1m 2s\n",
            "793:\tlearn: 0.2346424\ttotal: 1m 9s\tremaining: 1m 2s\n",
            "794:\tlearn: 0.2344927\ttotal: 1m 9s\tremaining: 1m 1s\n",
            "795:\tlearn: 0.2344637\ttotal: 1m 9s\tremaining: 1m 1s\n",
            "796:\tlearn: 0.2343057\ttotal: 1m 10s\tremaining: 1m 1s\n",
            "797:\tlearn: 0.2341553\ttotal: 1m 10s\tremaining: 1m 1s\n",
            "798:\tlearn: 0.2340229\ttotal: 1m 10s\tremaining: 1m 1s\n",
            "799:\tlearn: 0.2338689\ttotal: 1m 10s\tremaining: 1m 1s\n",
            "800:\tlearn: 0.2337040\ttotal: 1m 10s\tremaining: 1m 1s\n",
            "801:\tlearn: 0.2335298\ttotal: 1m 10s\tremaining: 1m 1s\n",
            "802:\tlearn: 0.2333339\ttotal: 1m 10s\tremaining: 1m 1s\n",
            "803:\tlearn: 0.2331579\ttotal: 1m 10s\tremaining: 1m 1s\n",
            "804:\tlearn: 0.2330075\ttotal: 1m 10s\tremaining: 1m 1s\n",
            "805:\tlearn: 0.2328483\ttotal: 1m 10s\tremaining: 1m\n",
            "806:\tlearn: 0.2327419\ttotal: 1m 10s\tremaining: 1m\n",
            "807:\tlearn: 0.2325601\ttotal: 1m 10s\tremaining: 1m\n",
            "808:\tlearn: 0.2325062\ttotal: 1m 10s\tremaining: 1m\n",
            "809:\tlearn: 0.2323275\ttotal: 1m 11s\tremaining: 1m\n",
            "810:\tlearn: 0.2321975\ttotal: 1m 11s\tremaining: 1m\n",
            "811:\tlearn: 0.2320236\ttotal: 1m 11s\tremaining: 1m\n",
            "812:\tlearn: 0.2318409\ttotal: 1m 11s\tremaining: 1m\n",
            "813:\tlearn: 0.2316286\ttotal: 1m 11s\tremaining: 1m\n",
            "814:\tlearn: 0.2314682\ttotal: 1m 11s\tremaining: 1m\n",
            "815:\tlearn: 0.2312697\ttotal: 1m 11s\tremaining: 60s\n",
            "816:\tlearn: 0.2311155\ttotal: 1m 11s\tremaining: 59.9s\n",
            "817:\tlearn: 0.2310847\ttotal: 1m 11s\tremaining: 59.8s\n",
            "818:\tlearn: 0.2309374\ttotal: 1m 11s\tremaining: 59.7s\n",
            "819:\tlearn: 0.2307901\ttotal: 1m 11s\tremaining: 59.6s\n",
            "820:\tlearn: 0.2306062\ttotal: 1m 11s\tremaining: 59.5s\n",
            "821:\tlearn: 0.2304757\ttotal: 1m 11s\tremaining: 59.4s\n",
            "822:\tlearn: 0.2303227\ttotal: 1m 12s\tremaining: 59.3s\n",
            "823:\tlearn: 0.2302918\ttotal: 1m 12s\tremaining: 59.2s\n",
            "824:\tlearn: 0.2301224\ttotal: 1m 12s\tremaining: 59.1s\n",
            "825:\tlearn: 0.2299883\ttotal: 1m 12s\tremaining: 59s\n",
            "826:\tlearn: 0.2298380\ttotal: 1m 12s\tremaining: 58.9s\n",
            "827:\tlearn: 0.2296592\ttotal: 1m 12s\tremaining: 58.8s\n",
            "828:\tlearn: 0.2295092\ttotal: 1m 12s\tremaining: 58.7s\n",
            "829:\tlearn: 0.2294806\ttotal: 1m 12s\tremaining: 58.6s\n",
            "830:\tlearn: 0.2293427\ttotal: 1m 12s\tremaining: 58.5s\n",
            "831:\tlearn: 0.2291821\ttotal: 1m 12s\tremaining: 58.4s\n",
            "832:\tlearn: 0.2290141\ttotal: 1m 12s\tremaining: 58.3s\n",
            "833:\tlearn: 0.2288504\ttotal: 1m 12s\tremaining: 58.2s\n",
            "834:\tlearn: 0.2286329\ttotal: 1m 12s\tremaining: 58.1s\n",
            "835:\tlearn: 0.2284537\ttotal: 1m 13s\tremaining: 58s\n",
            "836:\tlearn: 0.2283310\ttotal: 1m 13s\tremaining: 57.9s\n",
            "837:\tlearn: 0.2281698\ttotal: 1m 13s\tremaining: 57.9s\n",
            "838:\tlearn: 0.2280033\ttotal: 1m 13s\tremaining: 57.8s\n",
            "839:\tlearn: 0.2278144\ttotal: 1m 13s\tremaining: 57.7s\n",
            "840:\tlearn: 0.2276625\ttotal: 1m 13s\tremaining: 57.6s\n",
            "841:\tlearn: 0.2276349\ttotal: 1m 13s\tremaining: 57.5s\n",
            "842:\tlearn: 0.2274831\ttotal: 1m 13s\tremaining: 57.4s\n",
            "843:\tlearn: 0.2272909\ttotal: 1m 13s\tremaining: 57.3s\n",
            "844:\tlearn: 0.2272442\ttotal: 1m 13s\tremaining: 57.2s\n",
            "845:\tlearn: 0.2270959\ttotal: 1m 13s\tremaining: 57.1s\n",
            "846:\tlearn: 0.2270351\ttotal: 1m 13s\tremaining: 57s\n",
            "847:\tlearn: 0.2268772\ttotal: 1m 13s\tremaining: 56.9s\n",
            "848:\tlearn: 0.2266702\ttotal: 1m 14s\tremaining: 56.8s\n",
            "849:\tlearn: 0.2265394\ttotal: 1m 14s\tremaining: 56.7s\n",
            "850:\tlearn: 0.2264134\ttotal: 1m 14s\tremaining: 56.7s\n",
            "851:\tlearn: 0.2262436\ttotal: 1m 14s\tremaining: 56.6s\n",
            "852:\tlearn: 0.2260608\ttotal: 1m 14s\tremaining: 56.5s\n",
            "853:\tlearn: 0.2259423\ttotal: 1m 14s\tremaining: 56.5s\n",
            "854:\tlearn: 0.2257849\ttotal: 1m 14s\tremaining: 56.4s\n",
            "855:\tlearn: 0.2256286\ttotal: 1m 14s\tremaining: 56.4s\n",
            "856:\tlearn: 0.2254662\ttotal: 1m 15s\tremaining: 56.3s\n",
            "857:\tlearn: 0.2253444\ttotal: 1m 15s\tremaining: 56.3s\n",
            "858:\tlearn: 0.2251692\ttotal: 1m 15s\tremaining: 56.3s\n",
            "859:\tlearn: 0.2250282\ttotal: 1m 15s\tremaining: 56.2s\n",
            "860:\tlearn: 0.2248863\ttotal: 1m 15s\tremaining: 56.2s\n",
            "861:\tlearn: 0.2247470\ttotal: 1m 15s\tremaining: 56.1s\n",
            "862:\tlearn: 0.2245891\ttotal: 1m 15s\tremaining: 56.1s\n",
            "863:\tlearn: 0.2244638\ttotal: 1m 16s\tremaining: 56s\n",
            "864:\tlearn: 0.2243628\ttotal: 1m 16s\tremaining: 55.9s\n",
            "865:\tlearn: 0.2242265\ttotal: 1m 16s\tremaining: 55.9s\n",
            "866:\tlearn: 0.2241075\ttotal: 1m 16s\tremaining: 55.8s\n",
            "867:\tlearn: 0.2239654\ttotal: 1m 16s\tremaining: 55.8s\n",
            "868:\tlearn: 0.2238295\ttotal: 1m 16s\tremaining: 55.7s\n",
            "869:\tlearn: 0.2236802\ttotal: 1m 16s\tremaining: 55.7s\n",
            "870:\tlearn: 0.2235131\ttotal: 1m 17s\tremaining: 55.6s\n",
            "871:\tlearn: 0.2233448\ttotal: 1m 17s\tremaining: 55.6s\n",
            "872:\tlearn: 0.2232317\ttotal: 1m 17s\tremaining: 55.5s\n",
            "873:\tlearn: 0.2230841\ttotal: 1m 17s\tremaining: 55.4s\n",
            "874:\tlearn: 0.2229474\ttotal: 1m 17s\tremaining: 55.4s\n",
            "875:\tlearn: 0.2229196\ttotal: 1m 17s\tremaining: 55.3s\n",
            "876:\tlearn: 0.2227377\ttotal: 1m 17s\tremaining: 55.3s\n",
            "877:\tlearn: 0.2225677\ttotal: 1m 18s\tremaining: 55.3s\n",
            "878:\tlearn: 0.2225412\ttotal: 1m 18s\tremaining: 55.2s\n",
            "879:\tlearn: 0.2225150\ttotal: 1m 18s\tremaining: 55.1s\n",
            "880:\tlearn: 0.2223333\ttotal: 1m 18s\tremaining: 55s\n",
            "881:\tlearn: 0.2221979\ttotal: 1m 18s\tremaining: 54.9s\n",
            "882:\tlearn: 0.2220753\ttotal: 1m 18s\tremaining: 54.8s\n",
            "883:\tlearn: 0.2220497\ttotal: 1m 18s\tremaining: 54.7s\n",
            "884:\tlearn: 0.2218533\ttotal: 1m 18s\tremaining: 54.6s\n",
            "885:\tlearn: 0.2217128\ttotal: 1m 18s\tremaining: 54.5s\n",
            "886:\tlearn: 0.2215696\ttotal: 1m 18s\tremaining: 54.4s\n",
            "887:\tlearn: 0.2214372\ttotal: 1m 18s\tremaining: 54.3s\n",
            "888:\tlearn: 0.2212740\ttotal: 1m 18s\tremaining: 54.2s\n",
            "889:\tlearn: 0.2211277\ttotal: 1m 18s\tremaining: 54.1s\n",
            "890:\tlearn: 0.2209529\ttotal: 1m 18s\tremaining: 54s\n",
            "891:\tlearn: 0.2208215\ttotal: 1m 19s\tremaining: 53.9s\n",
            "892:\tlearn: 0.2206762\ttotal: 1m 19s\tremaining: 53.8s\n",
            "893:\tlearn: 0.2204878\ttotal: 1m 19s\tremaining: 53.7s\n",
            "894:\tlearn: 0.2203023\ttotal: 1m 19s\tremaining: 53.6s\n",
            "895:\tlearn: 0.2201645\ttotal: 1m 19s\tremaining: 53.5s\n",
            "896:\tlearn: 0.2200570\ttotal: 1m 19s\tremaining: 53.4s\n",
            "897:\tlearn: 0.2198915\ttotal: 1m 19s\tremaining: 53.3s\n",
            "898:\tlearn: 0.2197016\ttotal: 1m 19s\tremaining: 53.2s\n",
            "899:\tlearn: 0.2195712\ttotal: 1m 19s\tremaining: 53.1s\n",
            "900:\tlearn: 0.2194678\ttotal: 1m 19s\tremaining: 53s\n",
            "901:\tlearn: 0.2192912\ttotal: 1m 19s\tremaining: 52.9s\n",
            "902:\tlearn: 0.2191500\ttotal: 1m 19s\tremaining: 52.8s\n",
            "903:\tlearn: 0.2189732\ttotal: 1m 19s\tremaining: 52.7s\n",
            "904:\tlearn: 0.2189471\ttotal: 1m 20s\tremaining: 52.6s\n",
            "905:\tlearn: 0.2187515\ttotal: 1m 20s\tremaining: 52.5s\n",
            "906:\tlearn: 0.2186418\ttotal: 1m 20s\tremaining: 52.4s\n",
            "907:\tlearn: 0.2185022\ttotal: 1m 20s\tremaining: 52.3s\n",
            "908:\tlearn: 0.2183853\ttotal: 1m 20s\tremaining: 52.2s\n",
            "909:\tlearn: 0.2183607\ttotal: 1m 20s\tremaining: 52.1s\n",
            "910:\tlearn: 0.2182170\ttotal: 1m 20s\tremaining: 52.1s\n",
            "911:\tlearn: 0.2180108\ttotal: 1m 20s\tremaining: 52s\n",
            "912:\tlearn: 0.2178674\ttotal: 1m 20s\tremaining: 51.9s\n",
            "913:\tlearn: 0.2177087\ttotal: 1m 20s\tremaining: 51.8s\n",
            "914:\tlearn: 0.2175563\ttotal: 1m 20s\tremaining: 51.7s\n",
            "915:\tlearn: 0.2174639\ttotal: 1m 20s\tremaining: 51.6s\n",
            "916:\tlearn: 0.2173339\ttotal: 1m 20s\tremaining: 51.5s\n",
            "917:\tlearn: 0.2171780\ttotal: 1m 21s\tremaining: 51.4s\n",
            "918:\tlearn: 0.2170222\ttotal: 1m 21s\tremaining: 51.3s\n",
            "919:\tlearn: 0.2168882\ttotal: 1m 21s\tremaining: 51.2s\n",
            "920:\tlearn: 0.2167416\ttotal: 1m 21s\tremaining: 51.1s\n",
            "921:\tlearn: 0.2165823\ttotal: 1m 21s\tremaining: 51s\n",
            "922:\tlearn: 0.2164557\ttotal: 1m 21s\tremaining: 50.9s\n",
            "923:\tlearn: 0.2163229\ttotal: 1m 21s\tremaining: 50.8s\n",
            "924:\tlearn: 0.2161846\ttotal: 1m 21s\tremaining: 50.7s\n",
            "925:\tlearn: 0.2161315\ttotal: 1m 21s\tremaining: 50.6s\n",
            "926:\tlearn: 0.2159721\ttotal: 1m 21s\tremaining: 50.5s\n",
            "927:\tlearn: 0.2158346\ttotal: 1m 21s\tremaining: 50.4s\n",
            "928:\tlearn: 0.2157197\ttotal: 1m 21s\tremaining: 50.3s\n",
            "929:\tlearn: 0.2155860\ttotal: 1m 21s\tremaining: 50.2s\n",
            "930:\tlearn: 0.2154359\ttotal: 1m 22s\tremaining: 50.1s\n",
            "931:\tlearn: 0.2154128\ttotal: 1m 22s\tremaining: 50s\n",
            "932:\tlearn: 0.2152641\ttotal: 1m 22s\tremaining: 49.9s\n",
            "933:\tlearn: 0.2150925\ttotal: 1m 22s\tremaining: 49.9s\n",
            "934:\tlearn: 0.2149709\ttotal: 1m 22s\tremaining: 49.8s\n",
            "935:\tlearn: 0.2148117\ttotal: 1m 22s\tremaining: 49.7s\n",
            "936:\tlearn: 0.2146636\ttotal: 1m 22s\tremaining: 49.6s\n",
            "937:\tlearn: 0.2145386\ttotal: 1m 22s\tremaining: 49.5s\n",
            "938:\tlearn: 0.2144114\ttotal: 1m 22s\tremaining: 49.4s\n",
            "939:\tlearn: 0.2143180\ttotal: 1m 22s\tremaining: 49.3s\n",
            "940:\tlearn: 0.2141801\ttotal: 1m 22s\tremaining: 49.2s\n",
            "941:\tlearn: 0.2140773\ttotal: 1m 22s\tremaining: 49.1s\n",
            "942:\tlearn: 0.2139692\ttotal: 1m 22s\tremaining: 49s\n",
            "943:\tlearn: 0.2137922\ttotal: 1m 23s\tremaining: 48.9s\n",
            "944:\tlearn: 0.2136377\ttotal: 1m 23s\tremaining: 48.8s\n",
            "945:\tlearn: 0.2134825\ttotal: 1m 23s\tremaining: 48.7s\n",
            "946:\tlearn: 0.2133473\ttotal: 1m 23s\tremaining: 48.6s\n",
            "947:\tlearn: 0.2131863\ttotal: 1m 23s\tremaining: 48.5s\n",
            "948:\tlearn: 0.2131618\ttotal: 1m 23s\tremaining: 48.4s\n",
            "949:\tlearn: 0.2130113\ttotal: 1m 23s\tremaining: 48.3s\n",
            "950:\tlearn: 0.2128858\ttotal: 1m 23s\tremaining: 48.2s\n",
            "951:\tlearn: 0.2127430\ttotal: 1m 23s\tremaining: 48.1s\n",
            "952:\tlearn: 0.2126318\ttotal: 1m 23s\tremaining: 48.1s\n",
            "953:\tlearn: 0.2125197\ttotal: 1m 23s\tremaining: 48s\n",
            "954:\tlearn: 0.2123940\ttotal: 1m 23s\tremaining: 47.9s\n",
            "955:\tlearn: 0.2122669\ttotal: 1m 23s\tremaining: 47.8s\n",
            "956:\tlearn: 0.2121036\ttotal: 1m 24s\tremaining: 47.7s\n",
            "957:\tlearn: 0.2119570\ttotal: 1m 24s\tremaining: 47.6s\n",
            "958:\tlearn: 0.2118246\ttotal: 1m 24s\tremaining: 47.5s\n",
            "959:\tlearn: 0.2117447\ttotal: 1m 24s\tremaining: 47.4s\n",
            "960:\tlearn: 0.2117210\ttotal: 1m 24s\tremaining: 47.3s\n",
            "961:\tlearn: 0.2115299\ttotal: 1m 24s\tremaining: 47.2s\n",
            "962:\tlearn: 0.2113894\ttotal: 1m 24s\tremaining: 47.1s\n",
            "963:\tlearn: 0.2112851\ttotal: 1m 24s\tremaining: 47s\n",
            "964:\tlearn: 0.2111341\ttotal: 1m 24s\tremaining: 46.9s\n",
            "965:\tlearn: 0.2110033\ttotal: 1m 24s\tremaining: 46.8s\n",
            "966:\tlearn: 0.2108389\ttotal: 1m 24s\tremaining: 46.7s\n",
            "967:\tlearn: 0.2107039\ttotal: 1m 24s\tremaining: 46.6s\n",
            "968:\tlearn: 0.2106616\ttotal: 1m 24s\tremaining: 46.5s\n",
            "969:\tlearn: 0.2105439\ttotal: 1m 25s\tremaining: 46.4s\n",
            "970:\tlearn: 0.2104288\ttotal: 1m 25s\tremaining: 46.4s\n",
            "971:\tlearn: 0.2102404\ttotal: 1m 25s\tremaining: 46.3s\n",
            "972:\tlearn: 0.2100966\ttotal: 1m 25s\tremaining: 46.2s\n",
            "973:\tlearn: 0.2099418\ttotal: 1m 25s\tremaining: 46.1s\n",
            "974:\tlearn: 0.2098076\ttotal: 1m 25s\tremaining: 46s\n",
            "975:\tlearn: 0.2096673\ttotal: 1m 25s\tremaining: 45.9s\n",
            "976:\tlearn: 0.2096100\ttotal: 1m 25s\tremaining: 45.8s\n",
            "977:\tlearn: 0.2094788\ttotal: 1m 25s\tremaining: 45.7s\n",
            "978:\tlearn: 0.2094418\ttotal: 1m 25s\tremaining: 45.6s\n",
            "979:\tlearn: 0.2093087\ttotal: 1m 25s\tremaining: 45.5s\n",
            "980:\tlearn: 0.2091877\ttotal: 1m 25s\tremaining: 45.4s\n",
            "981:\tlearn: 0.2091651\ttotal: 1m 25s\tremaining: 45.3s\n",
            "982:\tlearn: 0.2090115\ttotal: 1m 26s\tremaining: 45.2s\n",
            "983:\tlearn: 0.2088640\ttotal: 1m 26s\tremaining: 45.1s\n",
            "984:\tlearn: 0.2087115\ttotal: 1m 26s\tremaining: 45.1s\n",
            "985:\tlearn: 0.2086048\ttotal: 1m 26s\tremaining: 45s\n",
            "986:\tlearn: 0.2084749\ttotal: 1m 26s\tremaining: 44.9s\n",
            "987:\tlearn: 0.2083298\ttotal: 1m 26s\tremaining: 44.8s\n",
            "988:\tlearn: 0.2081719\ttotal: 1m 26s\tremaining: 44.7s\n",
            "989:\tlearn: 0.2080348\ttotal: 1m 26s\tremaining: 44.6s\n",
            "990:\tlearn: 0.2078581\ttotal: 1m 26s\tremaining: 44.5s\n",
            "991:\tlearn: 0.2077334\ttotal: 1m 26s\tremaining: 44.4s\n",
            "992:\tlearn: 0.2075840\ttotal: 1m 26s\tremaining: 44.3s\n",
            "993:\tlearn: 0.2074148\ttotal: 1m 26s\tremaining: 44.2s\n",
            "994:\tlearn: 0.2072753\ttotal: 1m 26s\tremaining: 44.1s\n",
            "995:\tlearn: 0.2071353\ttotal: 1m 27s\tremaining: 44s\n",
            "996:\tlearn: 0.2070281\ttotal: 1m 27s\tremaining: 43.9s\n",
            "997:\tlearn: 0.2068678\ttotal: 1m 27s\tremaining: 43.8s\n",
            "998:\tlearn: 0.2067163\ttotal: 1m 27s\tremaining: 43.8s\n",
            "999:\tlearn: 0.2065658\ttotal: 1m 27s\tremaining: 43.7s\n",
            "1000:\tlearn: 0.2064292\ttotal: 1m 27s\tremaining: 43.6s\n",
            "1001:\tlearn: 0.2063785\ttotal: 1m 27s\tremaining: 43.5s\n",
            "1002:\tlearn: 0.2062374\ttotal: 1m 27s\tremaining: 43.4s\n",
            "1003:\tlearn: 0.2062026\ttotal: 1m 27s\tremaining: 43.3s\n",
            "1004:\tlearn: 0.2060477\ttotal: 1m 27s\tremaining: 43.2s\n",
            "1005:\tlearn: 0.2060223\ttotal: 1m 27s\tremaining: 43.1s\n",
            "1006:\tlearn: 0.2058677\ttotal: 1m 27s\tremaining: 43s\n",
            "1007:\tlearn: 0.2057656\ttotal: 1m 27s\tremaining: 42.9s\n",
            "1008:\tlearn: 0.2056384\ttotal: 1m 28s\tremaining: 42.9s\n",
            "1009:\tlearn: 0.2056164\ttotal: 1m 28s\tremaining: 42.8s\n",
            "1010:\tlearn: 0.2054831\ttotal: 1m 28s\tremaining: 42.7s\n",
            "1011:\tlearn: 0.2053555\ttotal: 1m 28s\tremaining: 42.7s\n",
            "1012:\tlearn: 0.2051968\ttotal: 1m 28s\tremaining: 42.6s\n",
            "1013:\tlearn: 0.2050769\ttotal: 1m 28s\tremaining: 42.5s\n",
            "1014:\tlearn: 0.2049349\ttotal: 1m 28s\tremaining: 42.5s\n",
            "1015:\tlearn: 0.2048206\ttotal: 1m 29s\tremaining: 42.4s\n",
            "1016:\tlearn: 0.2046893\ttotal: 1m 29s\tremaining: 42.3s\n",
            "1017:\tlearn: 0.2045697\ttotal: 1m 29s\tremaining: 42.3s\n",
            "1018:\tlearn: 0.2045073\ttotal: 1m 29s\tremaining: 42.2s\n",
            "1019:\tlearn: 0.2043625\ttotal: 1m 29s\tremaining: 42.1s\n",
            "1020:\tlearn: 0.2042550\ttotal: 1m 29s\tremaining: 42.1s\n",
            "1021:\tlearn: 0.2041305\ttotal: 1m 29s\tremaining: 42s\n",
            "1022:\tlearn: 0.2039916\ttotal: 1m 29s\tremaining: 41.9s\n",
            "1023:\tlearn: 0.2038254\ttotal: 1m 30s\tremaining: 41.9s\n",
            "1024:\tlearn: 0.2037629\ttotal: 1m 30s\tremaining: 41.8s\n",
            "1025:\tlearn: 0.2036545\ttotal: 1m 30s\tremaining: 41.7s\n",
            "1026:\tlearn: 0.2035251\ttotal: 1m 30s\tremaining: 41.7s\n",
            "1027:\tlearn: 0.2034015\ttotal: 1m 30s\tremaining: 41.6s\n",
            "1028:\tlearn: 0.2032478\ttotal: 1m 30s\tremaining: 41.5s\n",
            "1029:\tlearn: 0.2030959\ttotal: 1m 30s\tremaining: 41.5s\n",
            "1030:\tlearn: 0.2029664\ttotal: 1m 31s\tremaining: 41.4s\n",
            "1031:\tlearn: 0.2028336\ttotal: 1m 31s\tremaining: 41.4s\n",
            "1032:\tlearn: 0.2027174\ttotal: 1m 31s\tremaining: 41.3s\n",
            "1033:\tlearn: 0.2025808\ttotal: 1m 31s\tremaining: 41.2s\n",
            "1034:\tlearn: 0.2024814\ttotal: 1m 31s\tremaining: 41.2s\n",
            "1035:\tlearn: 0.2023784\ttotal: 1m 31s\tremaining: 41.1s\n",
            "1036:\tlearn: 0.2022424\ttotal: 1m 31s\tremaining: 41s\n",
            "1037:\tlearn: 0.2022198\ttotal: 1m 31s\tremaining: 40.9s\n",
            "1038:\tlearn: 0.2021021\ttotal: 1m 32s\tremaining: 40.8s\n",
            "1039:\tlearn: 0.2019806\ttotal: 1m 32s\tremaining: 40.7s\n",
            "1040:\tlearn: 0.2018375\ttotal: 1m 32s\tremaining: 40.6s\n",
            "1041:\tlearn: 0.2017052\ttotal: 1m 32s\tremaining: 40.5s\n",
            "1042:\tlearn: 0.2015769\ttotal: 1m 32s\tremaining: 40.5s\n",
            "1043:\tlearn: 0.2014523\ttotal: 1m 32s\tremaining: 40.4s\n",
            "1044:\tlearn: 0.2013432\ttotal: 1m 32s\tremaining: 40.3s\n",
            "1045:\tlearn: 0.2012322\ttotal: 1m 32s\tremaining: 40.2s\n",
            "1046:\tlearn: 0.2010833\ttotal: 1m 32s\tremaining: 40.1s\n",
            "1047:\tlearn: 0.2009794\ttotal: 1m 32s\tremaining: 40s\n",
            "1048:\tlearn: 0.2008561\ttotal: 1m 32s\tremaining: 39.9s\n",
            "1049:\tlearn: 0.2007468\ttotal: 1m 32s\tremaining: 39.8s\n",
            "1050:\tlearn: 0.2005937\ttotal: 1m 32s\tremaining: 39.7s\n",
            "1051:\tlearn: 0.2004706\ttotal: 1m 33s\tremaining: 39.6s\n",
            "1052:\tlearn: 0.2003614\ttotal: 1m 33s\tremaining: 39.5s\n",
            "1053:\tlearn: 0.2002350\ttotal: 1m 33s\tremaining: 39.4s\n",
            "1054:\tlearn: 0.2001394\ttotal: 1m 33s\tremaining: 39.3s\n",
            "1055:\tlearn: 0.2000337\ttotal: 1m 33s\tremaining: 39.2s\n",
            "1056:\tlearn: 0.1999260\ttotal: 1m 33s\tremaining: 39.1s\n",
            "1057:\tlearn: 0.1998062\ttotal: 1m 33s\tremaining: 39s\n",
            "1058:\tlearn: 0.1996994\ttotal: 1m 33s\tremaining: 39s\n",
            "1059:\tlearn: 0.1995832\ttotal: 1m 33s\tremaining: 38.9s\n",
            "1060:\tlearn: 0.1994533\ttotal: 1m 33s\tremaining: 38.8s\n",
            "1061:\tlearn: 0.1994308\ttotal: 1m 33s\tremaining: 38.7s\n",
            "1062:\tlearn: 0.1993402\ttotal: 1m 33s\tremaining: 38.6s\n",
            "1063:\tlearn: 0.1991937\ttotal: 1m 33s\tremaining: 38.5s\n",
            "1064:\tlearn: 0.1990494\ttotal: 1m 33s\tremaining: 38.4s\n",
            "1065:\tlearn: 0.1989188\ttotal: 1m 34s\tremaining: 38.3s\n",
            "1066:\tlearn: 0.1987916\ttotal: 1m 34s\tremaining: 38.2s\n",
            "1067:\tlearn: 0.1986633\ttotal: 1m 34s\tremaining: 38.1s\n",
            "1068:\tlearn: 0.1985636\ttotal: 1m 34s\tremaining: 38s\n",
            "1069:\tlearn: 0.1984400\ttotal: 1m 34s\tremaining: 37.9s\n",
            "1070:\tlearn: 0.1983254\ttotal: 1m 34s\tremaining: 37.8s\n",
            "1071:\tlearn: 0.1983050\ttotal: 1m 34s\tremaining: 37.7s\n",
            "1072:\tlearn: 0.1981987\ttotal: 1m 34s\tremaining: 37.6s\n",
            "1073:\tlearn: 0.1980974\ttotal: 1m 34s\tremaining: 37.5s\n",
            "1074:\tlearn: 0.1980091\ttotal: 1m 34s\tremaining: 37.5s\n",
            "1075:\tlearn: 0.1979139\ttotal: 1m 34s\tremaining: 37.4s\n",
            "1076:\tlearn: 0.1977911\ttotal: 1m 34s\tremaining: 37.3s\n",
            "1077:\tlearn: 0.1976745\ttotal: 1m 34s\tremaining: 37.2s\n",
            "1078:\tlearn: 0.1975356\ttotal: 1m 35s\tremaining: 37.1s\n",
            "1079:\tlearn: 0.1974402\ttotal: 1m 35s\tremaining: 37s\n",
            "1080:\tlearn: 0.1972887\ttotal: 1m 35s\tremaining: 36.9s\n",
            "1081:\tlearn: 0.1971869\ttotal: 1m 35s\tremaining: 36.8s\n",
            "1082:\tlearn: 0.1970719\ttotal: 1m 35s\tremaining: 36.7s\n",
            "1083:\tlearn: 0.1969480\ttotal: 1m 35s\tremaining: 36.6s\n",
            "1084:\tlearn: 0.1969271\ttotal: 1m 35s\tremaining: 36.5s\n",
            "1085:\tlearn: 0.1969063\ttotal: 1m 35s\tremaining: 36.4s\n",
            "1086:\tlearn: 0.1967771\ttotal: 1m 35s\tremaining: 36.3s\n",
            "1087:\tlearn: 0.1966391\ttotal: 1m 35s\tremaining: 36.2s\n",
            "1088:\tlearn: 0.1965092\ttotal: 1m 35s\tremaining: 36.1s\n",
            "1089:\tlearn: 0.1963942\ttotal: 1m 35s\tremaining: 36.1s\n",
            "1090:\tlearn: 0.1963011\ttotal: 1m 35s\tremaining: 36s\n",
            "1091:\tlearn: 0.1962684\ttotal: 1m 36s\tremaining: 35.9s\n",
            "1092:\tlearn: 0.1961557\ttotal: 1m 36s\tremaining: 35.8s\n",
            "1093:\tlearn: 0.1960347\ttotal: 1m 36s\tremaining: 35.7s\n",
            "1094:\tlearn: 0.1959249\ttotal: 1m 36s\tremaining: 35.6s\n",
            "1095:\tlearn: 0.1957995\ttotal: 1m 36s\tremaining: 35.5s\n",
            "1096:\tlearn: 0.1956634\ttotal: 1m 36s\tremaining: 35.4s\n",
            "1097:\tlearn: 0.1955139\ttotal: 1m 36s\tremaining: 35.3s\n",
            "1098:\tlearn: 0.1954100\ttotal: 1m 36s\tremaining: 35.2s\n",
            "1099:\tlearn: 0.1952984\ttotal: 1m 36s\tremaining: 35.1s\n",
            "1100:\tlearn: 0.1951571\ttotal: 1m 36s\tremaining: 35s\n",
            "1101:\tlearn: 0.1949609\ttotal: 1m 36s\tremaining: 34.9s\n",
            "1102:\tlearn: 0.1949405\ttotal: 1m 36s\tremaining: 34.9s\n",
            "1103:\tlearn: 0.1948277\ttotal: 1m 36s\tremaining: 34.8s\n",
            "1104:\tlearn: 0.1947051\ttotal: 1m 37s\tremaining: 34.7s\n",
            "1105:\tlearn: 0.1945893\ttotal: 1m 37s\tremaining: 34.6s\n",
            "1106:\tlearn: 0.1944425\ttotal: 1m 37s\tremaining: 34.5s\n",
            "1107:\tlearn: 0.1943170\ttotal: 1m 37s\tremaining: 34.4s\n",
            "1108:\tlearn: 0.1942250\ttotal: 1m 37s\tremaining: 34.3s\n",
            "1109:\tlearn: 0.1941073\ttotal: 1m 37s\tremaining: 34.2s\n",
            "1110:\tlearn: 0.1940262\ttotal: 1m 37s\tremaining: 34.1s\n",
            "1111:\tlearn: 0.1938977\ttotal: 1m 37s\tremaining: 34s\n",
            "1112:\tlearn: 0.1937576\ttotal: 1m 37s\tremaining: 33.9s\n",
            "1113:\tlearn: 0.1937255\ttotal: 1m 37s\tremaining: 33.8s\n",
            "1114:\tlearn: 0.1935865\ttotal: 1m 37s\tremaining: 33.7s\n",
            "1115:\tlearn: 0.1934505\ttotal: 1m 37s\tremaining: 33.7s\n",
            "1116:\tlearn: 0.1933134\ttotal: 1m 37s\tremaining: 33.6s\n",
            "1117:\tlearn: 0.1932551\ttotal: 1m 37s\tremaining: 33.5s\n",
            "1118:\tlearn: 0.1931347\ttotal: 1m 38s\tremaining: 33.4s\n",
            "1119:\tlearn: 0.1930045\ttotal: 1m 38s\tremaining: 33.3s\n",
            "1120:\tlearn: 0.1929084\ttotal: 1m 38s\tremaining: 33.2s\n",
            "1121:\tlearn: 0.1927445\ttotal: 1m 38s\tremaining: 33.1s\n",
            "1122:\tlearn: 0.1926303\ttotal: 1m 38s\tremaining: 33s\n",
            "1123:\tlearn: 0.1926106\ttotal: 1m 38s\tremaining: 32.9s\n",
            "1124:\tlearn: 0.1924828\ttotal: 1m 38s\tremaining: 32.8s\n",
            "1125:\tlearn: 0.1923712\ttotal: 1m 38s\tremaining: 32.7s\n",
            "1126:\tlearn: 0.1922758\ttotal: 1m 38s\tremaining: 32.6s\n",
            "1127:\tlearn: 0.1921557\ttotal: 1m 38s\tremaining: 32.6s\n",
            "1128:\tlearn: 0.1920488\ttotal: 1m 38s\tremaining: 32.5s\n",
            "1129:\tlearn: 0.1919459\ttotal: 1m 38s\tremaining: 32.4s\n",
            "1130:\tlearn: 0.1918417\ttotal: 1m 38s\tremaining: 32.3s\n",
            "1131:\tlearn: 0.1917325\ttotal: 1m 39s\tremaining: 32.2s\n",
            "1132:\tlearn: 0.1916389\ttotal: 1m 39s\tremaining: 32.1s\n",
            "1133:\tlearn: 0.1915373\ttotal: 1m 39s\tremaining: 32s\n",
            "1134:\tlearn: 0.1914150\ttotal: 1m 39s\tremaining: 31.9s\n",
            "1135:\tlearn: 0.1913198\ttotal: 1m 39s\tremaining: 31.8s\n",
            "1136:\tlearn: 0.1911921\ttotal: 1m 39s\tremaining: 31.7s\n",
            "1137:\tlearn: 0.1910766\ttotal: 1m 39s\tremaining: 31.6s\n",
            "1138:\tlearn: 0.1909278\ttotal: 1m 39s\tremaining: 31.5s\n",
            "1139:\tlearn: 0.1908397\ttotal: 1m 39s\tremaining: 31.5s\n",
            "1140:\tlearn: 0.1907553\ttotal: 1m 39s\tremaining: 31.4s\n",
            "1141:\tlearn: 0.1906571\ttotal: 1m 39s\tremaining: 31.3s\n",
            "1142:\tlearn: 0.1905520\ttotal: 1m 39s\tremaining: 31.2s\n",
            "1143:\tlearn: 0.1904405\ttotal: 1m 39s\tremaining: 31.1s\n",
            "1144:\tlearn: 0.1903130\ttotal: 1m 39s\tremaining: 31s\n",
            "1145:\tlearn: 0.1902942\ttotal: 1m 40s\tremaining: 30.9s\n",
            "1146:\tlearn: 0.1901671\ttotal: 1m 40s\tremaining: 30.8s\n",
            "1147:\tlearn: 0.1900477\ttotal: 1m 40s\tremaining: 30.7s\n",
            "1148:\tlearn: 0.1899539\ttotal: 1m 40s\tremaining: 30.6s\n",
            "1149:\tlearn: 0.1898599\ttotal: 1m 40s\tremaining: 30.5s\n",
            "1150:\tlearn: 0.1897368\ttotal: 1m 40s\tremaining: 30.4s\n",
            "1151:\tlearn: 0.1896343\ttotal: 1m 40s\tremaining: 30.4s\n",
            "1152:\tlearn: 0.1895052\ttotal: 1m 40s\tremaining: 30.3s\n",
            "1153:\tlearn: 0.1893904\ttotal: 1m 40s\tremaining: 30.2s\n",
            "1154:\tlearn: 0.1892778\ttotal: 1m 40s\tremaining: 30.1s\n",
            "1155:\tlearn: 0.1891578\ttotal: 1m 40s\tremaining: 30s\n",
            "1156:\tlearn: 0.1891386\ttotal: 1m 40s\tremaining: 29.9s\n",
            "1157:\tlearn: 0.1890926\ttotal: 1m 40s\tremaining: 29.8s\n",
            "1158:\tlearn: 0.1889663\ttotal: 1m 41s\tremaining: 29.7s\n",
            "1159:\tlearn: 0.1888425\ttotal: 1m 41s\tremaining: 29.6s\n",
            "1160:\tlearn: 0.1887150\ttotal: 1m 41s\tremaining: 29.5s\n",
            "1161:\tlearn: 0.1886321\ttotal: 1m 41s\tremaining: 29.4s\n",
            "1162:\tlearn: 0.1885244\ttotal: 1m 41s\tremaining: 29.4s\n",
            "1163:\tlearn: 0.1885049\ttotal: 1m 41s\tremaining: 29.3s\n",
            "1164:\tlearn: 0.1884018\ttotal: 1m 41s\tremaining: 29.2s\n",
            "1165:\tlearn: 0.1882921\ttotal: 1m 41s\tremaining: 29.1s\n",
            "1166:\tlearn: 0.1881759\ttotal: 1m 41s\tremaining: 29s\n",
            "1167:\tlearn: 0.1880577\ttotal: 1m 41s\tremaining: 28.9s\n",
            "1168:\tlearn: 0.1879352\ttotal: 1m 41s\tremaining: 28.8s\n",
            "1169:\tlearn: 0.1879163\ttotal: 1m 41s\tremaining: 28.7s\n",
            "1170:\tlearn: 0.1878968\ttotal: 1m 41s\tremaining: 28.7s\n",
            "1171:\tlearn: 0.1877987\ttotal: 1m 42s\tremaining: 28.6s\n",
            "1172:\tlearn: 0.1876828\ttotal: 1m 42s\tremaining: 28.5s\n",
            "1173:\tlearn: 0.1876489\ttotal: 1m 42s\tremaining: 28.4s\n",
            "1174:\tlearn: 0.1875326\ttotal: 1m 42s\tremaining: 28.4s\n",
            "1175:\tlearn: 0.1874251\ttotal: 1m 42s\tremaining: 28.3s\n",
            "1176:\tlearn: 0.1872889\ttotal: 1m 42s\tremaining: 28.2s\n",
            "1177:\tlearn: 0.1872083\ttotal: 1m 42s\tremaining: 28.1s\n",
            "1178:\tlearn: 0.1871893\ttotal: 1m 43s\tremaining: 28.1s\n",
            "1179:\tlearn: 0.1870718\ttotal: 1m 43s\tremaining: 28s\n",
            "1180:\tlearn: 0.1869422\ttotal: 1m 43s\tremaining: 27.9s\n",
            "1181:\tlearn: 0.1868187\ttotal: 1m 43s\tremaining: 27.8s\n",
            "1182:\tlearn: 0.1866997\ttotal: 1m 43s\tremaining: 27.8s\n",
            "1183:\tlearn: 0.1865682\ttotal: 1m 43s\tremaining: 27.7s\n",
            "1184:\tlearn: 0.1864366\ttotal: 1m 43s\tremaining: 27.6s\n",
            "1185:\tlearn: 0.1863234\ttotal: 1m 44s\tremaining: 27.5s\n",
            "1186:\tlearn: 0.1862093\ttotal: 1m 44s\tremaining: 27.5s\n",
            "1187:\tlearn: 0.1860890\ttotal: 1m 44s\tremaining: 27.4s\n",
            "1188:\tlearn: 0.1859847\ttotal: 1m 44s\tremaining: 27.3s\n",
            "1189:\tlearn: 0.1858736\ttotal: 1m 44s\tremaining: 27.2s\n",
            "1190:\tlearn: 0.1858577\ttotal: 1m 44s\tremaining: 27.2s\n",
            "1191:\tlearn: 0.1858398\ttotal: 1m 44s\tremaining: 27.1s\n",
            "1192:\tlearn: 0.1857353\ttotal: 1m 45s\tremaining: 27s\n",
            "1193:\tlearn: 0.1856305\ttotal: 1m 45s\tremaining: 26.9s\n",
            "1194:\tlearn: 0.1855270\ttotal: 1m 45s\tremaining: 26.9s\n",
            "1195:\tlearn: 0.1853868\ttotal: 1m 45s\tremaining: 26.8s\n",
            "1196:\tlearn: 0.1852680\ttotal: 1m 45s\tremaining: 26.7s\n",
            "1197:\tlearn: 0.1851668\ttotal: 1m 45s\tremaining: 26.6s\n",
            "1198:\tlearn: 0.1850833\ttotal: 1m 45s\tremaining: 26.5s\n",
            "1199:\tlearn: 0.1849747\ttotal: 1m 45s\tremaining: 26.5s\n",
            "1200:\tlearn: 0.1848962\ttotal: 1m 45s\tremaining: 26.4s\n",
            "1201:\tlearn: 0.1848040\ttotal: 1m 45s\tremaining: 26.3s\n",
            "1202:\tlearn: 0.1847071\ttotal: 1m 46s\tremaining: 26.2s\n",
            "1203:\tlearn: 0.1846167\ttotal: 1m 46s\tremaining: 26.1s\n",
            "1204:\tlearn: 0.1845999\ttotal: 1m 46s\tremaining: 26s\n",
            "1205:\tlearn: 0.1844889\ttotal: 1m 46s\tremaining: 25.9s\n",
            "1206:\tlearn: 0.1844708\ttotal: 1m 46s\tremaining: 25.8s\n",
            "1207:\tlearn: 0.1843199\ttotal: 1m 46s\tremaining: 25.7s\n",
            "1208:\tlearn: 0.1842121\ttotal: 1m 46s\tremaining: 25.6s\n",
            "1209:\tlearn: 0.1841057\ttotal: 1m 46s\tremaining: 25.5s\n",
            "1210:\tlearn: 0.1840880\ttotal: 1m 46s\tremaining: 25.4s\n",
            "1211:\tlearn: 0.1839913\ttotal: 1m 46s\tremaining: 25.4s\n",
            "1212:\tlearn: 0.1839030\ttotal: 1m 46s\tremaining: 25.3s\n",
            "1213:\tlearn: 0.1837881\ttotal: 1m 46s\tremaining: 25.2s\n",
            "1214:\tlearn: 0.1836681\ttotal: 1m 46s\tremaining: 25.1s\n",
            "1215:\tlearn: 0.1835574\ttotal: 1m 46s\tremaining: 25s\n",
            "1216:\tlearn: 0.1834363\ttotal: 1m 47s\tremaining: 24.9s\n",
            "1217:\tlearn: 0.1834182\ttotal: 1m 47s\tremaining: 24.8s\n",
            "1218:\tlearn: 0.1832799\ttotal: 1m 47s\tremaining: 24.7s\n",
            "1219:\tlearn: 0.1831514\ttotal: 1m 47s\tremaining: 24.6s\n",
            "1220:\tlearn: 0.1830371\ttotal: 1m 47s\tremaining: 24.5s\n",
            "1221:\tlearn: 0.1828880\ttotal: 1m 47s\tremaining: 24.4s\n",
            "1222:\tlearn: 0.1827945\ttotal: 1m 47s\tremaining: 24.3s\n",
            "1223:\tlearn: 0.1826882\ttotal: 1m 47s\tremaining: 24.3s\n",
            "1224:\tlearn: 0.1825811\ttotal: 1m 47s\tremaining: 24.2s\n",
            "1225:\tlearn: 0.1824621\ttotal: 1m 47s\tremaining: 24.1s\n",
            "1226:\tlearn: 0.1823630\ttotal: 1m 47s\tremaining: 24s\n",
            "1227:\tlearn: 0.1823328\ttotal: 1m 47s\tremaining: 23.9s\n",
            "1228:\tlearn: 0.1822574\ttotal: 1m 47s\tremaining: 23.8s\n",
            "1229:\tlearn: 0.1821529\ttotal: 1m 48s\tremaining: 23.7s\n",
            "1230:\tlearn: 0.1820369\ttotal: 1m 48s\tremaining: 23.6s\n",
            "1231:\tlearn: 0.1819277\ttotal: 1m 48s\tremaining: 23.5s\n",
            "1232:\tlearn: 0.1818402\ttotal: 1m 48s\tremaining: 23.4s\n",
            "1233:\tlearn: 0.1817455\ttotal: 1m 48s\tremaining: 23.3s\n",
            "1234:\tlearn: 0.1816464\ttotal: 1m 48s\tremaining: 23.3s\n",
            "1235:\tlearn: 0.1815480\ttotal: 1m 48s\tremaining: 23.2s\n",
            "1236:\tlearn: 0.1814367\ttotal: 1m 48s\tremaining: 23.1s\n",
            "1237:\tlearn: 0.1813379\ttotal: 1m 48s\tremaining: 23s\n",
            "1238:\tlearn: 0.1812249\ttotal: 1m 48s\tremaining: 22.9s\n",
            "1239:\tlearn: 0.1811870\ttotal: 1m 48s\tremaining: 22.8s\n",
            "1240:\tlearn: 0.1810323\ttotal: 1m 48s\tremaining: 22.7s\n",
            "1241:\tlearn: 0.1809559\ttotal: 1m 48s\tremaining: 22.6s\n",
            "1242:\tlearn: 0.1808570\ttotal: 1m 48s\tremaining: 22.5s\n",
            "1243:\tlearn: 0.1807512\ttotal: 1m 49s\tremaining: 22.4s\n",
            "1244:\tlearn: 0.1806070\ttotal: 1m 49s\tremaining: 22.3s\n",
            "1245:\tlearn: 0.1805899\ttotal: 1m 49s\tremaining: 22.3s\n",
            "1246:\tlearn: 0.1804953\ttotal: 1m 49s\tremaining: 22.2s\n",
            "1247:\tlearn: 0.1803900\ttotal: 1m 49s\tremaining: 22.1s\n",
            "1248:\tlearn: 0.1803090\ttotal: 1m 49s\tremaining: 22s\n",
            "1249:\tlearn: 0.1801842\ttotal: 1m 49s\tremaining: 21.9s\n",
            "1250:\tlearn: 0.1800620\ttotal: 1m 49s\tremaining: 21.8s\n",
            "1251:\tlearn: 0.1799217\ttotal: 1m 49s\tremaining: 21.7s\n",
            "1252:\tlearn: 0.1798188\ttotal: 1m 49s\tremaining: 21.6s\n",
            "1253:\tlearn: 0.1796812\ttotal: 1m 49s\tremaining: 21.5s\n",
            "1254:\tlearn: 0.1795825\ttotal: 1m 49s\tremaining: 21.4s\n",
            "1255:\tlearn: 0.1794740\ttotal: 1m 49s\tremaining: 21.4s\n",
            "1256:\tlearn: 0.1794580\ttotal: 1m 49s\tremaining: 21.3s\n",
            "1257:\tlearn: 0.1793359\ttotal: 1m 50s\tremaining: 21.2s\n",
            "1258:\tlearn: 0.1792194\ttotal: 1m 50s\tremaining: 21.1s\n",
            "1259:\tlearn: 0.1791096\ttotal: 1m 50s\tremaining: 21s\n",
            "1260:\tlearn: 0.1789846\ttotal: 1m 50s\tremaining: 20.9s\n",
            "1261:\tlearn: 0.1788826\ttotal: 1m 50s\tremaining: 20.8s\n",
            "1262:\tlearn: 0.1787618\ttotal: 1m 50s\tremaining: 20.7s\n",
            "1263:\tlearn: 0.1786495\ttotal: 1m 50s\tremaining: 20.6s\n",
            "1264:\tlearn: 0.1786339\ttotal: 1m 50s\tremaining: 20.5s\n",
            "1265:\tlearn: 0.1785426\ttotal: 1m 50s\tremaining: 20.5s\n",
            "1266:\tlearn: 0.1784304\ttotal: 1m 50s\tremaining: 20.4s\n",
            "1267:\tlearn: 0.1783062\ttotal: 1m 50s\tremaining: 20.3s\n",
            "1268:\tlearn: 0.1782035\ttotal: 1m 50s\tremaining: 20.2s\n",
            "1269:\tlearn: 0.1780988\ttotal: 1m 50s\tremaining: 20.1s\n",
            "1270:\tlearn: 0.1779845\ttotal: 1m 51s\tremaining: 20s\n",
            "1271:\tlearn: 0.1778642\ttotal: 1m 51s\tremaining: 19.9s\n",
            "1272:\tlearn: 0.1777626\ttotal: 1m 51s\tremaining: 19.8s\n",
            "1273:\tlearn: 0.1776440\ttotal: 1m 51s\tremaining: 19.7s\n",
            "1274:\tlearn: 0.1775562\ttotal: 1m 51s\tremaining: 19.6s\n",
            "1275:\tlearn: 0.1774299\ttotal: 1m 51s\tremaining: 19.6s\n",
            "1276:\tlearn: 0.1773683\ttotal: 1m 51s\tremaining: 19.5s\n",
            "1277:\tlearn: 0.1772776\ttotal: 1m 51s\tremaining: 19.4s\n",
            "1278:\tlearn: 0.1771240\ttotal: 1m 51s\tremaining: 19.3s\n",
            "1279:\tlearn: 0.1770071\ttotal: 1m 51s\tremaining: 19.2s\n",
            "1280:\tlearn: 0.1769114\ttotal: 1m 51s\tremaining: 19.1s\n",
            "1281:\tlearn: 0.1768084\ttotal: 1m 51s\tremaining: 19s\n",
            "1282:\tlearn: 0.1767163\ttotal: 1m 51s\tremaining: 18.9s\n",
            "1283:\tlearn: 0.1766249\ttotal: 1m 52s\tremaining: 18.8s\n",
            "1284:\tlearn: 0.1765462\ttotal: 1m 52s\tremaining: 18.8s\n",
            "1285:\tlearn: 0.1764732\ttotal: 1m 52s\tremaining: 18.7s\n",
            "1286:\tlearn: 0.1763629\ttotal: 1m 52s\tremaining: 18.6s\n",
            "1287:\tlearn: 0.1762735\ttotal: 1m 52s\tremaining: 18.5s\n",
            "1288:\tlearn: 0.1761339\ttotal: 1m 52s\tremaining: 18.4s\n",
            "1289:\tlearn: 0.1760101\ttotal: 1m 52s\tremaining: 18.3s\n",
            "1290:\tlearn: 0.1759106\ttotal: 1m 52s\tremaining: 18.2s\n",
            "1291:\tlearn: 0.1757923\ttotal: 1m 52s\tremaining: 18.1s\n",
            "1292:\tlearn: 0.1756931\ttotal: 1m 52s\tremaining: 18s\n",
            "1293:\tlearn: 0.1755959\ttotal: 1m 52s\tremaining: 18s\n",
            "1294:\tlearn: 0.1755037\ttotal: 1m 52s\tremaining: 17.9s\n",
            "1295:\tlearn: 0.1754141\ttotal: 1m 52s\tremaining: 17.8s\n",
            "1296:\tlearn: 0.1753502\ttotal: 1m 52s\tremaining: 17.7s\n",
            "1297:\tlearn: 0.1752500\ttotal: 1m 53s\tremaining: 17.6s\n",
            "1298:\tlearn: 0.1752186\ttotal: 1m 53s\tremaining: 17.5s\n",
            "1299:\tlearn: 0.1751235\ttotal: 1m 53s\tremaining: 17.4s\n",
            "1300:\tlearn: 0.1750216\ttotal: 1m 53s\tremaining: 17.3s\n",
            "1301:\tlearn: 0.1750056\ttotal: 1m 53s\tremaining: 17.2s\n",
            "1302:\tlearn: 0.1749086\ttotal: 1m 53s\tremaining: 17.1s\n",
            "1303:\tlearn: 0.1748004\ttotal: 1m 53s\tremaining: 17.1s\n",
            "1304:\tlearn: 0.1747841\ttotal: 1m 53s\tremaining: 17s\n",
            "1305:\tlearn: 0.1746988\ttotal: 1m 53s\tremaining: 16.9s\n",
            "1306:\tlearn: 0.1745855\ttotal: 1m 53s\tremaining: 16.8s\n",
            "1307:\tlearn: 0.1744985\ttotal: 1m 53s\tremaining: 16.7s\n",
            "1308:\tlearn: 0.1743882\ttotal: 1m 53s\tremaining: 16.6s\n",
            "1309:\tlearn: 0.1743189\ttotal: 1m 53s\tremaining: 16.5s\n",
            "1310:\tlearn: 0.1742305\ttotal: 1m 54s\tremaining: 16.4s\n",
            "1311:\tlearn: 0.1741562\ttotal: 1m 54s\tremaining: 16.3s\n",
            "1312:\tlearn: 0.1740563\ttotal: 1m 54s\tremaining: 16.3s\n",
            "1313:\tlearn: 0.1739603\ttotal: 1m 54s\tremaining: 16.2s\n",
            "1314:\tlearn: 0.1738781\ttotal: 1m 54s\tremaining: 16.1s\n",
            "1315:\tlearn: 0.1737618\ttotal: 1m 54s\tremaining: 16s\n",
            "1316:\tlearn: 0.1736983\ttotal: 1m 54s\tremaining: 15.9s\n",
            "1317:\tlearn: 0.1735914\ttotal: 1m 54s\tremaining: 15.8s\n",
            "1318:\tlearn: 0.1735660\ttotal: 1m 54s\tremaining: 15.7s\n",
            "1319:\tlearn: 0.1734571\ttotal: 1m 54s\tremaining: 15.6s\n",
            "1320:\tlearn: 0.1734411\ttotal: 1m 54s\tremaining: 15.5s\n",
            "1321:\tlearn: 0.1733539\ttotal: 1m 54s\tremaining: 15.5s\n",
            "1322:\tlearn: 0.1732641\ttotal: 1m 54s\tremaining: 15.4s\n",
            "1323:\tlearn: 0.1731695\ttotal: 1m 54s\tremaining: 15.3s\n",
            "1324:\tlearn: 0.1731422\ttotal: 1m 55s\tremaining: 15.2s\n",
            "1325:\tlearn: 0.1730495\ttotal: 1m 55s\tremaining: 15.1s\n",
            "1326:\tlearn: 0.1729313\ttotal: 1m 55s\tremaining: 15s\n",
            "1327:\tlearn: 0.1728410\ttotal: 1m 55s\tremaining: 14.9s\n",
            "1328:\tlearn: 0.1727214\ttotal: 1m 55s\tremaining: 14.8s\n",
            "1329:\tlearn: 0.1726104\ttotal: 1m 55s\tremaining: 14.8s\n",
            "1330:\tlearn: 0.1725483\ttotal: 1m 55s\tremaining: 14.7s\n",
            "1331:\tlearn: 0.1724547\ttotal: 1m 55s\tremaining: 14.6s\n",
            "1332:\tlearn: 0.1723587\ttotal: 1m 55s\tremaining: 14.5s\n",
            "1333:\tlearn: 0.1722389\ttotal: 1m 55s\tremaining: 14.4s\n",
            "1334:\tlearn: 0.1721506\ttotal: 1m 56s\tremaining: 14.3s\n",
            "1335:\tlearn: 0.1720090\ttotal: 1m 56s\tremaining: 14.3s\n",
            "1336:\tlearn: 0.1719928\ttotal: 1m 56s\tremaining: 14.2s\n",
            "1337:\tlearn: 0.1719156\ttotal: 1m 56s\tremaining: 14.1s\n",
            "1338:\tlearn: 0.1717942\ttotal: 1m 56s\tremaining: 14s\n",
            "1339:\tlearn: 0.1717139\ttotal: 1m 56s\tremaining: 13.9s\n",
            "1340:\tlearn: 0.1716161\ttotal: 1m 56s\tremaining: 13.9s\n",
            "1341:\tlearn: 0.1715208\ttotal: 1m 57s\tremaining: 13.8s\n",
            "1342:\tlearn: 0.1714036\ttotal: 1m 57s\tremaining: 13.7s\n",
            "1343:\tlearn: 0.1712687\ttotal: 1m 57s\tremaining: 13.6s\n",
            "1344:\tlearn: 0.1711945\ttotal: 1m 57s\tremaining: 13.5s\n",
            "1345:\tlearn: 0.1711797\ttotal: 1m 57s\tremaining: 13.5s\n",
            "1346:\tlearn: 0.1710645\ttotal: 1m 57s\tremaining: 13.4s\n",
            "1347:\tlearn: 0.1709659\ttotal: 1m 57s\tremaining: 13.3s\n",
            "1348:\tlearn: 0.1708827\ttotal: 1m 58s\tremaining: 13.2s\n",
            "1349:\tlearn: 0.1708177\ttotal: 1m 58s\tremaining: 13.1s\n",
            "1350:\tlearn: 0.1707134\ttotal: 1m 58s\tremaining: 13s\n",
            "1351:\tlearn: 0.1706140\ttotal: 1m 58s\tremaining: 13s\n",
            "1352:\tlearn: 0.1705331\ttotal: 1m 58s\tremaining: 12.9s\n",
            "1353:\tlearn: 0.1704293\ttotal: 1m 58s\tremaining: 12.8s\n",
            "1354:\tlearn: 0.1703194\ttotal: 1m 58s\tremaining: 12.7s\n",
            "1355:\tlearn: 0.1702116\ttotal: 1m 59s\tremaining: 12.6s\n",
            "1356:\tlearn: 0.1700875\ttotal: 1m 59s\tremaining: 12.6s\n",
            "1357:\tlearn: 0.1700631\ttotal: 1m 59s\tremaining: 12.5s\n",
            "1358:\tlearn: 0.1699606\ttotal: 1m 59s\tremaining: 12.4s\n",
            "1359:\tlearn: 0.1699003\ttotal: 1m 59s\tremaining: 12.3s\n",
            "1360:\tlearn: 0.1698850\ttotal: 1m 59s\tremaining: 12.2s\n",
            "1361:\tlearn: 0.1697344\ttotal: 1m 59s\tremaining: 12.1s\n",
            "1362:\tlearn: 0.1696449\ttotal: 1m 59s\tremaining: 12s\n",
            "1363:\tlearn: 0.1696292\ttotal: 1m 59s\tremaining: 11.9s\n",
            "1364:\tlearn: 0.1695344\ttotal: 1m 59s\tremaining: 11.9s\n",
            "1365:\tlearn: 0.1694836\ttotal: 1m 59s\tremaining: 11.8s\n",
            "1366:\tlearn: 0.1693867\ttotal: 1m 59s\tremaining: 11.7s\n",
            "1367:\tlearn: 0.1692989\ttotal: 2m\tremaining: 11.6s\n",
            "1368:\tlearn: 0.1692155\ttotal: 2m\tremaining: 11.5s\n",
            "1369:\tlearn: 0.1691207\ttotal: 2m\tremaining: 11.4s\n",
            "1370:\tlearn: 0.1690273\ttotal: 2m\tremaining: 11.3s\n",
            "1371:\tlearn: 0.1689357\ttotal: 2m\tremaining: 11.2s\n",
            "1372:\tlearn: 0.1688437\ttotal: 2m\tremaining: 11.1s\n",
            "1373:\tlearn: 0.1687614\ttotal: 2m\tremaining: 11s\n",
            "1374:\tlearn: 0.1686645\ttotal: 2m\tremaining: 11s\n",
            "1375:\tlearn: 0.1685770\ttotal: 2m\tremaining: 10.9s\n",
            "1376:\tlearn: 0.1684798\ttotal: 2m\tremaining: 10.8s\n",
            "1377:\tlearn: 0.1683817\ttotal: 2m\tremaining: 10.7s\n",
            "1378:\tlearn: 0.1683529\ttotal: 2m\tremaining: 10.6s\n",
            "1379:\tlearn: 0.1682572\ttotal: 2m\tremaining: 10.5s\n",
            "1380:\tlearn: 0.1681554\ttotal: 2m 1s\tremaining: 10.4s\n",
            "1381:\tlearn: 0.1680780\ttotal: 2m 1s\tremaining: 10.3s\n",
            "1382:\tlearn: 0.1680244\ttotal: 2m 1s\tremaining: 10.3s\n",
            "1383:\tlearn: 0.1680101\ttotal: 2m 1s\tremaining: 10.2s\n",
            "1384:\tlearn: 0.1679315\ttotal: 2m 1s\tremaining: 10.1s\n",
            "1385:\tlearn: 0.1678459\ttotal: 2m 1s\tremaining: 9.99s\n",
            "1386:\tlearn: 0.1677221\ttotal: 2m 1s\tremaining: 9.9s\n",
            "1387:\tlearn: 0.1676192\ttotal: 2m 1s\tremaining: 9.81s\n",
            "1388:\tlearn: 0.1675093\ttotal: 2m 1s\tremaining: 9.72s\n",
            "1389:\tlearn: 0.1674124\ttotal: 2m 1s\tremaining: 9.63s\n",
            "1390:\tlearn: 0.1673986\ttotal: 2m 1s\tremaining: 9.54s\n",
            "1391:\tlearn: 0.1672850\ttotal: 2m 1s\tremaining: 9.46s\n",
            "1392:\tlearn: 0.1671894\ttotal: 2m 1s\tremaining: 9.37s\n",
            "1393:\tlearn: 0.1670827\ttotal: 2m 2s\tremaining: 9.28s\n",
            "1394:\tlearn: 0.1669926\ttotal: 2m 2s\tremaining: 9.19s\n",
            "1395:\tlearn: 0.1669787\ttotal: 2m 2s\tremaining: 9.1s\n",
            "1396:\tlearn: 0.1668680\ttotal: 2m 2s\tremaining: 9.01s\n",
            "1397:\tlearn: 0.1667951\ttotal: 2m 2s\tremaining: 8.92s\n",
            "1398:\tlearn: 0.1667213\ttotal: 2m 2s\tremaining: 8.84s\n",
            "1399:\tlearn: 0.1666270\ttotal: 2m 2s\tremaining: 8.75s\n",
            "1400:\tlearn: 0.1665638\ttotal: 2m 2s\tremaining: 8.66s\n",
            "1401:\tlearn: 0.1664600\ttotal: 2m 2s\tremaining: 8.57s\n",
            "1402:\tlearn: 0.1663615\ttotal: 2m 2s\tremaining: 8.48s\n",
            "1403:\tlearn: 0.1662763\ttotal: 2m 2s\tremaining: 8.39s\n",
            "1404:\tlearn: 0.1661938\ttotal: 2m 2s\tremaining: 8.31s\n",
            "1405:\tlearn: 0.1660920\ttotal: 2m 2s\tremaining: 8.22s\n",
            "1406:\tlearn: 0.1660058\ttotal: 2m 3s\tremaining: 8.13s\n",
            "1407:\tlearn: 0.1658881\ttotal: 2m 3s\tremaining: 8.04s\n",
            "1408:\tlearn: 0.1658123\ttotal: 2m 3s\tremaining: 7.95s\n",
            "1409:\tlearn: 0.1656922\ttotal: 2m 3s\tremaining: 7.87s\n",
            "1410:\tlearn: 0.1656171\ttotal: 2m 3s\tremaining: 7.78s\n",
            "1411:\tlearn: 0.1655289\ttotal: 2m 3s\tremaining: 7.69s\n",
            "1412:\tlearn: 0.1654437\ttotal: 2m 3s\tremaining: 7.6s\n",
            "1413:\tlearn: 0.1653599\ttotal: 2m 3s\tremaining: 7.51s\n",
            "1414:\tlearn: 0.1653452\ttotal: 2m 3s\tremaining: 7.42s\n",
            "1415:\tlearn: 0.1652578\ttotal: 2m 3s\tremaining: 7.34s\n",
            "1416:\tlearn: 0.1651733\ttotal: 2m 3s\tremaining: 7.25s\n",
            "1417:\tlearn: 0.1650861\ttotal: 2m 3s\tremaining: 7.16s\n",
            "1418:\tlearn: 0.1650525\ttotal: 2m 3s\tremaining: 7.07s\n",
            "1419:\tlearn: 0.1649770\ttotal: 2m 3s\tremaining: 6.98s\n",
            "1420:\tlearn: 0.1649033\ttotal: 2m 4s\tremaining: 6.9s\n",
            "1421:\tlearn: 0.1648894\ttotal: 2m 4s\tremaining: 6.81s\n",
            "1422:\tlearn: 0.1648051\ttotal: 2m 4s\tremaining: 6.72s\n",
            "1423:\tlearn: 0.1646989\ttotal: 2m 4s\tremaining: 6.63s\n",
            "1424:\tlearn: 0.1646125\ttotal: 2m 4s\tremaining: 6.54s\n",
            "1425:\tlearn: 0.1645088\ttotal: 2m 4s\tremaining: 6.46s\n",
            "1426:\tlearn: 0.1644552\ttotal: 2m 4s\tremaining: 6.37s\n",
            "1427:\tlearn: 0.1643962\ttotal: 2m 4s\tremaining: 6.28s\n",
            "1428:\tlearn: 0.1643268\ttotal: 2m 4s\tremaining: 6.19s\n",
            "1429:\tlearn: 0.1642323\ttotal: 2m 4s\tremaining: 6.11s\n",
            "1430:\tlearn: 0.1641188\ttotal: 2m 4s\tremaining: 6.02s\n",
            "1431:\tlearn: 0.1640401\ttotal: 2m 4s\tremaining: 5.93s\n",
            "1432:\tlearn: 0.1639544\ttotal: 2m 4s\tremaining: 5.84s\n",
            "1433:\tlearn: 0.1638661\ttotal: 2m 5s\tremaining: 5.75s\n",
            "1434:\tlearn: 0.1637839\ttotal: 2m 5s\tremaining: 5.67s\n",
            "1435:\tlearn: 0.1637185\ttotal: 2m 5s\tremaining: 5.58s\n",
            "1436:\tlearn: 0.1636203\ttotal: 2m 5s\tremaining: 5.49s\n",
            "1437:\tlearn: 0.1635202\ttotal: 2m 5s\tremaining: 5.4s\n",
            "1438:\tlearn: 0.1634272\ttotal: 2m 5s\tremaining: 5.32s\n",
            "1439:\tlearn: 0.1634134\ttotal: 2m 5s\tremaining: 5.23s\n",
            "1440:\tlearn: 0.1633361\ttotal: 2m 5s\tremaining: 5.14s\n",
            "1441:\tlearn: 0.1632320\ttotal: 2m 5s\tremaining: 5.05s\n",
            "1442:\tlearn: 0.1631061\ttotal: 2m 5s\tremaining: 4.97s\n",
            "1443:\tlearn: 0.1630036\ttotal: 2m 5s\tremaining: 4.88s\n",
            "1444:\tlearn: 0.1629900\ttotal: 2m 5s\tremaining: 4.79s\n",
            "1445:\tlearn: 0.1629029\ttotal: 2m 5s\tremaining: 4.7s\n",
            "1446:\tlearn: 0.1628646\ttotal: 2m 6s\tremaining: 4.62s\n",
            "1447:\tlearn: 0.1627717\ttotal: 2m 6s\tremaining: 4.53s\n",
            "1448:\tlearn: 0.1626555\ttotal: 2m 6s\tremaining: 4.44s\n",
            "1449:\tlearn: 0.1625753\ttotal: 2m 6s\tremaining: 4.35s\n",
            "1450:\tlearn: 0.1624995\ttotal: 2m 6s\tremaining: 4.27s\n",
            "1451:\tlearn: 0.1624173\ttotal: 2m 6s\tremaining: 4.18s\n",
            "1452:\tlearn: 0.1623270\ttotal: 2m 6s\tremaining: 4.09s\n",
            "1453:\tlearn: 0.1622259\ttotal: 2m 6s\tremaining: 4s\n",
            "1454:\tlearn: 0.1621556\ttotal: 2m 6s\tremaining: 3.92s\n",
            "1455:\tlearn: 0.1620624\ttotal: 2m 6s\tremaining: 3.83s\n",
            "1456:\tlearn: 0.1620379\ttotal: 2m 6s\tremaining: 3.74s\n",
            "1457:\tlearn: 0.1619737\ttotal: 2m 6s\tremaining: 3.65s\n",
            "1458:\tlearn: 0.1618968\ttotal: 2m 6s\tremaining: 3.57s\n",
            "1459:\tlearn: 0.1618202\ttotal: 2m 7s\tremaining: 3.48s\n",
            "1460:\tlearn: 0.1617165\ttotal: 2m 7s\tremaining: 3.39s\n",
            "1461:\tlearn: 0.1616225\ttotal: 2m 7s\tremaining: 3.31s\n",
            "1462:\tlearn: 0.1616104\ttotal: 2m 7s\tremaining: 3.22s\n",
            "1463:\tlearn: 0.1615350\ttotal: 2m 7s\tremaining: 3.13s\n",
            "1464:\tlearn: 0.1614413\ttotal: 2m 7s\tremaining: 3.04s\n",
            "1465:\tlearn: 0.1613779\ttotal: 2m 7s\tremaining: 2.96s\n",
            "1466:\tlearn: 0.1612953\ttotal: 2m 7s\tremaining: 2.87s\n",
            "1467:\tlearn: 0.1612214\ttotal: 2m 7s\tremaining: 2.78s\n",
            "1468:\tlearn: 0.1611250\ttotal: 2m 7s\tremaining: 2.69s\n",
            "1469:\tlearn: 0.1610405\ttotal: 2m 7s\tremaining: 2.61s\n",
            "1470:\tlearn: 0.1609388\ttotal: 2m 7s\tremaining: 2.52s\n",
            "1471:\tlearn: 0.1608597\ttotal: 2m 7s\tremaining: 2.43s\n",
            "1472:\tlearn: 0.1607868\ttotal: 2m 7s\tremaining: 2.35s\n",
            "1473:\tlearn: 0.1607003\ttotal: 2m 8s\tremaining: 2.26s\n",
            "1474:\tlearn: 0.1606124\ttotal: 2m 8s\tremaining: 2.17s\n",
            "1475:\tlearn: 0.1605179\ttotal: 2m 8s\tremaining: 2.08s\n",
            "1476:\tlearn: 0.1605053\ttotal: 2m 8s\tremaining: 2s\n",
            "1477:\tlearn: 0.1603881\ttotal: 2m 8s\tremaining: 1.91s\n",
            "1478:\tlearn: 0.1603395\ttotal: 2m 8s\tremaining: 1.82s\n",
            "1479:\tlearn: 0.1602676\ttotal: 2m 8s\tremaining: 1.74s\n",
            "1480:\tlearn: 0.1601811\ttotal: 2m 8s\tremaining: 1.65s\n",
            "1481:\tlearn: 0.1600756\ttotal: 2m 8s\tremaining: 1.56s\n",
            "1482:\tlearn: 0.1600026\ttotal: 2m 8s\tremaining: 1.48s\n",
            "1483:\tlearn: 0.1598975\ttotal: 2m 8s\tremaining: 1.39s\n",
            "1484:\tlearn: 0.1598840\ttotal: 2m 8s\tremaining: 1.3s\n",
            "1485:\tlearn: 0.1598098\ttotal: 2m 8s\tremaining: 1.22s\n",
            "1486:\tlearn: 0.1596922\ttotal: 2m 9s\tremaining: 1.13s\n",
            "1487:\tlearn: 0.1595748\ttotal: 2m 9s\tremaining: 1.04s\n",
            "1488:\tlearn: 0.1594928\ttotal: 2m 9s\tremaining: 955ms\n",
            "1489:\tlearn: 0.1594043\ttotal: 2m 9s\tremaining: 868ms\n",
            "1490:\tlearn: 0.1593100\ttotal: 2m 9s\tremaining: 782ms\n",
            "1491:\tlearn: 0.1592867\ttotal: 2m 9s\tremaining: 695ms\n",
            "1492:\tlearn: 0.1592038\ttotal: 2m 9s\tremaining: 608ms\n",
            "1493:\tlearn: 0.1591258\ttotal: 2m 9s\tremaining: 522ms\n",
            "1494:\tlearn: 0.1590296\ttotal: 2m 10s\tremaining: 435ms\n",
            "1495:\tlearn: 0.1589595\ttotal: 2m 10s\tremaining: 348ms\n",
            "1496:\tlearn: 0.1588809\ttotal: 2m 10s\tremaining: 261ms\n",
            "1497:\tlearn: 0.1588672\ttotal: 2m 10s\tremaining: 174ms\n",
            "1498:\tlearn: 0.1587854\ttotal: 2m 10s\tremaining: 87.1ms\n",
            "1499:\tlearn: 0.1587254\ttotal: 2m 10s\tremaining: 0us\n"
          ]
        },
        {
          "output_type": "execute_result",
          "data": {
            "text/plain": [
              "<catboost.core.CatBoostClassifier at 0x7f7d297aa350>"
            ]
          },
          "metadata": {},
          "execution_count": 95
        }
      ]
    },
    {
      "cell_type": "code",
      "source": [
        "accuracy = model.score(cv_matrix_test1, y_test)\n",
        "print(f\"Accuracy: {accuracy}\")"
      ],
      "metadata": {
        "colab": {
          "base_uri": "https://localhost:8080/"
        },
        "id": "GlmKXFvNJcFL",
        "outputId": "ed07521b-adf9-4413-f908-6c07d03fc8d9"
      },
      "execution_count": 96,
      "outputs": [
        {
          "output_type": "stream",
          "name": "stdout",
          "text": [
            "Accuracy: 0.8752242375921866\n"
          ]
        }
      ]
    },
    {
      "cell_type": "markdown",
      "source": [
        "ну почти...."
      ],
      "metadata": {
        "id": "UWz8t9D8JQj9"
      }
    }
  ],
  "metadata": {
    "colab": {
      "provenance": []
    },
    "kernelspec": {
      "display_name": "Python 3",
      "name": "python3"
    },
    "language_info": {
      "name": "python"
    }
  },
  "nbformat": 4,
  "nbformat_minor": 0
}